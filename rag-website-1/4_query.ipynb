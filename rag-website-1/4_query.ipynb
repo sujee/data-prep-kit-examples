{
 "cells": [
  {
   "cell_type": "markdown",
   "metadata": {},
   "source": [
    "# RAG on HTML documents\n"
   ]
  },
  {
   "cell_type": "markdown",
   "metadata": {},
   "source": [
    "## Step-1: Configuration"
   ]
  },
  {
   "cell_type": "code",
   "execution_count": 1,
   "metadata": {},
   "outputs": [],
   "source": [
    "from my_config import MY_CONFIG"
   ]
  },
  {
   "cell_type": "code",
   "execution_count": 2,
   "metadata": {},
   "outputs": [],
   "source": [
    "import logging\n",
    "import sys\n",
    "\n",
    "logging.basicConfig(stream=sys.stdout, level=logging.WARN)\n",
    "logging.getLogger().addHandler(logging.StreamHandler(stream=sys.stdout))"
   ]
  },
  {
   "cell_type": "markdown",
   "metadata": {},
   "source": [
    "## Step-2: Setup Embeddings"
   ]
  },
  {
   "cell_type": "code",
   "execution_count": 3,
   "metadata": {},
   "outputs": [],
   "source": [
    "# If connection to https://huggingface.co/ failed, uncomment the following path\n",
    "import os\n",
    "os.environ['HF_ENDPOINT'] = 'https://hf-mirror.com'"
   ]
  },
  {
   "cell_type": "code",
   "execution_count": 4,
   "metadata": {},
   "outputs": [
    {
     "name": "stderr",
     "output_type": "stream",
     "text": [
      "/home/sujee/apps/anaconda3/envs/rag-website-4-docling-weaviate/lib/python3.11/site-packages/tqdm/auto.py:21: TqdmWarning: IProgress not found. Please update jupyter and ipywidgets. See https://ipywidgets.readthedocs.io/en/stable/user_install.html\n",
      "  from .autonotebook import tqdm as notebook_tqdm\n"
     ]
    }
   ],
   "source": [
    "from llama_index.embeddings.huggingface import HuggingFaceEmbedding\n",
    "from llama_index.core import Settings\n",
    "\n",
    "Settings.embed_model = HuggingFaceEmbedding(\n",
    "    model_name = MY_CONFIG.EMBEDDING_MODEL\n",
    ")"
   ]
  },
  {
   "cell_type": "markdown",
   "metadata": {},
   "source": [
    "## Step-3: Initialize Weaviate Local\n",
    "\n",
    "We will use an embedded local instance for convenience."
   ]
  },
  {
   "cell_type": "code",
   "execution_count": 5,
   "metadata": {},
   "outputs": [
    {
     "name": "stdout",
     "output_type": "stream",
     "text": [
      "INFO:weaviate-client:Started /home/sujee/.cache/weaviate-embedded: process ID 951024\n",
      "Started /home/sujee/.cache/weaviate-embedded: process ID 951024\n"
     ]
    },
    {
     "name": "stderr",
     "output_type": "stream",
     "text": [
      "{\"action\":\"startup\",\"build_git_commit\":\"'\\\"$GITHASH\\\"'\",\"build_go_version\":\"go1.22.0\",\"build_image_tag\":\"localhost\",\"build_wv_version\":\"1.26.6\",\"default_vectorizer_module\":\"none\",\"level\":\"info\",\"msg\":\"the default vectorizer modules is set to \\\"none\\\", as a result all new schema classes without an explicit vectorizer setting, will use this vectorizer\",\"time\":\"2025-03-17T23:05:28-07:00\"}\n",
      "{\"action\":\"startup\",\"auto_schema_enabled\":true,\"build_git_commit\":\"'\\\"$GITHASH\\\"'\",\"build_go_version\":\"go1.22.0\",\"build_image_tag\":\"localhost\",\"build_wv_version\":\"1.26.6\",\"level\":\"info\",\"msg\":\"auto schema enabled setting is set to \\\"true\\\"\",\"time\":\"2025-03-17T23:05:28-07:00\"}\n",
      "{\"build_git_commit\":\"'\\\"$GITHASH\\\"'\",\"build_go_version\":\"go1.22.0\",\"build_image_tag\":\"localhost\",\"build_wv_version\":\"1.26.6\",\"level\":\"info\",\"msg\":\"No resource limits set, weaviate will use all available memory and CPU. To limit resources, set LIMIT_RESOURCES=true\",\"time\":\"2025-03-17T23:05:28-07:00\"}\n",
      "{\"build_git_commit\":\"'\\\"$GITHASH\\\"'\",\"build_go_version\":\"go1.22.0\",\"build_image_tag\":\"localhost\",\"build_wv_version\":\"1.26.6\",\"level\":\"info\",\"msg\":\"module offload-s3 is enabled\",\"time\":\"2025-03-17T23:05:28-07:00\"}\n",
      "{\"build_git_commit\":\"'\\\"$GITHASH\\\"'\",\"build_go_version\":\"go1.22.0\",\"build_image_tag\":\"localhost\",\"build_wv_version\":\"1.26.6\",\"level\":\"warning\",\"msg\":\"Multiple vector spaces are present, GraphQL Explore and REST API list objects endpoint module include params has been disabled as a result.\",\"time\":\"2025-03-17T23:05:28-07:00\"}\n",
      "{\"build_git_commit\":\"'\\\"$GITHASH\\\"'\",\"build_go_version\":\"go1.22.0\",\"build_image_tag\":\"localhost\",\"build_wv_version\":\"1.26.6\",\"level\":\"info\",\"msg\":\"open cluster service\",\"servers\":{\"Embedded_at_8079\":46219},\"time\":\"2025-03-17T23:05:28-07:00\"}\n",
      "{\"address\":\"192.168.86.21:46220\",\"build_git_commit\":\"'\\\"$GITHASH\\\"'\",\"build_go_version\":\"go1.22.0\",\"build_image_tag\":\"localhost\",\"build_wv_version\":\"1.26.6\",\"level\":\"info\",\"msg\":\"starting cloud rpc server ...\",\"time\":\"2025-03-17T23:05:28-07:00\"}\n",
      "{\"build_git_commit\":\"'\\\"$GITHASH\\\"'\",\"build_go_version\":\"go1.22.0\",\"build_image_tag\":\"localhost\",\"build_wv_version\":\"1.26.6\",\"level\":\"info\",\"msg\":\"starting raft sub-system ...\",\"time\":\"2025-03-17T23:05:28-07:00\"}\n",
      "{\"address\":\"192.168.86.21:46219\",\"build_git_commit\":\"'\\\"$GITHASH\\\"'\",\"build_go_version\":\"go1.22.0\",\"build_image_tag\":\"localhost\",\"build_wv_version\":\"1.26.6\",\"level\":\"info\",\"msg\":\"tcp transport\",\"tcpMaxPool\":3,\"tcpTimeout\":10000000000,\"time\":\"2025-03-17T23:05:28-07:00\"}\n",
      "{\"build_git_commit\":\"'\\\"$GITHASH\\\"'\",\"build_go_version\":\"go1.22.0\",\"build_image_tag\":\"localhost\",\"build_wv_version\":\"1.26.6\",\"level\":\"info\",\"msg\":\"loading local db\",\"time\":\"2025-03-17T23:05:28-07:00\"}\n",
      "{\"build_git_commit\":\"'\\\"$GITHASH\\\"'\",\"build_go_version\":\"go1.22.0\",\"build_image_tag\":\"localhost\",\"build_wv_version\":\"1.26.6\",\"level\":\"info\",\"msg\":\"local DB successfully loaded\",\"time\":\"2025-03-17T23:05:28-07:00\"}\n",
      "{\"build_git_commit\":\"'\\\"$GITHASH\\\"'\",\"build_go_version\":\"go1.22.0\",\"build_image_tag\":\"localhost\",\"build_wv_version\":\"1.26.6\",\"level\":\"info\",\"msg\":\"schema manager loaded\",\"n\":0,\"time\":\"2025-03-17T23:05:28-07:00\"}\n",
      "{\"build_git_commit\":\"'\\\"$GITHASH\\\"'\",\"build_go_version\":\"go1.22.0\",\"build_image_tag\":\"localhost\",\"build_wv_version\":\"1.26.6\",\"level\":\"info\",\"metadata_only_voters\":false,\"msg\":\"construct a new raft node\",\"name\":\"Embedded_at_8079\",\"time\":\"2025-03-17T23:05:28-07:00\"}\n",
      "{\"action\":\"raft\",\"build_git_commit\":\"'\\\"$GITHASH\\\"'\",\"build_go_version\":\"go1.22.0\",\"build_image_tag\":\"localhost\",\"build_wv_version\":\"1.26.6\",\"index\":12,\"level\":\"info\",\"msg\":\"raft initial configuration\",\"servers\":\"[[{Suffrage:Voter ID:Embedded_at_8079 Address:192.168.86.21:59543}]]\",\"time\":\"2025-03-17T23:05:28-07:00\"}\n",
      "{\"build_git_commit\":\"'\\\"$GITHASH\\\"'\",\"build_go_version\":\"go1.22.0\",\"build_image_tag\":\"localhost\",\"build_wv_version\":\"1.26.6\",\"last_snapshot_index\":0,\"last_store_applied_index_on_start\":4,\"level\":\"info\",\"msg\":\"raft node constructed\",\"raft_applied_index\":0,\"raft_last_index\":12,\"time\":\"2025-03-17T23:05:28-07:00\"}\n",
      "{\"build_git_commit\":\"'\\\"$GITHASH\\\"'\",\"build_go_version\":\"go1.22.0\",\"build_image_tag\":\"localhost\",\"build_wv_version\":\"1.26.6\",\"hasState\":true,\"level\":\"info\",\"msg\":\"raft init\",\"time\":\"2025-03-17T23:05:28-07:00\"}\n",
      "{\"build_git_commit\":\"'\\\"$GITHASH\\\"'\",\"build_go_version\":\"go1.22.0\",\"build_image_tag\":\"localhost\",\"build_wv_version\":\"1.26.6\",\"level\":\"info\",\"msg\":\"attempting to join\",\"remoteNodes\":[\"192.168.86.21:46219\"],\"time\":\"2025-03-17T23:05:28-07:00\"}\n",
      "{\"action\":\"raft\",\"build_git_commit\":\"'\\\"$GITHASH\\\"'\",\"build_go_version\":\"go1.22.0\",\"build_image_tag\":\"localhost\",\"build_wv_version\":\"1.26.6\",\"follower\":{},\"leader-address\":\"\",\"leader-id\":\"\",\"level\":\"info\",\"msg\":\"raft entering follower state\",\"time\":\"2025-03-17T23:05:28-07:00\"}\n",
      "{\"build_git_commit\":\"'\\\"$GITHASH\\\"'\",\"build_go_version\":\"go1.22.0\",\"build_image_tag\":\"localhost\",\"build_wv_version\":\"1.26.6\",\"level\":\"info\",\"msg\":\"attempted to join and failed\",\"remoteNode\":\"192.168.86.21:46219\",\"status\":8,\"time\":\"2025-03-17T23:05:28-07:00\"}\n",
      "{\"build_git_commit\":\"'\\\"$GITHASH\\\"'\",\"build_go_version\":\"go1.22.0\",\"build_image_tag\":\"localhost\",\"build_wv_version\":\"1.26.6\",\"level\":\"info\",\"msg\":\"attempting to join\",\"remoteNodes\":[\"192.168.86.21:46219\"],\"time\":\"2025-03-17T23:05:29-07:00\"}\n",
      "{\"build_git_commit\":\"'\\\"$GITHASH\\\"'\",\"build_go_version\":\"go1.22.0\",\"build_image_tag\":\"localhost\",\"build_wv_version\":\"1.26.6\",\"level\":\"info\",\"msg\":\"attempted to join and failed\",\"remoteNode\":\"192.168.86.21:46219\",\"status\":8,\"time\":\"2025-03-17T23:05:29-07:00\"}\n",
      "{\"action\":\"raft\",\"build_git_commit\":\"'\\\"$GITHASH\\\"'\",\"build_go_version\":\"go1.22.0\",\"build_image_tag\":\"localhost\",\"build_wv_version\":\"1.26.6\",\"last-leader-addr\":\"\",\"last-leader-id\":\"\",\"level\":\"warning\",\"msg\":\"raft heartbeat timeout reached, starting election\",\"time\":\"2025-03-17T23:05:30-07:00\"}\n",
      "{\"action\":\"raft\",\"build_git_commit\":\"'\\\"$GITHASH\\\"'\",\"build_go_version\":\"go1.22.0\",\"build_image_tag\":\"localhost\",\"build_wv_version\":\"1.26.6\",\"level\":\"info\",\"msg\":\"raft entering candidate state\",\"node\":{},\"term\":7,\"time\":\"2025-03-17T23:05:30-07:00\"}\n",
      "{\"action\":\"raft\",\"build_git_commit\":\"'\\\"$GITHASH\\\"'\",\"build_go_version\":\"go1.22.0\",\"build_image_tag\":\"localhost\",\"build_wv_version\":\"1.26.6\",\"level\":\"info\",\"msg\":\"raft pre-vote successful, starting election\",\"refused\":0,\"tally\":1,\"term\":7,\"time\":\"2025-03-17T23:05:30-07:00\",\"votesNeeded\":1}\n",
      "{\"action\":\"raft\",\"build_git_commit\":\"'\\\"$GITHASH\\\"'\",\"build_go_version\":\"go1.22.0\",\"build_image_tag\":\"localhost\",\"build_wv_version\":\"1.26.6\",\"level\":\"info\",\"msg\":\"raft election won\",\"tally\":1,\"term\":7,\"time\":\"2025-03-17T23:05:30-07:00\"}\n",
      "{\"action\":\"raft\",\"build_git_commit\":\"'\\\"$GITHASH\\\"'\",\"build_go_version\":\"go1.22.0\",\"build_image_tag\":\"localhost\",\"build_wv_version\":\"1.26.6\",\"leader\":{},\"level\":\"info\",\"msg\":\"raft entering leader state\",\"time\":\"2025-03-17T23:05:30-07:00\"}\n",
      "{\"build_git_commit\":\"'\\\"$GITHASH\\\"'\",\"build_go_version\":\"go1.22.0\",\"build_image_tag\":\"localhost\",\"build_wv_version\":\"1.26.6\",\"level\":\"info\",\"msg\":\"reload local db: update schema ...\",\"time\":\"2025-03-17T23:05:30-07:00\"}\n",
      "{\"build_git_commit\":\"'\\\"$GITHASH\\\"'\",\"build_go_version\":\"go1.22.0\",\"build_image_tag\":\"localhost\",\"build_wv_version\":\"1.26.6\",\"index\":\"LlamaIndex\",\"level\":\"info\",\"msg\":\"reload local index\",\"time\":\"2025-03-17T23:05:30-07:00\"}\n",
      "{\"build_git_commit\":\"'\\\"$GITHASH\\\"'\",\"build_go_version\":\"go1.22.0\",\"build_image_tag\":\"localhost\",\"build_wv_version\":\"1.26.6\",\"docker_image_tag\":\"localhost\",\"level\":\"info\",\"msg\":\"configured versions\",\"server_version\":\"1.26.6\",\"time\":\"2025-03-17T23:05:30-07:00\"}\n",
      "{\"action\":\"grpc_startup\",\"build_git_commit\":\"'\\\"$GITHASH\\\"'\",\"build_go_version\":\"go1.22.0\",\"build_image_tag\":\"localhost\",\"build_wv_version\":\"1.26.6\",\"level\":\"info\",\"msg\":\"grpc server listening at [::]:50050\",\"time\":\"2025-03-17T23:05:30-07:00\"}\n",
      "{\"address\":\"192.168.86.21:46219\",\"build_git_commit\":\"'\\\"$GITHASH\\\"'\",\"build_go_version\":\"go1.22.0\",\"build_image_tag\":\"localhost\",\"build_wv_version\":\"1.26.6\",\"level\":\"info\",\"msg\":\"current Leader\",\"time\":\"2025-03-17T23:05:30-07:00\"}\n",
      "{\"build_git_commit\":\"'\\\"$GITHASH\\\"'\",\"build_go_version\":\"go1.22.0\",\"build_image_tag\":\"localhost\",\"build_wv_version\":\"1.26.6\",\"level\":\"info\",\"msg\":\"attempting to join\",\"remoteNodes\":[\"192.168.86.21:46219\"],\"time\":\"2025-03-17T23:05:30-07:00\"}\n",
      "{\"action\":\"raft\",\"build_git_commit\":\"'\\\"$GITHASH\\\"'\",\"build_go_version\":\"go1.22.0\",\"build_image_tag\":\"localhost\",\"build_wv_version\":\"1.26.6\",\"command\":0,\"level\":\"info\",\"msg\":\"raft updating configuration\",\"server-addr\":\"192.168.86.21:46219\",\"server-id\":\"Embedded_at_8079\",\"servers\":\"[[{Suffrage:Voter ID:Embedded_at_8079 Address:192.168.86.21:46219}]]\",\"time\":\"2025-03-17T23:05:30-07:00\"}\n",
      "{\"action\":\"restapi_management\",\"build_git_commit\":\"'\\\"$GITHASH\\\"'\",\"build_go_version\":\"go1.22.0\",\"build_image_tag\":\"localhost\",\"build_wv_version\":\"1.26.6\",\"docker_image_tag\":\"localhost\",\"level\":\"info\",\"msg\":\"Serving weaviate at http://127.0.0.1:8079\",\"time\":\"2025-03-17T23:05:30-07:00\"}\n",
      "{\"action\":\"telemetry_push\",\"build_git_commit\":\"'\\\"$GITHASH\\\"'\",\"build_go_version\":\"go1.22.0\",\"build_image_tag\":\"localhost\",\"build_wv_version\":\"1.26.6\",\"level\":\"info\",\"msg\":\"telemetry started\",\"payload\":\"\\u0026{MachineID:6cf1aaf4-8c8a-42bc-8d7d-569a296e76ea Type:INIT Version:1.26.6 NumObjects:0 OS:linux Arch:amd64 UsedModules:[]}\",\"time\":\"2025-03-17T23:05:31-07:00\"}\n",
      "{\"action\":\"lsm_recover_from_active_wal\",\"build_git_commit\":\"'\\\"$GITHASH\\\"'\",\"build_go_version\":\"go1.22.0\",\"build_image_tag\":\"localhost\",\"build_wv_version\":\"1.26.6\",\"class\":\"LlamaIndex\",\"index\":\"llamaindex\",\"level\":\"warning\",\"msg\":\"empty write-ahead-log found. Did weaviate crash prior to this or the tenant on/loaded from the cloud? Nothing to recover from this file.\",\"path\":\"rag_website.db/llamaindex/hD2iLoxRhqpF/lsm/property__id/segment-1742276123117395485\",\"shard\":\"hD2iLoxRhqpF\",\"time\":\"2025-03-17T23:05:31-07:00\"}\n",
      "{\"action\":\"lsm_recover_from_active_wal\",\"build_git_commit\":\"'\\\"$GITHASH\\\"'\",\"build_go_version\":\"go1.22.0\",\"build_image_tag\":\"localhost\",\"build_wv_version\":\"1.26.6\",\"class\":\"LlamaIndex\",\"index\":\"llamaindex\",\"level\":\"warning\",\"msg\":\"empty write-ahead-log found. Did weaviate crash prior to this or the tenant on/loaded from the cloud? Nothing to recover from this file.\",\"path\":\"rag_website.db/llamaindex/hD2iLoxRhqpF/lsm/property__node_type/segment-1742276123200243307\",\"shard\":\"hD2iLoxRhqpF\",\"time\":\"2025-03-17T23:05:31-07:00\"}\n",
      "{\"action\":\"lsm_recover_from_active_wal\",\"build_git_commit\":\"'\\\"$GITHASH\\\"'\",\"build_go_version\":\"go1.22.0\",\"build_image_tag\":\"localhost\",\"build_wv_version\":\"1.26.6\",\"class\":\"LlamaIndex\",\"index\":\"llamaindex\",\"level\":\"warning\",\"msg\":\"empty write-ahead-log found. Did weaviate crash prior to this or the tenant on/loaded from the cloud? Nothing to recover from this file.\",\"path\":\"rag_website.db/llamaindex/hD2iLoxRhqpF/lsm/property__node_type/segment-1742276205631235109\",\"shard\":\"hD2iLoxRhqpF\",\"time\":\"2025-03-17T23:05:31-07:00\"}\n",
      "{\"action\":\"lsm_recover_from_active_wal\",\"build_git_commit\":\"'\\\"$GITHASH\\\"'\",\"build_go_version\":\"go1.22.0\",\"build_image_tag\":\"localhost\",\"build_wv_version\":\"1.26.6\",\"class\":\"LlamaIndex\",\"index\":\"llamaindex\",\"level\":\"warning\",\"msg\":\"empty write-ahead-log found. Did weaviate crash prior to this or the tenant on/loaded from the cloud? Nothing to recover from this file.\",\"path\":\"rag_website.db/llamaindex/hD2iLoxRhqpF/lsm/objects/segment-1742276123133013695\",\"shard\":\"hD2iLoxRhqpF\",\"time\":\"2025-03-17T23:05:31-07:00\"}\n",
      "{\"action\":\"lsm_recover_from_active_wal\",\"build_git_commit\":\"'\\\"$GITHASH\\\"'\",\"build_go_version\":\"go1.22.0\",\"build_image_tag\":\"localhost\",\"build_wv_version\":\"1.26.6\",\"class\":\"LlamaIndex\",\"index\":\"llamaindex\",\"level\":\"warning\",\"msg\":\"empty write-ahead-log found. Did weaviate crash prior to this or the tenant on/loaded from the cloud? Nothing to recover from this file.\",\"path\":\"rag_website.db/llamaindex/hD2iLoxRhqpF/lsm/property_node_info/segment-1742276058102753298\",\"shard\":\"hD2iLoxRhqpF\",\"time\":\"2025-03-17T23:05:31-07:00\"}\n",
      "{\"action\":\"lsm_recover_from_active_wal\",\"build_git_commit\":\"'\\\"$GITHASH\\\"'\",\"build_go_version\":\"go1.22.0\",\"build_image_tag\":\"localhost\",\"build_wv_version\":\"1.26.6\",\"class\":\"LlamaIndex\",\"index\":\"llamaindex\",\"level\":\"warning\",\"msg\":\"empty write-ahead-log found. Did weaviate crash prior to this or the tenant on/loaded from the cloud? Nothing to recover from this file.\",\"path\":\"rag_website.db/llamaindex/hD2iLoxRhqpF/lsm/property__id/segment-1742276205631233651\",\"shard\":\"hD2iLoxRhqpF\",\"time\":\"2025-03-17T23:05:31-07:00\"}\n",
      "{\"action\":\"lsm_recover_from_active_wal\",\"build_git_commit\":\"'\\\"$GITHASH\\\"'\",\"build_go_version\":\"go1.22.0\",\"build_image_tag\":\"localhost\",\"build_wv_version\":\"1.26.6\",\"class\":\"LlamaIndex\",\"index\":\"llamaindex\",\"level\":\"warning\",\"msg\":\"empty write-ahead-log found. Did weaviate crash prior to this or the tenant on/loaded from the cloud? Nothing to recover from this file.\",\"path\":\"rag_website.db/llamaindex/hD2iLoxRhqpF/lsm/property_doc_id/segment-1742276123302762612\",\"shard\":\"hD2iLoxRhqpF\",\"time\":\"2025-03-17T23:05:31-07:00\"}\n",
      "{\"action\":\"lsm_recover_from_active_wal\",\"build_git_commit\":\"'\\\"$GITHASH\\\"'\",\"build_go_version\":\"go1.22.0\",\"build_image_tag\":\"localhost\",\"build_wv_version\":\"1.26.6\",\"class\":\"LlamaIndex\",\"index\":\"llamaindex\",\"level\":\"warning\",\"msg\":\"empty write-ahead-log found. Did weaviate crash prior to this or the tenant on/loaded from the cloud? Nothing to recover from this file.\",\"path\":\"rag_website.db/llamaindex/hD2iLoxRhqpF/lsm/property__id/segment-1742276320342863056\",\"shard\":\"hD2iLoxRhqpF\",\"time\":\"2025-03-17T23:05:31-07:00\"}\n",
      "{\"action\":\"lsm_recover_from_active_wal\",\"build_git_commit\":\"'\\\"$GITHASH\\\"'\",\"build_go_version\":\"go1.22.0\",\"build_image_tag\":\"localhost\",\"build_wv_version\":\"1.26.6\",\"class\":\"LlamaIndex\",\"index\":\"llamaindex\",\"level\":\"warning\",\"msg\":\"empty write-ahead-log found. Did weaviate crash prior to this or the tenant on/loaded from the cloud? Nothing to recover from this file.\",\"path\":\"rag_website.db/llamaindex/hD2iLoxRhqpF/lsm/property_document_id/segment-1742276123228325065\",\"shard\":\"hD2iLoxRhqpF\",\"time\":\"2025-03-17T23:05:31-07:00\"}\n",
      "{\"action\":\"lsm_recover_from_active_wal\",\"build_git_commit\":\"'\\\"$GITHASH\\\"'\",\"build_go_version\":\"go1.22.0\",\"build_image_tag\":\"localhost\",\"build_wv_version\":\"1.26.6\",\"class\":\"LlamaIndex\",\"index\":\"llamaindex\",\"level\":\"warning\",\"msg\":\"empty write-ahead-log found. Did weaviate crash prior to this or the tenant on/loaded from the cloud? Nothing to recover from this file.\",\"path\":\"rag_website.db/llamaindex/hD2iLoxRhqpF/lsm/property__id/segment-1742277849594814225\",\"shard\":\"hD2iLoxRhqpF\",\"time\":\"2025-03-17T23:05:31-07:00\"}\n",
      "{\"action\":\"lsm_recover_from_active_wal\",\"build_git_commit\":\"'\\\"$GITHASH\\\"'\",\"build_go_version\":\"go1.22.0\",\"build_image_tag\":\"localhost\",\"build_wv_version\":\"1.26.6\",\"class\":\"LlamaIndex\",\"index\":\"llamaindex\",\"level\":\"warning\",\"msg\":\"empty write-ahead-log found. Did weaviate crash prior to this or the tenant on/loaded from the cloud? Nothing to recover from this file.\",\"path\":\"rag_website.db/llamaindex/hD2iLoxRhqpF/lsm/property_document_id/segment-1742276205633075582\",\"shard\":\"hD2iLoxRhqpF\",\"time\":\"2025-03-17T23:05:31-07:00\"}\n",
      "{\"action\":\"lsm_recover_from_active_wal\",\"build_git_commit\":\"'\\\"$GITHASH\\\"'\",\"build_go_version\":\"go1.22.0\",\"build_image_tag\":\"localhost\",\"build_wv_version\":\"1.26.6\",\"class\":\"LlamaIndex\",\"index\":\"llamaindex\",\"level\":\"warning\",\"msg\":\"empty write-ahead-log found. Did weaviate crash prior to this or the tenant on/loaded from the cloud? Nothing to recover from this file.\",\"path\":\"rag_website.db/llamaindex/hD2iLoxRhqpF/lsm/property_file_path/segment-1742276123207209345\",\"shard\":\"hD2iLoxRhqpF\",\"time\":\"2025-03-17T23:05:31-07:00\"}\n",
      "{\"action\":\"lsm_recover_from_active_wal\",\"build_git_commit\":\"'\\\"$GITHASH\\\"'\",\"build_go_version\":\"go1.22.0\",\"build_image_tag\":\"localhost\",\"build_wv_version\":\"1.26.6\",\"class\":\"LlamaIndex\",\"index\":\"llamaindex\",\"level\":\"warning\",\"msg\":\"empty write-ahead-log found. Did weaviate crash prior to this or the tenant on/loaded from the cloud? Nothing to recover from this file.\",\"path\":\"rag_website.db/llamaindex/hD2iLoxRhqpF/lsm/property__node_type/segment-1742276320342860859\",\"shard\":\"hD2iLoxRhqpF\",\"time\":\"2025-03-17T23:05:31-07:00\"}\n",
      "{\"action\":\"lsm_recover_from_active_wal\",\"build_git_commit\":\"'\\\"$GITHASH\\\"'\",\"build_go_version\":\"go1.22.0\",\"build_image_tag\":\"localhost\",\"build_wv_version\":\"1.26.6\",\"class\":\"LlamaIndex\",\"index\":\"llamaindex\",\"level\":\"warning\",\"msg\":\"empty write-ahead-log found. Did weaviate crash prior to this or the tenant on/loaded from the cloud? Nothing to recover from this file.\",\"path\":\"rag_website.db/llamaindex/hD2iLoxRhqpF/lsm/property_text/segment-1742276123151771197\",\"shard\":\"hD2iLoxRhqpF\",\"time\":\"2025-03-17T23:05:31-07:00\"}\n",
      "{\"action\":\"lsm_recover_from_active_wal\",\"build_git_commit\":\"'\\\"$GITHASH\\\"'\",\"build_go_version\":\"go1.22.0\",\"build_image_tag\":\"localhost\",\"build_wv_version\":\"1.26.6\",\"class\":\"LlamaIndex\",\"index\":\"llamaindex\",\"level\":\"warning\",\"msg\":\"empty write-ahead-log found. Did weaviate crash prior to this or the tenant on/loaded from the cloud? Nothing to recover from this file.\",\"path\":\"rag_website.db/llamaindex/hD2iLoxRhqpF/lsm/property__node_type/segment-1742277849594777356\",\"shard\":\"hD2iLoxRhqpF\",\"time\":\"2025-03-17T23:05:31-07:00\"}\n",
      "{\"action\":\"lsm_recover_from_active_wal\",\"build_git_commit\":\"'\\\"$GITHASH\\\"'\",\"build_go_version\":\"go1.22.0\",\"build_image_tag\":\"localhost\",\"build_wv_version\":\"1.26.6\",\"class\":\"LlamaIndex\",\"index\":\"llamaindex\",\"level\":\"warning\",\"msg\":\"empty write-ahead-log found. Did weaviate crash prior to this or the tenant on/loaded from the cloud? Nothing to recover from this file.\",\"path\":\"rag_website.db/llamaindex/hD2iLoxRhqpF/lsm/property_file_size/segment-1742276123242764951\",\"shard\":\"hD2iLoxRhqpF\",\"time\":\"2025-03-17T23:05:31-07:00\"}\n",
      "{\"action\":\"lsm_recover_from_active_wal\",\"build_git_commit\":\"'\\\"$GITHASH\\\"'\",\"build_go_version\":\"go1.22.0\",\"build_image_tag\":\"localhost\",\"build_wv_version\":\"1.26.6\",\"class\":\"LlamaIndex\",\"index\":\"llamaindex\",\"level\":\"warning\",\"msg\":\"empty write-ahead-log found. Did weaviate crash prior to this or the tenant on/loaded from the cloud? Nothing to recover from this file.\",\"path\":\"rag_website.db/llamaindex/hD2iLoxRhqpF/lsm/property_file_size/segment-1742276205631290470\",\"shard\":\"hD2iLoxRhqpF\",\"time\":\"2025-03-17T23:05:31-07:00\"}\n",
      "{\"action\":\"lsm_recover_from_active_wal\",\"build_git_commit\":\"'\\\"$GITHASH\\\"'\",\"build_go_version\":\"go1.22.0\",\"build_image_tag\":\"localhost\",\"build_wv_version\":\"1.26.6\",\"class\":\"LlamaIndex\",\"index\":\"llamaindex\",\"level\":\"warning\",\"msg\":\"empty write-ahead-log found. Did weaviate crash prior to this or the tenant on/loaded from the cloud? Nothing to recover from this file.\",\"path\":\"rag_website.db/llamaindex/hD2iLoxRhqpF/lsm/property_text/segment-1742276205631324673\",\"shard\":\"hD2iLoxRhqpF\",\"time\":\"2025-03-17T23:05:31-07:00\"}\n",
      "{\"action\":\"lsm_recover_from_active_wal\",\"build_git_commit\":\"'\\\"$GITHASH\\\"'\",\"build_go_version\":\"go1.22.0\",\"build_image_tag\":\"localhost\",\"build_wv_version\":\"1.26.6\",\"class\":\"LlamaIndex\",\"index\":\"llamaindex\",\"level\":\"warning\",\"msg\":\"empty write-ahead-log found. Did weaviate crash prior to this or the tenant on/loaded from the cloud? Nothing to recover from this file.\",\"path\":\"rag_website.db/llamaindex/hD2iLoxRhqpF/lsm/property_file_type/segment-1742276123235784204\",\"shard\":\"hD2iLoxRhqpF\",\"time\":\"2025-03-17T23:05:31-07:00\"}\n",
      "{\"action\":\"lsm_recover_from_active_wal\",\"build_git_commit\":\"'\\\"$GITHASH\\\"'\",\"build_go_version\":\"go1.22.0\",\"build_image_tag\":\"localhost\",\"build_wv_version\":\"1.26.6\",\"class\":\"LlamaIndex\",\"index\":\"llamaindex\",\"level\":\"warning\",\"msg\":\"empty write-ahead-log found. Did weaviate crash prior to this or the tenant on/loaded from the cloud? Nothing to recover from this file.\",\"path\":\"rag_website.db/llamaindex/hD2iLoxRhqpF/lsm/property_text/segment-1742276320344947465\",\"shard\":\"hD2iLoxRhqpF\",\"time\":\"2025-03-17T23:05:31-07:00\"}\n",
      "{\"action\":\"lsm_recover_from_active_wal\",\"build_git_commit\":\"'\\\"$GITHASH\\\"'\",\"build_go_version\":\"go1.22.0\",\"build_image_tag\":\"localhost\",\"build_wv_version\":\"1.26.6\",\"class\":\"LlamaIndex\",\"index\":\"llamaindex\",\"level\":\"warning\",\"msg\":\"empty write-ahead-log found. Did weaviate crash prior to this or the tenant on/loaded from the cloud? Nothing to recover from this file.\",\"path\":\"rag_website.db/llamaindex/hD2iLoxRhqpF/lsm/property_file_size/segment-1742276320344960567\",\"shard\":\"hD2iLoxRhqpF\",\"time\":\"2025-03-17T23:05:31-07:00\"}\n",
      "{\"action\":\"lsm_recover_from_active_wal\",\"build_git_commit\":\"'\\\"$GITHASH\\\"'\",\"build_go_version\":\"go1.22.0\",\"build_image_tag\":\"localhost\",\"build_wv_version\":\"1.26.6\",\"class\":\"LlamaIndex\",\"index\":\"llamaindex\",\"level\":\"warning\",\"msg\":\"empty write-ahead-log found. Did weaviate crash prior to this or the tenant on/loaded from the cloud? Nothing to recover from this file.\",\"path\":\"rag_website.db/llamaindex/hD2iLoxRhqpF/lsm/property_text/segment-1742277849649404270\",\"shard\":\"hD2iLoxRhqpF\",\"time\":\"2025-03-17T23:05:31-07:00\"}\n",
      "{\"action\":\"lsm_recover_from_active_wal\",\"build_git_commit\":\"'\\\"$GITHASH\\\"'\",\"build_go_version\":\"go1.22.0\",\"build_image_tag\":\"localhost\",\"build_wv_version\":\"1.26.6\",\"class\":\"LlamaIndex\",\"index\":\"llamaindex\",\"level\":\"warning\",\"msg\":\"empty write-ahead-log found. Did weaviate crash prior to this or the tenant on/loaded from the cloud? Nothing to recover from this file.\",\"path\":\"rag_website.db/llamaindex/hD2iLoxRhqpF/lsm/property_file_size/segment-1742277849592661687\",\"shard\":\"hD2iLoxRhqpF\",\"time\":\"2025-03-17T23:05:31-07:00\"}\n",
      "{\"action\":\"lsm_recover_from_active_wal\",\"build_git_commit\":\"'\\\"$GITHASH\\\"'\",\"build_go_version\":\"go1.22.0\",\"build_image_tag\":\"localhost\",\"build_wv_version\":\"1.26.6\",\"class\":\"LlamaIndex\",\"index\":\"llamaindex\",\"level\":\"warning\",\"msg\":\"empty write-ahead-log found. Did weaviate crash prior to this or the tenant on/loaded from the cloud? Nothing to recover from this file.\",\"path\":\"rag_website.db/llamaindex/hD2iLoxRhqpF/lsm/objects/segment-1742276205633954111\",\"shard\":\"hD2iLoxRhqpF\",\"time\":\"2025-03-17T23:05:31-07:00\"}\n",
      "{\"action\":\"lsm_recover_from_active_wal\",\"build_git_commit\":\"'\\\"$GITHASH\\\"'\",\"build_go_version\":\"go1.22.0\",\"build_image_tag\":\"localhost\",\"build_wv_version\":\"1.26.6\",\"class\":\"LlamaIndex\",\"index\":\"llamaindex\",\"level\":\"warning\",\"msg\":\"empty write-ahead-log found. Did weaviate crash prior to this or the tenant on/loaded from the cloud? Nothing to recover from this file.\",\"path\":\"rag_website.db/llamaindex/hD2iLoxRhqpF/lsm/property_file_type/segment-1742276205631307990\",\"shard\":\"hD2iLoxRhqpF\",\"time\":\"2025-03-17T23:05:31-07:00\"}\n",
      "{\"action\":\"lsm_recover_from_active_wal\",\"build_git_commit\":\"'\\\"$GITHASH\\\"'\",\"build_go_version\":\"go1.22.0\",\"build_image_tag\":\"localhost\",\"build_wv_version\":\"1.26.6\",\"class\":\"LlamaIndex\",\"index\":\"llamaindex\",\"level\":\"warning\",\"msg\":\"empty write-ahead-log found. Did weaviate crash prior to this or the tenant on/loaded from the cloud? Nothing to recover from this file.\",\"path\":\"rag_website.db/llamaindex/hD2iLoxRhqpF/lsm/property__node_content/segment-1742276123215226705\",\"shard\":\"hD2iLoxRhqpF\",\"time\":\"2025-03-17T23:05:31-07:00\"}\n",
      "{\"action\":\"lsm_recover_from_active_wal\",\"build_git_commit\":\"'\\\"$GITHASH\\\"'\",\"build_go_version\":\"go1.22.0\",\"build_image_tag\":\"localhost\",\"build_wv_version\":\"1.26.6\",\"class\":\"LlamaIndex\",\"index\":\"llamaindex\",\"level\":\"warning\",\"msg\":\"empty write-ahead-log found. Did weaviate crash prior to this or the tenant on/loaded from the cloud? Nothing to recover from this file.\",\"path\":\"rag_website.db/llamaindex/hD2iLoxRhqpF/lsm/objects/segment-1742276320345598921\",\"shard\":\"hD2iLoxRhqpF\",\"time\":\"2025-03-17T23:05:31-07:00\"}\n",
      "{\"action\":\"lsm_recover_from_active_wal\",\"build_git_commit\":\"'\\\"$GITHASH\\\"'\",\"build_go_version\":\"go1.22.0\",\"build_image_tag\":\"localhost\",\"build_wv_version\":\"1.26.6\",\"class\":\"LlamaIndex\",\"index\":\"llamaindex\",\"level\":\"warning\",\"msg\":\"empty write-ahead-log found. Did weaviate crash prior to this or the tenant on/loaded from the cloud? Nothing to recover from this file.\",\"path\":\"rag_website.db/llamaindex/hD2iLoxRhqpF/lsm/property_doc_id/segment-1742276205631222117\",\"shard\":\"hD2iLoxRhqpF\",\"time\":\"2025-03-17T23:05:31-07:00\"}\n",
      "{\"action\":\"lsm_recover_from_active_wal\",\"build_git_commit\":\"'\\\"$GITHASH\\\"'\",\"build_go_version\":\"go1.22.0\",\"build_image_tag\":\"localhost\",\"build_wv_version\":\"1.26.6\",\"class\":\"LlamaIndex\",\"index\":\"llamaindex\",\"level\":\"warning\",\"msg\":\"empty write-ahead-log found. Did weaviate crash prior to this or the tenant on/loaded from the cloud? Nothing to recover from this file.\",\"path\":\"rag_website.db/llamaindex/hD2iLoxRhqpF/lsm/property__node_content/segment-1742276205631254066\",\"shard\":\"hD2iLoxRhqpF\",\"time\":\"2025-03-17T23:05:31-07:00\"}\n",
      "{\"action\":\"lsm_recover_from_active_wal\",\"build_git_commit\":\"'\\\"$GITHASH\\\"'\",\"build_go_version\":\"go1.22.0\",\"build_image_tag\":\"localhost\",\"build_wv_version\":\"1.26.6\",\"class\":\"LlamaIndex\",\"index\":\"llamaindex\",\"level\":\"warning\",\"msg\":\"empty write-ahead-log found. Did weaviate crash prior to this or the tenant on/loaded from the cloud? Nothing to recover from this file.\",\"path\":\"rag_website.db/llamaindex/hD2iLoxRhqpF/lsm/property_doc_id/segment-1742276320346149201\",\"shard\":\"hD2iLoxRhqpF\",\"time\":\"2025-03-17T23:05:31-07:00\"}\n",
      "{\"action\":\"lsm_recover_from_active_wal\",\"build_git_commit\":\"'\\\"$GITHASH\\\"'\",\"build_go_version\":\"go1.22.0\",\"build_image_tag\":\"localhost\",\"build_wv_version\":\"1.26.6\",\"class\":\"LlamaIndex\",\"index\":\"llamaindex\",\"level\":\"warning\",\"msg\":\"empty write-ahead-log found. Did weaviate crash prior to this or the tenant on/loaded from the cloud? Nothing to recover from this file.\",\"path\":\"rag_website.db/llamaindex/hD2iLoxRhqpF/lsm/property_last_modified_date/segment-1742276123281062164\",\"shard\":\"hD2iLoxRhqpF\",\"time\":\"2025-03-17T23:05:31-07:00\"}\n",
      "{\"action\":\"lsm_recover_from_active_wal\",\"build_git_commit\":\"'\\\"$GITHASH\\\"'\",\"build_go_version\":\"go1.22.0\",\"build_image_tag\":\"localhost\",\"build_wv_version\":\"1.26.6\",\"class\":\"LlamaIndex\",\"index\":\"llamaindex\",\"level\":\"warning\",\"msg\":\"empty write-ahead-log found. Did weaviate crash prior to this or the tenant on/loaded from the cloud? Nothing to recover from this file.\",\"path\":\"rag_website.db/llamaindex/hD2iLoxRhqpF/lsm/property_doc_id/segment-1742277849588042994\",\"shard\":\"hD2iLoxRhqpF\",\"time\":\"2025-03-17T23:05:31-07:00\"}\n",
      "{\"action\":\"lsm_recover_from_active_wal\",\"build_git_commit\":\"'\\\"$GITHASH\\\"'\",\"build_go_version\":\"go1.22.0\",\"build_image_tag\":\"localhost\",\"build_wv_version\":\"1.26.6\",\"class\":\"LlamaIndex\",\"index\":\"llamaindex\",\"level\":\"warning\",\"msg\":\"empty write-ahead-log found. Did weaviate crash prior to this or the tenant on/loaded from the cloud? Nothing to recover from this file.\",\"path\":\"rag_website.db/llamaindex/hD2iLoxRhqpF/lsm/property__node_content/segment-1742276320345251353\",\"shard\":\"hD2iLoxRhqpF\",\"time\":\"2025-03-17T23:05:31-07:00\"}\n",
      "{\"action\":\"lsm_recover_from_active_wal\",\"build_git_commit\":\"'\\\"$GITHASH\\\"'\",\"build_go_version\":\"go1.22.0\",\"build_image_tag\":\"localhost\",\"build_wv_version\":\"1.26.6\",\"class\":\"LlamaIndex\",\"index\":\"llamaindex\",\"level\":\"warning\",\"msg\":\"empty write-ahead-log found. Did weaviate crash prior to this or the tenant on/loaded from the cloud? Nothing to recover from this file.\",\"path\":\"rag_website.db/llamaindex/hD2iLoxRhqpF/lsm/property_last_modified_date/segment-1742276205631347961\",\"shard\":\"hD2iLoxRhqpF\",\"time\":\"2025-03-17T23:05:31-07:00\"}\n",
      "{\"action\":\"lsm_recover_from_active_wal\",\"build_git_commit\":\"'\\\"$GITHASH\\\"'\",\"build_go_version\":\"go1.22.0\",\"build_image_tag\":\"localhost\",\"build_wv_version\":\"1.26.6\",\"class\":\"LlamaIndex\",\"index\":\"llamaindex\",\"level\":\"warning\",\"msg\":\"empty write-ahead-log found. Did weaviate crash prior to this or the tenant on/loaded from the cloud? Nothing to recover from this file.\",\"path\":\"rag_website.db/llamaindex/hD2iLoxRhqpF/lsm/property_file_type/segment-1742276320344327088\",\"shard\":\"hD2iLoxRhqpF\",\"time\":\"2025-03-17T23:05:31-07:00\"}\n",
      "{\"action\":\"lsm_recover_from_active_wal\",\"build_git_commit\":\"'\\\"$GITHASH\\\"'\",\"build_go_version\":\"go1.22.0\",\"build_image_tag\":\"localhost\",\"build_wv_version\":\"1.26.6\",\"class\":\"LlamaIndex\",\"index\":\"llamaindex\",\"level\":\"warning\",\"msg\":\"empty write-ahead-log found. Did weaviate crash prior to this or the tenant on/loaded from the cloud? Nothing to recover from this file.\",\"path\":\"rag_website.db/llamaindex/hD2iLoxRhqpF/lsm/property_last_modified_date/segment-1742276320342532153\",\"shard\":\"hD2iLoxRhqpF\",\"time\":\"2025-03-17T23:05:31-07:00\"}\n",
      "{\"action\":\"lsm_recover_from_active_wal\",\"build_git_commit\":\"'\\\"$GITHASH\\\"'\",\"build_go_version\":\"go1.22.0\",\"build_image_tag\":\"localhost\",\"build_wv_version\":\"1.26.6\",\"class\":\"LlamaIndex\",\"index\":\"llamaindex\",\"level\":\"warning\",\"msg\":\"empty write-ahead-log found. Did weaviate crash prior to this or the tenant on/loaded from the cloud? Nothing to recover from this file.\",\"path\":\"rag_website.db/llamaindex/hD2iLoxRhqpF/lsm/property_ref_doc_id/segment-1742276123143192119\",\"shard\":\"hD2iLoxRhqpF\",\"time\":\"2025-03-17T23:05:31-07:00\"}\n",
      "{\"action\":\"lsm_recover_from_active_wal\",\"build_git_commit\":\"'\\\"$GITHASH\\\"'\",\"build_go_version\":\"go1.22.0\",\"build_image_tag\":\"localhost\",\"build_wv_version\":\"1.26.6\",\"class\":\"LlamaIndex\",\"index\":\"llamaindex\",\"level\":\"warning\",\"msg\":\"empty write-ahead-log found. Did weaviate crash prior to this or the tenant on/loaded from the cloud? Nothing to recover from this file.\",\"path\":\"rag_website.db/llamaindex/hD2iLoxRhqpF/lsm/property_last_modified_date/segment-1742277849599184339\",\"shard\":\"hD2iLoxRhqpF\",\"time\":\"2025-03-17T23:05:31-07:00\"}\n",
      "{\"action\":\"lsm_recover_from_active_wal\",\"build_git_commit\":\"'\\\"$GITHASH\\\"'\",\"build_go_version\":\"go1.22.0\",\"build_image_tag\":\"localhost\",\"build_wv_version\":\"1.26.6\",\"class\":\"LlamaIndex\",\"index\":\"llamaindex\",\"level\":\"warning\",\"msg\":\"empty write-ahead-log found. Did weaviate crash prior to this or the tenant on/loaded from the cloud? Nothing to recover from this file.\",\"path\":\"rag_website.db/llamaindex/hD2iLoxRhqpF/lsm/property_file_type/segment-1742277849595344417\",\"shard\":\"hD2iLoxRhqpF\",\"time\":\"2025-03-17T23:05:31-07:00\"}\n",
      "{\"action\":\"lsm_recover_from_active_wal\",\"build_git_commit\":\"'\\\"$GITHASH\\\"'\",\"build_go_version\":\"go1.22.0\",\"build_image_tag\":\"localhost\",\"build_wv_version\":\"1.26.6\",\"class\":\"LlamaIndex\",\"index\":\"llamaindex\",\"level\":\"warning\",\"msg\":\"empty write-ahead-log found. Did weaviate crash prior to this or the tenant on/loaded from the cloud? Nothing to recover from this file.\",\"path\":\"rag_website.db/llamaindex/hD2iLoxRhqpF/lsm/property_creation_date/segment-1742276123266765959\",\"shard\":\"hD2iLoxRhqpF\",\"time\":\"2025-03-17T23:05:31-07:00\"}\n",
      "{\"action\":\"lsm_recover_from_active_wal\",\"build_git_commit\":\"'\\\"$GITHASH\\\"'\",\"build_go_version\":\"go1.22.0\",\"build_image_tag\":\"localhost\",\"build_wv_version\":\"1.26.6\",\"class\":\"LlamaIndex\",\"index\":\"llamaindex\",\"level\":\"warning\",\"msg\":\"empty write-ahead-log found. Did weaviate crash prior to this or the tenant on/loaded from the cloud? Nothing to recover from this file.\",\"path\":\"rag_website.db/llamaindex/hD2iLoxRhqpF/lsm/property_creation_date/segment-1742276205631272042\",\"shard\":\"hD2iLoxRhqpF\",\"time\":\"2025-03-17T23:05:31-07:00\"}\n",
      "{\"action\":\"lsm_recover_from_active_wal\",\"build_git_commit\":\"'\\\"$GITHASH\\\"'\",\"build_go_version\":\"go1.22.0\",\"build_image_tag\":\"localhost\",\"build_wv_version\":\"1.26.6\",\"class\":\"LlamaIndex\",\"index\":\"llamaindex\",\"level\":\"warning\",\"msg\":\"empty write-ahead-log found. Did weaviate crash prior to this or the tenant on/loaded from the cloud? Nothing to recover from this file.\",\"path\":\"rag_website.db/llamaindex/hD2iLoxRhqpF/lsm/property_ref_doc_id/segment-1742276205631359293\",\"shard\":\"hD2iLoxRhqpF\",\"time\":\"2025-03-17T23:05:31-07:00\"}\n",
      "{\"action\":\"lsm_recover_from_active_wal\",\"build_git_commit\":\"'\\\"$GITHASH\\\"'\",\"build_go_version\":\"go1.22.0\",\"build_image_tag\":\"localhost\",\"build_wv_version\":\"1.26.6\",\"class\":\"LlamaIndex\",\"index\":\"llamaindex\",\"level\":\"warning\",\"msg\":\"empty write-ahead-log found. Did weaviate crash prior to this or the tenant on/loaded from the cloud? Nothing to recover from this file.\",\"path\":\"rag_website.db/llamaindex/hD2iLoxRhqpF/lsm/property_creation_date/segment-1742276320342812328\",\"shard\":\"hD2iLoxRhqpF\",\"time\":\"2025-03-17T23:05:31-07:00\"}\n",
      "{\"action\":\"lsm_recover_from_active_wal\",\"build_git_commit\":\"'\\\"$GITHASH\\\"'\",\"build_go_version\":\"go1.22.0\",\"build_image_tag\":\"localhost\",\"build_wv_version\":\"1.26.6\",\"class\":\"LlamaIndex\",\"index\":\"llamaindex\",\"level\":\"warning\",\"msg\":\"empty write-ahead-log found. Did weaviate crash prior to this or the tenant on/loaded from the cloud? Nothing to recover from this file.\",\"path\":\"rag_website.db/llamaindex/hD2iLoxRhqpF/lsm/property_ref_doc_id/segment-1742276320342786482\",\"shard\":\"hD2iLoxRhqpF\",\"time\":\"2025-03-17T23:05:31-07:00\"}\n",
      "{\"action\":\"lsm_recover_from_active_wal\",\"build_git_commit\":\"'\\\"$GITHASH\\\"'\",\"build_go_version\":\"go1.22.0\",\"build_image_tag\":\"localhost\",\"build_wv_version\":\"1.26.6\",\"class\":\"LlamaIndex\",\"index\":\"llamaindex\",\"level\":\"warning\",\"msg\":\"empty write-ahead-log found. Did weaviate crash prior to this or the tenant on/loaded from the cloud? Nothing to recover from this file.\",\"path\":\"rag_website.db/llamaindex/hD2iLoxRhqpF/lsm/property_file_name/segment-1742276123273609885\",\"shard\":\"hD2iLoxRhqpF\",\"time\":\"2025-03-17T23:05:31-07:00\"}\n",
      "{\"action\":\"lsm_recover_from_active_wal\",\"build_git_commit\":\"'\\\"$GITHASH\\\"'\",\"build_go_version\":\"go1.22.0\",\"build_image_tag\":\"localhost\",\"build_wv_version\":\"1.26.6\",\"class\":\"LlamaIndex\",\"index\":\"llamaindex\",\"level\":\"warning\",\"msg\":\"empty write-ahead-log found. Did weaviate crash prior to this or the tenant on/loaded from the cloud? Nothing to recover from this file.\",\"path\":\"rag_website.db/llamaindex/hD2iLoxRhqpF/lsm/property_creation_date/segment-1742277849594447209\",\"shard\":\"hD2iLoxRhqpF\",\"time\":\"2025-03-17T23:05:31-07:00\"}\n",
      "{\"action\":\"lsm_recover_from_active_wal\",\"build_git_commit\":\"'\\\"$GITHASH\\\"'\",\"build_go_version\":\"go1.22.0\",\"build_image_tag\":\"localhost\",\"build_wv_version\":\"1.26.6\",\"class\":\"LlamaIndex\",\"index\":\"llamaindex\",\"level\":\"warning\",\"msg\":\"empty write-ahead-log found. Did weaviate crash prior to this or the tenant on/loaded from the cloud? Nothing to recover from this file.\",\"path\":\"rag_website.db/llamaindex/hD2iLoxRhqpF/lsm/property_file_name/segment-1742276205631290965\",\"shard\":\"hD2iLoxRhqpF\",\"time\":\"2025-03-17T23:05:31-07:00\"}\n",
      "{\"action\":\"lsm_recover_from_active_wal\",\"build_git_commit\":\"'\\\"$GITHASH\\\"'\",\"build_go_version\":\"go1.22.0\",\"build_image_tag\":\"localhost\",\"build_wv_version\":\"1.26.6\",\"class\":\"LlamaIndex\",\"index\":\"llamaindex\",\"level\":\"warning\",\"msg\":\"empty write-ahead-log found. Did weaviate crash prior to this or the tenant on/loaded from the cloud? Nothing to recover from this file.\",\"path\":\"rag_website.db/llamaindex/hD2iLoxRhqpF/lsm/property_ref_doc_id/segment-1742277849594761135\",\"shard\":\"hD2iLoxRhqpF\",\"time\":\"2025-03-17T23:05:31-07:00\"}\n",
      "{\"action\":\"lsm_recover_from_active_wal\",\"build_git_commit\":\"'\\\"$GITHASH\\\"'\",\"build_go_version\":\"go1.22.0\",\"build_image_tag\":\"localhost\",\"build_wv_version\":\"1.26.6\",\"class\":\"LlamaIndex\",\"index\":\"llamaindex\",\"level\":\"warning\",\"msg\":\"empty write-ahead-log found. Did weaviate crash prior to this or the tenant on/loaded from the cloud? Nothing to recover from this file.\",\"path\":\"rag_website.db/llamaindex/hD2iLoxRhqpF/lsm/property_file_name/segment-1742276320345243792\",\"shard\":\"hD2iLoxRhqpF\",\"time\":\"2025-03-17T23:05:31-07:00\"}\n",
      "{\"action\":\"lsm_recover_from_active_wal\",\"build_git_commit\":\"'\\\"$GITHASH\\\"'\",\"build_go_version\":\"go1.22.0\",\"build_image_tag\":\"localhost\",\"build_wv_version\":\"1.26.6\",\"class\":\"LlamaIndex\",\"index\":\"llamaindex\",\"level\":\"warning\",\"msg\":\"empty write-ahead-log found. Did weaviate crash prior to this or the tenant on/loaded from the cloud? Nothing to recover from this file.\",\"path\":\"rag_website.db/llamaindex/hD2iLoxRhqpF/lsm/property_file_name/segment-1742277849603298503\",\"shard\":\"hD2iLoxRhqpF\",\"time\":\"2025-03-17T23:05:31-07:00\"}\n",
      "{\"action\":\"lsm_recover_from_active_wal\",\"build_git_commit\":\"'\\\"$GITHASH\\\"'\",\"build_go_version\":\"go1.22.0\",\"build_image_tag\":\"localhost\",\"build_wv_version\":\"1.26.6\",\"class\":\"LlamaIndex\",\"index\":\"llamaindex\",\"level\":\"warning\",\"msg\":\"empty write-ahead-log found. Did weaviate crash prior to this or the tenant on/loaded from the cloud? Nothing to recover from this file.\",\"path\":\"rag_website.db/llamaindex/hD2iLoxRhqpF/lsm/property_node_info/segment-1742276205632162018\",\"shard\":\"hD2iLoxRhqpF\",\"time\":\"2025-03-17T23:05:31-07:00\"}\n",
      "{\"action\":\"lsm_recover_from_active_wal\",\"build_git_commit\":\"'\\\"$GITHASH\\\"'\",\"build_go_version\":\"go1.22.0\",\"build_image_tag\":\"localhost\",\"build_wv_version\":\"1.26.6\",\"class\":\"LlamaIndex\",\"index\":\"llamaindex\",\"level\":\"warning\",\"msg\":\"empty write-ahead-log found. Did weaviate crash prior to this or the tenant on/loaded from the cloud? Nothing to recover from this file.\",\"path\":\"rag_website.db/llamaindex/hD2iLoxRhqpF/lsm/property_relationships/segment-1742276058102828664\",\"shard\":\"hD2iLoxRhqpF\",\"time\":\"2025-03-17T23:05:31-07:00\"}\n",
      "{\"action\":\"lsm_recover_from_active_wal\",\"build_git_commit\":\"'\\\"$GITHASH\\\"'\",\"build_go_version\":\"go1.22.0\",\"build_image_tag\":\"localhost\",\"build_wv_version\":\"1.26.6\",\"class\":\"LlamaIndex\",\"index\":\"llamaindex\",\"level\":\"warning\",\"msg\":\"empty write-ahead-log found. Did weaviate crash prior to this or the tenant on/loaded from the cloud? Nothing to recover from this file.\",\"path\":\"rag_website.db/llamaindex/hD2iLoxRhqpF/lsm/property_file_path/segment-1742276205634591684\",\"shard\":\"hD2iLoxRhqpF\",\"time\":\"2025-03-17T23:05:31-07:00\"}\n",
      "{\"action\":\"lsm_recover_from_active_wal\",\"build_git_commit\":\"'\\\"$GITHASH\\\"'\",\"build_go_version\":\"go1.22.0\",\"build_image_tag\":\"localhost\",\"build_wv_version\":\"1.26.6\",\"class\":\"LlamaIndex\",\"index\":\"llamaindex\",\"level\":\"warning\",\"msg\":\"empty write-ahead-log found. Did weaviate crash prior to this or the tenant on/loaded from the cloud? Nothing to recover from this file.\",\"path\":\"rag_website.db/llamaindex/hD2iLoxRhqpF/lsm/property_document_id/segment-1742276320342821186\",\"shard\":\"hD2iLoxRhqpF\",\"time\":\"2025-03-17T23:05:31-07:00\"}\n",
      "{\"action\":\"lsm_recover_from_active_wal\",\"build_git_commit\":\"'\\\"$GITHASH\\\"'\",\"build_go_version\":\"go1.22.0\",\"build_image_tag\":\"localhost\",\"build_wv_version\":\"1.26.6\",\"class\":\"LlamaIndex\",\"index\":\"llamaindex\",\"level\":\"warning\",\"msg\":\"empty write-ahead-log found. Did weaviate crash prior to this or the tenant on/loaded from the cloud? Nothing to recover from this file.\",\"path\":\"rag_website.db/llamaindex/hD2iLoxRhqpF/lsm/property_file_path/segment-1742276320345549171\",\"shard\":\"hD2iLoxRhqpF\",\"time\":\"2025-03-17T23:05:31-07:00\"}\n",
      "{\"action\":\"lsm_recover_from_active_wal\",\"build_git_commit\":\"'\\\"$GITHASH\\\"'\",\"build_go_version\":\"go1.22.0\",\"build_image_tag\":\"localhost\",\"build_wv_version\":\"1.26.6\",\"class\":\"LlamaIndex\",\"index\":\"llamaindex\",\"level\":\"warning\",\"msg\":\"empty write-ahead-log found. Did weaviate crash prior to this or the tenant on/loaded from the cloud? Nothing to recover from this file.\",\"path\":\"rag_website.db/llamaindex/hD2iLoxRhqpF/lsm/property_document_id/segment-1742277849592641038\",\"shard\":\"hD2iLoxRhqpF\",\"time\":\"2025-03-17T23:05:31-07:00\"}\n",
      "{\"action\":\"lsm_recover_from_active_wal\",\"build_git_commit\":\"'\\\"$GITHASH\\\"'\",\"build_go_version\":\"go1.22.0\",\"build_image_tag\":\"localhost\",\"build_wv_version\":\"1.26.6\",\"class\":\"LlamaIndex\",\"index\":\"llamaindex\",\"level\":\"warning\",\"msg\":\"empty write-ahead-log found. Did weaviate crash prior to this or the tenant on/loaded from the cloud? Nothing to recover from this file.\",\"path\":\"rag_website.db/llamaindex/hD2iLoxRhqpF/lsm/objects/segment-1742277849594770530\",\"shard\":\"hD2iLoxRhqpF\",\"time\":\"2025-03-17T23:05:31-07:00\"}\n",
      "{\"action\":\"lsm_recover_from_active_wal\",\"build_git_commit\":\"'\\\"$GITHASH\\\"'\",\"build_go_version\":\"go1.22.0\",\"build_image_tag\":\"localhost\",\"build_wv_version\":\"1.26.6\",\"class\":\"LlamaIndex\",\"index\":\"llamaindex\",\"level\":\"warning\",\"msg\":\"empty write-ahead-log found. Did weaviate crash prior to this or the tenant on/loaded from the cloud? Nothing to recover from this file.\",\"path\":\"rag_website.db/llamaindex/hD2iLoxRhqpF/lsm/property_file_path/segment-1742277849600842694\",\"shard\":\"hD2iLoxRhqpF\",\"time\":\"2025-03-17T23:05:31-07:00\"}\n",
      "{\"action\":\"lsm_recover_from_active_wal\",\"build_git_commit\":\"'\\\"$GITHASH\\\"'\",\"build_go_version\":\"go1.22.0\",\"build_image_tag\":\"localhost\",\"build_wv_version\":\"1.26.6\",\"class\":\"LlamaIndex\",\"index\":\"llamaindex\",\"level\":\"warning\",\"msg\":\"empty write-ahead-log found. Did weaviate crash prior to this or the tenant on/loaded from the cloud? Nothing to recover from this file.\",\"path\":\"rag_website.db/llamaindex/hD2iLoxRhqpF/lsm/property__node_content/segment-1742277849625473445\",\"shard\":\"hD2iLoxRhqpF\",\"time\":\"2025-03-17T23:05:31-07:00\"}\n",
      "{\"action\":\"lsm_recover_from_active_wal\",\"build_git_commit\":\"'\\\"$GITHASH\\\"'\",\"build_go_version\":\"go1.22.0\",\"build_image_tag\":\"localhost\",\"build_wv_version\":\"1.26.6\",\"class\":\"LlamaIndex\",\"index\":\"llamaindex\",\"level\":\"warning\",\"msg\":\"empty write-ahead-log found. Did weaviate crash prior to this or the tenant on/loaded from the cloud? Nothing to recover from this file.\",\"path\":\"rag_website.db/llamaindex/hD2iLoxRhqpF/lsm/property_node_info/segment-1742276320344944388\",\"shard\":\"hD2iLoxRhqpF\",\"time\":\"2025-03-17T23:05:31-07:00\"}\n",
      "{\"action\":\"lsm_recover_from_active_wal\",\"build_git_commit\":\"'\\\"$GITHASH\\\"'\",\"build_go_version\":\"go1.22.0\",\"build_image_tag\":\"localhost\",\"build_wv_version\":\"1.26.6\",\"class\":\"LlamaIndex\",\"index\":\"llamaindex\",\"level\":\"warning\",\"msg\":\"empty write-ahead-log found. Did weaviate crash prior to this or the tenant on/loaded from the cloud? Nothing to recover from this file.\",\"path\":\"rag_website.db/llamaindex/hD2iLoxRhqpF/lsm/property_relationships/segment-1742276205632136131\",\"shard\":\"hD2iLoxRhqpF\",\"time\":\"2025-03-17T23:05:31-07:00\"}\n",
      "{\"action\":\"lsm_recover_from_active_wal\",\"build_git_commit\":\"'\\\"$GITHASH\\\"'\",\"build_go_version\":\"go1.22.0\",\"build_image_tag\":\"localhost\",\"build_wv_version\":\"1.26.6\",\"class\":\"LlamaIndex\",\"index\":\"llamaindex\",\"level\":\"warning\",\"msg\":\"empty write-ahead-log found. Did weaviate crash prior to this or the tenant on/loaded from the cloud? Nothing to recover from this file.\",\"path\":\"rag_website.db/llamaindex/hD2iLoxRhqpF/lsm/property_node_info/segment-1742277752912587895\",\"shard\":\"hD2iLoxRhqpF\",\"time\":\"2025-03-17T23:05:31-07:00\"}\n",
      "{\"action\":\"lsm_recover_from_active_wal\",\"build_git_commit\":\"'\\\"$GITHASH\\\"'\",\"build_go_version\":\"go1.22.0\",\"build_image_tag\":\"localhost\",\"build_wv_version\":\"1.26.6\",\"class\":\"LlamaIndex\",\"index\":\"llamaindex\",\"level\":\"warning\",\"msg\":\"empty write-ahead-log found. Did weaviate crash prior to this or the tenant on/loaded from the cloud? Nothing to recover from this file.\",\"path\":\"rag_website.db/llamaindex/hD2iLoxRhqpF/lsm/property_node_info/segment-1742277849579745667\",\"shard\":\"hD2iLoxRhqpF\",\"time\":\"2025-03-17T23:05:31-07:00\"}\n",
      "{\"action\":\"lsm_recover_from_active_wal\",\"build_git_commit\":\"'\\\"$GITHASH\\\"'\",\"build_go_version\":\"go1.22.0\",\"build_image_tag\":\"localhost\",\"build_wv_version\":\"1.26.6\",\"class\":\"LlamaIndex\",\"index\":\"llamaindex\",\"level\":\"warning\",\"msg\":\"empty write-ahead-log found. Did weaviate crash prior to this or the tenant on/loaded from the cloud? Nothing to recover from this file.\",\"path\":\"rag_website.db/llamaindex/hD2iLoxRhqpF/lsm/property_relationships/segment-1742276320342632426\",\"shard\":\"hD2iLoxRhqpF\",\"time\":\"2025-03-17T23:05:31-07:00\"}\n",
      "{\"action\":\"lsm_recover_from_active_wal\",\"build_git_commit\":\"'\\\"$GITHASH\\\"'\",\"build_go_version\":\"go1.22.0\",\"build_image_tag\":\"localhost\",\"build_wv_version\":\"1.26.6\",\"class\":\"LlamaIndex\",\"index\":\"llamaindex\",\"level\":\"warning\",\"msg\":\"empty write-ahead-log found. Did weaviate crash prior to this or the tenant on/loaded from the cloud? Nothing to recover from this file.\",\"path\":\"rag_website.db/llamaindex/hD2iLoxRhqpF/lsm/property_relationships/segment-1742277752908049664\",\"shard\":\"hD2iLoxRhqpF\",\"time\":\"2025-03-17T23:05:31-07:00\"}\n",
      "{\"action\":\"lsm_recover_from_active_wal\",\"build_git_commit\":\"'\\\"$GITHASH\\\"'\",\"build_go_version\":\"go1.22.0\",\"build_image_tag\":\"localhost\",\"build_wv_version\":\"1.26.6\",\"class\":\"LlamaIndex\",\"index\":\"llamaindex\",\"level\":\"warning\",\"msg\":\"empty write-ahead-log found. Did weaviate crash prior to this or the tenant on/loaded from the cloud? Nothing to recover from this file.\",\"path\":\"rag_website.db/llamaindex/hD2iLoxRhqpF/lsm/property_relationships/segment-1742277849581982391\",\"shard\":\"hD2iLoxRhqpF\",\"time\":\"2025-03-17T23:05:31-07:00\"}\n",
      "{\"action\":\"lsm_recover_from_active_wal\",\"build_git_commit\":\"'\\\"$GITHASH\\\"'\",\"build_go_version\":\"go1.22.0\",\"build_image_tag\":\"localhost\",\"build_wv_version\":\"1.26.6\",\"class\":\"LlamaIndex\",\"index\":\"llamaindex\",\"level\":\"warning\",\"msg\":\"empty write-ahead-log found. Did weaviate crash prior to this or the tenant on/loaded from the cloud? Nothing to recover from this file.\",\"path\":\"rag_website.db/llamaindex/hD2iLoxRhqpF/lsm/property__node_type_searchable/segment-1742276123249982882\",\"shard\":\"hD2iLoxRhqpF\",\"time\":\"2025-03-17T23:05:31-07:00\"}\n",
      "{\"action\":\"lsm_recover_from_active_wal\",\"build_git_commit\":\"'\\\"$GITHASH\\\"'\",\"build_go_version\":\"go1.22.0\",\"build_image_tag\":\"localhost\",\"build_wv_version\":\"1.26.6\",\"class\":\"LlamaIndex\",\"index\":\"llamaindex\",\"level\":\"warning\",\"msg\":\"empty write-ahead-log found. Did weaviate crash prior to this or the tenant on/loaded from the cloud? Nothing to recover from this file.\",\"path\":\"rag_website.db/llamaindex/hD2iLoxRhqpF/lsm/property__node_type_searchable/segment-1742276205634252604\",\"shard\":\"hD2iLoxRhqpF\",\"time\":\"2025-03-17T23:05:31-07:00\"}\n",
      "{\"action\":\"lsm_recover_from_active_wal\",\"build_git_commit\":\"'\\\"$GITHASH\\\"'\",\"build_go_version\":\"go1.22.0\",\"build_image_tag\":\"localhost\",\"build_wv_version\":\"1.26.6\",\"class\":\"LlamaIndex\",\"index\":\"llamaindex\",\"level\":\"warning\",\"msg\":\"empty write-ahead-log found. Did weaviate crash prior to this or the tenant on/loaded from the cloud? Nothing to recover from this file.\",\"path\":\"rag_website.db/llamaindex/hD2iLoxRhqpF/lsm/property__node_type_searchable/segment-1742276320349502710\",\"shard\":\"hD2iLoxRhqpF\",\"time\":\"2025-03-17T23:05:31-07:00\"}\n",
      "{\"action\":\"lsm_recover_from_active_wal\",\"build_git_commit\":\"'\\\"$GITHASH\\\"'\",\"build_go_version\":\"go1.22.0\",\"build_image_tag\":\"localhost\",\"build_wv_version\":\"1.26.6\",\"class\":\"LlamaIndex\",\"index\":\"llamaindex\",\"level\":\"warning\",\"msg\":\"empty write-ahead-log found. Did weaviate crash prior to this or the tenant on/loaded from the cloud? Nothing to recover from this file.\",\"path\":\"rag_website.db/llamaindex/hD2iLoxRhqpF/lsm/property__node_type_searchable/segment-1742277849612775189\",\"shard\":\"hD2iLoxRhqpF\",\"time\":\"2025-03-17T23:05:31-07:00\"}\n",
      "{\"action\":\"lsm_recover_from_active_wal\",\"build_git_commit\":\"'\\\"$GITHASH\\\"'\",\"build_go_version\":\"go1.22.0\",\"build_image_tag\":\"localhost\",\"build_wv_version\":\"1.26.6\",\"class\":\"LlamaIndex\",\"index\":\"llamaindex\",\"level\":\"warning\",\"msg\":\"empty write-ahead-log found. Did weaviate crash prior to this or the tenant on/loaded from the cloud? Nothing to recover from this file.\",\"path\":\"rag_website.db/llamaindex/hD2iLoxRhqpF/lsm/property_last_modified_date_searchable/segment-1742276123332110231\",\"shard\":\"hD2iLoxRhqpF\",\"time\":\"2025-03-17T23:05:31-07:00\"}\n",
      "{\"action\":\"lsm_recover_from_active_wal\",\"build_git_commit\":\"'\\\"$GITHASH\\\"'\",\"build_go_version\":\"go1.22.0\",\"build_image_tag\":\"localhost\",\"build_wv_version\":\"1.26.6\",\"class\":\"LlamaIndex\",\"index\":\"llamaindex\",\"level\":\"warning\",\"msg\":\"empty write-ahead-log found. Did weaviate crash prior to this or the tenant on/loaded from the cloud? Nothing to recover from this file.\",\"path\":\"rag_website.db/llamaindex/hD2iLoxRhqpF/lsm/property_last_modified_date_searchable/segment-1742276205634577031\",\"shard\":\"hD2iLoxRhqpF\",\"time\":\"2025-03-17T23:05:31-07:00\"}\n",
      "{\"action\":\"lsm_recover_from_active_wal\",\"build_git_commit\":\"'\\\"$GITHASH\\\"'\",\"build_go_version\":\"go1.22.0\",\"build_image_tag\":\"localhost\",\"build_wv_version\":\"1.26.6\",\"class\":\"LlamaIndex\",\"index\":\"llamaindex\",\"level\":\"warning\",\"msg\":\"empty write-ahead-log found. Did weaviate crash prior to this or the tenant on/loaded from the cloud? Nothing to recover from this file.\",\"path\":\"rag_website.db/llamaindex/hD2iLoxRhqpF/lsm/property_last_modified_date_searchable/segment-1742276320351659289\",\"shard\":\"hD2iLoxRhqpF\",\"time\":\"2025-03-17T23:05:31-07:00\"}\n",
      "{\"action\":\"lsm_recover_from_active_wal\",\"build_git_commit\":\"'\\\"$GITHASH\\\"'\",\"build_go_version\":\"go1.22.0\",\"build_image_tag\":\"localhost\",\"build_wv_version\":\"1.26.6\",\"class\":\"LlamaIndex\",\"index\":\"llamaindex\",\"level\":\"warning\",\"msg\":\"empty write-ahead-log found. Did weaviate crash prior to this or the tenant on/loaded from the cloud? Nothing to recover from this file.\",\"path\":\"rag_website.db/llamaindex/hD2iLoxRhqpF/lsm/property_last_modified_date_searchable/segment-1742277849623178511\",\"shard\":\"hD2iLoxRhqpF\",\"time\":\"2025-03-17T23:05:31-07:00\"}\n",
      "{\"action\":\"lsm_recover_from_active_wal\",\"build_git_commit\":\"'\\\"$GITHASH\\\"'\",\"build_go_version\":\"go1.22.0\",\"build_image_tag\":\"localhost\",\"build_wv_version\":\"1.26.6\",\"class\":\"LlamaIndex\",\"index\":\"llamaindex\",\"level\":\"warning\",\"msg\":\"empty write-ahead-log found. Did weaviate crash prior to this or the tenant on/loaded from the cloud? Nothing to recover from this file.\",\"path\":\"rag_website.db/llamaindex/hD2iLoxRhqpF/lsm/property_text_searchable/segment-1742276123169494403\",\"shard\":\"hD2iLoxRhqpF\",\"time\":\"2025-03-17T23:05:31-07:00\"}\n",
      "{\"action\":\"lsm_recover_from_active_wal\",\"build_git_commit\":\"'\\\"$GITHASH\\\"'\",\"build_go_version\":\"go1.22.0\",\"build_image_tag\":\"localhost\",\"build_wv_version\":\"1.26.6\",\"class\":\"LlamaIndex\",\"index\":\"llamaindex\",\"level\":\"warning\",\"msg\":\"empty write-ahead-log found. Did weaviate crash prior to this or the tenant on/loaded from the cloud? Nothing to recover from this file.\",\"path\":\"rag_website.db/llamaindex/hD2iLoxRhqpF/lsm/property_text_searchable/segment-1742276205634583550\",\"shard\":\"hD2iLoxRhqpF\",\"time\":\"2025-03-17T23:05:31-07:00\"}\n",
      "{\"action\":\"lsm_recover_from_active_wal\",\"build_git_commit\":\"'\\\"$GITHASH\\\"'\",\"build_go_version\":\"go1.22.0\",\"build_image_tag\":\"localhost\",\"build_wv_version\":\"1.26.6\",\"class\":\"LlamaIndex\",\"index\":\"llamaindex\",\"level\":\"warning\",\"msg\":\"empty write-ahead-log found. Did weaviate crash prior to this or the tenant on/loaded from the cloud? Nothing to recover from this file.\",\"path\":\"rag_website.db/llamaindex/hD2iLoxRhqpF/lsm/property_file_name_searchable/segment-1742276123324340329\",\"shard\":\"hD2iLoxRhqpF\",\"time\":\"2025-03-17T23:05:31-07:00\"}\n",
      "{\"action\":\"lsm_recover_from_active_wal\",\"build_git_commit\":\"'\\\"$GITHASH\\\"'\",\"build_go_version\":\"go1.22.0\",\"build_image_tag\":\"localhost\",\"build_wv_version\":\"1.26.6\",\"class\":\"LlamaIndex\",\"index\":\"llamaindex\",\"level\":\"warning\",\"msg\":\"empty write-ahead-log found. Did weaviate crash prior to this or the tenant on/loaded from the cloud? Nothing to recover from this file.\",\"path\":\"rag_website.db/llamaindex/hD2iLoxRhqpF/lsm/property_text_searchable/segment-1742276320351650540\",\"shard\":\"hD2iLoxRhqpF\",\"time\":\"2025-03-17T23:05:31-07:00\"}\n",
      "{\"action\":\"lsm_recover_from_active_wal\",\"build_git_commit\":\"'\\\"$GITHASH\\\"'\",\"build_go_version\":\"go1.22.0\",\"build_image_tag\":\"localhost\",\"build_wv_version\":\"1.26.6\",\"class\":\"LlamaIndex\",\"index\":\"llamaindex\",\"level\":\"warning\",\"msg\":\"empty write-ahead-log found. Did weaviate crash prior to this or the tenant on/loaded from the cloud? Nothing to recover from this file.\",\"path\":\"rag_website.db/llamaindex/hD2iLoxRhqpF/lsm/property_file_name_searchable/segment-1742276205634596308\",\"shard\":\"hD2iLoxRhqpF\",\"time\":\"2025-03-17T23:05:31-07:00\"}\n",
      "{\"action\":\"lsm_recover_from_active_wal\",\"build_git_commit\":\"'\\\"$GITHASH\\\"'\",\"build_go_version\":\"go1.22.0\",\"build_image_tag\":\"localhost\",\"build_wv_version\":\"1.26.6\",\"class\":\"LlamaIndex\",\"index\":\"llamaindex\",\"level\":\"warning\",\"msg\":\"empty write-ahead-log found. Did weaviate crash prior to this or the tenant on/loaded from the cloud? Nothing to recover from this file.\",\"path\":\"rag_website.db/llamaindex/hD2iLoxRhqpF/lsm/property_text_searchable/segment-1742277849716351391\",\"shard\":\"hD2iLoxRhqpF\",\"time\":\"2025-03-17T23:05:31-07:00\"}\n",
      "{\"action\":\"lsm_recover_from_active_wal\",\"build_git_commit\":\"'\\\"$GITHASH\\\"'\",\"build_go_version\":\"go1.22.0\",\"build_image_tag\":\"localhost\",\"build_wv_version\":\"1.26.6\",\"class\":\"LlamaIndex\",\"index\":\"llamaindex\",\"level\":\"warning\",\"msg\":\"empty write-ahead-log found. Did weaviate crash prior to this or the tenant on/loaded from the cloud? Nothing to recover from this file.\",\"path\":\"rag_website.db/llamaindex/hD2iLoxRhqpF/lsm/property_file_name_searchable/segment-1742276320352341428\",\"shard\":\"hD2iLoxRhqpF\",\"time\":\"2025-03-17T23:05:31-07:00\"}\n",
      "{\"action\":\"lsm_recover_from_active_wal\",\"build_git_commit\":\"'\\\"$GITHASH\\\"'\",\"build_go_version\":\"go1.22.0\",\"build_image_tag\":\"localhost\",\"build_wv_version\":\"1.26.6\",\"class\":\"LlamaIndex\",\"index\":\"llamaindex\",\"level\":\"warning\",\"msg\":\"empty write-ahead-log found. Did weaviate crash prior to this or the tenant on/loaded from the cloud? Nothing to recover from this file.\",\"path\":\"rag_website.db/llamaindex/hD2iLoxRhqpF/lsm/property_file_name_searchable/segment-1742277849625168494\",\"shard\":\"hD2iLoxRhqpF\",\"time\":\"2025-03-17T23:05:31-07:00\"}\n",
      "{\"action\":\"lsm_recover_from_active_wal\",\"build_git_commit\":\"'\\\"$GITHASH\\\"'\",\"build_go_version\":\"go1.22.0\",\"build_image_tag\":\"localhost\",\"build_wv_version\":\"1.26.6\",\"class\":\"LlamaIndex\",\"index\":\"llamaindex\",\"level\":\"warning\",\"msg\":\"empty write-ahead-log found. Did weaviate crash prior to this or the tenant on/loaded from the cloud? Nothing to recover from this file.\",\"path\":\"rag_website.db/llamaindex/hD2iLoxRhqpF/lsm/property_creation_date_searchable/segment-1742276123317255735\",\"shard\":\"hD2iLoxRhqpF\",\"time\":\"2025-03-17T23:05:31-07:00\"}\n",
      "{\"action\":\"lsm_recover_from_active_wal\",\"build_git_commit\":\"'\\\"$GITHASH\\\"'\",\"build_go_version\":\"go1.22.0\",\"build_image_tag\":\"localhost\",\"build_wv_version\":\"1.26.6\",\"class\":\"LlamaIndex\",\"index\":\"llamaindex\",\"level\":\"warning\",\"msg\":\"empty write-ahead-log found. Did weaviate crash prior to this or the tenant on/loaded from the cloud? Nothing to recover from this file.\",\"path\":\"rag_website.db/llamaindex/hD2iLoxRhqpF/lsm/property_creation_date_searchable/segment-1742276205634892300\",\"shard\":\"hD2iLoxRhqpF\",\"time\":\"2025-03-17T23:05:31-07:00\"}\n",
      "{\"action\":\"lsm_recover_from_active_wal\",\"build_git_commit\":\"'\\\"$GITHASH\\\"'\",\"build_go_version\":\"go1.22.0\",\"build_image_tag\":\"localhost\",\"build_wv_version\":\"1.26.6\",\"class\":\"LlamaIndex\",\"index\":\"llamaindex\",\"level\":\"warning\",\"msg\":\"empty write-ahead-log found. Did weaviate crash prior to this or the tenant on/loaded from the cloud? Nothing to recover from this file.\",\"path\":\"rag_website.db/llamaindex/hD2iLoxRhqpF/lsm/property_creation_date_searchable/segment-1742276320351613132\",\"shard\":\"hD2iLoxRhqpF\",\"time\":\"2025-03-17T23:05:31-07:00\"}\n",
      "{\"action\":\"lsm_recover_from_active_wal\",\"build_git_commit\":\"'\\\"$GITHASH\\\"'\",\"build_go_version\":\"go1.22.0\",\"build_image_tag\":\"localhost\",\"build_wv_version\":\"1.26.6\",\"class\":\"LlamaIndex\",\"index\":\"llamaindex\",\"level\":\"warning\",\"msg\":\"empty write-ahead-log found. Did weaviate crash prior to this or the tenant on/loaded from the cloud? Nothing to recover from this file.\",\"path\":\"rag_website.db/llamaindex/hD2iLoxRhqpF/lsm/property_creation_date_searchable/segment-1742277849616440268\",\"shard\":\"hD2iLoxRhqpF\",\"time\":\"2025-03-17T23:05:31-07:00\"}\n",
      "{\"action\":\"lsm_recover_from_active_wal\",\"build_git_commit\":\"'\\\"$GITHASH\\\"'\",\"build_go_version\":\"go1.22.0\",\"build_image_tag\":\"localhost\",\"build_wv_version\":\"1.26.6\",\"class\":\"LlamaIndex\",\"index\":\"llamaindex\",\"level\":\"warning\",\"msg\":\"empty write-ahead-log found. Did weaviate crash prior to this or the tenant on/loaded from the cloud? Nothing to recover from this file.\",\"path\":\"rag_website.db/llamaindex/hD2iLoxRhqpF/lsm/property__node_content_searchable/segment-1742276123288146844\",\"shard\":\"hD2iLoxRhqpF\",\"time\":\"2025-03-17T23:05:31-07:00\"}\n",
      "{\"action\":\"lsm_recover_from_active_wal\",\"build_git_commit\":\"'\\\"$GITHASH\\\"'\",\"build_go_version\":\"go1.22.0\",\"build_image_tag\":\"localhost\",\"build_wv_version\":\"1.26.6\",\"class\":\"LlamaIndex\",\"index\":\"llamaindex\",\"level\":\"warning\",\"msg\":\"empty write-ahead-log found. Did weaviate crash prior to this or the tenant on/loaded from the cloud? Nothing to recover from this file.\",\"path\":\"rag_website.db/llamaindex/hD2iLoxRhqpF/lsm/property__node_content_searchable/segment-1742276205634275979\",\"shard\":\"hD2iLoxRhqpF\",\"time\":\"2025-03-17T23:05:31-07:00\"}\n",
      "{\"action\":\"lsm_recover_from_active_wal\",\"build_git_commit\":\"'\\\"$GITHASH\\\"'\",\"build_go_version\":\"go1.22.0\",\"build_image_tag\":\"localhost\",\"build_wv_version\":\"1.26.6\",\"class\":\"LlamaIndex\",\"index\":\"llamaindex\",\"level\":\"warning\",\"msg\":\"empty write-ahead-log found. Did weaviate crash prior to this or the tenant on/loaded from the cloud? Nothing to recover from this file.\",\"path\":\"rag_website.db/llamaindex/hD2iLoxRhqpF/lsm/property__node_content_searchable/segment-1742276320351904123\",\"shard\":\"hD2iLoxRhqpF\",\"time\":\"2025-03-17T23:05:31-07:00\"}\n",
      "{\"action\":\"lsm_recover_from_active_wal\",\"build_git_commit\":\"'\\\"$GITHASH\\\"'\",\"build_go_version\":\"go1.22.0\",\"build_image_tag\":\"localhost\",\"build_wv_version\":\"1.26.6\",\"class\":\"LlamaIndex\",\"index\":\"llamaindex\",\"level\":\"warning\",\"msg\":\"empty write-ahead-log found. Did weaviate crash prior to this or the tenant on/loaded from the cloud? Nothing to recover from this file.\",\"path\":\"rag_website.db/llamaindex/hD2iLoxRhqpF/lsm/property__node_content_searchable/segment-1742277849665656609\",\"shard\":\"hD2iLoxRhqpF\",\"time\":\"2025-03-17T23:05:31-07:00\"}\n",
      "{\"action\":\"lsm_recover_from_active_wal\",\"build_git_commit\":\"'\\\"$GITHASH\\\"'\",\"build_go_version\":\"go1.22.0\",\"build_image_tag\":\"localhost\",\"build_wv_version\":\"1.26.6\",\"class\":\"LlamaIndex\",\"index\":\"llamaindex\",\"level\":\"warning\",\"msg\":\"empty write-ahead-log found. Did weaviate crash prior to this or the tenant on/loaded from the cloud? Nothing to recover from this file.\",\"path\":\"rag_website.db/llamaindex/hD2iLoxRhqpF/lsm/property_file_type_searchable/segment-1742276123310014879\",\"shard\":\"hD2iLoxRhqpF\",\"time\":\"2025-03-17T23:05:31-07:00\"}\n",
      "{\"action\":\"lsm_recover_from_active_wal\",\"build_git_commit\":\"'\\\"$GITHASH\\\"'\",\"build_go_version\":\"go1.22.0\",\"build_image_tag\":\"localhost\",\"build_wv_version\":\"1.26.6\",\"class\":\"LlamaIndex\",\"index\":\"llamaindex\",\"level\":\"warning\",\"msg\":\"empty write-ahead-log found. Did weaviate crash prior to this or the tenant on/loaded from the cloud? Nothing to recover from this file.\",\"path\":\"rag_website.db/llamaindex/hD2iLoxRhqpF/lsm/property_file_type_searchable/segment-1742276205634895119\",\"shard\":\"hD2iLoxRhqpF\",\"time\":\"2025-03-17T23:05:31-07:00\"}\n",
      "{\"action\":\"lsm_recover_from_active_wal\",\"build_git_commit\":\"'\\\"$GITHASH\\\"'\",\"build_go_version\":\"go1.22.0\",\"build_image_tag\":\"localhost\",\"build_wv_version\":\"1.26.6\",\"class\":\"LlamaIndex\",\"index\":\"llamaindex\",\"level\":\"warning\",\"msg\":\"empty write-ahead-log found. Did weaviate crash prior to this or the tenant on/loaded from the cloud? Nothing to recover from this file.\",\"path\":\"rag_website.db/llamaindex/hD2iLoxRhqpF/lsm/property_file_type_searchable/segment-1742276320351337814\",\"shard\":\"hD2iLoxRhqpF\",\"time\":\"2025-03-17T23:05:31-07:00\"}\n",
      "{\"action\":\"lsm_recover_from_active_wal\",\"build_git_commit\":\"'\\\"$GITHASH\\\"'\",\"build_go_version\":\"go1.22.0\",\"build_image_tag\":\"localhost\",\"build_wv_version\":\"1.26.6\",\"class\":\"LlamaIndex\",\"index\":\"llamaindex\",\"level\":\"warning\",\"msg\":\"empty write-ahead-log found. Did weaviate crash prior to this or the tenant on/loaded from the cloud? Nothing to recover from this file.\",\"path\":\"rag_website.db/llamaindex/hD2iLoxRhqpF/lsm/property_file_type_searchable/segment-1742277849616452084\",\"shard\":\"hD2iLoxRhqpF\",\"time\":\"2025-03-17T23:05:31-07:00\"}\n",
      "{\"action\":\"lsm_recover_from_active_wal\",\"build_git_commit\":\"'\\\"$GITHASH\\\"'\",\"build_go_version\":\"go1.22.0\",\"build_image_tag\":\"localhost\",\"build_wv_version\":\"1.26.6\",\"class\":\"LlamaIndex\",\"index\":\"llamaindex\",\"level\":\"warning\",\"msg\":\"empty write-ahead-log found. Did weaviate crash prior to this or the tenant on/loaded from the cloud? Nothing to recover from this file.\",\"path\":\"rag_website.db/llamaindex/hD2iLoxRhqpF/lsm/property_relationships_searchable/segment-1742276058102972246\",\"shard\":\"hD2iLoxRhqpF\",\"time\":\"2025-03-17T23:05:31-07:00\"}\n",
      "{\"action\":\"lsm_recover_from_active_wal\",\"build_git_commit\":\"'\\\"$GITHASH\\\"'\",\"build_go_version\":\"go1.22.0\",\"build_image_tag\":\"localhost\",\"build_wv_version\":\"1.26.6\",\"class\":\"LlamaIndex\",\"index\":\"llamaindex\",\"level\":\"warning\",\"msg\":\"empty write-ahead-log found. Did weaviate crash prior to this or the tenant on/loaded from the cloud? Nothing to recover from this file.\",\"path\":\"rag_website.db/llamaindex/hD2iLoxRhqpF/lsm/property_relationships_searchable/segment-1742276205634861674\",\"shard\":\"hD2iLoxRhqpF\",\"time\":\"2025-03-17T23:05:31-07:00\"}\n",
      "{\"action\":\"lsm_recover_from_active_wal\",\"build_git_commit\":\"'\\\"$GITHASH\\\"'\",\"build_go_version\":\"go1.22.0\",\"build_image_tag\":\"localhost\",\"build_wv_version\":\"1.26.6\",\"class\":\"LlamaIndex\",\"index\":\"llamaindex\",\"level\":\"warning\",\"msg\":\"empty write-ahead-log found. Did weaviate crash prior to this or the tenant on/loaded from the cloud? Nothing to recover from this file.\",\"path\":\"rag_website.db/llamaindex/hD2iLoxRhqpF/lsm/property_ref_doc_id_searchable/segment-1742276123192340940\",\"shard\":\"hD2iLoxRhqpF\",\"time\":\"2025-03-17T23:05:31-07:00\"}\n",
      "{\"action\":\"lsm_recover_from_active_wal\",\"build_git_commit\":\"'\\\"$GITHASH\\\"'\",\"build_go_version\":\"go1.22.0\",\"build_image_tag\":\"localhost\",\"build_wv_version\":\"1.26.6\",\"class\":\"LlamaIndex\",\"index\":\"llamaindex\",\"level\":\"warning\",\"msg\":\"empty write-ahead-log found. Did weaviate crash prior to this or the tenant on/loaded from the cloud? Nothing to recover from this file.\",\"path\":\"rag_website.db/llamaindex/hD2iLoxRhqpF/lsm/property_relationships_searchable/segment-1742276320349499258\",\"shard\":\"hD2iLoxRhqpF\",\"time\":\"2025-03-17T23:05:31-07:00\"}\n",
      "{\"action\":\"lsm_recover_from_active_wal\",\"build_git_commit\":\"'\\\"$GITHASH\\\"'\",\"build_go_version\":\"go1.22.0\",\"build_image_tag\":\"localhost\",\"build_wv_version\":\"1.26.6\",\"class\":\"LlamaIndex\",\"index\":\"llamaindex\",\"level\":\"warning\",\"msg\":\"empty write-ahead-log found. Did weaviate crash prior to this or the tenant on/loaded from the cloud? Nothing to recover from this file.\",\"path\":\"rag_website.db/llamaindex/hD2iLoxRhqpF/lsm/property_node_info_searchable/segment-1742276058102916144\",\"shard\":\"hD2iLoxRhqpF\",\"time\":\"2025-03-17T23:05:31-07:00\"}\n",
      "{\"action\":\"lsm_recover_from_active_wal\",\"build_git_commit\":\"'\\\"$GITHASH\\\"'\",\"build_go_version\":\"go1.22.0\",\"build_image_tag\":\"localhost\",\"build_wv_version\":\"1.26.6\",\"class\":\"LlamaIndex\",\"index\":\"llamaindex\",\"level\":\"warning\",\"msg\":\"empty write-ahead-log found. Did weaviate crash prior to this or the tenant on/loaded from the cloud? Nothing to recover from this file.\",\"path\":\"rag_website.db/llamaindex/hD2iLoxRhqpF/lsm/property_ref_doc_id_searchable/segment-1742276205634600518\",\"shard\":\"hD2iLoxRhqpF\",\"time\":\"2025-03-17T23:05:31-07:00\"}\n",
      "{\"action\":\"lsm_recover_from_active_wal\",\"build_git_commit\":\"'\\\"$GITHASH\\\"'\",\"build_go_version\":\"go1.22.0\",\"build_image_tag\":\"localhost\",\"build_wv_version\":\"1.26.6\",\"class\":\"LlamaIndex\",\"index\":\"llamaindex\",\"level\":\"warning\",\"msg\":\"empty write-ahead-log found. Did weaviate crash prior to this or the tenant on/loaded from the cloud? Nothing to recover from this file.\",\"path\":\"rag_website.db/llamaindex/hD2iLoxRhqpF/lsm/property_node_info_searchable/segment-1742276205635181897\",\"shard\":\"hD2iLoxRhqpF\",\"time\":\"2025-03-17T23:05:31-07:00\"}\n",
      "{\"action\":\"lsm_recover_from_active_wal\",\"build_git_commit\":\"'\\\"$GITHASH\\\"'\",\"build_go_version\":\"go1.22.0\",\"build_image_tag\":\"localhost\",\"build_wv_version\":\"1.26.6\",\"class\":\"LlamaIndex\",\"index\":\"llamaindex\",\"level\":\"warning\",\"msg\":\"empty write-ahead-log found. Did weaviate crash prior to this or the tenant on/loaded from the cloud? Nothing to recover from this file.\",\"path\":\"rag_website.db/llamaindex/hD2iLoxRhqpF/lsm/property_ref_doc_id_searchable/segment-1742276320350410063\",\"shard\":\"hD2iLoxRhqpF\",\"time\":\"2025-03-17T23:05:31-07:00\"}\n",
      "{\"action\":\"lsm_recover_from_active_wal\",\"build_git_commit\":\"'\\\"$GITHASH\\\"'\",\"build_go_version\":\"go1.22.0\",\"build_image_tag\":\"localhost\",\"build_wv_version\":\"1.26.6\",\"class\":\"LlamaIndex\",\"index\":\"llamaindex\",\"level\":\"warning\",\"msg\":\"empty write-ahead-log found. Did weaviate crash prior to this or the tenant on/loaded from the cloud? Nothing to recover from this file.\",\"path\":\"rag_website.db/llamaindex/hD2iLoxRhqpF/lsm/property_relationships_searchable/segment-1742277752916526287\",\"shard\":\"hD2iLoxRhqpF\",\"time\":\"2025-03-17T23:05:31-07:00\"}\n",
      "{\"action\":\"lsm_recover_from_active_wal\",\"build_git_commit\":\"'\\\"$GITHASH\\\"'\",\"build_go_version\":\"go1.22.0\",\"build_image_tag\":\"localhost\",\"build_wv_version\":\"1.26.6\",\"class\":\"LlamaIndex\",\"index\":\"llamaindex\",\"level\":\"warning\",\"msg\":\"empty write-ahead-log found. Did weaviate crash prior to this or the tenant on/loaded from the cloud? Nothing to recover from this file.\",\"path\":\"rag_website.db/llamaindex/hD2iLoxRhqpF/lsm/property_file_path_searchable/segment-1742276123257600812\",\"shard\":\"hD2iLoxRhqpF\",\"time\":\"2025-03-17T23:05:31-07:00\"}\n",
      "{\"action\":\"lsm_recover_from_active_wal\",\"build_git_commit\":\"'\\\"$GITHASH\\\"'\",\"build_go_version\":\"go1.22.0\",\"build_image_tag\":\"localhost\",\"build_wv_version\":\"1.26.6\",\"class\":\"LlamaIndex\",\"index\":\"llamaindex\",\"level\":\"warning\",\"msg\":\"empty write-ahead-log found. Did weaviate crash prior to this or the tenant on/loaded from the cloud? Nothing to recover from this file.\",\"path\":\"rag_website.db/llamaindex/hD2iLoxRhqpF/lsm/property_ref_doc_id_searchable/segment-1742277849618427102\",\"shard\":\"hD2iLoxRhqpF\",\"time\":\"2025-03-17T23:05:31-07:00\"}\n",
      "{\"action\":\"lsm_recover_from_active_wal\",\"build_git_commit\":\"'\\\"$GITHASH\\\"'\",\"build_go_version\":\"go1.22.0\",\"build_image_tag\":\"localhost\",\"build_wv_version\":\"1.26.6\",\"class\":\"LlamaIndex\",\"index\":\"llamaindex\",\"level\":\"warning\",\"msg\":\"empty write-ahead-log found. Did weaviate crash prior to this or the tenant on/loaded from the cloud? Nothing to recover from this file.\",\"path\":\"rag_website.db/llamaindex/hD2iLoxRhqpF/lsm/property_file_path_searchable/segment-1742276205635464855\",\"shard\":\"hD2iLoxRhqpF\",\"time\":\"2025-03-17T23:05:31-07:00\"}\n",
      "{\"action\":\"lsm_recover_from_active_wal\",\"build_git_commit\":\"'\\\"$GITHASH\\\"'\",\"build_go_version\":\"go1.22.0\",\"build_image_tag\":\"localhost\",\"build_wv_version\":\"1.26.6\",\"class\":\"LlamaIndex\",\"index\":\"llamaindex\",\"level\":\"warning\",\"msg\":\"empty write-ahead-log found. Did weaviate crash prior to this or the tenant on/loaded from the cloud? Nothing to recover from this file.\",\"path\":\"rag_website.db/llamaindex/hD2iLoxRhqpF/lsm/property_file_path_searchable/segment-1742276320351657620\",\"shard\":\"hD2iLoxRhqpF\",\"time\":\"2025-03-17T23:05:31-07:00\"}\n",
      "{\"action\":\"lsm_recover_from_active_wal\",\"build_git_commit\":\"'\\\"$GITHASH\\\"'\",\"build_go_version\":\"go1.22.0\",\"build_image_tag\":\"localhost\",\"build_wv_version\":\"1.26.6\",\"class\":\"LlamaIndex\",\"index\":\"llamaindex\",\"level\":\"warning\",\"msg\":\"empty write-ahead-log found. Did weaviate crash prior to this or the tenant on/loaded from the cloud? Nothing to recover from this file.\",\"path\":\"rag_website.db/llamaindex/hD2iLoxRhqpF/lsm/property_node_info_searchable/segment-1742276320351638412\",\"shard\":\"hD2iLoxRhqpF\",\"time\":\"2025-03-17T23:05:31-07:00\"}\n",
      "{\"action\":\"lsm_recover_from_active_wal\",\"build_git_commit\":\"'\\\"$GITHASH\\\"'\",\"build_go_version\":\"go1.22.0\",\"build_image_tag\":\"localhost\",\"build_wv_version\":\"1.26.6\",\"class\":\"LlamaIndex\",\"index\":\"llamaindex\",\"level\":\"warning\",\"msg\":\"empty write-ahead-log found. Did weaviate crash prior to this or the tenant on/loaded from the cloud? Nothing to recover from this file.\",\"path\":\"rag_website.db/llamaindex/hD2iLoxRhqpF/lsm/property_file_path_searchable/segment-1742277849625770404\",\"shard\":\"hD2iLoxRhqpF\",\"time\":\"2025-03-17T23:05:31-07:00\"}\n",
      "{\"action\":\"lsm_recover_from_active_wal\",\"build_git_commit\":\"'\\\"$GITHASH\\\"'\",\"build_go_version\":\"go1.22.0\",\"build_image_tag\":\"localhost\",\"build_wv_version\":\"1.26.6\",\"class\":\"LlamaIndex\",\"index\":\"llamaindex\",\"level\":\"warning\",\"msg\":\"empty write-ahead-log found. Did weaviate crash prior to this or the tenant on/loaded from the cloud? Nothing to recover from this file.\",\"path\":\"rag_website.db/llamaindex/hD2iLoxRhqpF/lsm/property_relationships_searchable/segment-1742277849595623060\",\"shard\":\"hD2iLoxRhqpF\",\"time\":\"2025-03-17T23:05:31-07:00\"}\n",
      "{\"action\":\"lsm_recover_from_active_wal\",\"build_git_commit\":\"'\\\"$GITHASH\\\"'\",\"build_go_version\":\"go1.22.0\",\"build_image_tag\":\"localhost\",\"build_wv_version\":\"1.26.6\",\"class\":\"LlamaIndex\",\"index\":\"llamaindex\",\"level\":\"warning\",\"msg\":\"empty write-ahead-log found. Did weaviate crash prior to this or the tenant on/loaded from the cloud? Nothing to recover from this file.\",\"path\":\"rag_website.db/llamaindex/hD2iLoxRhqpF/lsm/property_node_info_searchable/segment-1742277752920159075\",\"shard\":\"hD2iLoxRhqpF\",\"time\":\"2025-03-17T23:05:31-07:00\"}\n",
      "{\"action\":\"lsm_recover_from_active_wal\",\"build_git_commit\":\"'\\\"$GITHASH\\\"'\",\"build_go_version\":\"go1.22.0\",\"build_image_tag\":\"localhost\",\"build_wv_version\":\"1.26.6\",\"class\":\"LlamaIndex\",\"index\":\"llamaindex\",\"level\":\"warning\",\"msg\":\"empty write-ahead-log found. Did weaviate crash prior to this or the tenant on/loaded from the cloud? Nothing to recover from this file.\",\"path\":\"rag_website.db/llamaindex/hD2iLoxRhqpF/lsm/property_node_info_searchable/segment-1742277849592592989\",\"shard\":\"hD2iLoxRhqpF\",\"time\":\"2025-03-17T23:05:31-07:00\"}\n",
      "{\"action\":\"hnsw_prefill_cache_async\",\"build_git_commit\":\"'\\\"$GITHASH\\\"'\",\"build_go_version\":\"go1.22.0\",\"build_image_tag\":\"localhost\",\"build_wv_version\":\"1.26.6\",\"level\":\"info\",\"msg\":\"not waiting for vector cache prefill, running in background\",\"time\":\"2025-03-17T23:05:31-07:00\",\"wait_for_cache_prefill\":false}\n",
      "{\"build_git_commit\":\"'\\\"$GITHASH\\\"'\",\"build_go_version\":\"go1.22.0\",\"build_image_tag\":\"localhost\",\"build_wv_version\":\"1.26.6\",\"level\":\"info\",\"msg\":\"Completed loading shard llamaindex_hD2iLoxRhqpF in 44.1086ms\",\"time\":\"2025-03-17T23:05:31-07:00\"}\n",
      "{\"action\":\"hnsw_vector_cache_prefill\",\"build_git_commit\":\"'\\\"$GITHASH\\\"'\",\"build_go_version\":\"go1.22.0\",\"build_image_tag\":\"localhost\",\"build_wv_version\":\"1.26.6\",\"count\":3000,\"index_id\":\"main\",\"level\":\"info\",\"limit\":1000000000000,\"msg\":\"prefilled vector cache\",\"time\":\"2025-03-17T23:05:31-07:00\",\"took\":22241984}\n"
     ]
    }
   ],
   "source": [
    "import weaviate\n",
    "\n",
    "client = weaviate.connect_to_embedded(persistence_data_path=MY_CONFIG.DB_URI)"
   ]
  },
  {
   "cell_type": "code",
   "execution_count": 6,
   "metadata": {},
   "outputs": [
    {
     "name": "stdout",
     "output_type": "stream",
     "text": [
      "Client: 4.11.1, Server: 1.26.6\n"
     ]
    }
   ],
   "source": [
    "print(f\"Client: {weaviate.__version__}, Server: {client.get_meta().get('version')}\")"
   ]
  },
  {
   "cell_type": "markdown",
   "metadata": {},
   "source": [
    "## Step-4: Connect LlamaIndex & weaviate"
   ]
  },
  {
   "cell_type": "code",
   "execution_count": 7,
   "metadata": {},
   "outputs": [
    {
     "name": "stdout",
     "output_type": "stream",
     "text": [
      "✅ Connected Llama-index to weaviate local instance\n"
     ]
    }
   ],
   "source": [
    "# connect llama-index to vector db\n",
    "\n",
    "from llama_index.core import StorageContext\n",
    "from llama_index.vector_stores.weaviate import WeaviateVectorStore\n",
    "\n",
    "vector_store = WeaviateVectorStore(\n",
    "    weaviate_client=client, index_name=\"LlamaIndex\",\n",
    "    overwrite=True\n",
    ")\n",
    "storage_context = StorageContext.from_defaults(vector_store=vector_store)\n",
    "\n",
    "print (\"✅ Connected Llama-index to weaviate local instance\" )"
   ]
  },
  {
   "cell_type": "markdown",
   "metadata": {},
   "source": [
    "## Step-5: Load Document Index from DB"
   ]
  },
  {
   "cell_type": "code",
   "execution_count": 8,
   "metadata": {},
   "outputs": [
    {
     "name": "stdout",
     "output_type": "stream",
     "text": [
      "✅ Loaded index from vector db: ./rag_website.db\n",
      "CPU times: user 94.3 ms, sys: 8.84 ms, total: 103 ms\n",
      "Wall time: 102 ms\n"
     ]
    }
   ],
   "source": [
    "%%time\n",
    "\n",
    "from llama_index.core import VectorStoreIndex\n",
    "\n",
    "index = VectorStoreIndex.from_vector_store(\n",
    "    vector_store=vector_store, storage_context=storage_context)\n",
    "\n",
    "print (\"✅ Loaded index from vector db:\", MY_CONFIG.DB_URI )"
   ]
  },
  {
   "cell_type": "markdown",
   "metadata": {},
   "source": [
    "## Step-6: Setup LLM"
   ]
  },
  {
   "cell_type": "code",
   "execution_count": 9,
   "metadata": {},
   "outputs": [],
   "source": [
    "from llama_index.llms.replicate import Replicate\n",
    "from llama_index.core import Settings\n",
    "\n",
    "llm = Replicate(\n",
    "    model= MY_CONFIG.LLM_MODEL,\n",
    "    temperature=0.1\n",
    ")\n",
    "\n",
    "Settings.llm = llm"
   ]
  },
  {
   "cell_type": "markdown",
   "metadata": {},
   "source": [
    "## Step-7: Query"
   ]
  },
  {
   "cell_type": "code",
   "execution_count": 10,
   "metadata": {},
   "outputs": [
    {
     "name": "stdout",
     "output_type": "stream",
     "text": [
      "The AI Alliance is an international community of researchers, developers, and organizational leaders committed to supporting and enhancing open innovation across the AI technology landscape. Its primary goals are to accelerate progress, improve safety, security, and trust in AI, and maximize benefits to people and society worldwide. The AI Alliance aims to foster responsible AI development by bringing together diverse stakeholders, including companies, startups, universities, research institutions, government organizations, and non-profit foundations. Members contribute their expertise in AI education, research, development, deployment, and governance to create a collaborative network that shapes the future of open, safe, and responsible AI.\n"
     ]
    }
   ],
   "source": [
    "query_engine = index.as_query_engine()\n",
    "res = query_engine.query(\"What is AI Alliance?\")\n",
    "print(res)"
   ]
  },
  {
   "cell_type": "code",
   "execution_count": 11,
   "metadata": {},
   "outputs": [
    {
     "name": "stdout",
     "output_type": "stream",
     "text": [
      "The main focus areas of the AI Alliance are:\n",
      "\n",
      "1. Fostering an open community for AI development and research.\n",
      "2. Accelererating responsible innovation in AI.\n",
      "3. Ensuring scientific rigor, trust, safety, security, diversity, and economic competitiveness in AI.\n",
      "4. Addressing safety concerns through pooled resources and knowledge sharing.\n",
      "5. Providing a platform for sharing and developing AI solutions that cater to various researchers, developers, and adopters worldwide.\n",
      "6. Collaborating with a wide range of organizations, including companies, startups, universities, research institutions, government organizations, and non-profit foundations, to create the future of open, safe, and responsible AI.\n"
     ]
    }
   ],
   "source": [
    "query_engine = index.as_query_engine()\n",
    "res = query_engine.query(\"What are the main focus areas of AI Alliance?\")\n",
    "print(res)"
   ]
  },
  {
   "cell_type": "code",
   "execution_count": 12,
   "metadata": {},
   "outputs": [
    {
     "name": "stdout",
     "output_type": "stream",
     "text": [
      "Based on the provided context, the AI Alliance projects can be categorized into Core Projects and Affiliated Projects.\n",
      "\n",
      "1. Core Projects: These are sets of living artifacts with goals and a roadmap to address substantial cross-community challenges. They are managed directly by the AI Alliance and are the foundational building blocks of the AI Alliance. Core Projects are typically open permissively licensed and have clear community calls-to-action.\n",
      "\n",
      "2. Affiliated Projects: These are sets of living artifacts with goals and a roadmap aligned with the Alliance mission. They are typically from member organizations seeking deeper collaboration and impact, often by building with or on Core Projects or other Affiliated Projects. However, the project owners retain full management of the project. All Affiliated Projects must have open permissively licensed artifacts and clear community calls-to-action.\n",
      "\n",
      "In summary, AI Alliance projects include Core Projects and Affiliated Projects. Core Projects are managed directly by the AI Alliance and are the foundational building blocks, while Affiliated Projects are typically from member organizations seeking deeper collaboration and impact, often built upon Core Projects or other Affiliated Projects. Both types of projects must adhere to specific licensing and community engagement requirements.\n"
     ]
    }
   ],
   "source": [
    "query_engine = index.as_query_engine()\n",
    "res = query_engine.query(\"What are some ai alliance projects?\")\n",
    "print(res)"
   ]
  },
  {
   "cell_type": "code",
   "execution_count": 13,
   "metadata": {},
   "outputs": [
    {
     "name": "stdout",
     "output_type": "stream",
     "text": [
      "The demo night was held in San Francisco.\n"
     ]
    }
   ],
   "source": [
    "query_engine = index.as_query_engine()\n",
    "res = query_engine.query(\"Where was the demo night held?\")\n",
    "print(res)"
   ]
  },
  {
   "cell_type": "code",
   "execution_count": 15,
   "metadata": {},
   "outputs": [
    {
     "name": "stdout",
     "output_type": "stream",
     "text": [
      "To join the AI Alliance, you can apply to become a collaborator by submitting the form provided in the \"Working group application\" section. This will allow the AI Alliance team to review your request and get back to you within 30 days or fewer.\n",
      "\n",
      "Additionally, you can subscribe to the AI Alliance community newsletter by submitting the form in the \"Subscribe to our community newsletter\" section. This will keep you informed about AI Alliance initiatives and enable your involvement in AI Alliance activities.\n",
      "\n",
      "By applying or subscribing, you agree that the AI Alliance will collect and process your personal information to maintain communication and facilitate your participation in AI Alliance activities. You can withdraw your consent for the processing of your personal information by contacting the AI Alliance for a permanent deletion.\n"
     ]
    }
   ],
   "source": [
    "query_engine = index.as_query_engine()\n",
    "res = query_engine.query(\"How do I join the AI Alliance?\")\n",
    "print(res)"
   ]
  },
  {
   "cell_type": "code",
   "execution_count": 16,
   "metadata": {},
   "outputs": [
    {
     "name": "stdout",
     "output_type": "stream",
     "text": [
      "The context information does not provide details about the moon landing. It discusses the LLM360 project, specifically the Amber project, which includes models like Amber, Amber-Chat, and Amber-Safe. The moon landing information is not relevant to this context.\n"
     ]
    }
   ],
   "source": [
    "query_engine = index.as_query_engine()\n",
    "res = query_engine.query(\"When was the moon landing?\")\n",
    "print(res)"
   ]
  },
  {
   "cell_type": "code",
   "execution_count": null,
   "metadata": {},
   "outputs": [],
   "source": []
  }
 ],
 "metadata": {
  "kernelspec": {
   "display_name": "rag-website-4-docling-weaviate",
   "language": "python",
   "name": "python3"
  },
  "language_info": {
   "codemirror_mode": {
    "name": "ipython",
    "version": 3
   },
   "file_extension": ".py",
   "mimetype": "text/x-python",
   "name": "python",
   "nbconvert_exporter": "python",
   "pygments_lexer": "ipython3",
   "version": "3.11.11"
  }
 },
 "nbformat": 4,
 "nbformat_minor": 4
}
