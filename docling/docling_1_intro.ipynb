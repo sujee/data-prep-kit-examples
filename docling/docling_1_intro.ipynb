{
  "cells": [
    {
      "cell_type": "markdown",
      "metadata": {
        "id": "adPYY9THf0dK"
      },
      "source": [
        "# Docling\n",
        "\n",
        "[![Open In Colab](https://colab.research.google.com/assets/colab-badge.svg)](https://colab.research.google.com/github/sujee/data-prep-kit-examples/blob/main/docling/docling_1_intro.ipynb)\n",
        "\n",
        "[Docling](https://github.com/DS4SD/docling) is an advanced document processor.  It can handle wide variety of formats like PDFs, DOCX, HTML, PPTX .etc.\n"
      ]
    },
    {
      "cell_type": "markdown",
      "metadata": {
        "id": "3kOXoouhf0dL"
      },
      "source": [
        "## Step-1: Figure out Runtime Environment\n",
        "\n",
        "### 1.1 - Determine runtime\n",
        "\n",
        "Determine if we are running on Google colab or local python environment"
      ]
    },
    {
      "cell_type": "code",
      "execution_count": 27,
      "metadata": {
        "colab": {
          "base_uri": "https://localhost:8080/"
        },
        "id": "nhOF2Anrf0dM",
        "outputId": "16a51658-7f9c-4625-fe0a-b770a75bdf45"
      },
      "outputs": [
        {
          "name": "stdout",
          "output_type": "stream",
          "text": [
            "NOT in Colab\n"
          ]
        }
      ],
      "source": [
        "import os\n",
        "\n",
        "if os.getenv(\"COLAB_RELEASE_TAG\"):\n",
        "   print(\"Running in Colab\")\n",
        "   RUNNING_IN_COLAB = True\n",
        "else:\n",
        "   print(\"NOT in Colab\")\n",
        "   RUNNING_IN_COLAB = False"
      ]
    },
    {
      "cell_type": "markdown",
      "metadata": {
        "id": "P5Xvnic1f0dN"
      },
      "source": [
        "### 1.2 - Install dependencies if running on Google Colab"
      ]
    },
    {
      "cell_type": "code",
      "execution_count": 28,
      "metadata": {
        "colab": {
          "base_uri": "https://localhost:8080/"
        },
        "id": "lTe1KRnyf0dN",
        "outputId": "0ec75d42-486d-4adf-99e4-f848dec94c46"
      },
      "outputs": [],
      "source": [
        "%%capture\n",
        "\n",
        "if RUNNING_IN_COLAB:\n",
        "    ! pip install  --default-timeout=100  \\\n",
        "        docling"
      ]
    },
    {
      "cell_type": "markdown",
      "metadata": {
        "id": "jFQJI-X5ow8Y"
      },
      "source": [
        "## Step-2: Settings / Config"
      ]
    },
    {
      "cell_type": "code",
      "execution_count": 29,
      "metadata": {
        "id": "j1l9JKrmo1DA"
      },
      "outputs": [],
      "source": [
        "# If connection to https://huggingface.co/ failed, uncomment the following path\n",
        "import os\n",
        "os.environ['HF_ENDPOINT'] = 'https://hf-mirror.com'"
      ]
    },
    {
      "cell_type": "code",
      "execution_count": 30,
      "metadata": {
        "id": "BNeOLz5ii6DA"
      },
      "outputs": [],
      "source": [
        "## Setup input / output dir\n",
        "import shutil\n",
        "\n",
        "shutil.os.makedirs('input', exist_ok=True)\n",
        "\n",
        "shutil.rmtree('output', ignore_errors=True)\n",
        "shutil.os.makedirs('output', exist_ok=True)"
      ]
    },
    {
      "cell_type": "markdown",
      "metadata": {
        "id": "RUdYFD6mf0dP"
      },
      "source": [
        "## Step-3: Checkout Data files\n",
        "\n",
        "We will use simple PDFs.  The files are [here](https://github.com/sujee/data-prep-kit-examples/tree/main/data)\n",
        "\n",
        "\n",
        "\n"
      ]
    },
    {
      "cell_type": "markdown",
      "metadata": {
        "id": "ldxRdDOKigTR"
      },
      "source": [
        "## Step-4: Extract Text from PDF\n",
        "\n",
        "input file: [earth.pdf](https://raw.githubusercontent.com/sujee/data-prep-kit-examples/main/data/solar-system/earth.pdf)"
      ]
    },
    {
      "cell_type": "code",
      "execution_count": 31,
      "metadata": {
        "colab": {
          "base_uri": "https://localhost:8080/"
        },
        "id": "PIccdWEFgD6F",
        "outputId": "bf0be5d7-f84c-4476-b0e2-2dd3e00fb541"
      },
      "outputs": [],
      "source": [
        "if RUNNING_IN_COLAB:\n",
        "  input_file = 'input/earth.pdf'\n",
        "  !wget -O  {input_file} 'https://raw.githubusercontent.com/sujee/data-prep-kit-examples/main/data/solar-system/earth.pdf'\n",
        "else:\n",
        "  input_file = '../data/solar-system/earth.pdf'"
      ]
    },
    {
      "cell_type": "markdown",
      "metadata": {
        "id": "KScufAHximTb"
      },
      "source": [
        "### 4.1 - Command line\n",
        "\n",
        "Usage\n",
        "\n",
        "`docling   --output output --to md  input/earth.pdf`\n"
      ]
    },
    {
      "cell_type": "code",
      "execution_count": 32,
      "metadata": {
        "colab": {
          "base_uri": "https://localhost:8080/"
        },
        "id": "_5PnC4tLipFL",
        "outputId": "7b842aca-6a9e-446d-991d-7f3b11d1f533"
      },
      "outputs": [
        {
          "name": "stdout",
          "output_type": "stream",
          "text": [
            "INFO:docling.document_converter:Going to convert document batch...\n",
            "Fetching 9 files: 100%|███████████████████████| 9/9 [00:00<00:00, 141381.03it/s]\n",
            "INFO:docling.pipeline.base_pipeline:Processing document earth.pdf\n",
            "INFO:docling.document_converter:Finished converting document earth.pdf in 5.46 sec.\n",
            "INFO:docling.cli.main:writing Markdown output to output/earth.md\n",
            "INFO:docling.cli.main:Processed 1 docs, of which 0 failed\n",
            "INFO:docling.cli.main:All documents were converted in 5.46 seconds.\n",
            "INFO:docling.document_converter:Going to convert document batch...\n",
            "Fetching 9 files: 100%|████████████████████████| 9/9 [00:00<00:00, 28815.83it/s]\n",
            "INFO:docling.pipeline.base_pipeline:Processing document earth.pdf\n",
            "INFO:docling.document_converter:Finished converting document earth.pdf in 4.90 sec.\n",
            "INFO:docling.cli.main:writing JSON output to output/earth.json\n",
            "INFO:docling.cli.main:Processed 1 docs, of which 0 failed\n",
            "INFO:docling.cli.main:All documents were converted in 4.90 seconds.\n"
          ]
        }
      ],
      "source": [
        "## PDF --> markdown\n",
        "!docling   --output output --to md  {input_file}\n",
        "\n",
        "## PDF --> json\n",
        "!docling   --output output --to json  {input_file}\n",
        "\n",
        "## PDF --> html\n",
        "# !docling   --output output --to html  {input_file}"
      ]
    },
    {
      "cell_type": "markdown",
      "metadata": {
        "id": "mwPevjPckgfv"
      },
      "source": [
        "### 4.2 - Using Python API"
      ]
    },
    {
      "cell_type": "code",
      "execution_count": 33,
      "metadata": {
        "colab": {
          "base_uri": "https://localhost:8080/"
        },
        "id": "YFVefCn-klL9",
        "outputId": "44dcb20f-3966-4cfb-8444-c2d6203ec047"
      },
      "outputs": [
        {
          "name": "stdout",
          "output_type": "stream",
          "text": [
            "Processing: ../data/solar-system/earth.pdf\n"
          ]
        },
        {
          "data": {
            "application/vnd.jupyter.widget-view+json": {
              "model_id": "9848650dae7a4c89973b8b62a8b99dd1",
              "version_major": 2,
              "version_minor": 0
            },
            "text/plain": [
              "Fetching 9 files:   0%|          | 0/9 [00:00<?, ?it/s]"
            ]
          },
          "metadata": {},
          "output_type": "display_data"
        },
        {
          "name": "stdout",
          "output_type": "stream",
          "text": [
            "## Earth\n",
            "\n",
            "## Solar System\n",
            "\n",
            "Our solar system is a vast and fascinating expanse, comprising eight planets, five dwarf planets, numerous moons, asteroids, comets, and other celestial bodies. At its center lies the star we call the Sun.\n",
            "\n",
            "For more details about our Solar system see Chapter 1.\n",
            "\n",
            "## Earth\n",
            "\n",
            "Earth is the third planet from the Sun. It's our home planet. Earth is the only place we know of with life.\n",
            "\n",
            "Basic facts about Earth:\n",
            "\n",
            "- · Distance from the Sun: Average of 149.6 million kilometers (93 million miles)\n",
            "- · Rotation Period: 24 hours (one day)\n",
            "- · Moons: One moon, called Luna or simply \"the Moon\".\n"
          ]
        }
      ],
      "source": [
        "from docling.document_converter import DocumentConverter\n",
        "\n",
        "print (\"Processing:\", input_file)\n",
        "\n",
        "converter = DocumentConverter()\n",
        "result = converter.convert(input_file)\n",
        "md = result.document.export_to_markdown()\n",
        "json = result.document.export_to_dict()\n",
        "print (md)\n"
      ]
    },
    {
      "cell_type": "code",
      "execution_count": 34,
      "metadata": {
        "colab": {
          "base_uri": "https://localhost:8080/"
        },
        "collapsed": true,
        "id": "HlyVdC3ylclu",
        "outputId": "c664ef52-1cb4-4e02-acc9-7cc4d18d9bc3"
      },
      "outputs": [
        {
          "name": "stdout",
          "output_type": "stream",
          "text": [
            "{   'body': {   'children': [   {'$ref': '#/texts/0'},\n",
            "                                {'$ref': '#/texts/1'},\n",
            "                                {'$ref': '#/texts/2'},\n",
            "                                {'$ref': '#/texts/3'},\n",
            "                                {'$ref': '#/texts/4'},\n",
            "                                {'$ref': '#/texts/5'},\n",
            "                                {'$ref': '#/texts/6'},\n",
            "                                {'$ref': '#/groups/0'},\n",
            "                                {'$ref': '#/texts/10'}],\n",
            "                'label': 'unspecified',\n",
            "                'name': '_root_',\n",
            "                'self_ref': '#/body'},\n",
            "    'furniture': {   'children': [],\n",
            "                     'label': 'unspecified',\n",
            "                     'name': '_root_',\n",
            "                     'self_ref': '#/furniture'},\n",
            "    'groups': [   {   'children': [   {'$ref': '#/texts/7'},\n",
            "                                      {'$ref': '#/texts/8'},\n",
            "                                      {'$ref': '#/texts/9'}],\n",
            "                      'label': 'list',\n",
            "                      'name': 'list',\n",
            "                      'parent': {'$ref': '#/body'},\n",
            "                      'self_ref': '#/groups/0'}],\n",
            "    'key_value_items': [],\n",
            "    'name': 'earth',\n",
            "    'origin': {   'binary_hash': 17915699055171962696,\n",
            "                  'filename': 'earth.pdf',\n",
            "                  'mimetype': 'application/pdf'},\n",
            "    'pages': {'1': {'page_no': 1, 'size': {'height': 792.0, 'width': 612.0}}},\n",
            "    'pictures': [],\n",
            "    'schema_name': 'DoclingDocument',\n",
            "    'tables': [],\n",
            "    'texts': [   {   'children': [],\n",
            "                     'label': 'section_header',\n",
            "                     'level': 1,\n",
            "                     'orig': 'Earth',\n",
            "                     'parent': {'$ref': '#/body'},\n",
            "                     'prov': [   {   'bbox': {   'b': 654.4518432617188,\n",
            "                                                 'coord_origin': 'BOTTOMLEFT',\n",
            "                                                 'l': 133.17648315429688,\n",
            "                                                 'r': 174.04208374023438,\n",
            "                                                 't': 668.1044311523438},\n",
            "                                     'charspan': [0, 5],\n",
            "                                     'page_no': 1}],\n",
            "                     'self_ref': '#/texts/0',\n",
            "                     'text': 'Earth'},\n",
            "                 {   'children': [],\n",
            "                     'label': 'section_header',\n",
            "                     'level': 1,\n",
            "                     'orig': 'Solar System',\n",
            "                     'parent': {'$ref': '#/body'},\n",
            "                     'prov': [   {   'bbox': {   'b': 630.5509033203125,\n",
            "                                                 'coord_origin': 'BOTTOMLEFT',\n",
            "                                                 'l': 133.1646270751953,\n",
            "                                                 'r': 210.6650390625,\n",
            "                                                 't': 642.3434448242188},\n",
            "                                     'charspan': [0, 12],\n",
            "                                     'page_no': 1}],\n",
            "                     'self_ref': '#/texts/1',\n",
            "                     'text': 'Solar System'},\n",
            "                 {   'children': [],\n",
            "                     'label': 'text',\n",
            "                     'orig': 'Our solar system is a vast and fascinating '\n",
            "                             'expanse, comprising eight planets, five dwarf '\n",
            "                             'planets, numerous moons, asteroids, comets, and '\n",
            "                             'other celestial bodies. At its center lies the '\n",
            "                             'star we call the Sun.',\n",
            "                     'parent': {'$ref': '#/body'},\n",
            "                     'prov': [   {   'bbox': {   'b': 588.9601440429688,\n",
            "                                                 'coord_origin': 'BOTTOMLEFT',\n",
            "                                                 'l': 132.6648406982422,\n",
            "                                                 'r': 479.4091796875,\n",
            "                                                 't': 623.00146484375},\n",
            "                                     'charspan': [0, 205],\n",
            "                                     'page_no': 1}],\n",
            "                     'self_ref': '#/texts/2',\n",
            "                     'text': 'Our solar system is a vast and fascinating '\n",
            "                             'expanse, comprising eight planets, five dwarf '\n",
            "                             'planets, numerous moons, asteroids, comets, and '\n",
            "                             'other celestial bodies. At its center lies the '\n",
            "                             'star we call the Sun.'},\n",
            "                 {   'children': [],\n",
            "                     'label': 'text',\n",
            "                     'orig': 'For more details about our Solar system see '\n",
            "                             'Chapter 1.',\n",
            "                     'parent': {'$ref': '#/body'},\n",
            "                     'prov': [   {   'bbox': {   'b': 571.0281372070312,\n",
            "                                                 'coord_origin': 'BOTTOMLEFT',\n",
            "                                                 'l': 133.18649291992188,\n",
            "                                                 'r': 375.5791931152344,\n",
            "                                                 't': 580.9985961914062},\n",
            "                                     'charspan': [0, 54],\n",
            "                                     'page_no': 1}],\n",
            "                     'self_ref': '#/texts/3',\n",
            "                     'text': 'For more details about our Solar system see '\n",
            "                             'Chapter 1.'},\n",
            "                 {   'children': [],\n",
            "                     'label': 'section_header',\n",
            "                     'level': 1,\n",
            "                     'orig': 'Earth',\n",
            "                     'parent': {'$ref': '#/body'},\n",
            "                     'prov': [   {   'bbox': {   'b': 542.981689453125,\n",
            "                                                 'coord_origin': 'BOTTOMLEFT',\n",
            "                                                 'l': 133.1168975830078,\n",
            "                                                 'r': 167.329833984375,\n",
            "                                                 't': 554.4132080078125},\n",
            "                                     'charspan': [0, 5],\n",
            "                                     'page_no': 1}],\n",
            "                     'self_ref': '#/texts/4',\n",
            "                     'text': 'Earth'},\n",
            "                 {   'children': [],\n",
            "                     'label': 'text',\n",
            "                     'orig': \"Earth is the third planet from the Sun. It's our \"\n",
            "                             'home planet. Earth is the only place we know of '\n",
            "                             'with life.',\n",
            "                     'parent': {'$ref': '#/body'},\n",
            "                     'prov': [   {   'bbox': {   'b': 512.7061767578125,\n",
            "                                                 'coord_origin': 'BOTTOMLEFT',\n",
            "                                                 'l': 133.06602478027344,\n",
            "                                                 'r': 477.8644104003906,\n",
            "                                                 't': 534.591796875},\n",
            "                                     'charspan': [0, 107],\n",
            "                                     'page_no': 1}],\n",
            "                     'self_ref': '#/texts/5',\n",
            "                     'text': \"Earth is the third planet from the Sun. It's our \"\n",
            "                             'home planet. Earth is the only place we know of '\n",
            "                             'with life.'},\n",
            "                 {   'children': [],\n",
            "                     'label': 'text',\n",
            "                     'orig': 'Basic facts about Earth:',\n",
            "                     'parent': {'$ref': '#/body'},\n",
            "                     'prov': [   {   'bbox': {   'b': 494.862060546875,\n",
            "                                                 'coord_origin': 'BOTTOMLEFT',\n",
            "                                                 'l': 133.38507080078125,\n",
            "                                                 'r': 240.17156982421875,\n",
            "                                                 't': 505.2795104980469},\n",
            "                                     'charspan': [0, 24],\n",
            "                                     'page_no': 1}],\n",
            "                     'self_ref': '#/texts/6',\n",
            "                     'text': 'Basic facts about Earth:'},\n",
            "                 {   'children': [],\n",
            "                     'enumerated': False,\n",
            "                     'label': 'list_item',\n",
            "                     'marker': '-',\n",
            "                     'orig': '· Distance from the Sun: Average of 149.6 '\n",
            "                             'million kilometers (93 million miles)',\n",
            "                     'parent': {'$ref': '#/groups/0'},\n",
            "                     'prov': [   {   'bbox': {   'b': 464.9740905761719,\n",
            "                                                 'coord_origin': 'BOTTOMLEFT',\n",
            "                                                 'l': 145.94500732421875,\n",
            "                                                 'r': 477.47979736328125,\n",
            "                                                 't': 487.11663818359375},\n",
            "                                     'charspan': [0, 79],\n",
            "                                     'page_no': 1}],\n",
            "                     'self_ref': '#/texts/7',\n",
            "                     'text': '· Distance from the Sun: Average of 149.6 '\n",
            "                             'million kilometers (93 million miles)'},\n",
            "                 {   'children': [],\n",
            "                     'enumerated': False,\n",
            "                     'label': 'list_item',\n",
            "                     'marker': '-',\n",
            "                     'orig': '· Rotation Period: 24 hours (one day)',\n",
            "                     'parent': {'$ref': '#/groups/0'},\n",
            "                     'prov': [   {   'bbox': {   'b': 452.9341125488281,\n",
            "                                                 'coord_origin': 'BOTTOMLEFT',\n",
            "                                                 'l': 145.94500732421875,\n",
            "                                                 'r': 317.9072265625,\n",
            "                                                 't': 463.0909729003906},\n",
            "                                     'charspan': [0, 37],\n",
            "                                     'page_no': 1}],\n",
            "                     'self_ref': '#/texts/8',\n",
            "                     'text': '· Rotation Period: 24 hours (one day)'},\n",
            "                 {   'children': [],\n",
            "                     'enumerated': False,\n",
            "                     'label': 'list_item',\n",
            "                     'marker': '-',\n",
            "                     'orig': '· Moons: One moon, called Luna or simply \"the '\n",
            "                             'Moon\".',\n",
            "                     'parent': {'$ref': '#/groups/0'},\n",
            "                     'prov': [   {   'bbox': {   'b': 441.0641174316406,\n",
            "                                                 'coord_origin': 'BOTTOMLEFT',\n",
            "                                                 'l': 145.94500732421875,\n",
            "                                                 'r': 396.66357421875,\n",
            "                                                 't': 451.2564392089844},\n",
            "                                     'charspan': [0, 52],\n",
            "                                     'page_no': 1}],\n",
            "                     'self_ref': '#/texts/9',\n",
            "                     'text': '· Moons: One moon, called Luna or simply \"the '\n",
            "                             'Moon\".'},\n",
            "                 {   'children': [],\n",
            "                     'label': 'page_footer',\n",
            "                     'orig': '1',\n",
            "                     'parent': {'$ref': '#/body'},\n",
            "                     'prov': [   {   'bbox': {   'b': 87.20314025878906,\n",
            "                                                 'coord_origin': 'BOTTOMLEFT',\n",
            "                                                 'l': 303.03265380859375,\n",
            "                                                 'r': 308.1142883300781,\n",
            "                                                 't': 96.67523193359375},\n",
            "                                     'charspan': [0, 1],\n",
            "                                     'page_no': 1}],\n",
            "                     'self_ref': '#/texts/10',\n",
            "                     'text': '1'}],\n",
            "    'version': '1.0.0'}\n"
          ]
        }
      ],
      "source": [
        "import pprint\n",
        "pprint.pprint (json, indent=4)"
      ]
    },
    {
      "cell_type": "markdown",
      "metadata": {
        "id": "ImfRGoKdl7WO"
      },
      "source": [
        "## Step-5: Handle Table Data\n",
        "\n",
        "input file: [solar-system-overview.pdf](https://raw.githubusercontent.com/sujee/data-prep-kit-examples/main/data/solar-system/solar-system-overview.pdf)"
      ]
    },
    {
      "cell_type": "code",
      "execution_count": 35,
      "metadata": {
        "colab": {
          "base_uri": "https://localhost:8080/"
        },
        "id": "SvY7SiC6ugBD",
        "outputId": "074032a5-da2b-45f8-969a-1f2160b5dcea"
      },
      "outputs": [],
      "source": [
        "if RUNNING_IN_COLAB:\n",
        "  input_file = 'input/solar-system-overview.pdf'\n",
        "  !wget -O  {input_file} 'https://raw.githubusercontent.com/sujee/data-prep-kit-examples/main/data/solar-system/solar-system-overview.pdf'\n",
        "else:\n",
        "  input_file = '../data/solar-system/solar-system-overview.pdf'"
      ]
    },
    {
      "cell_type": "code",
      "execution_count": 36,
      "metadata": {
        "colab": {
          "base_uri": "https://localhost:8080/"
        },
        "id": "m56gM4qoutN-",
        "outputId": "ef462823-844b-4633-e471-896ebb8927d4"
      },
      "outputs": [
        {
          "name": "stdout",
          "output_type": "stream",
          "text": [
            "Processing: ../data/solar-system/solar-system-overview.pdf\n"
          ]
        },
        {
          "data": {
            "application/vnd.jupyter.widget-view+json": {
              "model_id": "32ccc931856e4365a08101cafc86d769",
              "version_major": 2,
              "version_minor": 0
            },
            "text/plain": [
              "Fetching 9 files:   0%|          | 0/9 [00:00<?, ?it/s]"
            ]
          },
          "metadata": {},
          "output_type": "display_data"
        },
        {
          "name": "stdout",
          "output_type": "stream",
          "text": [
            "## Solar System\n",
            "\n",
            "| Planet   | Distance from Sun (average)   | Number of Moons                                                        | Average Orbit Time   |\n",
            "|----------|-------------------------------|------------------------------------------------------------------------|----------------------|\n",
            "| Mercury  | 58 million km (0.39 AU)       | 0                                                                      | 87.97 days           |\n",
            "| Venus    | 108 million km (0.72 AU)      | 0                                                                      | 224.7 days           |\n",
            "| Earth    | 149.6 million km (1 AU)       | 1 (The Moon)                                                           | 365.25 days          |\n",
            "| Mars     | 227.9 million km (1.38 AU)    | 2 (Phobos, Deimos)                                                     | 687.01 days          |\n",
            "| Jupiter  | 778.3 million km (5.2 AU)     | 79 ( Io, Europa, Ganymede, Callisto, and 75 others)                    | 11.86 years          |\n",
            "| Saturn   | 1.43 billion km (8.3 AU)      | 62 (Titan, Enceladus, Dione, Rhea, Tethys, and 57 others) 27 (Titania, | 29.46 years          |\n",
            "| Uranus   | 2.88 billion km (19.1 AU)     | Oberon, Umbriel, Ariel, Miranda, and 23 others) 14 (Triton,            | 84.01 years          |\n",
            "| Neptune  | 4.46 billion km (30.1 AU)     | Nereid, and 12 others)                                                 | 164.79 years         |\n",
            "\n",
            "## Probes Sent to Planets\n",
            "\n",
            "| Planet   | Number of Probes Sent                                                                                                                                 |\n",
            "|----------|-------------------------------------------------------------------------------------------------------------------------------------------------------|\n",
            "| Mercury  | 3 (Mariner 10, MESSENGER)                                                                                                                             |\n",
            "| Venus    | 7 (Venera, Magellan, Pioneer Venus Orbiter, Mariner 2, Mariner 5, Venera 13, and Venera 14)                                                           |\n",
            "| Earth    | N/A (no probes sent to other planets from Earth)                                                                                                      |\n",
            "| Mars     | 24 (Mariner 4, Viking 1 & 2, Mars Pathfinder, Mars Global Surveyor, Mars Odyssey, Spirit, Opportunity, Phoenix, Curiosity, InSight, and Perseverance) |\n",
            "\n",
            "| Planet   | Number of Probes Sent                                                                             |\n",
            "|----------|---------------------------------------------------------------------------------------------------|\n",
            "| Jupiter  | 79 (Pioneer 10, Pioneer 11, Voyager 1 & 2, Galileo, Juno, and several flybys by other spacecraft) |\n",
            "| Saturn   | 34 (Voyager 1 & 2, Pioneer 11, Cassini-Huygens, and several flybys by other spacecraft)           |\n",
            "| Uranus   | 6 (Pioneer 10, Voyager 2, and several flybys by other spacecraft)                                 |\n",
            "| Neptune  | 5 (Voyager 2, New Horizons, and several flybys by other spacecraft)                               |\n"
          ]
        }
      ],
      "source": [
        "from docling.document_converter import DocumentConverter\n",
        "\n",
        "print (\"Processing:\", input_file)\n",
        "\n",
        "converter = DocumentConverter()\n",
        "result = converter.convert(input_file)\n",
        "md = result.document.export_to_markdown()\n",
        "json = result.document.export_to_dict()\n",
        "print (md)\n"
      ]
    },
    {
      "cell_type": "markdown",
      "metadata": {
        "id": "LI9Cy5i7-qvK"
      },
      "source": [
        "## Step-6: Invoice\n",
        "\n",
        "input file: [invoice-2.pdf](https://raw.githubusercontent.com/sujee/data-prep-kit-examples/main/data/invoices/invoice-2.pdf)"
      ]
    },
    {
      "cell_type": "code",
      "execution_count": 37,
      "metadata": {
        "colab": {
          "base_uri": "https://localhost:8080/"
        },
        "id": "XDV_znH5-4yJ",
        "outputId": "9a6ed249-d112-461b-f307-b3c8c7e1510c"
      },
      "outputs": [],
      "source": [
        "if RUNNING_IN_COLAB:\n",
        "  input_file = 'input/invoice-2.pdf'\n",
        "  !wget -O  {input_file} 'https://raw.githubusercontent.com/sujee/data-prep-kit-examples/main/data/invoices/invoice-2.pdf'\n",
        "else:\n",
        "  input_file = '../data/invoices/invoice-2.pdf'"
      ]
    },
    {
      "cell_type": "code",
      "execution_count": 38,
      "metadata": {
        "colab": {
          "base_uri": "https://localhost:8080/"
        },
        "id": "CjP4mc7y-4q4",
        "outputId": "348be232-94dd-49e0-f4e7-6c0f59bc5ccf"
      },
      "outputs": [
        {
          "name": "stdout",
          "output_type": "stream",
          "text": [
            "Processing: ../data/invoices/invoice-2.pdf\n"
          ]
        },
        {
          "data": {
            "application/vnd.jupyter.widget-view+json": {
              "model_id": "3e72236025624ea89ec7127aba63a636",
              "version_major": 2,
              "version_minor": 0
            },
            "text/plain": [
              "Fetching 9 files:   0%|          | 0/9 [00:00<?, ?it/s]"
            ]
          },
          "metadata": {},
          "output_type": "display_data"
        },
        {
          "name": "stdout",
          "output_type": "stream",
          "text": [
            "<!-- image -->\n",
            "\n",
            "BILL TO:\n",
            "\n",
            "John Doe\n",
            "\n",
            "415 Broadway\n",
            "\n",
            "San Jose, CA\n",
            "\n",
            "## Perfect Handyman\n",
            "\n",
            "123 Main St\n",
            "\n",
            "San Jose, CA\n",
            "\n",
            "INVOICE #\n",
            "\n",
            "00000001\n",
            "\n",
            "DATE\n",
            "\n",
            "12/31/2024\n",
            "\n",
            "INVOICE DUE DATE\n",
            "\n",
            "12/31/2024\n",
            "\n",
            "| ITEMS   | DESCRIPTION   |   QUANTITY | PRICE   | AMOUNT   |\n",
            "|---------|---------------|------------|---------|----------|\n",
            "| ITEM 1  | Cleanup       |          1 | $100    | 100      |\n",
            "| ITEM 2  | Installation  |          1 | $250    | $250     |\n",
            "\n",
            "NOTES:\n",
            "\n",
            "TOTAL\n",
            "\n",
            "$350\n"
          ]
        }
      ],
      "source": [
        "from docling.document_converter import DocumentConverter\n",
        "\n",
        "print (\"Processing:\", input_file)\n",
        "\n",
        "converter = DocumentConverter()\n",
        "result = converter.convert(input_file)\n",
        "md = result.document.export_to_markdown()\n",
        "json = result.document.export_to_dict()\n",
        "print (md)"
      ]
    },
    {
      "cell_type": "markdown",
      "metadata": {},
      "source": [
        "## Step-7: Process HTML\n",
        "\n",
        "Convert HTML to markdown.  And strip out all excess markup / trackers\n",
        "\n",
        "Input file: [AI-Alliance-Home.html](https://raw.githubusercontent.com/sujee/data-prep-kit-examples/main/data/html/AI-Alliance-Home.html)"
      ]
    },
    {
      "cell_type": "code",
      "execution_count": 39,
      "metadata": {},
      "outputs": [],
      "source": [
        "if RUNNING_IN_COLAB:\n",
        "  input_file = 'input/AI-Alliance-Home.html'\n",
        "  !wget -O  {input_file} 'https://raw.githubusercontent.com/sujee/data-prep-kit-examples/main/data/html/AI-Alliance-Home.html'\n",
        "else:\n",
        "  input_file = '../data/html/AI-Alliance-Home.html'"
      ]
    },
    {
      "cell_type": "code",
      "execution_count": 40,
      "metadata": {},
      "outputs": [
        {
          "name": "stdout",
          "output_type": "stream",
          "text": [
            "Processing: ../data/html/AI-Alliance-Home.html\n",
            "Who We Are\n",
            "\n",
            "Our Work\n",
            "\n",
            "Our Members\n",
            "\n",
            "Governance\n",
            "\n",
            "Skills & Education\n",
            "\n",
            "Trust & Safety\n",
            "\n",
            "Applications & Tools\n",
            "\n",
            "Hardware Enablement\n",
            "\n",
            "Foundation Models\n",
            "\n",
            "Advocacy\n",
            "\n",
            "How to Join\n",
            "\n",
            "Contribute Code\n",
            "\n",
            "Become a Collaborator\n",
            "\n",
            "Who We Are\n",
            "\n",
            "Our Work\n",
            "\n",
            "Our Members\n",
            "\n",
            "Governance\n",
            "\n",
            "Skills & Education\n",
            "\n",
            "Trust & Safety\n",
            "\n",
            "Applications & Tools\n",
            "\n",
            "Hardware Enablement\n",
            "\n",
            "Foundation Models\n",
            "\n",
            "Advocacy\n",
            "\n",
            "How to Join\n",
            "\n",
            "Contribute Code\n",
            "\n",
            "Become a Collaborator\n",
            "\n",
            "# Building the open future of AI\n",
            "\n",
            "We are technology developers, researchers, industry leaders and advocates who collaborate to advance safe, responsible AI rooted in open innovation.\n",
            "\n",
            "<!-- image -->\n",
            "\n",
            "### Skills & Education\n",
            "\n",
            "<!-- image -->\n",
            "\n",
            "Supporting global AI skill-building, education, and exploratory research.\n",
            "\n",
            "### Trust & Safety\n",
            "\n",
            "<!-- image -->\n",
            "\n",
            "Creating benchmarks, tools, and methodologies to evaluate and ensure safe, trusted generative AI.\n",
            "\n",
            "### Applications and Tools\n",
            "\n",
            "<!-- image -->\n",
            "\n",
            "Building the most capable tools for AI model builders and GenAI application developers.\n",
            "\n",
            "### Hardware Enablement\n",
            "\n",
            "<!-- image -->\n",
            "\n",
            "Fostering a vibrant AI hardware accelerator ecosystem through enabling software technology.\n",
            "\n",
            "### Foundation Models and Datasets\n",
            "\n",
            "<!-- image -->\n",
            "\n",
            "Enabling an ecosystem of open foundation models, including those with multilingual, multi-modal, science, and time series capabilities. Similarly, promote the development of datasets in these areas.\n",
            "\n",
            "### Advocacy\n",
            "\n",
            "<!-- image -->\n",
            "\n",
            "Supporting regulatory policies that create healthy, sustainable, and open ecosystems for AI.\n",
            "\n",
            "## Recent Events\n",
            "\n",
            "<!-- image -->\n",
            "\n",
            "### Bay Area AI Meetup in SF\n",
            "\n",
            "### AI Alliance Meetup #5\n",
            "\n",
            "### AI Alliance Meetup #4\n",
            "\n",
            "### Open Source Data Pipeline for RAG\n",
            "\n",
            "### Preparing Data for LLM Apps\n",
            "\n",
            "## Featured Articles\n",
            "\n",
            "<!-- image -->\n",
            "\n",
            "### Getting started with AI trust and safety\n",
            "\n",
            "### Spotlight on Sean Hughes of ServiceNow\n",
            "\n",
            "### ICTP Announces AI Prize for Science, an AI Alliance affiliated project\n",
            "\n",
            "### AI Alliance Launches as an International Community of Leading Technology Developers, Researchers, and Adopters Collaborating Together to Advance Open, Safe, Responsible AI\n",
            "\n",
            "## Featured Projects\n",
            "\n",
            "<!-- image -->\n",
            "\n",
            "### The Living Guide to Applying AI\n",
            "\n",
            "### Responding to the U.S. NTIA request for comment on Dual Use Foundation Artificial Intelligence Models with Widely Available Model Weights\n",
            "\n",
            "### Trust and Safety Evaluations\n",
            "\n",
            "### The Living Guide to Applying AI\n",
            "\n",
            "- \n",
            "- \n",
            "- \n",
            "- \n",
            "- \n",
            "- \n",
            "- \n",
            "- \n",
            "- \n",
            "- \n",
            "- \n",
            "- \n",
            "- \n",
            "- \n",
            "- \n",
            "- \n",
            "- \n",
            "- \n",
            "- \n",
            "- \n",
            "- \n",
            "- \n",
            "- \n",
            "- \n",
            "- \n",
            "- \n",
            "- \n",
            "- \n",
            "- \n",
            "- \n",
            "- \n",
            "- \n",
            "- \n",
            "- \n",
            "- \n",
            "- \n",
            "- \n",
            "- \n",
            "- \n",
            "- \n",
            "- \n",
            "- \n",
            "- \n",
            "- \n",
            "- \n",
            "- \n",
            "- \n",
            "- \n",
            "- \n",
            "- \n",
            "- \n",
            "- \n",
            "- \n",
            "- \n",
            "- \n",
            "- \n",
            "- \n",
            "- \n",
            "- \n",
            "- \n",
            "- \n",
            "- \n",
            "- \n",
            "- \n",
            "- \n",
            "- \n",
            "- \n",
            "- \n",
            "- \n",
            "- \n",
            "- \n",
            "- \n",
            "- \n",
            "- \n",
            "- \n",
            "- \n",
            "- \n",
            "- \n",
            "- \n",
            "- \n",
            "- \n",
            "- \n",
            "- \n",
            "- \n",
            "- \n",
            "- \n",
            "- \n",
            "- \n",
            "- \n",
            "- \n",
            "- \n",
            "- \n",
            "- \n",
            "- \n",
            "- \n",
            "\n",
            "## We build, enable, and advocate for open innovation across the AI technology landscape, including software, data and models, safety, security and trust, tooling, evaluation, hardware, education, open science, and advocacy.\n",
            "\n",
            "## Subscribe to our community newsletter\n",
            "\n",
            "By submitting this form, you agree that the AI Alliance will collect and process the personal information you provide to keep you informed about AI Alliance initiatives and enable your involvement in AI Alliance activities. Additionally, you agree that the AI Alliance may share the personal information you provide with its member organizations so that they may communicate with you about AI Alliance initiatives and your involvement in AI Alliance activities.\n",
            "\n",
            "You may withdraw your consent for the processing of your personal information by the AI Alliance. Please contact us to request a permanent deletion.\n",
            "\n",
            "### Discover\n",
            "\n",
            "### Contact\n"
          ]
        }
      ],
      "source": [
        "from docling.document_converter import DocumentConverter\n",
        "\n",
        "print (\"Processing:\", input_file)\n",
        "\n",
        "converter = DocumentConverter()\n",
        "result = converter.convert(input_file)\n",
        "md = result.document.export_to_markdown()\n",
        "json = result.document.export_to_dict()\n",
        "print (md)"
      ]
    },
    {
      "cell_type": "code",
      "execution_count": 42,
      "metadata": {},
      "outputs": [],
      "source": [
        "## Save it to file\n",
        "\n",
        "with open ('output/html.out.md', 'w') as f:\n",
        "    f.write(md)"
      ]
    }
  ],
  "metadata": {
    "colab": {
      "provenance": []
    },
    "kernelspec": {
      "display_name": "docling-dpk-intro-1",
      "language": "python",
      "name": "python3"
    },
    "language_info": {
      "codemirror_mode": {
        "name": "ipython",
        "version": 3
      },
      "file_extension": ".py",
      "mimetype": "text/x-python",
      "name": "python",
      "nbconvert_exporter": "python",
      "pygments_lexer": "ipython3",
      "version": "3.11.11"
    }
  },
  "nbformat": 4,
  "nbformat_minor": 0
}
