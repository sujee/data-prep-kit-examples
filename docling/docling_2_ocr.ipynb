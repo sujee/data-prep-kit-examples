{
  "cells": [
    {
      "cell_type": "markdown",
      "metadata": {
        "id": "adPYY9THf0dK"
      },
      "source": [
        "# Docling\n",
        "\n",
        "[![Open In Colab](https://colab.research.google.com/assets/colab-badge.svg)](https://colab.research.google.com/github/sujee/data-prep-kit-examples/blob/main/docling/docling_2_ocr.ipynb)\n",
        "\n",
        "[Docling](https://github.com/DS4SD/docling) is an advanced document processor.  It can handle wide variety of formats like PDFs, DOCX, HTML, PPTX .etc.\n",
        "\n",
        "In this notebook, we will parse 'scanned PDFs' and extract content using OCR\n"
      ]
    },
    {
      "cell_type": "markdown",
      "metadata": {
        "id": "3kOXoouhf0dL"
      },
      "source": [
        "## Step-1: Figure out Runtime Environment\n",
        "\n",
        "### 1.1 - Determine runtime\n",
        "\n",
        "Determine if we are running on Google colab or local python environment"
      ]
    },
    {
      "cell_type": "code",
      "execution_count": 2,
      "metadata": {
        "colab": {
          "base_uri": "https://localhost:8080/"
        },
        "id": "nhOF2Anrf0dM",
        "outputId": "2a307573-d3a0-4049-c3ff-aaaf91e9b862"
      },
      "outputs": [
        {
          "name": "stdout",
          "output_type": "stream",
          "text": [
            "NOT in Colab\n"
          ]
        }
      ],
      "source": [
        "import os\n",
        "\n",
        "if os.getenv(\"COLAB_RELEASE_TAG\"):\n",
        "   print(\"Running in Colab\")\n",
        "   RUNNING_IN_COLAB = True\n",
        "else:\n",
        "   print(\"NOT in Colab\")\n",
        "   RUNNING_IN_COLAB = False"
      ]
    },
    {
      "cell_type": "markdown",
      "metadata": {
        "id": "P5Xvnic1f0dN"
      },
      "source": [
        "### 1.2 - Install dependencies if running on Google Colab"
      ]
    },
    {
      "cell_type": "code",
      "execution_count": 3,
      "metadata": {
        "colab": {
          "base_uri": "https://localhost:8080/"
        },
        "id": "lTe1KRnyf0dN",
        "outputId": "e354633b-7fdb-4115-b5d0-e37eabbaa87c"
      },
      "outputs": [],
      "source": [
        "# %%capture\n",
        "\n",
        "if RUNNING_IN_COLAB:\n",
        "    ! pip install  --default-timeout=100  \\\n",
        "        docling"
      ]
    },
    {
      "cell_type": "markdown",
      "metadata": {
        "id": "jFQJI-X5ow8Y"
      },
      "source": [
        "## Step-2: Settings / Config"
      ]
    },
    {
      "cell_type": "code",
      "execution_count": 4,
      "metadata": {
        "id": "j1l9JKrmo1DA"
      },
      "outputs": [],
      "source": [
        "# If connection to https://huggingface.co/ failed, uncomment the following path\n",
        "import os\n",
        "os.environ['HF_ENDPOINT'] = 'https://hf-mirror.com'"
      ]
    },
    {
      "cell_type": "code",
      "execution_count": 5,
      "metadata": {
        "id": "BNeOLz5ii6DA"
      },
      "outputs": [],
      "source": [
        "## Setup input / output dir\n",
        "import shutil\n",
        "\n",
        "shutil.os.makedirs('input', exist_ok=True)\n",
        "\n",
        "shutil.rmtree('output', ignore_errors=True)\n",
        "shutil.os.makedirs('output', exist_ok=True)"
      ]
    },
    {
      "cell_type": "markdown",
      "metadata": {
        "id": "RUdYFD6mf0dP"
      },
      "source": [
        "## Step-3: Data files\n",
        "\n",
        "We will use scanned PDFs.  The files are [here](https://github.com/sujee/data-prep-kit-examples/tree/main/data/scanned-pdfs).\n",
        "\n",
        "These PDFs are scanned, so they don't have any 'digital text' data."
      ]
    },
    {
      "cell_type": "code",
      "execution_count": 6,
      "metadata": {
        "colab": {
          "base_uri": "https://localhost:8080/"
        },
        "id": "aEfGmtI41FBW",
        "outputId": "ae9c6096-5d37-4f99-b77b-594f340c270e"
      },
      "outputs": [],
      "source": [
        "if RUNNING_IN_COLAB:\n",
        "  !wget -O  'input/letter-1.pdf'    'https://raw.githubusercontent.com/sujee/data-prep-kit-examples/main/data/scanned-pdfs/letter-1.pdf'\n",
        "  !wget -O  'input/memo-1.pdf'    'https://raw.githubusercontent.com/sujee/data-prep-kit-examples/main/data/scanned-pdfs/memo-1.pdf'\n",
        "  !wget -O  'input/product-brochure.pdf'    'https://raw.githubusercontent.com/sujee/data-prep-kit-examples/main/data/scanned-pdfs/product-brochure.pdf'\n",
        "  !wget -O  'input/public-water-notice.pdf'    'https://raw.githubusercontent.com/sujee/data-prep-kit-examples/main/data/scanned-pdfs/public-water-notice.pdf'\n",
        "  !wget -O  'input/scanned-1.pdf'    'https://raw.githubusercontent.com/sujee/data-prep-kit-examples/main/data/scanned-pdfs/scanned-1.pdf'\n",
        "  !wget -O  'input/type-writter-scanned-1.pdf'    'https://raw.githubusercontent.com/sujee/data-prep-kit-examples/main/data/scanned-pdfs/type-writter-scanned-1.pdf'"
      ]
    },
    {
      "cell_type": "markdown",
      "metadata": {
        "id": "ldxRdDOKigTR"
      },
      "source": [
        "## Step-4: Extract Text from PDFs\n",
        "\n"
      ]
    },
    {
      "cell_type": "code",
      "execution_count": 7,
      "metadata": {
        "id": "9Rw_UxzX51Vp"
      },
      "outputs": [],
      "source": [
        "if RUNNING_IN_COLAB:\n",
        "  input_file = 'input/scanned-1.pdf'\n",
        "else:\n",
        "  input_file = '../data/scanned-pdfs/scanned-1.pdf'"
      ]
    },
    {
      "cell_type": "markdown",
      "metadata": {
        "id": "KScufAHximTb"
      },
      "source": [
        "### 4.1 - Command line\n",
        "\n",
        "Usage\n",
        "\n",
        "`docling   --output output --to md  input/file.pdf`\n"
      ]
    },
    {
      "cell_type": "code",
      "execution_count": 8,
      "metadata": {
        "colab": {
          "base_uri": "https://localhost:8080/"
        },
        "id": "_5PnC4tLipFL",
        "outputId": "01bdbd69-1a65-40b8-ab43-aab86489d6b3"
      },
      "outputs": [
        {
          "name": "stdout",
          "output_type": "stream",
          "text": [
            "INFO:docling.document_converter:Going to convert document batch...\n",
            "Fetching 9 files: 100%|████████████████████████| 9/9 [00:00<00:00, 27216.10it/s]\n",
            "INFO:docling.pipeline.base_pipeline:Processing document scanned-1.pdf\n",
            "INFO:docling.document_converter:Finished converting document scanned-1.pdf in 7.15 sec.\n",
            "INFO:docling.cli.main:writing Markdown output to output/scanned-1.md\n",
            "INFO:docling.cli.main:Processed 1 docs, of which 0 failed\n",
            "INFO:docling.cli.main:All documents were converted in 7.15 seconds.\n",
            "INFO:docling.document_converter:Going to convert document batch...\n",
            "Fetching 9 files: 100%|████████████████████████| 9/9 [00:00<00:00, 67529.04it/s]\n",
            "INFO:docling.pipeline.base_pipeline:Processing document scanned-1.pdf\n",
            "INFO:docling.document_converter:Finished converting document scanned-1.pdf in 6.20 sec.\n",
            "INFO:docling.cli.main:writing JSON output to output/scanned-1.json\n",
            "INFO:docling.cli.main:Processed 1 docs, of which 0 failed\n",
            "INFO:docling.cli.main:All documents were converted in 6.20 seconds.\n"
          ]
        }
      ],
      "source": [
        "## PDF --> markdown\n",
        "!docling   --output output --to md  {input_file}\n",
        "\n",
        "## PDF --> json\n",
        "!docling   --output output --to json  {input_file}\n",
        "\n",
        "## PDF --> html\n",
        "# !docling   --output output --to html  {input_dir}"
      ]
    },
    {
      "cell_type": "markdown",
      "metadata": {
        "id": "mwPevjPckgfv"
      },
      "source": [
        "### 4.2 - Using Python API"
      ]
    },
    {
      "cell_type": "code",
      "execution_count": 9,
      "metadata": {
        "colab": {
          "base_uri": "https://localhost:8080/"
        },
        "id": "YFVefCn-klL9",
        "outputId": "9588e5ed-8a69-4f97-ab83-bb3dd8161bb6"
      },
      "outputs": [
        {
          "name": "stdout",
          "output_type": "stream",
          "text": [
            "Processing: ../data/scanned-pdfs/scanned-1.pdf\n"
          ]
        },
        {
          "data": {
            "application/vnd.jupyter.widget-view+json": {
              "model_id": "263d22d33d36407ead38584cf5d77de7",
              "version_major": 2,
              "version_minor": 0
            },
            "text/plain": [
              "Fetching 9 files:   0%|          | 0/9 [00:00<?, ?it/s]"
            ]
          },
          "metadata": {},
          "output_type": "display_data"
        },
        {
          "name": "stdout",
          "output_type": "stream",
          "text": [
            "## IDRH\n",
            "\n",
            "Non-text-searchable PDF\n",
            "\n",
            "This is an example of a non-text-searchable PDF . Because it was created from an image rather than a text document, it cannot be rendered as plain text by the PDF reader. Thus, attempting to select the text on the page as though it were a text document or website will not work, regardless of how neatly it is organized.\n"
          ]
        }
      ],
      "source": [
        "from docling.document_converter import DocumentConverter\n",
        "\n",
        "print (\"Processing:\", input_file)\n",
        "\n",
        "converter = DocumentConverter()\n",
        "result = converter.convert(input_file)\n",
        "md = result.document.export_to_markdown()\n",
        "json = result.document.export_to_dict()\n",
        "print (md)\n"
      ]
    },
    {
      "cell_type": "code",
      "execution_count": 10,
      "metadata": {
        "colab": {
          "base_uri": "https://localhost:8080/"
        },
        "collapsed": true,
        "id": "HlyVdC3ylclu",
        "outputId": "87b9392c-fd18-4ce7-a562-9f2440a02d32"
      },
      "outputs": [
        {
          "name": "stdout",
          "output_type": "stream",
          "text": [
            "{   'body': {   'children': [   {'$ref': '#/texts/0'},\n",
            "                                {'$ref': '#/texts/1'},\n",
            "                                {'$ref': '#/texts/2'}],\n",
            "                'label': 'unspecified',\n",
            "                'name': '_root_',\n",
            "                'self_ref': '#/body'},\n",
            "    'furniture': {   'children': [],\n",
            "                     'label': 'unspecified',\n",
            "                     'name': '_root_',\n",
            "                     'self_ref': '#/furniture'},\n",
            "    'groups': [],\n",
            "    'key_value_items': [],\n",
            "    'name': 'scanned-1',\n",
            "    'origin': {   'binary_hash': 5490598024236166341,\n",
            "                  'filename': 'scanned-1.pdf',\n",
            "                  'mimetype': 'application/pdf'},\n",
            "    'pages': {'1': {'page_no': 1, 'size': {'height': 792.0, 'width': 612.0}}},\n",
            "    'pictures': [],\n",
            "    'schema_name': 'DoclingDocument',\n",
            "    'tables': [],\n",
            "    'texts': [   {   'children': [],\n",
            "                     'label': 'section_header',\n",
            "                     'level': 1,\n",
            "                     'orig': 'IDRH',\n",
            "                     'parent': {'$ref': '#/body'},\n",
            "                     'prov': [   {   'bbox': {   'b': 733.3333129882812,\n",
            "                                                 'coord_origin': 'BOTTOMLEFT',\n",
            "                                                 'l': 436.6666564941406,\n",
            "                                                 'r': 472.6666564941406,\n",
            "                                                 't': 746.6666870117188},\n",
            "                                     'charspan': [0, 4],\n",
            "                                     'page_no': 1}],\n",
            "                     'self_ref': '#/texts/0',\n",
            "                     'text': 'IDRH'},\n",
            "                 {   'children': [],\n",
            "                     'label': 'text',\n",
            "                     'orig': 'Non-text-searchable PDF',\n",
            "                     'parent': {'$ref': '#/body'},\n",
            "                     'prov': [   {   'bbox': {   'b': 717.0,\n",
            "                                                 'coord_origin': 'BOTTOMLEFT',\n",
            "                                                 'l': 438.3333435058594,\n",
            "                                                 'r': 576.3333129882812,\n",
            "                                                 't': 731.0},\n",
            "                                     'charspan': [0, 23],\n",
            "                                     'page_no': 1}],\n",
            "                     'self_ref': '#/texts/1',\n",
            "                     'text': 'Non-text-searchable PDF'},\n",
            "                 {   'children': [],\n",
            "                     'label': 'text',\n",
            "                     'orig': 'This is an example of a non-text-searchable PDF '\n",
            "                             '. Because it was created from an image rather '\n",
            "                             'than a text document, it cannot be rendered as '\n",
            "                             'plain text by the PDF reader. Thus, attempting '\n",
            "                             'to select the text on the page as though it were '\n",
            "                             'a text document or website will not work, '\n",
            "                             'regardless of how neatly it is organized.',\n",
            "                     'parent': {'$ref': '#/body'},\n",
            "                     'prov': [   {   'bbox': {   'b': 642.6666870117188,\n",
            "                                                 'coord_origin': 'BOTTOMLEFT',\n",
            "                                                 'l': 63.33333206176758,\n",
            "                                                 'r': 502.6666564941406,\n",
            "                                                 't': 708.0},\n",
            "                                     'charspan': [0, 320],\n",
            "                                     'page_no': 1}],\n",
            "                     'self_ref': '#/texts/2',\n",
            "                     'text': 'This is an example of a non-text-searchable PDF '\n",
            "                             '. Because it was created from an image rather '\n",
            "                             'than a text document, it cannot be rendered as '\n",
            "                             'plain text by the PDF reader. Thus, attempting '\n",
            "                             'to select the text on the page as though it were '\n",
            "                             'a text document or website will not work, '\n",
            "                             'regardless of how neatly it is organized.'}],\n",
            "    'version': '1.0.0'}\n"
          ]
        }
      ],
      "source": [
        "import pprint\n",
        "pprint.pprint (json, indent=4)"
      ]
    },
    {
      "cell_type": "markdown",
      "metadata": {
        "id": "7MnBXxXF9cgf"
      },
      "source": [
        "## Step-5: Batch Conversion"
      ]
    },
    {
      "cell_type": "code",
      "execution_count": 11,
      "metadata": {
        "id": "aF9xHatH9jGo"
      },
      "outputs": [],
      "source": [
        "if RUNNING_IN_COLAB:\n",
        "  input_dir = 'input'\n",
        "else:\n",
        "  input_dir = '../data/scanned-pdfs'"
      ]
    },
    {
      "cell_type": "code",
      "execution_count": 12,
      "metadata": {
        "colab": {
          "base_uri": "https://localhost:8080/"
        },
        "id": "YZ7oX_eo9osz",
        "outputId": "419d837d-3f3b-4ac4-8ed5-b64757040e76"
      },
      "outputs": [
        {
          "name": "stdout",
          "output_type": "stream",
          "text": [
            "CPU times: user 2 μs, sys: 1e+03 ns, total: 3 μs\n",
            "Wall time: 5.72 μs\n"
          ]
        }
      ],
      "source": [
        "%%time\n",
        "\n",
        "## Commnd line - uncomment this to execute\n",
        "\n",
        "# !docling   --output output --to md  {input_dir}"
      ]
    },
    {
      "cell_type": "code",
      "execution_count": 14,
      "metadata": {
        "colab": {
          "base_uri": "https://localhost:8080/",
          "height": 447
        },
        "id": "flOg4UOe_TWH",
        "outputId": "b09c0584-75c5-48bc-dadf-96a6c3b70391"
      },
      "outputs": [
        {
          "name": "stdout",
          "output_type": "stream",
          "text": [
            "Found 6 PDF files to convert\n"
          ]
        },
        {
          "data": {
            "application/vnd.jupyter.widget-view+json": {
              "model_id": "b213a5bca0be45719e74fa92c1cfba05",
              "version_major": 2,
              "version_minor": 0
            },
            "text/plain": [
              "Fetching 9 files:   0%|          | 0/9 [00:00<?, ?it/s]"
            ]
          },
          "metadata": {},
          "output_type": "display_data"
        },
        {
          "name": "stderr",
          "output_type": "stream",
          "text": [
            "2025-03-12 22:41:38.159 (  92.914s) [        AD99A740]    doc_normalisation.h:448   WARN| found new `other` type: checkbox-unselected\n",
            "2025-03-12 22:41:38.159 (  92.914s) [        AD99A740]    doc_normalisation.h:448   WARN| found new `other` type: checkbox-unselected\n",
            "2025-03-12 22:41:38.159 (  92.914s) [        AD99A740]    doc_normalisation.h:448   WARN| found new `other` type: checkbox-unselected\n",
            "2025-03-12 22:41:38.159 (  92.914s) [        AD99A740]    doc_normalisation.h:448   WARN| found new `other` type: checkbox-unselected\n"
          ]
        },
        {
          "name": "stdout",
          "output_type": "stream",
          "text": [
            "Converted PDF '../data/scanned-pdfs/public-water-notice.pdf' to markdown 'output/public-water-notice.md'\n",
            "Converted PDF '../data/scanned-pdfs/scanned-1.pdf' to markdown 'output/scanned-1.md'\n",
            "Converted PDF '../data/scanned-pdfs/product-brochure.pdf' to markdown 'output/product-brochure.md'\n",
            "Converted PDF '../data/scanned-pdfs/type-writter-scanned-1.pdf' to markdown 'output/type-writter-scanned-1.md'\n",
            "Converted PDF '../data/scanned-pdfs/letter-1.pdf' to markdown 'output/letter-1.md'\n"
          ]
        },
        {
          "name": "stderr",
          "output_type": "stream",
          "text": [
            "WARNING: content stream objects stream 224 0 (content, offset 78): expected dictionary key but found non-name object; inserting key /QPDFFake1\n",
            "WARNING: content stream objects stream 224 0 (content, offset 78): expected dictionary key but found non-name object; inserting key /QPDFFake2\n",
            "WARNING: content stream objects stream 224 0 (content, offset 78): expected dictionary key but found non-name object; inserting key /QPDFFake3\n",
            "WARNING: content stream objects stream 226 0 (content, offset 78): expected dictionary key but found non-name object; inserting key /QPDFFake1\n",
            "WARNING: content stream objects stream 226 0 (content, offset 78): expected dictionary key but found non-name object; inserting key /QPDFFake2\n",
            "WARNING: content stream objects stream 226 0 (content, offset 78): expected dictionary key but found non-name object; inserting key /QPDFFake3\n",
            "WARNING: content stream objects stream 225 0 (content, offset 78): expected dictionary key but found non-name object; inserting key /QPDFFake1\n",
            "WARNING: content stream objects stream 225 0 (content, offset 78): expected dictionary key but found non-name object; inserting key /QPDFFake2\n",
            "WARNING: content stream objects stream 225 0 (content, offset 78): expected dictionary key but found non-name object; inserting key /QPDFFake3\n",
            "WARNING: content stream objects stream 227 0 (content, offset 78): expected dictionary key but found non-name object; inserting key /QPDFFake1\n",
            "WARNING: content stream objects stream 227 0 (content, offset 78): expected dictionary key but found non-name object; inserting key /QPDFFake2\n",
            "WARNING: content stream objects stream 227 0 (content, offset 78): expected dictionary key but found non-name object; inserting key /QPDFFake3\n"
          ]
        },
        {
          "name": "stdout",
          "output_type": "stream",
          "text": [
            "Converted PDF '../data/scanned-pdfs/memo-1.pdf' to markdown 'output/memo-1.md'\n",
            "CPU times: user 2min 23s, sys: 5.84 s, total: 2min 29s\n",
            "Wall time: 1min 29s\n"
          ]
        }
      ],
      "source": [
        "%%time\n",
        "\n",
        "## python\n",
        "\n",
        "\n",
        "import os\n",
        "import sys\n",
        "from pathlib import Path\n",
        "from docling.document_converter import DocumentConverter\n",
        "\n",
        "converter = DocumentConverter()\n",
        "\n",
        "input_path = Path(input_dir)\n",
        "pdf_files = list(input_path.glob('*.pdf'))\n",
        "print(f\"Found {len(pdf_files)} PDF files to convert\")\n",
        "\n",
        "for pdf_file in pdf_files:\n",
        "    result = converter.convert(pdf_file)\n",
        "    markdown_content = result.document.export_to_markdown()\n",
        "\n",
        "    md_file_name = os.path.join('output', f\"{pdf_file.stem}.md\")\n",
        "    with open(md_file_name, \"w\", encoding=\"utf-8\") as md_file:\n",
        "        md_file.write(markdown_content)\n",
        "\n",
        "    print(f\"Converted PDF '{pdf_file}' to markdown '{md_file_name}'\")"
      ]
    }
  ],
  "metadata": {
    "colab": {
      "provenance": []
    },
    "kernelspec": {
      "display_name": "docling-dpk-intro-1",
      "language": "python",
      "name": "python3"
    },
    "language_info": {
      "codemirror_mode": {
        "name": "ipython",
        "version": 3
      },
      "file_extension": ".py",
      "mimetype": "text/x-python",
      "name": "python",
      "nbconvert_exporter": "python",
      "pygments_lexer": "ipython3",
      "version": "3.11.11"
    }
  },
  "nbformat": 4,
  "nbformat_minor": 0
}
