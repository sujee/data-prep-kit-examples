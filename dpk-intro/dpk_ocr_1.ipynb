{
 "cells": [
  {
   "cell_type": "markdown",
   "id": "841e533d-ebb3-406d-9da7-b19e2c5f5866",
   "metadata": {
    "id": "841e533d-ebb3-406d-9da7-b19e2c5f5866"
   },
   "source": [
    "# Data Prep Kit: Process PDF with OCR\n",
    "\n",
    "We will process scanned PDFs and do OCR of hand written text\n",
    "\n",
    "\n",
    "References\n",
    "- [Data prep kit](https://ibm.github.io/data-prep-kit)  is an open source framework that helps with data wrangling.\n",
    "- [github repo](https://github.com/IBM/data-prep-kit)\n"
   ]
  },
  {
   "cell_type": "markdown",
   "id": "b15976e3",
   "metadata": {
    "id": "b15976e3"
   },
   "source": [
    "## How to run this notebook\n",
    "\n",
    "Two options:\n",
    "\n",
    "- **Option 1 - Google Colab:** easiest option.  no setup required.  Click this link to open this on google colab.  [![Open In Colab](https://colab.research.google.com/assets/colab-badge.svg)](https://colab.research.google.com/github/sujee/data-prep-kit-examples/blob/main/dpk-intro/dpk_intro_1_python.ipynb)\n",
    "- **Option 2 - Local python dev environment:**  Setup using this guide: [setting up python dev environment](../setup-python-dev-env.md)\n",
    "\n",
    "The notebook will work as in both environments"
   ]
  },
  {
   "cell_type": "markdown",
   "id": "eb8b0d5c",
   "metadata": {
    "id": "eb8b0d5c"
   },
   "source": [
    "## Step-1: Inspect the Data\n",
    "\n",
    "We will use simple PDFs.  The files are [here](https://github.com/sujee/data-prep-kit-examples/tree/main/data/ocr)\n",
    "\n",
    "- [poem1.pdf](https://github.com/sujee/data-prep-kit-examples/blob/main/data/ocr/poem1.pdf)\n",
    "- [shopping-list1.pdf](https://github.com/sujee/data-prep-kit-examples/blob/main/data/ocr/shopping-list1.pdf)"
   ]
  },
  {
   "cell_type": "markdown",
   "id": "39a0ab6e",
   "metadata": {
    "id": "39a0ab6e"
   },
   "source": [
    "## Step-2: Figure out Runtime Environment\n",
    "\n",
    "### 2.1 - Determine runtime\n",
    "\n",
    "Determine if we are running on Google colab or local python environment"
   ]
  },
  {
   "cell_type": "code",
   "execution_count": 1,
   "id": "1fe354b7",
   "metadata": {
    "colab": {
     "base_uri": "https://localhost:8080/"
    },
    "id": "1fe354b7",
    "outputId": "0a38a7b5-238e-433a-c378-78444908aa8a"
   },
   "outputs": [
    {
     "name": "stdout",
     "output_type": "stream",
     "text": [
      "NOT in Colab\n"
     ]
    }
   ],
   "source": [
    "import os\n",
    "\n",
    "if os.getenv(\"COLAB_RELEASE_TAG\"):\n",
    "   print(\"Running in Colab\")\n",
    "   RUNNING_IN_COLAB = True\n",
    "else:\n",
    "   print(\"NOT in Colab\")\n",
    "   RUNNING_IN_COLAB = False"
   ]
  },
  {
   "cell_type": "markdown",
   "id": "8e7c104b",
   "metadata": {
    "id": "8e7c104b"
   },
   "source": [
    "### 2.2 -Download Data if running on Google Colab"
   ]
  },
  {
   "cell_type": "code",
   "execution_count": null,
   "id": "3309799e",
   "metadata": {
    "colab": {
     "base_uri": "https://localhost:8080/"
    },
    "id": "3309799e",
    "outputId": "9b44b764-d284-4da1-ad55-f08d5c9c0f89"
   },
   "outputs": [],
   "source": [
    "if RUNNING_IN_COLAB:\n",
    "    !mkdir -p 'input'\n",
    "    !wget -O 'input/poem1.pdf'  'https://raw.githubusercontent.com/sujee/data-prep-kit-examples/main/data/ocr/poem1.pdf'\n",
    "    !wget -O 'input/shopping-list.pdf'  'https://raw.githubusercontent.com/sujee/data-prep-kit-examples/main/data/ocr/shopping-list1.pdf'\n",
    "    !wget -O 'utils.py'  'https://raw.githubusercontent.com/sujee/data-prep-kit-examples/main/utils.py'"
   ]
  },
  {
   "cell_type": "markdown",
   "id": "a5dc2b68",
   "metadata": {
    "id": "a5dc2b68"
   },
   "source": [
    "### 2.3 - Install dependencies if running on Google Colab"
   ]
  },
  {
   "cell_type": "code",
   "execution_count": null,
   "id": "1fcec577",
   "metadata": {
    "id": "1fcec577"
   },
   "outputs": [],
   "source": [
    "if RUNNING_IN_COLAB:\n",
    "    ! pip install  --default-timeout=100  \\\n",
    "        data-prep-toolkit-transforms==0.2.2dev2 \\\n",
    "        data-prep-toolkit-transforms-ray==0.2.2dev2 \\\n",
    "        deepsearch-toolkit"
   ]
  },
  {
   "cell_type": "markdown",
   "id": "243322b8",
   "metadata": {
    "id": "243322b8"
   },
   "source": [
    "### 2.4 - Restart Runtime\n",
    "\n",
    "After installing dependencies, be sure <font color=\"red\">restart runtime</font>, so libraries will be loaded\n",
    "\n",
    "You do this by going to **`Runtime --> Restart Session`**\n",
    "\n",
    "Then you can continue to the next step (no need to re-run the notebook)"
   ]
  },
  {
   "cell_type": "markdown",
   "id": "e8b10be1",
   "metadata": {
    "id": "e8b10be1"
   },
   "source": [
    "## Step-3: Configuration"
   ]
  },
  {
   "cell_type": "markdown",
   "id": "356c66f7",
   "metadata": {
    "id": "356c66f7"
   },
   "source": [
    "### 3.1 - Basic Config"
   ]
  },
  {
   "cell_type": "code",
   "execution_count": 4,
   "id": "e4YMZrBuFycl",
   "metadata": {
    "colab": {
     "base_uri": "https://localhost:8080/"
    },
    "id": "e4YMZrBuFycl",
    "outputId": "42a9edae-205f-4dce-cd4e-a159bd8f620b"
   },
   "outputs": [
    {
     "name": "stdout",
     "output_type": "stream",
     "text": [
      "NOT in Colab\n"
     ]
    }
   ],
   "source": [
    "import os\n",
    "\n",
    "if os.getenv(\"COLAB_RELEASE_TAG\"):\n",
    "   print(\"Running in Colab\")\n",
    "   RUNNING_IN_COLAB = True\n",
    "else:\n",
    "   print(\"NOT in Colab\")\n",
    "   RUNNING_IN_COLAB = False"
   ]
  },
  {
   "cell_type": "code",
   "execution_count": 5,
   "id": "33345487",
   "metadata": {
    "colab": {
     "base_uri": "https://localhost:8080/"
    },
    "id": "33345487",
    "outputId": "79b40d76-b4dd-48ea-9638-461c78a637a1"
   },
   "outputs": [],
   "source": [
    "import os\n",
    "\n",
    "## Configuration\n",
    "class MyConfig:\n",
    "    pass\n",
    "\n",
    "MY_CONFIG = MyConfig ()\n",
    "\n",
    "if RUNNING_IN_COLAB:\n",
    "  MY_CONFIG.INPUT_DATA_DIR = 'input'\n",
    "else:\n",
    "  MY_CONFIG.INPUT_DATA_DIR = os.path.join ('..', 'data', 'ocr')\n",
    "  # MY_CONFIG.INPUT_DATA_DIR = os.path.join ('..', 'data', 'forms')\n",
    "  \n",
    "MY_CONFIG.OUTPUT_FOLDER = \"output\"\n",
    "MY_CONFIG.OUTPUT_FOLDER_FINAL = os.path.join(MY_CONFIG.OUTPUT_FOLDER , \"output_final\")\n"
   ]
  },
  {
   "cell_type": "code",
   "execution_count": 6,
   "id": "b15e6827",
   "metadata": {
    "id": "b15e6827"
   },
   "outputs": [],
   "source": [
    "## Add parent dir to path\n",
    "import os,sys\n",
    "\n",
    "this_dir = os.path.abspath('')\n",
    "parent_dir = os.path.dirname(this_dir)\n",
    "sys.path.append (os.path.abspath (parent_dir))"
   ]
  },
  {
   "cell_type": "markdown",
   "id": "72510ae6-48b0-4b88-9e13-a623281c3a63",
   "metadata": {
    "id": "72510ae6-48b0-4b88-9e13-a623281c3a63"
   },
   "source": [
    "### 3.2 - Setup input/outpur directories"
   ]
  },
  {
   "cell_type": "code",
   "execution_count": 7,
   "id": "60ac8bee-0960-4309-b225-d7a211b14262",
   "metadata": {
    "colab": {
     "base_uri": "https://localhost:8080/"
    },
    "id": "60ac8bee-0960-4309-b225-d7a211b14262",
    "outputId": "5c305d54-1c91-455d-d0e2-b514b61a068b"
   },
   "outputs": [
    {
     "name": "stdout",
     "output_type": "stream",
     "text": [
      "✅ Cleared output directory\n"
     ]
    }
   ],
   "source": [
    "import os, sys\n",
    "import shutil\n",
    "\n",
    "if not os.path.exists(MY_CONFIG.INPUT_DATA_DIR ):\n",
    "    raise Exception (f\"❌ Input folder MY_CONFIG.INPUT_DATA_DIR = '{MY_CONFIG.INPUT_DATA_DIR}' not found\")\n",
    "\n",
    "output_parquet_dir = os.path.join (MY_CONFIG.OUTPUT_FOLDER, '01_parquet_out')\n",
    "output_chunk_dir = os.path.join (MY_CONFIG.OUTPUT_FOLDER, '02_chunk_out')\n",
    "\n",
    "## clear output folder\n",
    "shutil.rmtree(MY_CONFIG.OUTPUT_FOLDER, ignore_errors=True)\n",
    "shutil.os.makedirs(MY_CONFIG.OUTPUT_FOLDER, exist_ok=True)\n",
    "\n",
    "print (\"✅ Cleared output directory\")"
   ]
  },
  {
   "cell_type": "markdown",
   "id": "2449e5c7-078c-4ad6-a2f6-21d39d4da3fb",
   "metadata": {
    "id": "2449e5c7-078c-4ad6-a2f6-21d39d4da3fb"
   },
   "source": [
    "## Step-4: pdf2parquet -  Convert data from PDF to Parquet\n",
    "\n",
    "This step is reading the input folder containing all PDF files and ingest them in a parquet table using the [Docling package](https://github.com/DS4SD/docling).\n",
    "The documents are converted into a JSON format which allows to easily chunk it in the later steps.\n",
    "\n"
   ]
  },
  {
   "cell_type": "markdown",
   "id": "c0c574c4-9dc4-4dab-9ad6-b5338207e67a",
   "metadata": {
    "id": "c0c574c4-9dc4-4dab-9ad6-b5338207e67a"
   },
   "source": [
    "### 4.1 - Set Input/output Folder"
   ]
  },
  {
   "cell_type": "code",
   "execution_count": 8,
   "id": "482605b2-d814-456d-9195-49a2ec454ef0",
   "metadata": {
    "colab": {
     "base_uri": "https://localhost:8080/"
    },
    "id": "482605b2-d814-456d-9195-49a2ec454ef0",
    "outputId": "90eb1f89-35d1-4b6f-ea34-7667680dd256"
   },
   "outputs": [
    {
     "name": "stdout",
     "output_type": "stream",
     "text": [
      "🏃🏼 STAGE-1: Processing input='../data/ocr' --> output='output/01_parquet_out'\n"
     ]
    }
   ],
   "source": [
    "STAGE = 1\n",
    "\n",
    "input_folder = MY_CONFIG.INPUT_DATA_DIR\n",
    "output_folder =  output_parquet_dir\n",
    "\n",
    "print (f\"🏃🏼 STAGE-{STAGE}: Processing input='{input_folder}' --> output='{output_folder}'\")"
   ]
  },
  {
   "cell_type": "markdown",
   "id": "9bb15f02-ab5c-4525-a536-cfa1fd2ba70b",
   "metadata": {
    "id": "9bb15f02-ab5c-4525-a536-cfa1fd2ba70b"
   },
   "source": [
    "### 4.2 - Execute"
   ]
  },
  {
   "cell_type": "code",
   "execution_count": 9,
   "id": "b0cd8ebd-bf71-42d6-a397-8df0c7b66a26",
   "metadata": {
    "colab": {
     "base_uri": "https://localhost:8080/",
     "height": 625,
     "referenced_widgets": [
      "8226b2522ce446f6bd3a36c4e227370c",
      "7616f1b493e1461c9fd1319fae3bc10b",
      "4f63bfad92b64e7bae18e720376d402d",
      "6957a659451b46dab702c1c62fa9cdd2",
      "2eea7bc810e54eaeb325136352b71e66",
      "ebc626c0750c470db6789b26acf15f60",
      "3077f04af3a9447ab98717bd3131cd8f",
      "709685da1c6c4164bed658357a2191bf",
      "0a1ed94698ca4e4291c553929e0ca66c",
      "5dbc6889a9c243c5a922f8cc5f1a704c",
      "d6e520e4da004c818031ccfcc3588e5d"
     ]
    },
    "id": "b0cd8ebd-bf71-42d6-a397-8df0c7b66a26",
    "outputId": "e2c85b44-f605-4817-c120-2cdce79e3c84"
   },
   "outputs": [
    {
     "name": "stderr",
     "output_type": "stream",
     "text": [
      "23:31:44 INFO - pdf2parquet parameters are : {'batch_size': -1, 'artifacts_path': None, 'contents_type': <pdf2parquet_contents_types.JSON: 'application/json'>, 'do_table_structure': True, 'do_ocr': True, 'ocr_engine': <pdf2parquet_ocr_engine.EASYOCR: 'easyocr'>, 'bitmap_area_threshold': 0.05, 'pdf_backend': <pdf2parquet_pdf_backend.DLPARSE_V2: 'dlparse_v2'>, 'double_precision': 8}\n",
      "23:31:44 INFO - pipeline id pipeline_id\n",
      "23:31:44 INFO - code location None\n",
      "23:31:44 INFO - data factory data_ is using local data access: input_folder - ../data/ocr output_folder - output/01_parquet_out\n",
      "23:31:44 INFO - data factory data_ max_files -1, n_sample -1\n",
      "23:31:44 INFO - data factory data_ Not using data sets, checkpointing False, max files -1, random samples -1, files to use ['.pdf'], files to checkpoint ['.parquet']\n",
      "23:31:44 INFO - orchestrator pdf2parquet started at 2024-11-04 23:31:44\n",
      "23:31:44 INFO - Number of files is 2, source profile {'max_file_size': 0.31499481201171875, 'min_file_size': 0.28550148010253906, 'total_file_size': 0.6004962921142578}\n",
      "23:31:44 INFO - Initializing models\n"
     ]
    },
    {
     "data": {
      "application/vnd.jupyter.widget-view+json": {
       "model_id": "e1acb71925b04494924302f359fac94d",
       "version_major": 2,
       "version_minor": 0
      },
      "text/plain": [
       "Fetching 9 files:   0%|          | 0/9 [00:00<?, ?it/s]"
      ]
     },
     "metadata": {},
     "output_type": "display_data"
    },
    {
     "name": "stderr",
     "output_type": "stream",
     "text": [
      "23:31:49 ERROR - Fatal error with file file_name='/home/sujee/my-stuff/projects/ai-alliance/data-prep-kit-examples/data/ocr/poem1.pdf'. No results produced.\n",
      "23:31:49 WARNING - Exception processing file /home/sujee/my-stuff/projects/ai-alliance/data-prep-kit-examples/data/ocr/poem1.pdf: Traceback (most recent call last):\n",
      "  File \"/home/sujee/apps/anaconda3/envs/dpk-6-basic-022dev2-py311/lib/python3.11/site-packages/data_processing/runtime/transform_file_processor.py\", line 79, in process_file\n",
      "    out_files, stats = self.transform.transform_binary(file_name=f_name, byte_array=filedata)\n",
      "                       ^^^^^^^^^^^^^^^^^^^^^^^^^^^^^^^^^^^^^^^^^^^^^^^^^^^^^^^^^^^^^^^^^^^^^^\n",
      "  File \"/home/sujee/apps/anaconda3/envs/dpk-6-basic-022dev2-py311/lib/python3.11/site-packages/pdf2parquet_transform.py\", line 371, in transform_binary\n",
      "    table = pa.Table.from_pylist(data)\n",
      "            ^^^^^^^^^^^^^^^^^^^^^^^^^^\n",
      "  File \"pyarrow/table.pxi\", line 1984, in pyarrow.lib._Tabular.from_pylist\n",
      "  File \"pyarrow/table.pxi\", line 6044, in pyarrow.lib._from_pylist\n",
      "  File \"pyarrow/table.pxi\", line 4625, in pyarrow.lib.Table.from_arrays\n",
      "  File \"pyarrow/table.pxi\", line 1547, in pyarrow.lib._sanitize_arrays\n",
      "  File \"pyarrow/table.pxi\", line 1528, in pyarrow.lib._schema_from_arrays\n",
      "  File \"pyarrow/array.pxi\", line 355, in pyarrow.lib.array\n",
      "  File \"pyarrow/array.pxi\", line 42, in pyarrow.lib._sequence_to_array\n",
      "  File \"pyarrow/error.pxi\", line 154, in pyarrow.lib.pyarrow_internal_check_status\n",
      "  File \"pyarrow/error.pxi\", line 88, in pyarrow.lib.check_status\n",
      "OverflowError: Python int too large to convert to C long\n",
      "\n",
      "23:31:49 INFO - Completed 1 files (50.0%) in 0.037 min\n",
      "23:31:51 INFO - Completed 2 files (100.0%) in 0.06 min\n",
      "23:31:51 INFO - Done processing 2 files, waiting for flush() completion.\n",
      "23:31:51 INFO - done flushing in 0.0 sec\n",
      "23:31:51 INFO - Completed execution in 0.119 min, execution result 0\n"
     ]
    },
    {
     "name": "stdout",
     "output_type": "stream",
     "text": [
      "✅ Stage:1 completed successfully\n",
      "CPU times: user 13.3 s, sys: 2.34 s, total: 15.6 s\n",
      "Wall time: 11.3 s\n"
     ]
    }
   ],
   "source": [
    "%%time\n",
    "\n",
    "import ast\n",
    "import os\n",
    "import sys\n",
    "\n",
    "from pdf2parquet_transform import (\n",
    "    pdf2parquet_contents_type_cli_param,\n",
    "    pdf2parquet_contents_types,\n",
    ")\n",
    "from data_processing.runtime.pure_python import PythonTransformLauncher\n",
    "from pdf2parquet_transform_python import Pdf2ParquetPythonTransformConfiguration\n",
    "\n",
    "from data_processing.utils import GB, ParamsUtils\n",
    "\n",
    "\n",
    "# create parameters\n",
    "local_conf = {\n",
    "    \"input_folder\": input_folder,\n",
    "    \"output_folder\": output_folder,\n",
    "}\n",
    "ingest_config = {\n",
    "    pdf2parquet_contents_type_cli_param: pdf2parquet_contents_types.JSON,\n",
    "}\n",
    "\n",
    "params = {\n",
    "    \"data_local_config\": ParamsUtils.convert_to_ast(local_conf),\n",
    "    \"data_files_to_use\": ast.literal_eval(\"['.pdf']\"),\n",
    "    \"pdf2parquet_do_ocr\" : True,\n",
    "}\n",
    "\n",
    "\n",
    "sys.argv = ParamsUtils.dict_to_req(d=(params | ingest_config))\n",
    "# create launcher\n",
    "launcher = PythonTransformLauncher(Pdf2ParquetPythonTransformConfiguration())\n",
    "# launch\n",
    "return_code = launcher.launch()\n",
    "\n",
    "if return_code == 0:\n",
    "    print (f\"✅ Stage:{STAGE} completed successfully\")\n",
    "else:\n",
    "    raise Exception (\"❌ Job failed\")\n"
   ]
  },
  {
   "cell_type": "markdown",
   "id": "5ca790e0",
   "metadata": {
    "id": "5ca790e0"
   },
   "source": [
    "### 4.3 - Inspect Generated output\n",
    "\n",
    "Here we should see one entry per input file processed."
   ]
  },
  {
   "cell_type": "code",
   "execution_count": 10,
   "id": "fe59563d",
   "metadata": {
    "colab": {
     "base_uri": "https://localhost:8080/",
     "height": 254
    },
    "id": "fe59563d",
    "outputId": "9eb9a350-c7be-4306-a8ae-4d2414d6c271"
   },
   "outputs": [
    {
     "name": "stdout",
     "output_type": "stream",
     "text": [
      "Output dimensions (rows x columns)=  (1, 13)\n"
     ]
    },
    {
     "data": {
      "text/html": [
       "<div>\n",
       "<style scoped>\n",
       "    .dataframe tbody tr th:only-of-type {\n",
       "        vertical-align: middle;\n",
       "    }\n",
       "\n",
       "    .dataframe tbody tr th {\n",
       "        vertical-align: top;\n",
       "    }\n",
       "\n",
       "    .dataframe thead th {\n",
       "        text-align: right;\n",
       "    }\n",
       "</style>\n",
       "<table border=\"1\" class=\"dataframe\">\n",
       "  <thead>\n",
       "    <tr style=\"text-align: right;\">\n",
       "      <th></th>\n",
       "      <th>filename</th>\n",
       "      <th>contents</th>\n",
       "      <th>num_pages</th>\n",
       "      <th>num_tables</th>\n",
       "      <th>num_doc_elements</th>\n",
       "      <th>document_id</th>\n",
       "      <th>document_hash</th>\n",
       "      <th>ext</th>\n",
       "      <th>hash</th>\n",
       "      <th>size</th>\n",
       "      <th>date_acquired</th>\n",
       "      <th>pdf_convert_time</th>\n",
       "      <th>source_filename</th>\n",
       "    </tr>\n",
       "  </thead>\n",
       "  <tbody>\n",
       "    <tr>\n",
       "      <th>0</th>\n",
       "      <td>shopping-list.pdf</td>\n",
       "      <td>{\"schema_name\":\"DoclingDocument\",\"version\":\"1....</td>\n",
       "      <td>1</td>\n",
       "      <td>1</td>\n",
       "      <td>0</td>\n",
       "      <td>3ed7066c-1fe8-48b8-9901-6c3ffa0614e2</td>\n",
       "      <td>7976019744775581307</td>\n",
       "      <td>pdf</td>\n",
       "      <td>ce06863613c95cb82f3eb90f1f6426bdb92bb189762fbd...</td>\n",
       "      <td>3279</td>\n",
       "      <td>2024-11-04T23:31:51.237089</td>\n",
       "      <td>1.417158</td>\n",
       "      <td>shopping-list.pdf</td>\n",
       "    </tr>\n",
       "  </tbody>\n",
       "</table>\n",
       "</div>"
      ],
      "text/plain": [
       "            filename                                           contents  \\\n",
       "0  shopping-list.pdf  {\"schema_name\":\"DoclingDocument\",\"version\":\"1....   \n",
       "\n",
       "   num_pages  num_tables  num_doc_elements  \\\n",
       "0          1           1                 0   \n",
       "\n",
       "                            document_id        document_hash  ext  \\\n",
       "0  3ed7066c-1fe8-48b8-9901-6c3ffa0614e2  7976019744775581307  pdf   \n",
       "\n",
       "                                                hash  size  \\\n",
       "0  ce06863613c95cb82f3eb90f1f6426bdb92bb189762fbd...  3279   \n",
       "\n",
       "                date_acquired  pdf_convert_time    source_filename  \n",
       "0  2024-11-04T23:31:51.237089          1.417158  shopping-list.pdf  "
      ]
     },
     "execution_count": 10,
     "metadata": {},
     "output_type": "execute_result"
    }
   ],
   "source": [
    "from utils import read_parquet_files_as_df\n",
    "\n",
    "output_df = read_parquet_files_as_df(output_folder)\n",
    "\n",
    "print (\"Output dimensions (rows x columns)= \", output_df.shape)\n",
    "\n",
    "output_df.head(5)\n",
    "\n",
    "## To display certain columns\n",
    "#parquet_df[['column1', 'column2', 'column3']].head(5)"
   ]
  },
  {
   "cell_type": "markdown",
   "id": "e5058a21",
   "metadata": {
    "id": "e5058a21"
   },
   "source": [
    "\n",
    "### 4.4 - Understand the output\n",
    "\n",
    "Here are some interesting attributes to note:\n",
    "\n",
    "- **filename** : original filename\n",
    "- **contents** : text\n",
    "- **document_id**: unique id (UUID) assignd to this document\n",
    "- **hash** : hash of document\n",
    "- **pdf_convert_time** : time to convert this pdf in seconds\n",
    "\n",
    "Let's inspect the **contents** column.  See how the text is being divided up!"
   ]
  },
  {
   "cell_type": "code",
   "execution_count": 11,
   "id": "f870e624",
   "metadata": {
    "colab": {
     "base_uri": "https://localhost:8080/"
    },
    "id": "f870e624",
    "outputId": "f70bfa9f-62f8-417d-d91a-30c1f024ccbd"
   },
   "outputs": [
    {
     "name": "stdout",
     "output_type": "stream",
     "text": [
      "{'body': {'children': [{'$ref': '#/tables/0'}],\n",
      "          'label': 'unspecified',\n",
      "          'name': '_root_',\n",
      "          'self_ref': '#/body'},\n",
      " 'furniture': {'children': [],\n",
      "               'label': 'unspecified',\n",
      "               'name': '_root_',\n",
      "               'self_ref': '#/furniture'},\n",
      " 'groups': [],\n",
      " 'key_value_items': [],\n",
      " 'name': 'shopping-list',\n",
      " 'origin': {'binary_hash': 7976019744775581307,\n",
      "            'filename': 'shopping-list.pdf',\n",
      "            'mimetype': 'application/pdf'},\n",
      " 'pages': {'1': {'page_no': 1,\n",
      "                 'size': {'height': 658.32000732, 'width': 477.6000061}}},\n",
      " 'pictures': [],\n",
      " 'schema_name': 'DoclingDocument',\n",
      " 'tables': [{'captions': [],\n",
      "             'children': [],\n",
      "             'data': {'grid': [[{'bbox': {'b': 553.32000732,\n",
      "                                          'coord_origin': 'BOTTOMLEFT',\n",
      "                                          'l': 79.43351746,\n",
      "                                          'r': 154.33332825,\n",
      "                                          't': 577.65332031},\n",
      "                                 'col_span': 1,\n",
      "                                 'column_header': False,\n",
      "                                 'end_col_offset_idx': 1,\n",
      "                                 'end_row_offset_idx': 1,\n",
      "                                 'row_header': False,\n",
      "                                 'row_section': False,\n",
      "                                 'row_span': 1,\n",
      "                                 'start_col_offset_idx': 0,\n",
      "                                 'start_row_offset_idx': 0,\n",
      "                                 'text': 'UK m?'}],\n",
      "                               [{'bbox': {'b': 502.98666382,\n",
      "                                          'coord_origin': 'BOTTOMLEFT',\n",
      "                                          'l': 83.66666412,\n",
      "                                          'r': 171.66667175,\n",
      "                                          't': 527.65332031},\n",
      "                                 'col_span': 1,\n",
      "                                 'column_header': False,\n",
      "                                 'end_col_offset_idx': 1,\n",
      "                                 'end_row_offset_idx': 2,\n",
      "                                 'row_header': False,\n",
      "                                 'row_section': False,\n",
      "                                 'row_span': 1,\n",
      "                                 'start_col_offset_idx': 0,\n",
      "                                 'start_row_offset_idx': 1,\n",
      "                                 'text': 'by ead'}],\n",
      "                               [{'bbox': {'b': 454.98666382,\n",
      "                                          'coord_origin': 'BOTTOMLEFT',\n",
      "                                          'l': 86.66666412,\n",
      "                                          'r': 178.0,\n",
      "                                          't': 476.98666382},\n",
      "                                 'col_span': 1,\n",
      "                                 'column_header': False,\n",
      "                                 'end_col_offset_idx': 1,\n",
      "                                 'end_row_offset_idx': 3,\n",
      "                                 'row_header': False,\n",
      "                                 'row_section': False,\n",
      "                                 'row_span': 1,\n",
      "                                 'start_col_offset_idx': 0,\n",
      "                                 'start_row_offset_idx': 2,\n",
      "                                 'text': 'banana'}],\n",
      "                               [{'bbox': {'b': 402.32000732,\n",
      "                                          'coord_origin': 'BOTTOMLEFT',\n",
      "                                          'l': 92.0,\n",
      "                                          'r': 227.66667175,\n",
      "                                          't': 429.65335083},\n",
      "                                 'col_span': 1,\n",
      "                                 'column_header': False,\n",
      "                                 'end_col_offset_idx': 1,\n",
      "                                 'end_row_offset_idx': 4,\n",
      "                                 'row_header': False,\n",
      "                                 'row_section': False,\n",
      "                                 'row_span': 1,\n",
      "                                 'start_col_offset_idx': 0,\n",
      "                                 'start_row_offset_idx': 3,\n",
      "                                 'text': ':ce Cyeqm'}]],\n",
      "                      'num_cols': 1,\n",
      "                      'num_rows': 4,\n",
      "                      'table_cells': [{'bbox': {'b': 553.32000732,\n",
      "                                                'coord_origin': 'BOTTOMLEFT',\n",
      "                                                'l': 79.43351746,\n",
      "                                                'r': 154.33332825,\n",
      "                                                't': 577.65332031},\n",
      "                                       'col_span': 1,\n",
      "                                       'column_header': False,\n",
      "                                       'end_col_offset_idx': 1,\n",
      "                                       'end_row_offset_idx': 1,\n",
      "                                       'row_header': False,\n",
      "                                       'row_section': False,\n",
      "                                       'row_span': 1,\n",
      "                                       'start_col_offset_idx': 0,\n",
      "                                       'start_row_offset_idx': 0,\n",
      "                                       'text': 'UK m?'},\n",
      "                                      {'bbox': {'b': 502.98666382,\n",
      "                                                'coord_origin': 'BOTTOMLEFT',\n",
      "                                                'l': 83.66666412,\n",
      "                                                'r': 171.66667175,\n",
      "                                                't': 527.65332031},\n",
      "                                       'col_span': 1,\n",
      "                                       'column_header': False,\n",
      "                                       'end_col_offset_idx': 1,\n",
      "                                       'end_row_offset_idx': 2,\n",
      "                                       'row_header': False,\n",
      "                                       'row_section': False,\n",
      "                                       'row_span': 1,\n",
      "                                       'start_col_offset_idx': 0,\n",
      "                                       'start_row_offset_idx': 1,\n",
      "                                       'text': 'by ead'},\n",
      "                                      {'bbox': {'b': 454.98666382,\n",
      "                                                'coord_origin': 'BOTTOMLEFT',\n",
      "                                                'l': 86.66666412,\n",
      "                                                'r': 178.0,\n",
      "                                                't': 476.98666382},\n",
      "                                       'col_span': 1,\n",
      "                                       'column_header': False,\n",
      "                                       'end_col_offset_idx': 1,\n",
      "                                       'end_row_offset_idx': 3,\n",
      "                                       'row_header': False,\n",
      "                                       'row_section': False,\n",
      "                                       'row_span': 1,\n",
      "                                       'start_col_offset_idx': 0,\n",
      "                                       'start_row_offset_idx': 2,\n",
      "                                       'text': 'banana'},\n",
      "                                      {'bbox': {'b': 402.32000732,\n",
      "                                                'coord_origin': 'BOTTOMLEFT',\n",
      "                                                'l': 92.0,\n",
      "                                                'r': 227.66667175,\n",
      "                                                't': 429.65335083},\n",
      "                                       'col_span': 1,\n",
      "                                       'column_header': False,\n",
      "                                       'end_col_offset_idx': 1,\n",
      "                                       'end_row_offset_idx': 4,\n",
      "                                       'row_header': False,\n",
      "                                       'row_section': False,\n",
      "                                       'row_span': 1,\n",
      "                                       'start_col_offset_idx': 0,\n",
      "                                       'start_row_offset_idx': 3,\n",
      "                                       'text': ':ce Cyeqm'}]},\n",
      "             'footnotes': [],\n",
      "             'label': 'table',\n",
      "             'parent': {'$ref': '#/body'},\n",
      "             'prov': [{'bbox': {'b': 0.32000732,\n",
      "                                'coord_origin': 'BOTTOMLEFT',\n",
      "                                'l': 0.18247074,\n",
      "                                'r': 477.6060791,\n",
      "                                't': 657.7322998},\n",
      "                       'charspan': [0, 0],\n",
      "                       'page_no': 1}],\n",
      "             'references': [],\n",
      "             'self_ref': '#/tables/0'}],\n",
      " 'texts': [],\n",
      " 'version': '1.0.0'}\n"
     ]
    }
   ],
   "source": [
    "import pprint\n",
    "import json\n",
    "\n",
    "pprint.pprint (json.loads(output_df.iloc[0, ]['contents']))\n",
    "# json.loads(output_df.iloc[0, ]['contents'])"
   ]
  },
  {
   "cell_type": "code",
   "execution_count": 12,
   "id": "e1a10c2d",
   "metadata": {
    "colab": {
     "base_uri": "https://localhost:8080/"
    },
    "id": "e1a10c2d",
    "outputId": "300e7688-692a-4039-c4a4-a86887d9138b"
   },
   "outputs": [
    {
     "ename": "IndexError",
     "evalue": "single positional indexer is out-of-bounds",
     "output_type": "error",
     "traceback": [
      "\u001b[0;31m---------------------------------------------------------------------------\u001b[0m",
      "\u001b[0;31mIndexError\u001b[0m                                Traceback (most recent call last)",
      "Cell \u001b[0;32mIn[12], line 1\u001b[0m\n\u001b[0;32m----> 1\u001b[0m pprint\u001b[38;5;241m.\u001b[39mpprint (json\u001b[38;5;241m.\u001b[39mloads(\u001b[43moutput_df\u001b[49m\u001b[38;5;241;43m.\u001b[39;49m\u001b[43miloc\u001b[49m\u001b[43m[\u001b[49m\u001b[38;5;241;43m1\u001b[39;49m\u001b[43m,\u001b[49m\u001b[43m \u001b[49m\u001b[43m]\u001b[49m[\u001b[38;5;124m'\u001b[39m\u001b[38;5;124mcontents\u001b[39m\u001b[38;5;124m'\u001b[39m]))\n",
      "File \u001b[0;32m~/apps/anaconda3/envs/dpk-6-basic-022dev2-py311/lib/python3.11/site-packages/pandas/core/indexing.py:1184\u001b[0m, in \u001b[0;36m_LocationIndexer.__getitem__\u001b[0;34m(self, key)\u001b[0m\n\u001b[1;32m   1182\u001b[0m     \u001b[38;5;28;01mif\u001b[39;00m \u001b[38;5;28mself\u001b[39m\u001b[38;5;241m.\u001b[39m_is_scalar_access(key):\n\u001b[1;32m   1183\u001b[0m         \u001b[38;5;28;01mreturn\u001b[39;00m \u001b[38;5;28mself\u001b[39m\u001b[38;5;241m.\u001b[39mobj\u001b[38;5;241m.\u001b[39m_get_value(\u001b[38;5;241m*\u001b[39mkey, takeable\u001b[38;5;241m=\u001b[39m\u001b[38;5;28mself\u001b[39m\u001b[38;5;241m.\u001b[39m_takeable)\n\u001b[0;32m-> 1184\u001b[0m     \u001b[38;5;28;01mreturn\u001b[39;00m \u001b[38;5;28;43mself\u001b[39;49m\u001b[38;5;241;43m.\u001b[39;49m\u001b[43m_getitem_tuple\u001b[49m\u001b[43m(\u001b[49m\u001b[43mkey\u001b[49m\u001b[43m)\u001b[49m\n\u001b[1;32m   1185\u001b[0m \u001b[38;5;28;01melse\u001b[39;00m:\n\u001b[1;32m   1186\u001b[0m     \u001b[38;5;66;03m# we by definition only have the 0th axis\u001b[39;00m\n\u001b[1;32m   1187\u001b[0m     axis \u001b[38;5;241m=\u001b[39m \u001b[38;5;28mself\u001b[39m\u001b[38;5;241m.\u001b[39maxis \u001b[38;5;129;01mor\u001b[39;00m \u001b[38;5;241m0\u001b[39m\n",
      "File \u001b[0;32m~/apps/anaconda3/envs/dpk-6-basic-022dev2-py311/lib/python3.11/site-packages/pandas/core/indexing.py:1690\u001b[0m, in \u001b[0;36m_iLocIndexer._getitem_tuple\u001b[0;34m(self, tup)\u001b[0m\n\u001b[1;32m   1689\u001b[0m \u001b[38;5;28;01mdef\u001b[39;00m \u001b[38;5;21m_getitem_tuple\u001b[39m(\u001b[38;5;28mself\u001b[39m, tup: \u001b[38;5;28mtuple\u001b[39m):\n\u001b[0;32m-> 1690\u001b[0m     tup \u001b[38;5;241m=\u001b[39m \u001b[38;5;28;43mself\u001b[39;49m\u001b[38;5;241;43m.\u001b[39;49m\u001b[43m_validate_tuple_indexer\u001b[49m\u001b[43m(\u001b[49m\u001b[43mtup\u001b[49m\u001b[43m)\u001b[49m\n\u001b[1;32m   1691\u001b[0m     \u001b[38;5;28;01mwith\u001b[39;00m suppress(IndexingError):\n\u001b[1;32m   1692\u001b[0m         \u001b[38;5;28;01mreturn\u001b[39;00m \u001b[38;5;28mself\u001b[39m\u001b[38;5;241m.\u001b[39m_getitem_lowerdim(tup)\n",
      "File \u001b[0;32m~/apps/anaconda3/envs/dpk-6-basic-022dev2-py311/lib/python3.11/site-packages/pandas/core/indexing.py:966\u001b[0m, in \u001b[0;36m_LocationIndexer._validate_tuple_indexer\u001b[0;34m(self, key)\u001b[0m\n\u001b[1;32m    964\u001b[0m \u001b[38;5;28;01mfor\u001b[39;00m i, k \u001b[38;5;129;01min\u001b[39;00m \u001b[38;5;28menumerate\u001b[39m(key):\n\u001b[1;32m    965\u001b[0m     \u001b[38;5;28;01mtry\u001b[39;00m:\n\u001b[0;32m--> 966\u001b[0m         \u001b[38;5;28;43mself\u001b[39;49m\u001b[38;5;241;43m.\u001b[39;49m\u001b[43m_validate_key\u001b[49m\u001b[43m(\u001b[49m\u001b[43mk\u001b[49m\u001b[43m,\u001b[49m\u001b[43m \u001b[49m\u001b[43mi\u001b[49m\u001b[43m)\u001b[49m\n\u001b[1;32m    967\u001b[0m     \u001b[38;5;28;01mexcept\u001b[39;00m \u001b[38;5;167;01mValueError\u001b[39;00m \u001b[38;5;28;01mas\u001b[39;00m err:\n\u001b[1;32m    968\u001b[0m         \u001b[38;5;28;01mraise\u001b[39;00m \u001b[38;5;167;01mValueError\u001b[39;00m(\n\u001b[1;32m    969\u001b[0m             \u001b[38;5;124m\"\u001b[39m\u001b[38;5;124mLocation based indexing can only have \u001b[39m\u001b[38;5;124m\"\u001b[39m\n\u001b[1;32m    970\u001b[0m             \u001b[38;5;124mf\u001b[39m\u001b[38;5;124m\"\u001b[39m\u001b[38;5;124m[\u001b[39m\u001b[38;5;132;01m{\u001b[39;00m\u001b[38;5;28mself\u001b[39m\u001b[38;5;241m.\u001b[39m_valid_types\u001b[38;5;132;01m}\u001b[39;00m\u001b[38;5;124m] types\u001b[39m\u001b[38;5;124m\"\u001b[39m\n\u001b[1;32m    971\u001b[0m         ) \u001b[38;5;28;01mfrom\u001b[39;00m \u001b[38;5;21;01merr\u001b[39;00m\n",
      "File \u001b[0;32m~/apps/anaconda3/envs/dpk-6-basic-022dev2-py311/lib/python3.11/site-packages/pandas/core/indexing.py:1592\u001b[0m, in \u001b[0;36m_iLocIndexer._validate_key\u001b[0;34m(self, key, axis)\u001b[0m\n\u001b[1;32m   1590\u001b[0m     \u001b[38;5;28;01mreturn\u001b[39;00m\n\u001b[1;32m   1591\u001b[0m \u001b[38;5;28;01melif\u001b[39;00m is_integer(key):\n\u001b[0;32m-> 1592\u001b[0m     \u001b[38;5;28;43mself\u001b[39;49m\u001b[38;5;241;43m.\u001b[39;49m\u001b[43m_validate_integer\u001b[49m\u001b[43m(\u001b[49m\u001b[43mkey\u001b[49m\u001b[43m,\u001b[49m\u001b[43m \u001b[49m\u001b[43maxis\u001b[49m\u001b[43m)\u001b[49m\n\u001b[1;32m   1593\u001b[0m \u001b[38;5;28;01melif\u001b[39;00m \u001b[38;5;28misinstance\u001b[39m(key, \u001b[38;5;28mtuple\u001b[39m):\n\u001b[1;32m   1594\u001b[0m     \u001b[38;5;66;03m# a tuple should already have been caught by this point\u001b[39;00m\n\u001b[1;32m   1595\u001b[0m     \u001b[38;5;66;03m# so don't treat a tuple as a valid indexer\u001b[39;00m\n\u001b[1;32m   1596\u001b[0m     \u001b[38;5;28;01mraise\u001b[39;00m IndexingError(\u001b[38;5;124m\"\u001b[39m\u001b[38;5;124mToo many indexers\u001b[39m\u001b[38;5;124m\"\u001b[39m)\n",
      "File \u001b[0;32m~/apps/anaconda3/envs/dpk-6-basic-022dev2-py311/lib/python3.11/site-packages/pandas/core/indexing.py:1685\u001b[0m, in \u001b[0;36m_iLocIndexer._validate_integer\u001b[0;34m(self, key, axis)\u001b[0m\n\u001b[1;32m   1683\u001b[0m len_axis \u001b[38;5;241m=\u001b[39m \u001b[38;5;28mlen\u001b[39m(\u001b[38;5;28mself\u001b[39m\u001b[38;5;241m.\u001b[39mobj\u001b[38;5;241m.\u001b[39m_get_axis(axis))\n\u001b[1;32m   1684\u001b[0m \u001b[38;5;28;01mif\u001b[39;00m key \u001b[38;5;241m>\u001b[39m\u001b[38;5;241m=\u001b[39m len_axis \u001b[38;5;129;01mor\u001b[39;00m key \u001b[38;5;241m<\u001b[39m \u001b[38;5;241m-\u001b[39mlen_axis:\n\u001b[0;32m-> 1685\u001b[0m     \u001b[38;5;28;01mraise\u001b[39;00m \u001b[38;5;167;01mIndexError\u001b[39;00m(\u001b[38;5;124m\"\u001b[39m\u001b[38;5;124msingle positional indexer is out-of-bounds\u001b[39m\u001b[38;5;124m\"\u001b[39m)\n",
      "\u001b[0;31mIndexError\u001b[0m: single positional indexer is out-of-bounds"
     ]
    }
   ],
   "source": [
    "pprint.pprint (json.loads(output_df.iloc[1, ]['contents']))"
   ]
  }
 ],
 "metadata": {
  "colab": {
   "provenance": []
  },
  "kernelspec": {
   "display_name": "dpk-6-basic-022dev2-py311",
   "language": "python",
   "name": "python3"
  },
  "language_info": {
   "codemirror_mode": {
    "name": "ipython",
    "version": 3
   },
   "file_extension": ".py",
   "mimetype": "text/x-python",
   "name": "python",
   "nbconvert_exporter": "python",
   "pygments_lexer": "ipython3",
   "version": "3.11.10"
  },
  "widgets": {
   "application/vnd.jupyter.widget-state+json": {
    "0a1ed94698ca4e4291c553929e0ca66c": {
     "model_module": "@jupyter-widgets/controls",
     "model_module_version": "1.5.0",
     "model_name": "ProgressStyleModel",
     "state": {
      "_model_module": "@jupyter-widgets/controls",
      "_model_module_version": "1.5.0",
      "_model_name": "ProgressStyleModel",
      "_view_count": null,
      "_view_module": "@jupyter-widgets/base",
      "_view_module_version": "1.2.0",
      "_view_name": "StyleView",
      "bar_color": null,
      "description_width": ""
     }
    },
    "2eea7bc810e54eaeb325136352b71e66": {
     "model_module": "@jupyter-widgets/base",
     "model_module_version": "1.2.0",
     "model_name": "LayoutModel",
     "state": {
      "_model_module": "@jupyter-widgets/base",
      "_model_module_version": "1.2.0",
      "_model_name": "LayoutModel",
      "_view_count": null,
      "_view_module": "@jupyter-widgets/base",
      "_view_module_version": "1.2.0",
      "_view_name": "LayoutView",
      "align_content": null,
      "align_items": null,
      "align_self": null,
      "border": null,
      "bottom": null,
      "display": null,
      "flex": null,
      "flex_flow": null,
      "grid_area": null,
      "grid_auto_columns": null,
      "grid_auto_flow": null,
      "grid_auto_rows": null,
      "grid_column": null,
      "grid_gap": null,
      "grid_row": null,
      "grid_template_areas": null,
      "grid_template_columns": null,
      "grid_template_rows": null,
      "height": null,
      "justify_content": null,
      "justify_items": null,
      "left": null,
      "margin": null,
      "max_height": null,
      "max_width": null,
      "min_height": null,
      "min_width": null,
      "object_fit": null,
      "object_position": null,
      "order": null,
      "overflow": null,
      "overflow_x": null,
      "overflow_y": null,
      "padding": null,
      "right": null,
      "top": null,
      "visibility": null,
      "width": null
     }
    },
    "3077f04af3a9447ab98717bd3131cd8f": {
     "model_module": "@jupyter-widgets/controls",
     "model_module_version": "1.5.0",
     "model_name": "DescriptionStyleModel",
     "state": {
      "_model_module": "@jupyter-widgets/controls",
      "_model_module_version": "1.5.0",
      "_model_name": "DescriptionStyleModel",
      "_view_count": null,
      "_view_module": "@jupyter-widgets/base",
      "_view_module_version": "1.2.0",
      "_view_name": "StyleView",
      "description_width": ""
     }
    },
    "4f63bfad92b64e7bae18e720376d402d": {
     "model_module": "@jupyter-widgets/controls",
     "model_module_version": "1.5.0",
     "model_name": "FloatProgressModel",
     "state": {
      "_dom_classes": [],
      "_model_module": "@jupyter-widgets/controls",
      "_model_module_version": "1.5.0",
      "_model_name": "FloatProgressModel",
      "_view_count": null,
      "_view_module": "@jupyter-widgets/controls",
      "_view_module_version": "1.5.0",
      "_view_name": "ProgressView",
      "bar_style": "success",
      "description": "",
      "description_tooltip": null,
      "layout": "IPY_MODEL_709685da1c6c4164bed658357a2191bf",
      "max": 7,
      "min": 0,
      "orientation": "horizontal",
      "style": "IPY_MODEL_0a1ed94698ca4e4291c553929e0ca66c",
      "value": 7
     }
    },
    "5dbc6889a9c243c5a922f8cc5f1a704c": {
     "model_module": "@jupyter-widgets/base",
     "model_module_version": "1.2.0",
     "model_name": "LayoutModel",
     "state": {
      "_model_module": "@jupyter-widgets/base",
      "_model_module_version": "1.2.0",
      "_model_name": "LayoutModel",
      "_view_count": null,
      "_view_module": "@jupyter-widgets/base",
      "_view_module_version": "1.2.0",
      "_view_name": "LayoutView",
      "align_content": null,
      "align_items": null,
      "align_self": null,
      "border": null,
      "bottom": null,
      "display": null,
      "flex": null,
      "flex_flow": null,
      "grid_area": null,
      "grid_auto_columns": null,
      "grid_auto_flow": null,
      "grid_auto_rows": null,
      "grid_column": null,
      "grid_gap": null,
      "grid_row": null,
      "grid_template_areas": null,
      "grid_template_columns": null,
      "grid_template_rows": null,
      "height": null,
      "justify_content": null,
      "justify_items": null,
      "left": null,
      "margin": null,
      "max_height": null,
      "max_width": null,
      "min_height": null,
      "min_width": null,
      "object_fit": null,
      "object_position": null,
      "order": null,
      "overflow": null,
      "overflow_x": null,
      "overflow_y": null,
      "padding": null,
      "right": null,
      "top": null,
      "visibility": null,
      "width": null
     }
    },
    "6957a659451b46dab702c1c62fa9cdd2": {
     "model_module": "@jupyter-widgets/controls",
     "model_module_version": "1.5.0",
     "model_name": "HTMLModel",
     "state": {
      "_dom_classes": [],
      "_model_module": "@jupyter-widgets/controls",
      "_model_module_version": "1.5.0",
      "_model_name": "HTMLModel",
      "_view_count": null,
      "_view_module": "@jupyter-widgets/controls",
      "_view_module_version": "1.5.0",
      "_view_name": "HTMLView",
      "description": "",
      "description_tooltip": null,
      "layout": "IPY_MODEL_5dbc6889a9c243c5a922f8cc5f1a704c",
      "placeholder": "​",
      "style": "IPY_MODEL_d6e520e4da004c818031ccfcc3588e5d",
      "value": " 7/7 [00:00&lt;00:00, 221.60it/s]"
     }
    },
    "709685da1c6c4164bed658357a2191bf": {
     "model_module": "@jupyter-widgets/base",
     "model_module_version": "1.2.0",
     "model_name": "LayoutModel",
     "state": {
      "_model_module": "@jupyter-widgets/base",
      "_model_module_version": "1.2.0",
      "_model_name": "LayoutModel",
      "_view_count": null,
      "_view_module": "@jupyter-widgets/base",
      "_view_module_version": "1.2.0",
      "_view_name": "LayoutView",
      "align_content": null,
      "align_items": null,
      "align_self": null,
      "border": null,
      "bottom": null,
      "display": null,
      "flex": null,
      "flex_flow": null,
      "grid_area": null,
      "grid_auto_columns": null,
      "grid_auto_flow": null,
      "grid_auto_rows": null,
      "grid_column": null,
      "grid_gap": null,
      "grid_row": null,
      "grid_template_areas": null,
      "grid_template_columns": null,
      "grid_template_rows": null,
      "height": null,
      "justify_content": null,
      "justify_items": null,
      "left": null,
      "margin": null,
      "max_height": null,
      "max_width": null,
      "min_height": null,
      "min_width": null,
      "object_fit": null,
      "object_position": null,
      "order": null,
      "overflow": null,
      "overflow_x": null,
      "overflow_y": null,
      "padding": null,
      "right": null,
      "top": null,
      "visibility": null,
      "width": null
     }
    },
    "7616f1b493e1461c9fd1319fae3bc10b": {
     "model_module": "@jupyter-widgets/controls",
     "model_module_version": "1.5.0",
     "model_name": "HTMLModel",
     "state": {
      "_dom_classes": [],
      "_model_module": "@jupyter-widgets/controls",
      "_model_module_version": "1.5.0",
      "_model_name": "HTMLModel",
      "_view_count": null,
      "_view_module": "@jupyter-widgets/controls",
      "_view_module_version": "1.5.0",
      "_view_name": "HTMLView",
      "description": "",
      "description_tooltip": null,
      "layout": "IPY_MODEL_ebc626c0750c470db6789b26acf15f60",
      "placeholder": "​",
      "style": "IPY_MODEL_3077f04af3a9447ab98717bd3131cd8f",
      "value": "Fetching 7 files: 100%"
     }
    },
    "8226b2522ce446f6bd3a36c4e227370c": {
     "model_module": "@jupyter-widgets/controls",
     "model_module_version": "1.5.0",
     "model_name": "HBoxModel",
     "state": {
      "_dom_classes": [],
      "_model_module": "@jupyter-widgets/controls",
      "_model_module_version": "1.5.0",
      "_model_name": "HBoxModel",
      "_view_count": null,
      "_view_module": "@jupyter-widgets/controls",
      "_view_module_version": "1.5.0",
      "_view_name": "HBoxView",
      "box_style": "",
      "children": [
       "IPY_MODEL_7616f1b493e1461c9fd1319fae3bc10b",
       "IPY_MODEL_4f63bfad92b64e7bae18e720376d402d",
       "IPY_MODEL_6957a659451b46dab702c1c62fa9cdd2"
      ],
      "layout": "IPY_MODEL_2eea7bc810e54eaeb325136352b71e66"
     }
    },
    "d6e520e4da004c818031ccfcc3588e5d": {
     "model_module": "@jupyter-widgets/controls",
     "model_module_version": "1.5.0",
     "model_name": "DescriptionStyleModel",
     "state": {
      "_model_module": "@jupyter-widgets/controls",
      "_model_module_version": "1.5.0",
      "_model_name": "DescriptionStyleModel",
      "_view_count": null,
      "_view_module": "@jupyter-widgets/base",
      "_view_module_version": "1.2.0",
      "_view_name": "StyleView",
      "description_width": ""
     }
    },
    "ebc626c0750c470db6789b26acf15f60": {
     "model_module": "@jupyter-widgets/base",
     "model_module_version": "1.2.0",
     "model_name": "LayoutModel",
     "state": {
      "_model_module": "@jupyter-widgets/base",
      "_model_module_version": "1.2.0",
      "_model_name": "LayoutModel",
      "_view_count": null,
      "_view_module": "@jupyter-widgets/base",
      "_view_module_version": "1.2.0",
      "_view_name": "LayoutView",
      "align_content": null,
      "align_items": null,
      "align_self": null,
      "border": null,
      "bottom": null,
      "display": null,
      "flex": null,
      "flex_flow": null,
      "grid_area": null,
      "grid_auto_columns": null,
      "grid_auto_flow": null,
      "grid_auto_rows": null,
      "grid_column": null,
      "grid_gap": null,
      "grid_row": null,
      "grid_template_areas": null,
      "grid_template_columns": null,
      "grid_template_rows": null,
      "height": null,
      "justify_content": null,
      "justify_items": null,
      "left": null,
      "margin": null,
      "max_height": null,
      "max_width": null,
      "min_height": null,
      "min_width": null,
      "object_fit": null,
      "object_position": null,
      "order": null,
      "overflow": null,
      "overflow_x": null,
      "overflow_y": null,
      "padding": null,
      "right": null,
      "top": null,
      "visibility": null,
      "width": null
     }
    }
   }
  }
 },
 "nbformat": 4,
 "nbformat_minor": 5
}
