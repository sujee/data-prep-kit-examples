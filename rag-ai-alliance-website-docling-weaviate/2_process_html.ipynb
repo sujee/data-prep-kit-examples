{
 "cells": [
  {
   "cell_type": "markdown",
   "metadata": {},
   "source": [
    "# Processing HTML Files\n",
    "\n",
    "We will be using **docling**\n",
    "\n",
    "References\n",
    "- [docling](https://github.com/DS4SD/docling)"
   ]
  },
  {
   "cell_type": "markdown",
   "metadata": {},
   "source": [
    "## Step-1: Data\n",
    "\n",
    "We will process data that is downloaded using [1_crawl_site.ipynb](1_crawl_site.ipynb).\n",
    "\n",
    "We have a couple of crawled HTML files in  `input` directory. "
   ]
  },
  {
   "cell_type": "markdown",
   "metadata": {},
   "source": [
    "## Step-2: Configuration"
   ]
  },
  {
   "cell_type": "code",
   "execution_count": 2,
   "metadata": {},
   "outputs": [],
   "source": [
    "## All config is defined here\n",
    "from my_config import MY_CONFIG"
   ]
  },
  {
   "cell_type": "code",
   "execution_count": 3,
   "metadata": {},
   "outputs": [
    {
     "name": "stdout",
     "output_type": "stream",
     "text": [
      "✅ Cleared  output directory\n"
     ]
    }
   ],
   "source": [
    "import os, sys\n",
    "import shutil\n",
    "\n",
    "shutil.rmtree(MY_CONFIG.OUTPUT_DIR, ignore_errors=True)\n",
    "shutil.os.makedirs(MY_CONFIG.OUTPUT_DIR, exist_ok=True)\n",
    "# shutil.os.makedirs(MY_CONFIG.OUTPUT_DIR_HTML, exist_ok=True)\n",
    "# shutil.os.makedirs(MY_CONFIG.OUTPUT_DIR_MARKDOWN, exist_ok=True)\n",
    "\n",
    "print (\"✅ Cleared  output directory\")"
   ]
  },
  {
   "cell_type": "markdown",
   "metadata": {},
   "source": [
    "## Step-3: Convert HTML --> MD\n",
    "\n",
    "Process HTML documents and extract the text in markdown format"
   ]
  },
  {
   "cell_type": "code",
   "execution_count": 4,
   "metadata": {},
   "outputs": [
    {
     "name": "stderr",
     "output_type": "stream",
     "text": [
      "/home/sujee/apps/anaconda3/envs/rag-website-4-docling-weaviate/lib/python3.11/site-packages/tqdm/auto.py:21: TqdmWarning: IProgress not found. Please update jupyter and ipywidgets. See https://ipywidgets.readthedocs.io/en/stable/user_install.html\n",
      "  from .autonotebook import tqdm as notebook_tqdm\n"
     ]
    },
    {
     "name": "stdout",
     "output_type": "stream",
     "text": [
      "Found 88 HTML files to convert\n",
      "Converted HTML 'input/thealliance_ai_contact_text.html' to Markdown 'output/thealliance_ai_contact_text.md'\n",
      "Converted HTML 'input/thealliance_ai_affiliated-projects-ibm_granite_text.html' to Markdown 'output/thealliance_ai_affiliated-projects-ibm_granite_text.md'\n",
      "Converted HTML 'input/thealliance_ai_core-projects-industry-open-fms-initiative_text.html' to Markdown 'output/thealliance_ai_core-projects-industry-open-fms-initiative_text.md'\n",
      "Converted HTML 'input/thealliance_ai_blog-ai-alliance-expands-with-seven-new-members-from-in_text.html' to Markdown 'output/thealliance_ai_blog-ai-alliance-expands-with-seven-new-members-from-in_text.md'\n",
      "Converted HTML 'input/thealliance_ai_contribute_text.html' to Markdown 'output/thealliance_ai_contribute_text.md'\n",
      "Converted HTML 'input/thealliance_ai_affiliated-projects-opens_text.html' to Markdown 'output/thealliance_ai_affiliated-projects-opens_text.md'\n",
      "Converted HTML 'input/thealliance_ai_our-work_text.html' to Markdown 'output/thealliance_ai_our-work_text.md'\n",
      "Converted HTML 'input/thealliance_ai_affiliated-projects-frameworks-for-genai-builders-lightning-ai_text.html' to Markdown 'output/thealliance_ai_affiliated-projects-frameworks-for-genai-builders-lightning-ai_text.md'\n",
      "Converted HTML 'input/thealliance_ai_blog-navigating-the-ai-risk-labyrinth_text.html' to Markdown 'output/thealliance_ai_blog-navigating-the-ai-risk-labyrinth_text.md'\n",
      "Converted HTML 'input/thealliance_ai_affiliated-projects-fast-llm_text.html' to Markdown 'output/thealliance_ai_affiliated-projects-fast-llm_text.md'\n",
      "Converted HTML 'input/thealliance_ai_blog-announcing-trust-and-safety-evaluations-initiative-tsei_text.html' to Markdown 'output/thealliance_ai_blog-announcing-trust-and-safety-evaluations-initiative-tsei_text.md'\n",
      "Converted HTML 'input/thealliance_ai_blog-public-statement-on-possible-veto-of-sb-1047_text.html' to Markdown 'output/thealliance_ai_blog-public-statement-on-possible-veto-of-sb-1047_text.md'\n",
      "Converted HTML 'input/thealliance_ai_focus-areas-hardware-enablement_text.html' to Markdown 'output/thealliance_ai_focus-areas-hardware-enablement_text.md'\n",
      "Converted HTML 'input/thealliance_ai_affiliated-projects-phoenix_text.html' to Markdown 'output/thealliance_ai_affiliated-projects-phoenix_text.md'\n",
      "Converted HTML 'input/thealliance_ai_about-aia_text.html' to Markdown 'output/thealliance_ai_about-aia_text.md'\n",
      "Converted HTML 'input/thealliance_ai_core-projects-time-series-data-and-model-initiative_text.html' to Markdown 'output/thealliance_ai_core-projects-time-series-data-and-model-initiative_text.md'\n",
      "Converted HTML 'input/thealliance_ai_blog-member-spotlight-hydrox-ai_text.html' to Markdown 'output/thealliance_ai_blog-member-spotlight-hydrox-ai_text.md'\n",
      "Converted HTML 'input/thealliance_ai_blog-announcing-open-trusted-data-initiative-otdi_text.html' to Markdown 'output/thealliance_ai_blog-announcing-open-trusted-data-initiative-otdi_text.md'\n",
      "Converted HTML 'input/thealliance_ai_working-groups-trust-safety_text.html' to Markdown 'output/thealliance_ai_working-groups-trust-safety_text.md'\n",
      "Converted HTML 'input/thealliance_ai_working-groups-ai-for-drug-discovery_text.html' to Markdown 'output/thealliance_ai_working-groups-ai-for-drug-discovery_text.md'\n",
      "Converted HTML 'input/thealliance_ai_affiliated-projects-bigcode_text.html' to Markdown 'output/thealliance_ai_affiliated-projects-bigcode_text.md'\n",
      "Converted HTML 'input/thealliance_ai_blog-ai-alliance-skills-and-education-working-group-intro_text.html' to Markdown 'output/thealliance_ai_blog-ai-alliance-skills-and-education-working-group-intro_text.md'\n",
      "Converted HTML 'input/thealliance_ai_focus-areas-trust-and-safety_text.html' to Markdown 'output/thealliance_ai_focus-areas-trust-and-safety_text.md'\n",
      "Converted HTML 'input/thealliance_ai_blog-new_members_feb_text.html' to Markdown 'output/thealliance_ai_blog-new_members_feb_text.md'\n",
      "Converted HTML 'input/thealliance_ai_affiliated-projects-responsible-prompting_text.html' to Markdown 'output/thealliance_ai_affiliated-projects-responsible-prompting_text.md'\n",
      "Converted HTML 'input/thealliance_ai_blog-alliance_launch_text.html' to Markdown 'output/thealliance_ai_blog-alliance_launch_text.md'\n",
      "Converted HTML 'input/thealliance_ai_affiliated-projects_text.html' to Markdown 'output/thealliance_ai_affiliated-projects_text.md'\n",
      "Converted HTML 'input/thealliance_ai_affiliated-projects-trusty_ai_text.html' to Markdown 'output/thealliance_ai_affiliated-projects-trusty_ai_text.md'\n",
      "Converted HTML 'input/thealliance_ai_blog-pleias-releases-common-corpus-open-multilingual-dataset-for-llm-training_text.html' to Markdown 'output/thealliance_ai_blog-pleias-releases-common-corpus-open-multilingual-dataset-for-llm-training_text.md'\n",
      "Converted HTML 'input/thealliance_ai_blog-the-state-of-open-source-trust_text.html' to Markdown 'output/thealliance_ai_blog-the-state-of-open-source-trust_text.md'\n",
      "Converted HTML 'input/thealliance_ai_blog-spotlight-on-supratick-mukhopadhyay_text.html' to Markdown 'output/thealliance_ai_blog-spotlight-on-supratick-mukhopadhyay_text.md'\n",
      "Converted HTML 'input/thealliance_ai_focus-areas-foundation-models-datasets_text.html' to Markdown 'output/thealliance_ai_focus-areas-foundation-models-datasets_text.md'\n",
      "Converted HTML 'input/thealliance_ai_core-projects-trusted-evals_text.html' to Markdown 'output/thealliance_ai_core-projects-trusted-evals_text.md'\n",
      "Converted HTML 'input/thealliance_ai__text.html' to Markdown 'output/thealliance_ai__text.md'\n",
      "Converted HTML 'input/thealliance_ai_working-groups-skills--education_text.html' to Markdown 'output/thealliance_ai_working-groups-skills--education_text.md'\n",
      "Converted HTML 'input/thealliance_ai_core-projects-ai-accelerator-software-ecosystem-guide_text.html' to Markdown 'output/thealliance_ai_core-projects-ai-accelerator-software-ecosystem-guide_text.md'\n",
      "Converted HTML 'input/thealliance_ai_blog-architecture-of-data-prep-kit-framework_text.html' to Markdown 'output/thealliance_ai_blog-architecture-of-data-prep-kit-framework_text.md'\n",
      "Converted HTML 'input/thealliance_ai_affiliated-projects-cascade-open-source-platform-for-time-sensitive-in_text.html' to Markdown 'output/thealliance_ai_affiliated-projects-cascade-open-source-platform-for-time-sensitive-in_text.md'\n",
      "Converted HTML 'input/thealliance_ai_blog_text.html' to Markdown 'output/thealliance_ai_blog_text.md'\n",
      "Converted HTML 'input/thealliance_ai_blog-spotlight-on-sean-hughes_text.html' to Markdown 'output/thealliance_ai_blog-spotlight-on-sean-hughes_text.md'\n",
      "Converted HTML 'input/thealliance_ai_affiliated-projects-cooking-with-granite_text.html' to Markdown 'output/thealliance_ai_affiliated-projects-cooking-with-granite_text.md'\n",
      "Converted HTML 'input/thealliance_ai_affiliated-projects-docling_text.html' to Markdown 'output/thealliance_ai_affiliated-projects-docling_text.md'\n",
      "Converted HTML 'input/thealliance_ai_blog-ai-for-drug-discovery-open-innovation-forum_text.html' to Markdown 'output/thealliance_ai_blog-ai-for-drug-discovery-open-innovation-forum_text.md'\n",
      "Converted HTML 'input/thealliance_ai_affiliated-projects-aiconfig_editor_text.html' to Markdown 'output/thealliance_ai_affiliated-projects-aiconfig_editor_text.md'\n",
      "Converted HTML 'input/thealliance_ai_working-groups-applications-and-tools_text.html' to Markdown 'output/thealliance_ai_working-groups-applications-and-tools_text.md'\n",
      "Converted HTML 'input/thealliance_ai_blog-open-source-ai-demo-night-sf-2024_text.html' to Markdown 'output/thealliance_ai_blog-open-source-ai-demo-night-sf-2024_text.md'\n",
      "Converted HTML 'input/thealliance_ai_community_text.html' to Markdown 'output/thealliance_ai_community_text.md'\n",
      "Converted HTML 'input/thealliance_ai_core-projects-open-trusted-data-initiative_text.html' to Markdown 'output/thealliance_ai_core-projects-open-trusted-data-initiative_text.md'\n",
      "Converted HTML 'input/thealliance_ai_blog-member-spotlight-sissa_text.html' to Markdown 'output/thealliance_ai_blog-member-spotlight-sissa_text.md'\n",
      "Converted HTML 'input/thealliance_ai_affiliated-projects-ray.io_text.html' to Markdown 'output/thealliance_ai_affiliated-projects-ray.io_text.md'\n",
      "Converted HTML 'input/thealliance_ai_focus-areas-applications-and-tools_text.html' to Markdown 'output/thealliance_ai_focus-areas-applications-and-tools_text.md'\n",
      "Converted HTML 'input/thealliance_ai_core-projects-trust-and-safety-evaluations_text.html' to Markdown 'output/thealliance_ai_core-projects-trust-and-safety-evaluations_text.md'\n",
      "Converted HTML 'input/thealliance_ai_affiliated-projects-quansight_ragna_text.html' to Markdown 'output/thealliance_ai_affiliated-projects-quansight_ragna_text.md'\n",
      "Converted HTML 'input/thealliance_ai_affiliated-projects-ibm-rag-cookbook_text.html' to Markdown 'output/thealliance_ai_affiliated-projects-ibm-rag-cookbook_text.md'\n",
      "Converted HTML 'input/thealliance_ai_core-projects-guide-to-essential-competencies-for-ai_text.html' to Markdown 'output/thealliance_ai_core-projects-guide-to-essential-competencies-for-ai_text.md'\n",
      "Converted HTML 'input/thealliance_ai_working-groups-hardware-enablement_text.html' to Markdown 'output/thealliance_ai_working-groups-hardware-enablement_text.md'\n",
      "Converted HTML 'input/thealliance_ai_working-groups-climate-and-sustainability_text.html' to Markdown 'output/thealliance_ai_working-groups-climate-and-sustainability_text.md'\n",
      "Converted HTML 'input/thealliance_ai_core-projects-ntia_request_text.html' to Markdown 'output/thealliance_ai_core-projects-ntia_request_text.md'\n",
      "Converted HTML 'input/thealliance_ai_governance_text.html' to Markdown 'output/thealliance_ai_governance_text.md'\n",
      "Converted HTML 'input/thealliance_ai_working-groups-foundation-models_text.html' to Markdown 'output/thealliance_ai_working-groups-foundation-models_text.md'\n",
      "Converted HTML 'input/thealliance_ai_affiliated-projects-mbzuai_llm_text.html' to Markdown 'output/thealliance_ai_affiliated-projects-mbzuai_llm_text.md'\n",
      "Converted HTML 'input/thealliance_ai_blog-open-innovation-day-tokyo_text.html' to Markdown 'output/thealliance_ai_blog-open-innovation-day-tokyo_text.md'\n",
      "Converted HTML 'input/thealliance_ai_aia-members_text.html' to Markdown 'output/thealliance_ai_aia-members_text.md'\n",
      "Converted HTML 'input/thealliance_ai_blog-our-first-year_text.html' to Markdown 'output/thealliance_ai_blog-our-first-year_text.md'\n",
      "Converted HTML 'input/thealliance_ai_blog-dept-commerce-ntia-report-on-open-weights-models_text.html' to Markdown 'output/thealliance_ai_blog-dept-commerce-ntia-report-on-open-weights-models_text.md'\n",
      "Converted HTML 'input/thealliance_ai_core-projects-safety-priorities-ranking-by-domain_text.html' to Markdown 'output/thealliance_ai_core-projects-safety-priorities-ranking-by-domain_text.md'\n",
      "Converted HTML 'input/thealliance_ai_core-projects-the-living-guide-to-applying-ai_text.html' to Markdown 'output/thealliance_ai_core-projects-the-living-guide-to-applying-ai_text.md'\n",
      "Converted HTML 'input/thealliance_ai_core-projects-trust-user-guide_text.html' to Markdown 'output/thealliance_ai_core-projects-trust-user-guide_text.md'\n",
      "Converted HTML 'input/thealliance_ai_working-groups-advocacy_text.html' to Markdown 'output/thealliance_ai_working-groups-advocacy_text.md'\n",
      "Converted HTML 'input/thealliance_ai_become-a-collaborator_text.html' to Markdown 'output/thealliance_ai_become-a-collaborator_text.md'\n",
      "Converted HTML 'input/thealliance_ai_blog-ictp-announces-ai-prize-for-science-an-ai-alliance_text.html' to Markdown 'output/thealliance_ai_blog-ictp-announces-ai-prize-for-science-an-ai-alliance_text.md'\n",
      "Converted HTML 'input/thealliance_ai_blog-statement-on-establishing-the-national-ai-research-resource-nairr_text.html' to Markdown 'output/thealliance_ai_blog-statement-on-establishing-the-national-ai-research-resource-nairr_text.md'\n",
      "Converted HTML 'input/thealliance_ai_affiliated-projects-cornell_generative_text.html' to Markdown 'output/thealliance_ai_affiliated-projects-cornell_generative_text.md'\n",
      "Converted HTML 'input/thealliance_ai_blog-unesco-language-translator_text.html' to Markdown 'output/thealliance_ai_blog-unesco-language-translator_text.md'\n",
      "Converted HTML 'input/thealliance_ai_blog-evaluation-of-generative-ai---whats-ultimately-our_text.html' to Markdown 'output/thealliance_ai_blog-evaluation-of-generative-ai---whats-ultimately-our_text.md'\n",
      "Converted HTML 'input/thealliance_ai_focus-areas-skills-education_text.html' to Markdown 'output/thealliance_ai_focus-areas-skills-education_text.md'\n",
      "Converted HTML 'input/thealliance_ai_affiliated-projects-model-of-urban-growth_text.html' to Markdown 'output/thealliance_ai_affiliated-projects-model-of-urban-growth_text.md'\n",
      "Converted HTML 'input/thealliance_ai_affiliated-projects-instructlab_text.html' to Markdown 'output/thealliance_ai_affiliated-projects-instructlab_text.md'\n",
      "Converted HTML 'input/thealliance_ai_focus-areas-advocacy_text.html' to Markdown 'output/thealliance_ai_focus-areas-advocacy_text.md'\n",
      "Converted HTML 'input/thealliance_ai_events_text.html' to Markdown 'output/thealliance_ai_events_text.md'\n",
      "Converted HTML 'input/thealliance_ai_affiliated-projects-unitxt_text.html' to Markdown 'output/thealliance_ai_affiliated-projects-unitxt_text.md'\n",
      "Converted HTML 'input/thealliance_ai_core-projects-sb1047_text.html' to Markdown 'output/thealliance_ai_core-projects-sb1047_text.md'\n",
      "Converted HTML 'input/thealliance_ai_blog-spotlight-on-raphael-vienne_text.html' to Markdown 'output/thealliance_ai_blog-spotlight-on-raphael-vienne_text.md'\n",
      "Converted HTML 'input/thealliance_ai_blog-advancing-domain-specific-qa-the-ai-alliances-guide_text.html' to Markdown 'output/thealliance_ai_blog-advancing-domain-specific-qa-the-ai-alliances-guide_text.md'\n",
      "Converted HTML 'input/thealliance_ai_blog-getting-started-with-ai-trust-and-safety_text.html' to Markdown 'output/thealliance_ai_blog-getting-started-with-ai-trust-and-safety_text.md'\n",
      "Converted HTML 'input/thealliance_ai_core-projects_text.html' to Markdown 'output/thealliance_ai_core-projects_text.md'\n",
      "Converted HTML 'input/thealliance_ai_working-groups-materials-and-chemistry_text.html' to Markdown 'output/thealliance_ai_working-groups-materials-and-chemistry_text.md'\n",
      "Converted HTML 'input/thealliance_ai_blog-domain-aware-neurosymbolic-agent-dana-architecture_text.html' to Markdown 'output/thealliance_ai_blog-domain-aware-neurosymbolic-agent-dana-architecture_text.md'\n",
      "CPU times: user 6.13 s, sys: 1.23 s, total: 7.36 s\n",
      "Wall time: 5.75 s\n"
     ]
    }
   ],
   "source": [
    "%%time \n",
    "\n",
    "import os\n",
    "import sys\n",
    "from pathlib import Path\n",
    "from docling.document_converter import DocumentConverter\n",
    "\n",
    "converter = DocumentConverter(format_options={\"preserve_links\": True})\n",
    "\n",
    "input_path = Path(MY_CONFIG.INPUT_DIR)\n",
    "html_files = list(input_path.glob('*.html')) + list(input_path.glob('*.htm'))\n",
    "print(f\"Found {len(html_files)} HTML files to convert\")\n",
    "\n",
    "for html_file in html_files:\n",
    "    result = converter.convert(html_file)\n",
    "    markdown_content = result.document.export_to_markdown()\n",
    "    \n",
    "    md_file_name = os.path.join(MY_CONFIG.OUTPUT_DIR, f\"{html_file.stem}.md\")\n",
    "    with open(md_file_name, \"w\", encoding=\"utf-8\") as md_file:\n",
    "        md_file.write(markdown_content)\n",
    "        \n",
    "    print(f\"Converted HTML '{html_file}' to Markdown '{md_file_name}'\")"
   ]
  }
 ],
 "metadata": {
  "kernelspec": {
   "display_name": "rag-website-4-docling-weaviate",
   "language": "python",
   "name": "python3"
  },
  "language_info": {
   "codemirror_mode": {
    "name": "ipython",
    "version": 3
   },
   "file_extension": ".py",
   "mimetype": "text/x-python",
   "name": "python",
   "nbconvert_exporter": "python",
   "pygments_lexer": "ipython3",
   "version": "3.11.11"
  }
 },
 "nbformat": 4,
 "nbformat_minor": 2
}
