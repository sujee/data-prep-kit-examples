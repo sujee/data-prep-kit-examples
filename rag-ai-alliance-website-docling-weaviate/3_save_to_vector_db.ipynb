{
 "cells": [
  {
   "cell_type": "markdown",
   "metadata": {},
   "source": [
    "# Save Markdown text into Vector DB"
   ]
  },
  {
   "cell_type": "markdown",
   "metadata": {},
   "source": [
    "## Step-1: Config"
   ]
  },
  {
   "cell_type": "code",
   "execution_count": 1,
   "metadata": {},
   "outputs": [],
   "source": [
    "from my_config import MY_CONFIG"
   ]
  },
  {
   "cell_type": "code",
   "execution_count": 2,
   "metadata": {},
   "outputs": [],
   "source": [
    "import logging\n",
    "import sys\n",
    "\n",
    "logging.basicConfig(stream=sys.stdout, level=logging.INFO)\n",
    "logging.getLogger().addHandler(logging.StreamHandler(stream=sys.stdout))"
   ]
  },
  {
   "cell_type": "markdown",
   "metadata": {},
   "source": [
    "## Step-2: Read Markdown"
   ]
  },
  {
   "cell_type": "code",
   "execution_count": 3,
   "metadata": {},
   "outputs": [],
   "source": [
    "import os\n",
    "import glob\n",
    "\n",
    "pattern = os.path.join(MY_CONFIG.OUTPUT_DIR, '*.md')\n",
    "md_file_count = len(glob.glob(pattern, recursive=True)) "
   ]
  },
  {
   "cell_type": "code",
   "execution_count": 4,
   "metadata": {},
   "outputs": [
    {
     "name": "stdout",
     "output_type": "stream",
     "text": [
      "Loaded 88 documents from 88 files\n"
     ]
    }
   ],
   "source": [
    "from llama_index.core import SimpleDirectoryReader\n",
    "\n",
    "reader = SimpleDirectoryReader(input_dir=MY_CONFIG.OUTPUT_DIR, recursive=True )\n",
    "documents = reader.load_data()\n",
    "\n",
    "print (f\"Loaded {len(documents)} documents from {md_file_count} files\")\n"
   ]
  },
  {
   "cell_type": "code",
   "execution_count": 5,
   "metadata": {},
   "outputs": [
    {
     "name": "stdout",
     "output_type": "stream",
     "text": [
      "Doc ID: 843dc764-d1e3-4b54-8a42-39b8f7c626a4\n",
      "Text: # Building the open future of AI  We are technology developers,\n",
      "researchers, industry leaders and advocates who collaborate to advance\n",
      "safe, responsible AI rooted in open innovation.  <!-- image -->  ####\n",
      "Skills &amp; Education  <!-- image -->  Supporting global AI skill-\n",
      "building, education, and exploratory research.  #### Trust &amp;\n",
      "Safety  <!...\n"
     ]
    }
   ],
   "source": [
    "## Inspect a sample doc\n",
    "print (documents[0])"
   ]
  },
  {
   "cell_type": "markdown",
   "metadata": {},
   "source": [
    "## Step-3: Create Chunks"
   ]
  },
  {
   "cell_type": "code",
   "execution_count": 6,
   "metadata": {},
   "outputs": [
    {
     "name": "stdout",
     "output_type": "stream",
     "text": [
      "Created 218 chunks from 88 documents\n"
     ]
    }
   ],
   "source": [
    "from llama_index.core import Document\n",
    "from llama_index.core.node_parser import SentenceSplitter\n",
    "\n",
    "parser = SentenceSplitter(chunk_size=MY_CONFIG.CHUNK_SIZE, chunk_overlap=MY_CONFIG.CHUNK_OVERLAP)\n",
    "nodes = parser.get_nodes_from_documents(documents)\n",
    "print(f\"Created {len(nodes)} chunks from {len(documents)} documents\")"
   ]
  },
  {
   "cell_type": "markdown",
   "metadata": {},
   "source": [
    "## Step-4: Setup Embedding Model"
   ]
  },
  {
   "cell_type": "code",
   "execution_count": 7,
   "metadata": {},
   "outputs": [],
   "source": [
    "# If connection to https://huggingface.co/ failed, uncomment the following path\n",
    "import os\n",
    "os.environ['HF_ENDPOINT'] = 'https://hf-mirror.com'"
   ]
  },
  {
   "cell_type": "code",
   "execution_count": 8,
   "metadata": {},
   "outputs": [
    {
     "name": "stderr",
     "output_type": "stream",
     "text": [
      "/home/sujee/apps/anaconda3/envs/rag-website-4-docling-weaviate/lib/python3.11/site-packages/tqdm/auto.py:21: TqdmWarning: IProgress not found. Please update jupyter and ipywidgets. See https://ipywidgets.readthedocs.io/en/stable/user_install.html\n",
      "  from .autonotebook import tqdm as notebook_tqdm\n"
     ]
    },
    {
     "name": "stdout",
     "output_type": "stream",
     "text": [
      "INFO:sentence_transformers.SentenceTransformer:Load pretrained SentenceTransformer: ibm-granite/granite-embedding-30m-english\n",
      "Load pretrained SentenceTransformer: ibm-granite/granite-embedding-30m-english\n",
      "INFO:sentence_transformers.SentenceTransformer:2 prompts are loaded, with the keys: ['query', 'text']\n",
      "2 prompts are loaded, with the keys: ['query', 'text']\n"
     ]
    }
   ],
   "source": [
    "from llama_index.embeddings.huggingface import HuggingFaceEmbedding\n",
    "from llama_index.core import Settings\n",
    "\n",
    "Settings.embed_model = HuggingFaceEmbedding(\n",
    "    model_name = MY_CONFIG.EMBEDDING_MODEL\n",
    ")"
   ]
  },
  {
   "cell_type": "markdown",
   "metadata": {},
   "source": [
    "## Step-5: Initialize Weaviate Local\n",
    "\n",
    "We will use an embedded local instance for convenience."
   ]
  },
  {
   "cell_type": "code",
   "execution_count": null,
   "metadata": {},
   "outputs": [
    {
     "name": "stdout",
     "output_type": "stream",
     "text": [
      "INFO:weaviate-client:Started /home/sujee/.cache/weaviate-embedded: process ID 949109\n",
      "Started /home/sujee/.cache/weaviate-embedded: process ID 949109\n"
     ]
    },
    {
     "name": "stderr",
     "output_type": "stream",
     "text": [
      "{\"action\":\"startup\",\"build_git_commit\":\"'\\\"$GITHASH\\\"'\",\"build_go_version\":\"go1.22.0\",\"build_image_tag\":\"localhost\",\"build_wv_version\":\"1.26.6\",\"default_vectorizer_module\":\"none\",\"level\":\"info\",\"msg\":\"the default vectorizer modules is set to \\\"none\\\", as a result all new schema classes without an explicit vectorizer setting, will use this vectorizer\",\"time\":\"2025-03-17T23:02:30-07:00\"}\n",
      "{\"action\":\"startup\",\"auto_schema_enabled\":true,\"build_git_commit\":\"'\\\"$GITHASH\\\"'\",\"build_go_version\":\"go1.22.0\",\"build_image_tag\":\"localhost\",\"build_wv_version\":\"1.26.6\",\"level\":\"info\",\"msg\":\"auto schema enabled setting is set to \\\"true\\\"\",\"time\":\"2025-03-17T23:02:30-07:00\"}\n",
      "{\"build_git_commit\":\"'\\\"$GITHASH\\\"'\",\"build_go_version\":\"go1.22.0\",\"build_image_tag\":\"localhost\",\"build_wv_version\":\"1.26.6\",\"level\":\"info\",\"msg\":\"No resource limits set, weaviate will use all available memory and CPU. To limit resources, set LIMIT_RESOURCES=true\",\"time\":\"2025-03-17T23:02:30-07:00\"}\n",
      "{\"build_git_commit\":\"'\\\"$GITHASH\\\"'\",\"build_go_version\":\"go1.22.0\",\"build_image_tag\":\"localhost\",\"build_wv_version\":\"1.26.6\",\"level\":\"info\",\"msg\":\"module offload-s3 is enabled\",\"time\":\"2025-03-17T23:02:30-07:00\"}\n",
      "{\"build_git_commit\":\"'\\\"$GITHASH\\\"'\",\"build_go_version\":\"go1.22.0\",\"build_image_tag\":\"localhost\",\"build_wv_version\":\"1.26.6\",\"level\":\"warning\",\"msg\":\"Multiple vector spaces are present, GraphQL Explore and REST API list objects endpoint module include params has been disabled as a result.\",\"time\":\"2025-03-17T23:02:30-07:00\"}\n",
      "{\"build_git_commit\":\"'\\\"$GITHASH\\\"'\",\"build_go_version\":\"go1.22.0\",\"build_image_tag\":\"localhost\",\"build_wv_version\":\"1.26.6\",\"level\":\"info\",\"msg\":\"open cluster service\",\"servers\":{\"Embedded_at_8079\":60187},\"time\":\"2025-03-17T23:02:30-07:00\"}\n",
      "{\"address\":\"192.168.86.21:60188\",\"build_git_commit\":\"'\\\"$GITHASH\\\"'\",\"build_go_version\":\"go1.22.0\",\"build_image_tag\":\"localhost\",\"build_wv_version\":\"1.26.6\",\"level\":\"info\",\"msg\":\"starting cloud rpc server ...\",\"time\":\"2025-03-17T23:02:30-07:00\"}\n",
      "{\"build_git_commit\":\"'\\\"$GITHASH\\\"'\",\"build_go_version\":\"go1.22.0\",\"build_image_tag\":\"localhost\",\"build_wv_version\":\"1.26.6\",\"level\":\"info\",\"msg\":\"starting raft sub-system ...\",\"time\":\"2025-03-17T23:02:30-07:00\"}\n",
      "{\"address\":\"192.168.86.21:60187\",\"build_git_commit\":\"'\\\"$GITHASH\\\"'\",\"build_go_version\":\"go1.22.0\",\"build_image_tag\":\"localhost\",\"build_wv_version\":\"1.26.6\",\"level\":\"info\",\"msg\":\"tcp transport\",\"tcpMaxPool\":3,\"tcpTimeout\":10000000000,\"time\":\"2025-03-17T23:02:30-07:00\"}\n",
      "{\"build_git_commit\":\"'\\\"$GITHASH\\\"'\",\"build_go_version\":\"go1.22.0\",\"build_image_tag\":\"localhost\",\"build_wv_version\":\"1.26.6\",\"level\":\"info\",\"msg\":\"loading local db\",\"time\":\"2025-03-17T23:02:30-07:00\"}\n",
      "{\"build_git_commit\":\"'\\\"$GITHASH\\\"'\",\"build_go_version\":\"go1.22.0\",\"build_image_tag\":\"localhost\",\"build_wv_version\":\"1.26.6\",\"level\":\"info\",\"msg\":\"local DB successfully loaded\",\"time\":\"2025-03-17T23:02:30-07:00\"}\n",
      "{\"build_git_commit\":\"'\\\"$GITHASH\\\"'\",\"build_go_version\":\"go1.22.0\",\"build_image_tag\":\"localhost\",\"build_wv_version\":\"1.26.6\",\"level\":\"info\",\"msg\":\"schema manager loaded\",\"n\":0,\"time\":\"2025-03-17T23:02:30-07:00\"}\n",
      "{\"build_git_commit\":\"'\\\"$GITHASH\\\"'\",\"build_go_version\":\"go1.22.0\",\"build_image_tag\":\"localhost\",\"build_wv_version\":\"1.26.6\",\"level\":\"info\",\"metadata_only_voters\":false,\"msg\":\"construct a new raft node\",\"name\":\"Embedded_at_8079\",\"time\":\"2025-03-17T23:02:30-07:00\"}\n",
      "{\"action\":\"raft\",\"build_git_commit\":\"'\\\"$GITHASH\\\"'\",\"build_go_version\":\"go1.22.0\",\"build_image_tag\":\"localhost\",\"build_wv_version\":\"1.26.6\",\"index\":8,\"level\":\"info\",\"msg\":\"raft initial configuration\",\"servers\":\"[[{Suffrage:Voter ID:Embedded_at_8079 Address:192.168.86.21:50691}]]\",\"time\":\"2025-03-17T23:02:30-07:00\"}\n",
      "{\"build_git_commit\":\"'\\\"$GITHASH\\\"'\",\"build_go_version\":\"go1.22.0\",\"build_image_tag\":\"localhost\",\"build_wv_version\":\"1.26.6\",\"last_snapshot_index\":0,\"last_store_applied_index_on_start\":4,\"level\":\"info\",\"msg\":\"raft node constructed\",\"raft_applied_index\":0,\"raft_last_index\":8,\"time\":\"2025-03-17T23:02:30-07:00\"}\n",
      "{\"build_git_commit\":\"'\\\"$GITHASH\\\"'\",\"build_go_version\":\"go1.22.0\",\"build_image_tag\":\"localhost\",\"build_wv_version\":\"1.26.6\",\"hasState\":true,\"level\":\"info\",\"msg\":\"raft init\",\"time\":\"2025-03-17T23:02:30-07:00\"}\n",
      "{\"build_git_commit\":\"'\\\"$GITHASH\\\"'\",\"build_go_version\":\"go1.22.0\",\"build_image_tag\":\"localhost\",\"build_wv_version\":\"1.26.6\",\"level\":\"info\",\"msg\":\"attempting to join\",\"remoteNodes\":[\"192.168.86.21:60187\"],\"time\":\"2025-03-17T23:02:30-07:00\"}\n",
      "{\"action\":\"raft\",\"build_git_commit\":\"'\\\"$GITHASH\\\"'\",\"build_go_version\":\"go1.22.0\",\"build_image_tag\":\"localhost\",\"build_wv_version\":\"1.26.6\",\"follower\":{},\"leader-address\":\"\",\"leader-id\":\"\",\"level\":\"info\",\"msg\":\"raft entering follower state\",\"time\":\"2025-03-17T23:02:30-07:00\"}\n",
      "{\"build_git_commit\":\"'\\\"$GITHASH\\\"'\",\"build_go_version\":\"go1.22.0\",\"build_image_tag\":\"localhost\",\"build_wv_version\":\"1.26.6\",\"level\":\"info\",\"msg\":\"attempted to join and failed\",\"remoteNode\":\"192.168.86.21:60187\",\"status\":8,\"time\":\"2025-03-17T23:02:30-07:00\"}\n",
      "{\"build_git_commit\":\"'\\\"$GITHASH\\\"'\",\"build_go_version\":\"go1.22.0\",\"build_image_tag\":\"localhost\",\"build_wv_version\":\"1.26.6\",\"level\":\"info\",\"msg\":\"attempting to join\",\"remoteNodes\":[\"192.168.86.21:60187\"],\"time\":\"2025-03-17T23:02:31-07:00\"}\n",
      "{\"build_git_commit\":\"'\\\"$GITHASH\\\"'\",\"build_go_version\":\"go1.22.0\",\"build_image_tag\":\"localhost\",\"build_wv_version\":\"1.26.6\",\"level\":\"info\",\"msg\":\"attempted to join and failed\",\"remoteNode\":\"192.168.86.21:60187\",\"status\":8,\"time\":\"2025-03-17T23:02:31-07:00\"}\n",
      "{\"action\":\"raft\",\"build_git_commit\":\"'\\\"$GITHASH\\\"'\",\"build_go_version\":\"go1.22.0\",\"build_image_tag\":\"localhost\",\"build_wv_version\":\"1.26.6\",\"last-leader-addr\":\"\",\"last-leader-id\":\"\",\"level\":\"warning\",\"msg\":\"raft heartbeat timeout reached, starting election\",\"time\":\"2025-03-17T23:02:31-07:00\"}\n",
      "{\"action\":\"raft\",\"build_git_commit\":\"'\\\"$GITHASH\\\"'\",\"build_go_version\":\"go1.22.0\",\"build_image_tag\":\"localhost\",\"build_wv_version\":\"1.26.6\",\"level\":\"info\",\"msg\":\"raft entering candidate state\",\"node\":{},\"term\":5,\"time\":\"2025-03-17T23:02:31-07:00\"}\n",
      "{\"action\":\"raft\",\"build_git_commit\":\"'\\\"$GITHASH\\\"'\",\"build_go_version\":\"go1.22.0\",\"build_image_tag\":\"localhost\",\"build_wv_version\":\"1.26.6\",\"level\":\"info\",\"msg\":\"raft pre-vote successful, starting election\",\"refused\":0,\"tally\":1,\"term\":5,\"time\":\"2025-03-17T23:02:31-07:00\",\"votesNeeded\":1}\n",
      "{\"action\":\"raft\",\"build_git_commit\":\"'\\\"$GITHASH\\\"'\",\"build_go_version\":\"go1.22.0\",\"build_image_tag\":\"localhost\",\"build_wv_version\":\"1.26.6\",\"level\":\"info\",\"msg\":\"raft election won\",\"tally\":1,\"term\":5,\"time\":\"2025-03-17T23:02:31-07:00\"}\n",
      "{\"action\":\"raft\",\"build_git_commit\":\"'\\\"$GITHASH\\\"'\",\"build_go_version\":\"go1.22.0\",\"build_image_tag\":\"localhost\",\"build_wv_version\":\"1.26.6\",\"leader\":{},\"level\":\"info\",\"msg\":\"raft entering leader state\",\"time\":\"2025-03-17T23:02:31-07:00\"}\n",
      "{\"build_git_commit\":\"'\\\"$GITHASH\\\"'\",\"build_go_version\":\"go1.22.0\",\"build_image_tag\":\"localhost\",\"build_wv_version\":\"1.26.6\",\"level\":\"info\",\"msg\":\"reload local db: update schema ...\",\"time\":\"2025-03-17T23:02:31-07:00\"}\n",
      "{\"build_git_commit\":\"'\\\"$GITHASH\\\"'\",\"build_go_version\":\"go1.22.0\",\"build_image_tag\":\"localhost\",\"build_wv_version\":\"1.26.6\",\"index\":\"LlamaIndex\",\"level\":\"info\",\"msg\":\"reload local index\",\"time\":\"2025-03-17T23:02:31-07:00\"}\n"
     ]
    },
    {
     "name": "stdout",
     "output_type": "stream",
     "text": [
      "INFO:httpx:HTTP Request: GET http://localhost:8079/v1/.well-known/openid-configuration \"HTTP/1.1 404 Not Found\"\n",
      "HTTP Request: GET http://localhost:8079/v1/.well-known/openid-configuration \"HTTP/1.1 404 Not Found\"\n",
      "INFO:httpx:HTTP Request: GET http://localhost:8079/v1/meta \"HTTP/1.1 200 OK\"\n",
      "HTTP Request: GET http://localhost:8079/v1/meta \"HTTP/1.1 200 OK\"\n",
      "INFO:httpx:HTTP Request: GET http://localhost:8079/v1/.well-known/ready \"HTTP/1.1 200 OK\"\n",
      "HTTP Request: GET http://localhost:8079/v1/.well-known/ready \"HTTP/1.1 200 OK\"\n"
     ]
    },
    {
     "name": "stderr",
     "output_type": "stream",
     "text": [
      "{\"build_git_commit\":\"'\\\"$GITHASH\\\"'\",\"build_go_version\":\"go1.22.0\",\"build_image_tag\":\"localhost\",\"build_wv_version\":\"1.26.6\",\"docker_image_tag\":\"localhost\",\"level\":\"info\",\"msg\":\"configured versions\",\"server_version\":\"1.26.6\",\"time\":\"2025-03-17T23:02:32-07:00\"}\n",
      "{\"action\":\"grpc_startup\",\"build_git_commit\":\"'\\\"$GITHASH\\\"'\",\"build_go_version\":\"go1.22.0\",\"build_image_tag\":\"localhost\",\"build_wv_version\":\"1.26.6\",\"level\":\"info\",\"msg\":\"grpc server listening at [::]:50050\",\"time\":\"2025-03-17T23:02:32-07:00\"}\n",
      "{\"address\":\"192.168.86.21:60187\",\"build_git_commit\":\"'\\\"$GITHASH\\\"'\",\"build_go_version\":\"go1.22.0\",\"build_image_tag\":\"localhost\",\"build_wv_version\":\"1.26.6\",\"level\":\"info\",\"msg\":\"current Leader\",\"time\":\"2025-03-17T23:02:32-07:00\"}\n",
      "{\"build_git_commit\":\"'\\\"$GITHASH\\\"'\",\"build_go_version\":\"go1.22.0\",\"build_image_tag\":\"localhost\",\"build_wv_version\":\"1.26.6\",\"level\":\"info\",\"msg\":\"attempting to join\",\"remoteNodes\":[\"192.168.86.21:60187\"],\"time\":\"2025-03-17T23:02:32-07:00\"}\n",
      "{\"action\":\"raft\",\"build_git_commit\":\"'\\\"$GITHASH\\\"'\",\"build_go_version\":\"go1.22.0\",\"build_image_tag\":\"localhost\",\"build_wv_version\":\"1.26.6\",\"command\":0,\"level\":\"info\",\"msg\":\"raft updating configuration\",\"server-addr\":\"192.168.86.21:60187\",\"server-id\":\"Embedded_at_8079\",\"servers\":\"[[{Suffrage:Voter ID:Embedded_at_8079 Address:192.168.86.21:60187}]]\",\"time\":\"2025-03-17T23:02:32-07:00\"}\n",
      "{\"action\":\"restapi_management\",\"build_git_commit\":\"'\\\"$GITHASH\\\"'\",\"build_go_version\":\"go1.22.0\",\"build_image_tag\":\"localhost\",\"build_wv_version\":\"1.26.6\",\"docker_image_tag\":\"localhost\",\"level\":\"info\",\"msg\":\"Serving weaviate at http://127.0.0.1:8079\",\"time\":\"2025-03-17T23:02:32-07:00\"}\n"
     ]
    },
    {
     "name": "stdout",
     "output_type": "stream",
     "text": [
      "INFO:httpx:HTTP Request: GET https://pypi.org/pypi/weaviate-client/json \"HTTP/1.1 200 OK\"\n",
      "HTTP Request: GET https://pypi.org/pypi/weaviate-client/json \"HTTP/1.1 200 OK\"\n"
     ]
    },
    {
     "name": "stderr",
     "output_type": "stream",
     "text": [
      "{\"action\":\"telemetry_push\",\"build_git_commit\":\"'\\\"$GITHASH\\\"'\",\"build_go_version\":\"go1.22.0\",\"build_image_tag\":\"localhost\",\"build_wv_version\":\"1.26.6\",\"level\":\"info\",\"msg\":\"telemetry started\",\"payload\":\"\\u0026{MachineID:b1d0b33d-0602-42e8-b38c-14820ea2bd69 Type:INIT Version:1.26.6 NumObjects:0 OS:linux Arch:amd64 UsedModules:[]}\",\"time\":\"2025-03-17T23:02:32-07:00\"}\n"
     ]
    },
    {
     "name": "stdout",
     "output_type": "stream",
     "text": [
      "INFO:httpx:HTTP Request: GET http://localhost:8079/v1/nodes \"HTTP/1.1 200 OK\"\n",
      "HTTP Request: GET http://localhost:8079/v1/nodes \"HTTP/1.1 200 OK\"\n",
      "INFO:httpx:HTTP Request: GET http://localhost:8079/v1/nodes \"HTTP/1.1 200 OK\"\n",
      "HTTP Request: GET http://localhost:8079/v1/nodes \"HTTP/1.1 200 OK\"\n"
     ]
    }
   ],
   "source": [
    "import weaviate\n",
    "\n",
    "client = weaviate.connect_to_embedded(persistence_data_path=MY_CONFIG.DB_URI)"
   ]
  },
  {
   "cell_type": "code",
   "execution_count": 10,
   "metadata": {},
   "outputs": [
    {
     "name": "stdout",
     "output_type": "stream",
     "text": [
      "INFO:httpx:HTTP Request: GET http://localhost:8079/v1/meta \"HTTP/1.1 200 OK\"\n",
      "HTTP Request: GET http://localhost:8079/v1/meta \"HTTP/1.1 200 OK\"\n",
      "Client: 4.11.1, Server: 1.26.6\n"
     ]
    }
   ],
   "source": [
    "print(f\"Client: {weaviate.__version__}, Server: {client.get_meta().get('version')}\")"
   ]
  },
  {
   "cell_type": "markdown",
   "metadata": {},
   "source": [
    "## Step-6: Connect LlamaIndex & weaviate"
   ]
  },
  {
   "cell_type": "code",
   "execution_count": 11,
   "metadata": {},
   "outputs": [
    {
     "name": "stdout",
     "output_type": "stream",
     "text": [
      "INFO:httpx:HTTP Request: GET http://localhost:8079/v1/schema/LlamaIndex \"HTTP/1.1 200 OK\"\n",
      "HTTP Request: GET http://localhost:8079/v1/schema/LlamaIndex \"HTTP/1.1 200 OK\"\n",
      "✅ Connected Llama-index to weaviate local instance\n"
     ]
    }
   ],
   "source": [
    "# connect llama-index to vector db\n",
    "\n",
    "from llama_index.core import StorageContext\n",
    "from llama_index.vector_stores.weaviate import WeaviateVectorStore\n",
    "\n",
    "vector_store = WeaviateVectorStore(\n",
    "    weaviate_client=client, index_name=\"LlamaIndex\",\n",
    "    overwrite=True\n",
    ")\n",
    "storage_context = StorageContext.from_defaults(vector_store=vector_store)\n",
    "\n",
    "print (\"✅ Connected Llama-index to weaviate local instance\" )"
   ]
  },
  {
   "cell_type": "markdown",
   "metadata": {},
   "source": [
    "## Step-7: Save Documents to Vector DB"
   ]
  },
  {
   "cell_type": "code",
   "execution_count": 12,
   "metadata": {},
   "outputs": [
    {
     "name": "stderr",
     "output_type": "stream",
     "text": [
      "Batches:   0%|          | 0/1 [00:00<?, ?it/s]{\"action\":\"lsm_recover_from_active_wal\",\"build_git_commit\":\"'\\\"$GITHASH\\\"'\",\"build_go_version\":\"go1.22.0\",\"build_image_tag\":\"localhost\",\"build_wv_version\":\"1.26.6\",\"class\":\"LlamaIndex\",\"index\":\"llamaindex\",\"level\":\"warning\",\"msg\":\"empty write-ahead-log found. Did weaviate crash prior to this or the tenant on/loaded from the cloud? Nothing to recover from this file.\",\"path\":\"rag_website.db/llamaindex/hD2iLoxRhqpF/lsm/property_node_info/segment-1742276058102753298\",\"shard\":\"hD2iLoxRhqpF\",\"time\":\"2025-03-17T23:02:32-07:00\"}\n",
      "{\"action\":\"lsm_recover_from_active_wal\",\"build_git_commit\":\"'\\\"$GITHASH\\\"'\",\"build_go_version\":\"go1.22.0\",\"build_image_tag\":\"localhost\",\"build_wv_version\":\"1.26.6\",\"class\":\"LlamaIndex\",\"index\":\"llamaindex\",\"level\":\"warning\",\"msg\":\"empty write-ahead-log found. Did weaviate crash prior to this or the tenant on/loaded from the cloud? Nothing to recover from this file.\",\"path\":\"rag_website.db/llamaindex/hD2iLoxRhqpF/lsm/property_ref_doc_id/segment-1742276123143192119\",\"shard\":\"hD2iLoxRhqpF\",\"time\":\"2025-03-17T23:02:32-07:00\"}\n",
      "{\"action\":\"lsm_recover_from_active_wal\",\"build_git_commit\":\"'\\\"$GITHASH\\\"'\",\"build_go_version\":\"go1.22.0\",\"build_image_tag\":\"localhost\",\"build_wv_version\":\"1.26.6\",\"class\":\"LlamaIndex\",\"index\":\"llamaindex\",\"level\":\"warning\",\"msg\":\"empty write-ahead-log found. Did weaviate crash prior to this or the tenant on/loaded from the cloud? Nothing to recover from this file.\",\"path\":\"rag_website.db/llamaindex/hD2iLoxRhqpF/lsm/property_last_modified_date/segment-1742276123281062164\",\"shard\":\"hD2iLoxRhqpF\",\"time\":\"2025-03-17T23:02:32-07:00\"}\n",
      "{\"action\":\"lsm_recover_from_active_wal\",\"build_git_commit\":\"'\\\"$GITHASH\\\"'\",\"build_go_version\":\"go1.22.0\",\"build_image_tag\":\"localhost\",\"build_wv_version\":\"1.26.6\",\"class\":\"LlamaIndex\",\"index\":\"llamaindex\",\"level\":\"warning\",\"msg\":\"empty write-ahead-log found. Did weaviate crash prior to this or the tenant on/loaded from the cloud? Nothing to recover from this file.\",\"path\":\"rag_website.db/llamaindex/hD2iLoxRhqpF/lsm/objects/segment-1742276123133013695\",\"shard\":\"hD2iLoxRhqpF\",\"time\":\"2025-03-17T23:02:32-07:00\"}\n",
      "{\"action\":\"lsm_recover_from_active_wal\",\"build_git_commit\":\"'\\\"$GITHASH\\\"'\",\"build_go_version\":\"go1.22.0\",\"build_image_tag\":\"localhost\",\"build_wv_version\":\"1.26.6\",\"class\":\"LlamaIndex\",\"index\":\"llamaindex\",\"level\":\"warning\",\"msg\":\"empty write-ahead-log found. Did weaviate crash prior to this or the tenant on/loaded from the cloud? Nothing to recover from this file.\",\"path\":\"rag_website.db/llamaindex/hD2iLoxRhqpF/lsm/property_relationships/segment-1742276058102828664\",\"shard\":\"hD2iLoxRhqpF\",\"time\":\"2025-03-17T23:02:32-07:00\"}\n",
      "{\"action\":\"lsm_recover_from_active_wal\",\"build_git_commit\":\"'\\\"$GITHASH\\\"'\",\"build_go_version\":\"go1.22.0\",\"build_image_tag\":\"localhost\",\"build_wv_version\":\"1.26.6\",\"class\":\"LlamaIndex\",\"index\":\"llamaindex\",\"level\":\"warning\",\"msg\":\"empty write-ahead-log found. Did weaviate crash prior to this or the tenant on/loaded from the cloud? Nothing to recover from this file.\",\"path\":\"rag_website.db/llamaindex/hD2iLoxRhqpF/lsm/objects/segment-1742276205633954111\",\"shard\":\"hD2iLoxRhqpF\",\"time\":\"2025-03-17T23:02:32-07:00\"}\n",
      "{\"action\":\"lsm_recover_from_active_wal\",\"build_git_commit\":\"'\\\"$GITHASH\\\"'\",\"build_go_version\":\"go1.22.0\",\"build_image_tag\":\"localhost\",\"build_wv_version\":\"1.26.6\",\"class\":\"LlamaIndex\",\"index\":\"llamaindex\",\"level\":\"warning\",\"msg\":\"empty write-ahead-log found. Did weaviate crash prior to this or the tenant on/loaded from the cloud? Nothing to recover from this file.\",\"path\":\"rag_website.db/llamaindex/hD2iLoxRhqpF/lsm/property_relationships/segment-1742276205632136131\",\"shard\":\"hD2iLoxRhqpF\",\"time\":\"2025-03-17T23:02:32-07:00\"}\n",
      "{\"action\":\"lsm_recover_from_active_wal\",\"build_git_commit\":\"'\\\"$GITHASH\\\"'\",\"build_go_version\":\"go1.22.0\",\"build_image_tag\":\"localhost\",\"build_wv_version\":\"1.26.6\",\"class\":\"LlamaIndex\",\"index\":\"llamaindex\",\"level\":\"warning\",\"msg\":\"empty write-ahead-log found. Did weaviate crash prior to this or the tenant on/loaded from the cloud? Nothing to recover from this file.\",\"path\":\"rag_website.db/llamaindex/hD2iLoxRhqpF/lsm/property_file_name/segment-1742276123273609885\",\"shard\":\"hD2iLoxRhqpF\",\"time\":\"2025-03-17T23:02:32-07:00\"}\n",
      "{\"action\":\"lsm_recover_from_active_wal\",\"build_git_commit\":\"'\\\"$GITHASH\\\"'\",\"build_go_version\":\"go1.22.0\",\"build_image_tag\":\"localhost\",\"build_wv_version\":\"1.26.6\",\"class\":\"LlamaIndex\",\"index\":\"llamaindex\",\"level\":\"warning\",\"msg\":\"empty write-ahead-log found. Did weaviate crash prior to this or the tenant on/loaded from the cloud? Nothing to recover from this file.\",\"path\":\"rag_website.db/llamaindex/hD2iLoxRhqpF/lsm/property_ref_doc_id/segment-1742276205631359293\",\"shard\":\"hD2iLoxRhqpF\",\"time\":\"2025-03-17T23:02:32-07:00\"}\n",
      "{\"action\":\"lsm_recover_from_active_wal\",\"build_git_commit\":\"'\\\"$GITHASH\\\"'\",\"build_go_version\":\"go1.22.0\",\"build_image_tag\":\"localhost\",\"build_wv_version\":\"1.26.6\",\"class\":\"LlamaIndex\",\"index\":\"llamaindex\",\"level\":\"warning\",\"msg\":\"empty write-ahead-log found. Did weaviate crash prior to this or the tenant on/loaded from the cloud? Nothing to recover from this file.\",\"path\":\"rag_website.db/llamaindex/hD2iLoxRhqpF/lsm/property_file_name/segment-1742276205631290965\",\"shard\":\"hD2iLoxRhqpF\",\"time\":\"2025-03-17T23:02:32-07:00\"}\n",
      "{\"action\":\"lsm_recover_from_active_wal\",\"build_git_commit\":\"'\\\"$GITHASH\\\"'\",\"build_go_version\":\"go1.22.0\",\"build_image_tag\":\"localhost\",\"build_wv_version\":\"1.26.6\",\"class\":\"LlamaIndex\",\"index\":\"llamaindex\",\"level\":\"warning\",\"msg\":\"empty write-ahead-log found. Did weaviate crash prior to this or the tenant on/loaded from the cloud? Nothing to recover from this file.\",\"path\":\"rag_website.db/llamaindex/hD2iLoxRhqpF/lsm/property_file_path/segment-1742276123207209345\",\"shard\":\"hD2iLoxRhqpF\",\"time\":\"2025-03-17T23:02:32-07:00\"}\n",
      "{\"action\":\"lsm_recover_from_active_wal\",\"build_git_commit\":\"'\\\"$GITHASH\\\"'\",\"build_go_version\":\"go1.22.0\",\"build_image_tag\":\"localhost\",\"build_wv_version\":\"1.26.6\",\"class\":\"LlamaIndex\",\"index\":\"llamaindex\",\"level\":\"warning\",\"msg\":\"empty write-ahead-log found. Did weaviate crash prior to this or the tenant on/loaded from the cloud? Nothing to recover from this file.\",\"path\":\"rag_website.db/llamaindex/hD2iLoxRhqpF/lsm/property_file_name/segment-1742276320345243792\",\"shard\":\"hD2iLoxRhqpF\",\"time\":\"2025-03-17T23:02:32-07:00\"}\n",
      "{\"action\":\"lsm_recover_from_active_wal\",\"build_git_commit\":\"'\\\"$GITHASH\\\"'\",\"build_go_version\":\"go1.22.0\",\"build_image_tag\":\"localhost\",\"build_wv_version\":\"1.26.6\",\"class\":\"LlamaIndex\",\"index\":\"llamaindex\",\"level\":\"warning\",\"msg\":\"empty write-ahead-log found. Did weaviate crash prior to this or the tenant on/loaded from the cloud? Nothing to recover from this file.\",\"path\":\"rag_website.db/llamaindex/hD2iLoxRhqpF/lsm/property_relationships/segment-1742276320342632426\",\"shard\":\"hD2iLoxRhqpF\",\"time\":\"2025-03-17T23:02:32-07:00\"}\n",
      "{\"action\":\"lsm_recover_from_active_wal\",\"build_git_commit\":\"'\\\"$GITHASH\\\"'\",\"build_go_version\":\"go1.22.0\",\"build_image_tag\":\"localhost\",\"build_wv_version\":\"1.26.6\",\"class\":\"LlamaIndex\",\"index\":\"llamaindex\",\"level\":\"warning\",\"msg\":\"empty write-ahead-log found. Did weaviate crash prior to this or the tenant on/loaded from the cloud? Nothing to recover from this file.\",\"path\":\"rag_website.db/llamaindex/hD2iLoxRhqpF/lsm/property_file_size/segment-1742276123242764951\",\"shard\":\"hD2iLoxRhqpF\",\"time\":\"2025-03-17T23:02:32-07:00\"}\n",
      "{\"action\":\"lsm_recover_from_active_wal\",\"build_git_commit\":\"'\\\"$GITHASH\\\"'\",\"build_go_version\":\"go1.22.0\",\"build_image_tag\":\"localhost\",\"build_wv_version\":\"1.26.6\",\"class\":\"LlamaIndex\",\"index\":\"llamaindex\",\"level\":\"warning\",\"msg\":\"empty write-ahead-log found. Did weaviate crash prior to this or the tenant on/loaded from the cloud? Nothing to recover from this file.\",\"path\":\"rag_website.db/llamaindex/hD2iLoxRhqpF/lsm/property_file_path/segment-1742276205634591684\",\"shard\":\"hD2iLoxRhqpF\",\"time\":\"2025-03-17T23:02:32-07:00\"}\n",
      "{\"action\":\"lsm_recover_from_active_wal\",\"build_git_commit\":\"'\\\"$GITHASH\\\"'\",\"build_go_version\":\"go1.22.0\",\"build_image_tag\":\"localhost\",\"build_wv_version\":\"1.26.6\",\"class\":\"LlamaIndex\",\"index\":\"llamaindex\",\"level\":\"warning\",\"msg\":\"empty write-ahead-log found. Did weaviate crash prior to this or the tenant on/loaded from the cloud? Nothing to recover from this file.\",\"path\":\"rag_website.db/llamaindex/hD2iLoxRhqpF/lsm/property__id/segment-1742276123117395485\",\"shard\":\"hD2iLoxRhqpF\",\"time\":\"2025-03-17T23:02:32-07:00\"}\n",
      "{\"action\":\"lsm_recover_from_active_wal\",\"build_git_commit\":\"'\\\"$GITHASH\\\"'\",\"build_go_version\":\"go1.22.0\",\"build_image_tag\":\"localhost\",\"build_wv_version\":\"1.26.6\",\"class\":\"LlamaIndex\",\"index\":\"llamaindex\",\"level\":\"warning\",\"msg\":\"empty write-ahead-log found. Did weaviate crash prior to this or the tenant on/loaded from the cloud? Nothing to recover from this file.\",\"path\":\"rag_website.db/llamaindex/hD2iLoxRhqpF/lsm/property_file_path/segment-1742276320345549171\",\"shard\":\"hD2iLoxRhqpF\",\"time\":\"2025-03-17T23:02:32-07:00\"}\n",
      "{\"action\":\"lsm_recover_from_active_wal\",\"build_git_commit\":\"'\\\"$GITHASH\\\"'\",\"build_go_version\":\"go1.22.0\",\"build_image_tag\":\"localhost\",\"build_wv_version\":\"1.26.6\",\"class\":\"LlamaIndex\",\"index\":\"llamaindex\",\"level\":\"warning\",\"msg\":\"empty write-ahead-log found. Did weaviate crash prior to this or the tenant on/loaded from the cloud? Nothing to recover from this file.\",\"path\":\"rag_website.db/llamaindex/hD2iLoxRhqpF/lsm/property__id/segment-1742276205631233651\",\"shard\":\"hD2iLoxRhqpF\",\"time\":\"2025-03-17T23:02:32-07:00\"}\n",
      "{\"action\":\"lsm_recover_from_active_wal\",\"build_git_commit\":\"'\\\"$GITHASH\\\"'\",\"build_go_version\":\"go1.22.0\",\"build_image_tag\":\"localhost\",\"build_wv_version\":\"1.26.6\",\"class\":\"LlamaIndex\",\"index\":\"llamaindex\",\"level\":\"warning\",\"msg\":\"empty write-ahead-log found. Did weaviate crash prior to this or the tenant on/loaded from the cloud? Nothing to recover from this file.\",\"path\":\"rag_website.db/llamaindex/hD2iLoxRhqpF/lsm/property__node_type/segment-1742276123200243307\",\"shard\":\"hD2iLoxRhqpF\",\"time\":\"2025-03-17T23:02:32-07:00\"}\n",
      "{\"action\":\"lsm_recover_from_active_wal\",\"build_git_commit\":\"'\\\"$GITHASH\\\"'\",\"build_go_version\":\"go1.22.0\",\"build_image_tag\":\"localhost\",\"build_wv_version\":\"1.26.6\",\"class\":\"LlamaIndex\",\"index\":\"llamaindex\",\"level\":\"warning\",\"msg\":\"empty write-ahead-log found. Did weaviate crash prior to this or the tenant on/loaded from the cloud? Nothing to recover from this file.\",\"path\":\"rag_website.db/llamaindex/hD2iLoxRhqpF/lsm/property__id/segment-1742276320342863056\",\"shard\":\"hD2iLoxRhqpF\",\"time\":\"2025-03-17T23:02:32-07:00\"}\n",
      "{\"action\":\"lsm_recover_from_active_wal\",\"build_git_commit\":\"'\\\"$GITHASH\\\"'\",\"build_go_version\":\"go1.22.0\",\"build_image_tag\":\"localhost\",\"build_wv_version\":\"1.26.6\",\"class\":\"LlamaIndex\",\"index\":\"llamaindex\",\"level\":\"warning\",\"msg\":\"empty write-ahead-log found. Did weaviate crash prior to this or the tenant on/loaded from the cloud? Nothing to recover from this file.\",\"path\":\"rag_website.db/llamaindex/hD2iLoxRhqpF/lsm/property__node_type/segment-1742276205631235109\",\"shard\":\"hD2iLoxRhqpF\",\"time\":\"2025-03-17T23:02:32-07:00\"}\n",
      "{\"action\":\"lsm_recover_from_active_wal\",\"build_git_commit\":\"'\\\"$GITHASH\\\"'\",\"build_go_version\":\"go1.22.0\",\"build_image_tag\":\"localhost\",\"build_wv_version\":\"1.26.6\",\"class\":\"LlamaIndex\",\"index\":\"llamaindex\",\"level\":\"warning\",\"msg\":\"empty write-ahead-log found. Did weaviate crash prior to this or the tenant on/loaded from the cloud? Nothing to recover from this file.\",\"path\":\"rag_website.db/llamaindex/hD2iLoxRhqpF/lsm/property_text/segment-1742276123151771197\",\"shard\":\"hD2iLoxRhqpF\",\"time\":\"2025-03-17T23:02:32-07:00\"}\n",
      "{\"action\":\"lsm_recover_from_active_wal\",\"build_git_commit\":\"'\\\"$GITHASH\\\"'\",\"build_go_version\":\"go1.22.0\",\"build_image_tag\":\"localhost\",\"build_wv_version\":\"1.26.6\",\"class\":\"LlamaIndex\",\"index\":\"llamaindex\",\"level\":\"warning\",\"msg\":\"empty write-ahead-log found. Did weaviate crash prior to this or the tenant on/loaded from the cloud? Nothing to recover from this file.\",\"path\":\"rag_website.db/llamaindex/hD2iLoxRhqpF/lsm/property_document_id/segment-1742276123228325065\",\"shard\":\"hD2iLoxRhqpF\",\"time\":\"2025-03-17T23:02:32-07:00\"}\n",
      "{\"action\":\"lsm_recover_from_active_wal\",\"build_git_commit\":\"'\\\"$GITHASH\\\"'\",\"build_go_version\":\"go1.22.0\",\"build_image_tag\":\"localhost\",\"build_wv_version\":\"1.26.6\",\"class\":\"LlamaIndex\",\"index\":\"llamaindex\",\"level\":\"warning\",\"msg\":\"empty write-ahead-log found. Did weaviate crash prior to this or the tenant on/loaded from the cloud? Nothing to recover from this file.\",\"path\":\"rag_website.db/llamaindex/hD2iLoxRhqpF/lsm/property_text/segment-1742276205631324673\",\"shard\":\"hD2iLoxRhqpF\",\"time\":\"2025-03-17T23:02:32-07:00\"}\n",
      "{\"action\":\"lsm_recover_from_active_wal\",\"build_git_commit\":\"'\\\"$GITHASH\\\"'\",\"build_go_version\":\"go1.22.0\",\"build_image_tag\":\"localhost\",\"build_wv_version\":\"1.26.6\",\"class\":\"LlamaIndex\",\"index\":\"llamaindex\",\"level\":\"warning\",\"msg\":\"empty write-ahead-log found. Did weaviate crash prior to this or the tenant on/loaded from the cloud? Nothing to recover from this file.\",\"path\":\"rag_website.db/llamaindex/hD2iLoxRhqpF/lsm/property_document_id/segment-1742276205633075582\",\"shard\":\"hD2iLoxRhqpF\",\"time\":\"2025-03-17T23:02:32-07:00\"}\n",
      "{\"action\":\"lsm_recover_from_active_wal\",\"build_git_commit\":\"'\\\"$GITHASH\\\"'\",\"build_go_version\":\"go1.22.0\",\"build_image_tag\":\"localhost\",\"build_wv_version\":\"1.26.6\",\"class\":\"LlamaIndex\",\"index\":\"llamaindex\",\"level\":\"warning\",\"msg\":\"empty write-ahead-log found. Did weaviate crash prior to this or the tenant on/loaded from the cloud? Nothing to recover from this file.\",\"path\":\"rag_website.db/llamaindex/hD2iLoxRhqpF/lsm/property_text/segment-1742276320344947465\",\"shard\":\"hD2iLoxRhqpF\",\"time\":\"2025-03-17T23:02:32-07:00\"}\n",
      "{\"action\":\"lsm_recover_from_active_wal\",\"build_git_commit\":\"'\\\"$GITHASH\\\"'\",\"build_go_version\":\"go1.22.0\",\"build_image_tag\":\"localhost\",\"build_wv_version\":\"1.26.6\",\"class\":\"LlamaIndex\",\"index\":\"llamaindex\",\"level\":\"warning\",\"msg\":\"empty write-ahead-log found. Did weaviate crash prior to this or the tenant on/loaded from the cloud? Nothing to recover from this file.\",\"path\":\"rag_website.db/llamaindex/hD2iLoxRhqpF/lsm/property_document_id/segment-1742276320342821186\",\"shard\":\"hD2iLoxRhqpF\",\"time\":\"2025-03-17T23:02:32-07:00\"}\n",
      "{\"action\":\"lsm_recover_from_active_wal\",\"build_git_commit\":\"'\\\"$GITHASH\\\"'\",\"build_go_version\":\"go1.22.0\",\"build_image_tag\":\"localhost\",\"build_wv_version\":\"1.26.6\",\"class\":\"LlamaIndex\",\"index\":\"llamaindex\",\"level\":\"warning\",\"msg\":\"empty write-ahead-log found. Did weaviate crash prior to this or the tenant on/loaded from the cloud? Nothing to recover from this file.\",\"path\":\"rag_website.db/llamaindex/hD2iLoxRhqpF/lsm/property_last_modified_date/segment-1742276205631347961\",\"shard\":\"hD2iLoxRhqpF\",\"time\":\"2025-03-17T23:02:32-07:00\"}\n",
      "{\"action\":\"lsm_recover_from_active_wal\",\"build_git_commit\":\"'\\\"$GITHASH\\\"'\",\"build_go_version\":\"go1.22.0\",\"build_image_tag\":\"localhost\",\"build_wv_version\":\"1.26.6\",\"class\":\"LlamaIndex\",\"index\":\"llamaindex\",\"level\":\"warning\",\"msg\":\"empty write-ahead-log found. Did weaviate crash prior to this or the tenant on/loaded from the cloud? Nothing to recover from this file.\",\"path\":\"rag_website.db/llamaindex/hD2iLoxRhqpF/lsm/property_last_modified_date/segment-1742276320342532153\",\"shard\":\"hD2iLoxRhqpF\",\"time\":\"2025-03-17T23:02:32-07:00\"}\n",
      "{\"action\":\"lsm_recover_from_active_wal\",\"build_git_commit\":\"'\\\"$GITHASH\\\"'\",\"build_go_version\":\"go1.22.0\",\"build_image_tag\":\"localhost\",\"build_wv_version\":\"1.26.6\",\"class\":\"LlamaIndex\",\"index\":\"llamaindex\",\"level\":\"warning\",\"msg\":\"empty write-ahead-log found. Did weaviate crash prior to this or the tenant on/loaded from the cloud? Nothing to recover from this file.\",\"path\":\"rag_website.db/llamaindex/hD2iLoxRhqpF/lsm/property_file_type/segment-1742276123235784204\",\"shard\":\"hD2iLoxRhqpF\",\"time\":\"2025-03-17T23:02:32-07:00\"}\n",
      "{\"action\":\"lsm_recover_from_active_wal\",\"build_git_commit\":\"'\\\"$GITHASH\\\"'\",\"build_go_version\":\"go1.22.0\",\"build_image_tag\":\"localhost\",\"build_wv_version\":\"1.26.6\",\"class\":\"LlamaIndex\",\"index\":\"llamaindex\",\"level\":\"warning\",\"msg\":\"empty write-ahead-log found. Did weaviate crash prior to this or the tenant on/loaded from the cloud? Nothing to recover from this file.\",\"path\":\"rag_website.db/llamaindex/hD2iLoxRhqpF/lsm/property__node_type/segment-1742276320342860859\",\"shard\":\"hD2iLoxRhqpF\",\"time\":\"2025-03-17T23:02:32-07:00\"}\n",
      "{\"action\":\"lsm_recover_from_active_wal\",\"build_git_commit\":\"'\\\"$GITHASH\\\"'\",\"build_go_version\":\"go1.22.0\",\"build_image_tag\":\"localhost\",\"build_wv_version\":\"1.26.6\",\"class\":\"LlamaIndex\",\"index\":\"llamaindex\",\"level\":\"warning\",\"msg\":\"empty write-ahead-log found. Did weaviate crash prior to this or the tenant on/loaded from the cloud? Nothing to recover from this file.\",\"path\":\"rag_website.db/llamaindex/hD2iLoxRhqpF/lsm/property_file_type/segment-1742276205631307990\",\"shard\":\"hD2iLoxRhqpF\",\"time\":\"2025-03-17T23:02:32-07:00\"}\n",
      "{\"action\":\"lsm_recover_from_active_wal\",\"build_git_commit\":\"'\\\"$GITHASH\\\"'\",\"build_go_version\":\"go1.22.0\",\"build_image_tag\":\"localhost\",\"build_wv_version\":\"1.26.6\",\"class\":\"LlamaIndex\",\"index\":\"llamaindex\",\"level\":\"warning\",\"msg\":\"empty write-ahead-log found. Did weaviate crash prior to this or the tenant on/loaded from the cloud? Nothing to recover from this file.\",\"path\":\"rag_website.db/llamaindex/hD2iLoxRhqpF/lsm/property_file_type/segment-1742276320344327088\",\"shard\":\"hD2iLoxRhqpF\",\"time\":\"2025-03-17T23:02:32-07:00\"}\n",
      "{\"action\":\"lsm_recover_from_active_wal\",\"build_git_commit\":\"'\\\"$GITHASH\\\"'\",\"build_go_version\":\"go1.22.0\",\"build_image_tag\":\"localhost\",\"build_wv_version\":\"1.26.6\",\"class\":\"LlamaIndex\",\"index\":\"llamaindex\",\"level\":\"warning\",\"msg\":\"empty write-ahead-log found. Did weaviate crash prior to this or the tenant on/loaded from the cloud? Nothing to recover from this file.\",\"path\":\"rag_website.db/llamaindex/hD2iLoxRhqpF/lsm/property_node_info/segment-1742276205632162018\",\"shard\":\"hD2iLoxRhqpF\",\"time\":\"2025-03-17T23:02:32-07:00\"}\n",
      "{\"action\":\"lsm_recover_from_active_wal\",\"build_git_commit\":\"'\\\"$GITHASH\\\"'\",\"build_go_version\":\"go1.22.0\",\"build_image_tag\":\"localhost\",\"build_wv_version\":\"1.26.6\",\"class\":\"LlamaIndex\",\"index\":\"llamaindex\",\"level\":\"warning\",\"msg\":\"empty write-ahead-log found. Did weaviate crash prior to this or the tenant on/loaded from the cloud? Nothing to recover from this file.\",\"path\":\"rag_website.db/llamaindex/hD2iLoxRhqpF/lsm/property_node_info/segment-1742276320344944388\",\"shard\":\"hD2iLoxRhqpF\",\"time\":\"2025-03-17T23:02:32-07:00\"}\n",
      "{\"action\":\"lsm_recover_from_active_wal\",\"build_git_commit\":\"'\\\"$GITHASH\\\"'\",\"build_go_version\":\"go1.22.0\",\"build_image_tag\":\"localhost\",\"build_wv_version\":\"1.26.6\",\"class\":\"LlamaIndex\",\"index\":\"llamaindex\",\"level\":\"warning\",\"msg\":\"empty write-ahead-log found. Did weaviate crash prior to this or the tenant on/loaded from the cloud? Nothing to recover from this file.\",\"path\":\"rag_website.db/llamaindex/hD2iLoxRhqpF/lsm/property_doc_id/segment-1742276123302762612\",\"shard\":\"hD2iLoxRhqpF\",\"time\":\"2025-03-17T23:02:32-07:00\"}\n",
      "{\"action\":\"lsm_recover_from_active_wal\",\"build_git_commit\":\"'\\\"$GITHASH\\\"'\",\"build_go_version\":\"go1.22.0\",\"build_image_tag\":\"localhost\",\"build_wv_version\":\"1.26.6\",\"class\":\"LlamaIndex\",\"index\":\"llamaindex\",\"level\":\"warning\",\"msg\":\"empty write-ahead-log found. Did weaviate crash prior to this or the tenant on/loaded from the cloud? Nothing to recover from this file.\",\"path\":\"rag_website.db/llamaindex/hD2iLoxRhqpF/lsm/objects/segment-1742276320345598921\",\"shard\":\"hD2iLoxRhqpF\",\"time\":\"2025-03-17T23:02:32-07:00\"}\n",
      "{\"action\":\"lsm_recover_from_active_wal\",\"build_git_commit\":\"'\\\"$GITHASH\\\"'\",\"build_go_version\":\"go1.22.0\",\"build_image_tag\":\"localhost\",\"build_wv_version\":\"1.26.6\",\"class\":\"LlamaIndex\",\"index\":\"llamaindex\",\"level\":\"warning\",\"msg\":\"empty write-ahead-log found. Did weaviate crash prior to this or the tenant on/loaded from the cloud? Nothing to recover from this file.\",\"path\":\"rag_website.db/llamaindex/hD2iLoxRhqpF/lsm/property_doc_id/segment-1742276205631222117\",\"shard\":\"hD2iLoxRhqpF\",\"time\":\"2025-03-17T23:02:32-07:00\"}\n",
      "{\"action\":\"lsm_recover_from_active_wal\",\"build_git_commit\":\"'\\\"$GITHASH\\\"'\",\"build_go_version\":\"go1.22.0\",\"build_image_tag\":\"localhost\",\"build_wv_version\":\"1.26.6\",\"class\":\"LlamaIndex\",\"index\":\"llamaindex\",\"level\":\"warning\",\"msg\":\"empty write-ahead-log found. Did weaviate crash prior to this or the tenant on/loaded from the cloud? Nothing to recover from this file.\",\"path\":\"rag_website.db/llamaindex/hD2iLoxRhqpF/lsm/property_doc_id/segment-1742276320346149201\",\"shard\":\"hD2iLoxRhqpF\",\"time\":\"2025-03-17T23:02:32-07:00\"}\n",
      "{\"action\":\"lsm_recover_from_active_wal\",\"build_git_commit\":\"'\\\"$GITHASH\\\"'\",\"build_go_version\":\"go1.22.0\",\"build_image_tag\":\"localhost\",\"build_wv_version\":\"1.26.6\",\"class\":\"LlamaIndex\",\"index\":\"llamaindex\",\"level\":\"warning\",\"msg\":\"empty write-ahead-log found. Did weaviate crash prior to this or the tenant on/loaded from the cloud? Nothing to recover from this file.\",\"path\":\"rag_website.db/llamaindex/hD2iLoxRhqpF/lsm/property__node_content/segment-1742276123215226705\",\"shard\":\"hD2iLoxRhqpF\",\"time\":\"2025-03-17T23:02:32-07:00\"}\n",
      "{\"action\":\"lsm_recover_from_active_wal\",\"build_git_commit\":\"'\\\"$GITHASH\\\"'\",\"build_go_version\":\"go1.22.0\",\"build_image_tag\":\"localhost\",\"build_wv_version\":\"1.26.6\",\"class\":\"LlamaIndex\",\"index\":\"llamaindex\",\"level\":\"warning\",\"msg\":\"empty write-ahead-log found. Did weaviate crash prior to this or the tenant on/loaded from the cloud? Nothing to recover from this file.\",\"path\":\"rag_website.db/llamaindex/hD2iLoxRhqpF/lsm/property__node_content/segment-1742276205631254066\",\"shard\":\"hD2iLoxRhqpF\",\"time\":\"2025-03-17T23:02:32-07:00\"}\n",
      "{\"action\":\"lsm_recover_from_active_wal\",\"build_git_commit\":\"'\\\"$GITHASH\\\"'\",\"build_go_version\":\"go1.22.0\",\"build_image_tag\":\"localhost\",\"build_wv_version\":\"1.26.6\",\"class\":\"LlamaIndex\",\"index\":\"llamaindex\",\"level\":\"warning\",\"msg\":\"empty write-ahead-log found. Did weaviate crash prior to this or the tenant on/loaded from the cloud? Nothing to recover from this file.\",\"path\":\"rag_website.db/llamaindex/hD2iLoxRhqpF/lsm/property__node_content/segment-1742276320345251353\",\"shard\":\"hD2iLoxRhqpF\",\"time\":\"2025-03-17T23:02:32-07:00\"}\n",
      "{\"action\":\"lsm_recover_from_active_wal\",\"build_git_commit\":\"'\\\"$GITHASH\\\"'\",\"build_go_version\":\"go1.22.0\",\"build_image_tag\":\"localhost\",\"build_wv_version\":\"1.26.6\",\"class\":\"LlamaIndex\",\"index\":\"llamaindex\",\"level\":\"warning\",\"msg\":\"empty write-ahead-log found. Did weaviate crash prior to this or the tenant on/loaded from the cloud? Nothing to recover from this file.\",\"path\":\"rag_website.db/llamaindex/hD2iLoxRhqpF/lsm/property_ref_doc_id/segment-1742276320342786482\",\"shard\":\"hD2iLoxRhqpF\",\"time\":\"2025-03-17T23:02:32-07:00\"}\n",
      "{\"action\":\"lsm_recover_from_active_wal\",\"build_git_commit\":\"'\\\"$GITHASH\\\"'\",\"build_go_version\":\"go1.22.0\",\"build_image_tag\":\"localhost\",\"build_wv_version\":\"1.26.6\",\"class\":\"LlamaIndex\",\"index\":\"llamaindex\",\"level\":\"warning\",\"msg\":\"empty write-ahead-log found. Did weaviate crash prior to this or the tenant on/loaded from the cloud? Nothing to recover from this file.\",\"path\":\"rag_website.db/llamaindex/hD2iLoxRhqpF/lsm/property_creation_date/segment-1742276123266765959\",\"shard\":\"hD2iLoxRhqpF\",\"time\":\"2025-03-17T23:02:32-07:00\"}\n",
      "{\"action\":\"lsm_recover_from_active_wal\",\"build_git_commit\":\"'\\\"$GITHASH\\\"'\",\"build_go_version\":\"go1.22.0\",\"build_image_tag\":\"localhost\",\"build_wv_version\":\"1.26.6\",\"class\":\"LlamaIndex\",\"index\":\"llamaindex\",\"level\":\"warning\",\"msg\":\"empty write-ahead-log found. Did weaviate crash prior to this or the tenant on/loaded from the cloud? Nothing to recover from this file.\",\"path\":\"rag_website.db/llamaindex/hD2iLoxRhqpF/lsm/property_creation_date/segment-1742276205631272042\",\"shard\":\"hD2iLoxRhqpF\",\"time\":\"2025-03-17T23:02:32-07:00\"}\n",
      "{\"action\":\"lsm_recover_from_active_wal\",\"build_git_commit\":\"'\\\"$GITHASH\\\"'\",\"build_go_version\":\"go1.22.0\",\"build_image_tag\":\"localhost\",\"build_wv_version\":\"1.26.6\",\"class\":\"LlamaIndex\",\"index\":\"llamaindex\",\"level\":\"warning\",\"msg\":\"empty write-ahead-log found. Did weaviate crash prior to this or the tenant on/loaded from the cloud? Nothing to recover from this file.\",\"path\":\"rag_website.db/llamaindex/hD2iLoxRhqpF/lsm/property_file_size/segment-1742276205631290470\",\"shard\":\"hD2iLoxRhqpF\",\"time\":\"2025-03-17T23:02:32-07:00\"}\n",
      "{\"action\":\"lsm_recover_from_active_wal\",\"build_git_commit\":\"'\\\"$GITHASH\\\"'\",\"build_go_version\":\"go1.22.0\",\"build_image_tag\":\"localhost\",\"build_wv_version\":\"1.26.6\",\"class\":\"LlamaIndex\",\"index\":\"llamaindex\",\"level\":\"warning\",\"msg\":\"empty write-ahead-log found. Did weaviate crash prior to this or the tenant on/loaded from the cloud? Nothing to recover from this file.\",\"path\":\"rag_website.db/llamaindex/hD2iLoxRhqpF/lsm/property_creation_date/segment-1742276320342812328\",\"shard\":\"hD2iLoxRhqpF\",\"time\":\"2025-03-17T23:02:32-07:00\"}\n",
      "{\"action\":\"lsm_recover_from_active_wal\",\"build_git_commit\":\"'\\\"$GITHASH\\\"'\",\"build_go_version\":\"go1.22.0\",\"build_image_tag\":\"localhost\",\"build_wv_version\":\"1.26.6\",\"class\":\"LlamaIndex\",\"index\":\"llamaindex\",\"level\":\"warning\",\"msg\":\"empty write-ahead-log found. Did weaviate crash prior to this or the tenant on/loaded from the cloud? Nothing to recover from this file.\",\"path\":\"rag_website.db/llamaindex/hD2iLoxRhqpF/lsm/property_file_size/segment-1742276320344960567\",\"shard\":\"hD2iLoxRhqpF\",\"time\":\"2025-03-17T23:02:32-07:00\"}\n",
      "{\"action\":\"lsm_recover_from_active_wal\",\"build_git_commit\":\"'\\\"$GITHASH\\\"'\",\"build_go_version\":\"go1.22.0\",\"build_image_tag\":\"localhost\",\"build_wv_version\":\"1.26.6\",\"class\":\"LlamaIndex\",\"index\":\"llamaindex\",\"level\":\"warning\",\"msg\":\"empty write-ahead-log found. Did weaviate crash prior to this or the tenant on/loaded from the cloud? Nothing to recover from this file.\",\"path\":\"rag_website.db/llamaindex/hD2iLoxRhqpF/lsm/property_file_name_searchable/segment-1742276123324340329\",\"shard\":\"hD2iLoxRhqpF\",\"time\":\"2025-03-17T23:02:32-07:00\"}\n",
      "{\"action\":\"lsm_recover_from_active_wal\",\"build_git_commit\":\"'\\\"$GITHASH\\\"'\",\"build_go_version\":\"go1.22.0\",\"build_image_tag\":\"localhost\",\"build_wv_version\":\"1.26.6\",\"class\":\"LlamaIndex\",\"index\":\"llamaindex\",\"level\":\"warning\",\"msg\":\"empty write-ahead-log found. Did weaviate crash prior to this or the tenant on/loaded from the cloud? Nothing to recover from this file.\",\"path\":\"rag_website.db/llamaindex/hD2iLoxRhqpF/lsm/property_file_path_searchable/segment-1742276123257600812\",\"shard\":\"hD2iLoxRhqpF\",\"time\":\"2025-03-17T23:02:32-07:00\"}\n",
      "{\"action\":\"lsm_recover_from_active_wal\",\"build_git_commit\":\"'\\\"$GITHASH\\\"'\",\"build_go_version\":\"go1.22.0\",\"build_image_tag\":\"localhost\",\"build_wv_version\":\"1.26.6\",\"class\":\"LlamaIndex\",\"index\":\"llamaindex\",\"level\":\"warning\",\"msg\":\"empty write-ahead-log found. Did weaviate crash prior to this or the tenant on/loaded from the cloud? Nothing to recover from this file.\",\"path\":\"rag_website.db/llamaindex/hD2iLoxRhqpF/lsm/property_file_path_searchable/segment-1742276205635464855\",\"shard\":\"hD2iLoxRhqpF\",\"time\":\"2025-03-17T23:02:32-07:00\"}\n",
      "{\"action\":\"lsm_recover_from_active_wal\",\"build_git_commit\":\"'\\\"$GITHASH\\\"'\",\"build_go_version\":\"go1.22.0\",\"build_image_tag\":\"localhost\",\"build_wv_version\":\"1.26.6\",\"class\":\"LlamaIndex\",\"index\":\"llamaindex\",\"level\":\"warning\",\"msg\":\"empty write-ahead-log found. Did weaviate crash prior to this or the tenant on/loaded from the cloud? Nothing to recover from this file.\",\"path\":\"rag_website.db/llamaindex/hD2iLoxRhqpF/lsm/property_file_path_searchable/segment-1742276320351657620\",\"shard\":\"hD2iLoxRhqpF\",\"time\":\"2025-03-17T23:02:32-07:00\"}\n",
      "{\"action\":\"lsm_recover_from_active_wal\",\"build_git_commit\":\"'\\\"$GITHASH\\\"'\",\"build_go_version\":\"go1.22.0\",\"build_image_tag\":\"localhost\",\"build_wv_version\":\"1.26.6\",\"class\":\"LlamaIndex\",\"index\":\"llamaindex\",\"level\":\"warning\",\"msg\":\"empty write-ahead-log found. Did weaviate crash prior to this or the tenant on/loaded from the cloud? Nothing to recover from this file.\",\"path\":\"rag_website.db/llamaindex/hD2iLoxRhqpF/lsm/property_file_name_searchable/segment-1742276205634596308\",\"shard\":\"hD2iLoxRhqpF\",\"time\":\"2025-03-17T23:02:32-07:00\"}\n",
      "{\"action\":\"lsm_recover_from_active_wal\",\"build_git_commit\":\"'\\\"$GITHASH\\\"'\",\"build_go_version\":\"go1.22.0\",\"build_image_tag\":\"localhost\",\"build_wv_version\":\"1.26.6\",\"class\":\"LlamaIndex\",\"index\":\"llamaindex\",\"level\":\"warning\",\"msg\":\"empty write-ahead-log found. Did weaviate crash prior to this or the tenant on/loaded from the cloud? Nothing to recover from this file.\",\"path\":\"rag_website.db/llamaindex/hD2iLoxRhqpF/lsm/property_file_name_searchable/segment-1742276320352341428\",\"shard\":\"hD2iLoxRhqpF\",\"time\":\"2025-03-17T23:02:32-07:00\"}\n",
      "{\"action\":\"lsm_recover_from_active_wal\",\"build_git_commit\":\"'\\\"$GITHASH\\\"'\",\"build_go_version\":\"go1.22.0\",\"build_image_tag\":\"localhost\",\"build_wv_version\":\"1.26.6\",\"class\":\"LlamaIndex\",\"index\":\"llamaindex\",\"level\":\"warning\",\"msg\":\"empty write-ahead-log found. Did weaviate crash prior to this or the tenant on/loaded from the cloud? Nothing to recover from this file.\",\"path\":\"rag_website.db/llamaindex/hD2iLoxRhqpF/lsm/property_text_searchable/segment-1742276123169494403\",\"shard\":\"hD2iLoxRhqpF\",\"time\":\"2025-03-17T23:02:32-07:00\"}\n",
      "{\"action\":\"lsm_recover_from_active_wal\",\"build_git_commit\":\"'\\\"$GITHASH\\\"'\",\"build_go_version\":\"go1.22.0\",\"build_image_tag\":\"localhost\",\"build_wv_version\":\"1.26.6\",\"class\":\"LlamaIndex\",\"index\":\"llamaindex\",\"level\":\"warning\",\"msg\":\"empty write-ahead-log found. Did weaviate crash prior to this or the tenant on/loaded from the cloud? Nothing to recover from this file.\",\"path\":\"rag_website.db/llamaindex/hD2iLoxRhqpF/lsm/property_text_searchable/segment-1742276205634583550\",\"shard\":\"hD2iLoxRhqpF\",\"time\":\"2025-03-17T23:02:32-07:00\"}\n",
      "{\"action\":\"lsm_recover_from_active_wal\",\"build_git_commit\":\"'\\\"$GITHASH\\\"'\",\"build_go_version\":\"go1.22.0\",\"build_image_tag\":\"localhost\",\"build_wv_version\":\"1.26.6\",\"class\":\"LlamaIndex\",\"index\":\"llamaindex\",\"level\":\"warning\",\"msg\":\"empty write-ahead-log found. Did weaviate crash prior to this or the tenant on/loaded from the cloud? Nothing to recover from this file.\",\"path\":\"rag_website.db/llamaindex/hD2iLoxRhqpF/lsm/property_text_searchable/segment-1742276320351650540\",\"shard\":\"hD2iLoxRhqpF\",\"time\":\"2025-03-17T23:02:32-07:00\"}\n",
      "{\"action\":\"lsm_recover_from_active_wal\",\"build_git_commit\":\"'\\\"$GITHASH\\\"'\",\"build_go_version\":\"go1.22.0\",\"build_image_tag\":\"localhost\",\"build_wv_version\":\"1.26.6\",\"class\":\"LlamaIndex\",\"index\":\"llamaindex\",\"level\":\"warning\",\"msg\":\"empty write-ahead-log found. Did weaviate crash prior to this or the tenant on/loaded from the cloud? Nothing to recover from this file.\",\"path\":\"rag_website.db/llamaindex/hD2iLoxRhqpF/lsm/property_file_type_searchable/segment-1742276123310014879\",\"shard\":\"hD2iLoxRhqpF\",\"time\":\"2025-03-17T23:02:32-07:00\"}\n",
      "{\"action\":\"lsm_recover_from_active_wal\",\"build_git_commit\":\"'\\\"$GITHASH\\\"'\",\"build_go_version\":\"go1.22.0\",\"build_image_tag\":\"localhost\",\"build_wv_version\":\"1.26.6\",\"class\":\"LlamaIndex\",\"index\":\"llamaindex\",\"level\":\"warning\",\"msg\":\"empty write-ahead-log found. Did weaviate crash prior to this or the tenant on/loaded from the cloud? Nothing to recover from this file.\",\"path\":\"rag_website.db/llamaindex/hD2iLoxRhqpF/lsm/property_file_type_searchable/segment-1742276205634895119\",\"shard\":\"hD2iLoxRhqpF\",\"time\":\"2025-03-17T23:02:32-07:00\"}\n",
      "{\"action\":\"lsm_recover_from_active_wal\",\"build_git_commit\":\"'\\\"$GITHASH\\\"'\",\"build_go_version\":\"go1.22.0\",\"build_image_tag\":\"localhost\",\"build_wv_version\":\"1.26.6\",\"class\":\"LlamaIndex\",\"index\":\"llamaindex\",\"level\":\"warning\",\"msg\":\"empty write-ahead-log found. Did weaviate crash prior to this or the tenant on/loaded from the cloud? Nothing to recover from this file.\",\"path\":\"rag_website.db/llamaindex/hD2iLoxRhqpF/lsm/property_file_type_searchable/segment-1742276320351337814\",\"shard\":\"hD2iLoxRhqpF\",\"time\":\"2025-03-17T23:02:32-07:00\"}\n",
      "{\"action\":\"lsm_recover_from_active_wal\",\"build_git_commit\":\"'\\\"$GITHASH\\\"'\",\"build_go_version\":\"go1.22.0\",\"build_image_tag\":\"localhost\",\"build_wv_version\":\"1.26.6\",\"class\":\"LlamaIndex\",\"index\":\"llamaindex\",\"level\":\"warning\",\"msg\":\"empty write-ahead-log found. Did weaviate crash prior to this or the tenant on/loaded from the cloud? Nothing to recover from this file.\",\"path\":\"rag_website.db/llamaindex/hD2iLoxRhqpF/lsm/property_relationships_searchable/segment-1742276058102972246\",\"shard\":\"hD2iLoxRhqpF\",\"time\":\"2025-03-17T23:02:32-07:00\"}\n",
      "{\"action\":\"lsm_recover_from_active_wal\",\"build_git_commit\":\"'\\\"$GITHASH\\\"'\",\"build_go_version\":\"go1.22.0\",\"build_image_tag\":\"localhost\",\"build_wv_version\":\"1.26.6\",\"class\":\"LlamaIndex\",\"index\":\"llamaindex\",\"level\":\"warning\",\"msg\":\"empty write-ahead-log found. Did weaviate crash prior to this or the tenant on/loaded from the cloud? Nothing to recover from this file.\",\"path\":\"rag_website.db/llamaindex/hD2iLoxRhqpF/lsm/property_relationships_searchable/segment-1742276205634861674\",\"shard\":\"hD2iLoxRhqpF\",\"time\":\"2025-03-17T23:02:32-07:00\"}\n",
      "{\"action\":\"lsm_recover_from_active_wal\",\"build_git_commit\":\"'\\\"$GITHASH\\\"'\",\"build_go_version\":\"go1.22.0\",\"build_image_tag\":\"localhost\",\"build_wv_version\":\"1.26.6\",\"class\":\"LlamaIndex\",\"index\":\"llamaindex\",\"level\":\"warning\",\"msg\":\"empty write-ahead-log found. Did weaviate crash prior to this or the tenant on/loaded from the cloud? Nothing to recover from this file.\",\"path\":\"rag_website.db/llamaindex/hD2iLoxRhqpF/lsm/property_relationships_searchable/segment-1742276320349499258\",\"shard\":\"hD2iLoxRhqpF\",\"time\":\"2025-03-17T23:02:32-07:00\"}\n",
      "{\"action\":\"lsm_recover_from_active_wal\",\"build_git_commit\":\"'\\\"$GITHASH\\\"'\",\"build_go_version\":\"go1.22.0\",\"build_image_tag\":\"localhost\",\"build_wv_version\":\"1.26.6\",\"class\":\"LlamaIndex\",\"index\":\"llamaindex\",\"level\":\"warning\",\"msg\":\"empty write-ahead-log found. Did weaviate crash prior to this or the tenant on/loaded from the cloud? Nothing to recover from this file.\",\"path\":\"rag_website.db/llamaindex/hD2iLoxRhqpF/lsm/property__node_content_searchable/segment-1742276123288146844\",\"shard\":\"hD2iLoxRhqpF\",\"time\":\"2025-03-17T23:02:32-07:00\"}\n",
      "{\"action\":\"lsm_recover_from_active_wal\",\"build_git_commit\":\"'\\\"$GITHASH\\\"'\",\"build_go_version\":\"go1.22.0\",\"build_image_tag\":\"localhost\",\"build_wv_version\":\"1.26.6\",\"class\":\"LlamaIndex\",\"index\":\"llamaindex\",\"level\":\"warning\",\"msg\":\"empty write-ahead-log found. Did weaviate crash prior to this or the tenant on/loaded from the cloud? Nothing to recover from this file.\",\"path\":\"rag_website.db/llamaindex/hD2iLoxRhqpF/lsm/property__node_content_searchable/segment-1742276205634275979\",\"shard\":\"hD2iLoxRhqpF\",\"time\":\"2025-03-17T23:02:32-07:00\"}\n",
      "{\"action\":\"lsm_recover_from_active_wal\",\"build_git_commit\":\"'\\\"$GITHASH\\\"'\",\"build_go_version\":\"go1.22.0\",\"build_image_tag\":\"localhost\",\"build_wv_version\":\"1.26.6\",\"class\":\"LlamaIndex\",\"index\":\"llamaindex\",\"level\":\"warning\",\"msg\":\"empty write-ahead-log found. Did weaviate crash prior to this or the tenant on/loaded from the cloud? Nothing to recover from this file.\",\"path\":\"rag_website.db/llamaindex/hD2iLoxRhqpF/lsm/property__node_content_searchable/segment-1742276320351904123\",\"shard\":\"hD2iLoxRhqpF\",\"time\":\"2025-03-17T23:02:32-07:00\"}\n",
      "{\"action\":\"lsm_recover_from_active_wal\",\"build_git_commit\":\"'\\\"$GITHASH\\\"'\",\"build_go_version\":\"go1.22.0\",\"build_image_tag\":\"localhost\",\"build_wv_version\":\"1.26.6\",\"class\":\"LlamaIndex\",\"index\":\"llamaindex\",\"level\":\"warning\",\"msg\":\"empty write-ahead-log found. Did weaviate crash prior to this or the tenant on/loaded from the cloud? Nothing to recover from this file.\",\"path\":\"rag_website.db/llamaindex/hD2iLoxRhqpF/lsm/property_ref_doc_id_searchable/segment-1742276123192340940\",\"shard\":\"hD2iLoxRhqpF\",\"time\":\"2025-03-17T23:02:32-07:00\"}\n",
      "{\"action\":\"lsm_recover_from_active_wal\",\"build_git_commit\":\"'\\\"$GITHASH\\\"'\",\"build_go_version\":\"go1.22.0\",\"build_image_tag\":\"localhost\",\"build_wv_version\":\"1.26.6\",\"class\":\"LlamaIndex\",\"index\":\"llamaindex\",\"level\":\"warning\",\"msg\":\"empty write-ahead-log found. Did weaviate crash prior to this or the tenant on/loaded from the cloud? Nothing to recover from this file.\",\"path\":\"rag_website.db/llamaindex/hD2iLoxRhqpF/lsm/property_ref_doc_id_searchable/segment-1742276205634600518\",\"shard\":\"hD2iLoxRhqpF\",\"time\":\"2025-03-17T23:02:32-07:00\"}\n",
      "{\"action\":\"lsm_recover_from_active_wal\",\"build_git_commit\":\"'\\\"$GITHASH\\\"'\",\"build_go_version\":\"go1.22.0\",\"build_image_tag\":\"localhost\",\"build_wv_version\":\"1.26.6\",\"class\":\"LlamaIndex\",\"index\":\"llamaindex\",\"level\":\"warning\",\"msg\":\"empty write-ahead-log found. Did weaviate crash prior to this or the tenant on/loaded from the cloud? Nothing to recover from this file.\",\"path\":\"rag_website.db/llamaindex/hD2iLoxRhqpF/lsm/property_last_modified_date_searchable/segment-1742276123332110231\",\"shard\":\"hD2iLoxRhqpF\",\"time\":\"2025-03-17T23:02:32-07:00\"}\n",
      "{\"action\":\"lsm_recover_from_active_wal\",\"build_git_commit\":\"'\\\"$GITHASH\\\"'\",\"build_go_version\":\"go1.22.0\",\"build_image_tag\":\"localhost\",\"build_wv_version\":\"1.26.6\",\"class\":\"LlamaIndex\",\"index\":\"llamaindex\",\"level\":\"warning\",\"msg\":\"empty write-ahead-log found. Did weaviate crash prior to this or the tenant on/loaded from the cloud? Nothing to recover from this file.\",\"path\":\"rag_website.db/llamaindex/hD2iLoxRhqpF/lsm/property_last_modified_date_searchable/segment-1742276205634577031\",\"shard\":\"hD2iLoxRhqpF\",\"time\":\"2025-03-17T23:02:32-07:00\"}\n",
      "{\"action\":\"lsm_recover_from_active_wal\",\"build_git_commit\":\"'\\\"$GITHASH\\\"'\",\"build_go_version\":\"go1.22.0\",\"build_image_tag\":\"localhost\",\"build_wv_version\":\"1.26.6\",\"class\":\"LlamaIndex\",\"index\":\"llamaindex\",\"level\":\"warning\",\"msg\":\"empty write-ahead-log found. Did weaviate crash prior to this or the tenant on/loaded from the cloud? Nothing to recover from this file.\",\"path\":\"rag_website.db/llamaindex/hD2iLoxRhqpF/lsm/property_last_modified_date_searchable/segment-1742276320351659289\",\"shard\":\"hD2iLoxRhqpF\",\"time\":\"2025-03-17T23:02:32-07:00\"}\n",
      "{\"action\":\"lsm_recover_from_active_wal\",\"build_git_commit\":\"'\\\"$GITHASH\\\"'\",\"build_go_version\":\"go1.22.0\",\"build_image_tag\":\"localhost\",\"build_wv_version\":\"1.26.6\",\"class\":\"LlamaIndex\",\"index\":\"llamaindex\",\"level\":\"warning\",\"msg\":\"empty write-ahead-log found. Did weaviate crash prior to this or the tenant on/loaded from the cloud? Nothing to recover from this file.\",\"path\":\"rag_website.db/llamaindex/hD2iLoxRhqpF/lsm/property_ref_doc_id_searchable/segment-1742276320350410063\",\"shard\":\"hD2iLoxRhqpF\",\"time\":\"2025-03-17T23:02:32-07:00\"}\n",
      "{\"action\":\"lsm_recover_from_active_wal\",\"build_git_commit\":\"'\\\"$GITHASH\\\"'\",\"build_go_version\":\"go1.22.0\",\"build_image_tag\":\"localhost\",\"build_wv_version\":\"1.26.6\",\"class\":\"LlamaIndex\",\"index\":\"llamaindex\",\"level\":\"warning\",\"msg\":\"empty write-ahead-log found. Did weaviate crash prior to this or the tenant on/loaded from the cloud? Nothing to recover from this file.\",\"path\":\"rag_website.db/llamaindex/hD2iLoxRhqpF/lsm/property__node_type_searchable/segment-1742276123249982882\",\"shard\":\"hD2iLoxRhqpF\",\"time\":\"2025-03-17T23:02:32-07:00\"}\n",
      "{\"action\":\"lsm_recover_from_active_wal\",\"build_git_commit\":\"'\\\"$GITHASH\\\"'\",\"build_go_version\":\"go1.22.0\",\"build_image_tag\":\"localhost\",\"build_wv_version\":\"1.26.6\",\"class\":\"LlamaIndex\",\"index\":\"llamaindex\",\"level\":\"warning\",\"msg\":\"empty write-ahead-log found. Did weaviate crash prior to this or the tenant on/loaded from the cloud? Nothing to recover from this file.\",\"path\":\"rag_website.db/llamaindex/hD2iLoxRhqpF/lsm/property__node_type_searchable/segment-1742276205634252604\",\"shard\":\"hD2iLoxRhqpF\",\"time\":\"2025-03-17T23:02:32-07:00\"}\n",
      "{\"action\":\"lsm_recover_from_active_wal\",\"build_git_commit\":\"'\\\"$GITHASH\\\"'\",\"build_go_version\":\"go1.22.0\",\"build_image_tag\":\"localhost\",\"build_wv_version\":\"1.26.6\",\"class\":\"LlamaIndex\",\"index\":\"llamaindex\",\"level\":\"warning\",\"msg\":\"empty write-ahead-log found. Did weaviate crash prior to this or the tenant on/loaded from the cloud? Nothing to recover from this file.\",\"path\":\"rag_website.db/llamaindex/hD2iLoxRhqpF/lsm/property__node_type_searchable/segment-1742276320349502710\",\"shard\":\"hD2iLoxRhqpF\",\"time\":\"2025-03-17T23:02:32-07:00\"}\n",
      "{\"action\":\"lsm_recover_from_active_wal\",\"build_git_commit\":\"'\\\"$GITHASH\\\"'\",\"build_go_version\":\"go1.22.0\",\"build_image_tag\":\"localhost\",\"build_wv_version\":\"1.26.6\",\"class\":\"LlamaIndex\",\"index\":\"llamaindex\",\"level\":\"warning\",\"msg\":\"empty write-ahead-log found. Did weaviate crash prior to this or the tenant on/loaded from the cloud? Nothing to recover from this file.\",\"path\":\"rag_website.db/llamaindex/hD2iLoxRhqpF/lsm/property_node_info_searchable/segment-1742276058102916144\",\"shard\":\"hD2iLoxRhqpF\",\"time\":\"2025-03-17T23:02:32-07:00\"}\n",
      "{\"action\":\"lsm_recover_from_active_wal\",\"build_git_commit\":\"'\\\"$GITHASH\\\"'\",\"build_go_version\":\"go1.22.0\",\"build_image_tag\":\"localhost\",\"build_wv_version\":\"1.26.6\",\"class\":\"LlamaIndex\",\"index\":\"llamaindex\",\"level\":\"warning\",\"msg\":\"empty write-ahead-log found. Did weaviate crash prior to this or the tenant on/loaded from the cloud? Nothing to recover from this file.\",\"path\":\"rag_website.db/llamaindex/hD2iLoxRhqpF/lsm/property_node_info_searchable/segment-1742276205635181897\",\"shard\":\"hD2iLoxRhqpF\",\"time\":\"2025-03-17T23:02:32-07:00\"}\n",
      "{\"action\":\"lsm_recover_from_active_wal\",\"build_git_commit\":\"'\\\"$GITHASH\\\"'\",\"build_go_version\":\"go1.22.0\",\"build_image_tag\":\"localhost\",\"build_wv_version\":\"1.26.6\",\"class\":\"LlamaIndex\",\"index\":\"llamaindex\",\"level\":\"warning\",\"msg\":\"empty write-ahead-log found. Did weaviate crash prior to this or the tenant on/loaded from the cloud? Nothing to recover from this file.\",\"path\":\"rag_website.db/llamaindex/hD2iLoxRhqpF/lsm/property_creation_date_searchable/segment-1742276123317255735\",\"shard\":\"hD2iLoxRhqpF\",\"time\":\"2025-03-17T23:02:32-07:00\"}\n",
      "{\"action\":\"lsm_recover_from_active_wal\",\"build_git_commit\":\"'\\\"$GITHASH\\\"'\",\"build_go_version\":\"go1.22.0\",\"build_image_tag\":\"localhost\",\"build_wv_version\":\"1.26.6\",\"class\":\"LlamaIndex\",\"index\":\"llamaindex\",\"level\":\"warning\",\"msg\":\"empty write-ahead-log found. Did weaviate crash prior to this or the tenant on/loaded from the cloud? Nothing to recover from this file.\",\"path\":\"rag_website.db/llamaindex/hD2iLoxRhqpF/lsm/property_node_info_searchable/segment-1742276320351638412\",\"shard\":\"hD2iLoxRhqpF\",\"time\":\"2025-03-17T23:02:32-07:00\"}\n",
      "{\"action\":\"lsm_recover_from_active_wal\",\"build_git_commit\":\"'\\\"$GITHASH\\\"'\",\"build_go_version\":\"go1.22.0\",\"build_image_tag\":\"localhost\",\"build_wv_version\":\"1.26.6\",\"class\":\"LlamaIndex\",\"index\":\"llamaindex\",\"level\":\"warning\",\"msg\":\"empty write-ahead-log found. Did weaviate crash prior to this or the tenant on/loaded from the cloud? Nothing to recover from this file.\",\"path\":\"rag_website.db/llamaindex/hD2iLoxRhqpF/lsm/property_creation_date_searchable/segment-1742276205634892300\",\"shard\":\"hD2iLoxRhqpF\",\"time\":\"2025-03-17T23:02:32-07:00\"}\n",
      "{\"action\":\"lsm_recover_from_active_wal\",\"build_git_commit\":\"'\\\"$GITHASH\\\"'\",\"build_go_version\":\"go1.22.0\",\"build_image_tag\":\"localhost\",\"build_wv_version\":\"1.26.6\",\"class\":\"LlamaIndex\",\"index\":\"llamaindex\",\"level\":\"warning\",\"msg\":\"empty write-ahead-log found. Did weaviate crash prior to this or the tenant on/loaded from the cloud? Nothing to recover from this file.\",\"path\":\"rag_website.db/llamaindex/hD2iLoxRhqpF/lsm/property_creation_date_searchable/segment-1742276320351613132\",\"shard\":\"hD2iLoxRhqpF\",\"time\":\"2025-03-17T23:02:32-07:00\"}\n",
      "{\"action\":\"hnsw_prefill_cache_async\",\"build_git_commit\":\"'\\\"$GITHASH\\\"'\",\"build_go_version\":\"go1.22.0\",\"build_image_tag\":\"localhost\",\"build_wv_version\":\"1.26.6\",\"level\":\"info\",\"msg\":\"not waiting for vector cache prefill, running in background\",\"time\":\"2025-03-17T23:02:32-07:00\",\"wait_for_cache_prefill\":false}\n",
      "{\"build_git_commit\":\"'\\\"$GITHASH\\\"'\",\"build_go_version\":\"go1.22.0\",\"build_image_tag\":\"localhost\",\"build_wv_version\":\"1.26.6\",\"level\":\"info\",\"msg\":\"Completed loading shard llamaindex_hD2iLoxRhqpF in 26.957664ms\",\"time\":\"2025-03-17T23:02:32-07:00\"}\n",
      "{\"action\":\"hnsw_vector_cache_prefill\",\"build_git_commit\":\"'\\\"$GITHASH\\\"'\",\"build_go_version\":\"go1.22.0\",\"build_image_tag\":\"localhost\",\"build_wv_version\":\"1.26.6\",\"count\":3000,\"index_id\":\"main\",\"level\":\"info\",\"limit\":1000000000000,\"msg\":\"prefilled vector cache\",\"time\":\"2025-03-17T23:02:32-07:00\",\"took\":2212375}\n",
      "Batches: 100%|██████████| 1/1 [00:00<00:00,  4.53it/s]\n",
      "Batches: 100%|██████████| 1/1 [00:00<00:00, 56.81it/s]\n",
      "Batches: 100%|██████████| 1/1 [00:00<00:00, 54.06it/s]\n",
      "Batches: 100%|██████████| 1/1 [00:00<00:00, 53.99it/s]\n",
      "Batches: 100%|██████████| 1/1 [00:00<00:00, 56.66it/s]\n",
      "Batches: 100%|██████████| 1/1 [00:00<00:00, 52.22it/s]\n",
      "Batches: 100%|██████████| 1/1 [00:00<00:00, 54.56it/s]\n",
      "Batches: 100%|██████████| 1/1 [00:00<00:00, 52.16it/s]\n",
      "Batches: 100%|██████████| 1/1 [00:00<00:00, 48.77it/s]\n",
      "Batches: 100%|██████████| 1/1 [00:00<00:00, 51.10it/s]\n",
      "Batches: 100%|██████████| 1/1 [00:00<00:00, 55.22it/s]\n",
      "Batches: 100%|██████████| 1/1 [00:00<00:00, 54.32it/s]\n",
      "Batches: 100%|██████████| 1/1 [00:00<00:00, 57.32it/s]\n",
      "Batches: 100%|██████████| 1/1 [00:00<00:00, 58.83it/s]\n",
      "Batches: 100%|██████████| 1/1 [00:00<00:00, 58.78it/s]\n",
      "Batches: 100%|██████████| 1/1 [00:00<00:00, 57.55it/s]\n",
      "Batches: 100%|██████████| 1/1 [00:00<00:00, 58.81it/s]\n",
      "Batches: 100%|██████████| 1/1 [00:00<00:00, 57.41it/s]\n",
      "Batches: 100%|██████████| 1/1 [00:00<00:00, 61.63it/s]\n",
      "Batches: 100%|██████████| 1/1 [00:00<00:00, 57.57it/s]\n",
      "Batches: 100%|██████████| 1/1 [00:00<00:00, 56.83it/s]\n",
      "Batches: 100%|██████████| 1/1 [00:00<00:00, 64.33it/s]"
     ]
    },
    {
     "name": "stdout",
     "output_type": "stream",
     "text": [
      "INFO:httpx:HTTP Request: GET http://localhost:8079/v1/schema \"HTTP/1.1 200 OK\"\n",
      "HTTP Request: GET http://localhost:8079/v1/schema \"HTTP/1.1 200 OK\"\n"
     ]
    },
    {
     "name": "stderr",
     "output_type": "stream",
     "text": [
      "\n"
     ]
    },
    {
     "name": "stdout",
     "output_type": "stream",
     "text": [
      "Successfully stored 218 chunks to vectorDB:  ./rag_website.db\n",
      "CPU times: user 967 ms, sys: 163 ms, total: 1.13 s\n",
      "Wall time: 1.82 s\n"
     ]
    }
   ],
   "source": [
    "%%time \n",
    "\n",
    "# save chunks into vector db\n",
    "\n",
    "from llama_index.core import VectorStoreIndex\n",
    "\n",
    "index = VectorStoreIndex(\n",
    "        nodes=nodes,\n",
    "        storage_context=storage_context,\n",
    "    )\n",
    "\n",
    "print(f\"Successfully stored {len(nodes)} chunks to vectorDB: \", MY_CONFIG.DB_URI)\n"
   ]
  },
  {
   "cell_type": "code",
   "execution_count": null,
   "metadata": {},
   "outputs": [],
   "source": []
  }
 ],
 "metadata": {
  "kernelspec": {
   "display_name": "rag-website-4-docling-weaviate",
   "language": "python",
   "name": "python3"
  },
  "language_info": {
   "codemirror_mode": {
    "name": "ipython",
    "version": 3
   },
   "file_extension": ".py",
   "mimetype": "text/x-python",
   "name": "python",
   "nbconvert_exporter": "python",
   "pygments_lexer": "ipython3",
   "version": "3.11.11"
  }
 },
 "nbformat": 4,
 "nbformat_minor": 2
}
