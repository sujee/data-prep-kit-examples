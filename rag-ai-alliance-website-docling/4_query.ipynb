{
 "cells": [
  {
   "cell_type": "markdown",
   "metadata": {},
   "source": [
    "# RAG on HTML documents\n"
   ]
  },
  {
   "cell_type": "markdown",
   "metadata": {},
   "source": [
    "## Step-1: Configuration"
   ]
  },
  {
   "cell_type": "code",
   "execution_count": 1,
   "metadata": {},
   "outputs": [],
   "source": [
    "from my_config import MY_CONFIG"
   ]
  },
  {
   "cell_type": "markdown",
   "metadata": {},
   "source": [
    "## Step-2: Setup Embeddings"
   ]
  },
  {
   "cell_type": "code",
   "execution_count": 2,
   "metadata": {},
   "outputs": [],
   "source": [
    "# If connection to https://huggingface.co/ failed, uncomment the following path\n",
    "import os\n",
    "os.environ['HF_ENDPOINT'] = 'https://hf-mirror.com'"
   ]
  },
  {
   "cell_type": "code",
   "execution_count": 3,
   "metadata": {},
   "outputs": [
    {
     "name": "stderr",
     "output_type": "stream",
     "text": [
      "/home/sujee/apps/anaconda3/envs/rag-website-3-docling/lib/python3.11/site-packages/tqdm/auto.py:21: TqdmWarning: IProgress not found. Please update jupyter and ipywidgets. See https://ipywidgets.readthedocs.io/en/stable/user_install.html\n",
      "  from .autonotebook import tqdm as notebook_tqdm\n"
     ]
    }
   ],
   "source": [
    "from llama_index.embeddings.huggingface import HuggingFaceEmbedding\n",
    "from llama_index.core import Settings\n",
    "\n",
    "Settings.embed_model = HuggingFaceEmbedding(\n",
    "    model_name = MY_CONFIG.EMBEDDING_MODEL\n",
    ")"
   ]
  },
  {
   "cell_type": "markdown",
   "metadata": {},
   "source": [
    "## Step-3: Connect to Milvus"
   ]
  },
  {
   "cell_type": "code",
   "execution_count": 4,
   "metadata": {},
   "outputs": [
    {
     "name": "stderr",
     "output_type": "stream",
     "text": [
      "2025-03-12 13:19:42,783 [DEBUG][_create_connection]: Created new connection using: dcc9fe967a944bdba66b2651209e76f0 (async_milvus_client.py:600)\n"
     ]
    },
    {
     "name": "stdout",
     "output_type": "stream",
     "text": [
      "✅ Connected to Milvus instance:  ./rag_website.db\n"
     ]
    }
   ],
   "source": [
    "# connect to vector db\n",
    "from llama_index.core import VectorStoreIndex, StorageContext\n",
    "from llama_index.vector_stores.milvus import MilvusVectorStore\n",
    "\n",
    "vector_store = MilvusVectorStore(\n",
    "    uri = MY_CONFIG.DB_URI ,\n",
    "    dim = MY_CONFIG.EMBEDDING_LENGTH , \n",
    "    collection_name = MY_CONFIG.COLLECTION_NAME,\n",
    "    overwrite=False  # so we load the index from db\n",
    ")\n",
    "storage_context = StorageContext.from_defaults(vector_store=vector_store)\n",
    "\n",
    "print (\"✅ Connected to Milvus instance: \", MY_CONFIG.DB_URI )"
   ]
  },
  {
   "cell_type": "markdown",
   "metadata": {},
   "source": [
    "## Step-4: Load Document Index from DB"
   ]
  },
  {
   "cell_type": "code",
   "execution_count": 5,
   "metadata": {},
   "outputs": [
    {
     "name": "stdout",
     "output_type": "stream",
     "text": [
      "✅ Loaded index from vector db: ./rag_website.db\n",
      "CPU times: user 123 ms, sys: 12.9 ms, total: 136 ms\n",
      "Wall time: 134 ms\n"
     ]
    }
   ],
   "source": [
    "%%time\n",
    "\n",
    "from llama_index.core import VectorStoreIndex\n",
    "\n",
    "index = VectorStoreIndex.from_vector_store(\n",
    "    vector_store=vector_store, storage_context=storage_context)\n",
    "\n",
    "print (\"✅ Loaded index from vector db:\", MY_CONFIG.DB_URI )"
   ]
  },
  {
   "cell_type": "markdown",
   "metadata": {},
   "source": [
    "## Step-5: Setup LLM"
   ]
  },
  {
   "cell_type": "code",
   "execution_count": 6,
   "metadata": {},
   "outputs": [],
   "source": [
    "from llama_index.llms.replicate import Replicate\n",
    "from llama_index.core import Settings\n",
    "\n",
    "llm = Replicate(\n",
    "    model= MY_CONFIG.LLM_MODEL,\n",
    "    temperature=0.1\n",
    ")\n",
    "\n",
    "Settings.llm = llm"
   ]
  },
  {
   "cell_type": "markdown",
   "metadata": {},
   "source": [
    "## Step-6: Query"
   ]
  },
  {
   "cell_type": "code",
   "execution_count": 7,
   "metadata": {},
   "outputs": [
    {
     "name": "stdout",
     "output_type": "stream",
     "text": [
      "The AI Alliance is an international community of leading technology developers, researchers, and adopters collaborating together to advance open, safe, and responsible AI. It is a group of more than 100 organizations, including companies, startups, universities, research institutions, government organizations, and non-profit foundations, working at the forefront of AI technology, applications, and governance. The AI Alliance aims to foster an open community, enabling developers and researchers to accelerate responsible innovation in AI while ensuring scientific rigor, trust, safety, security, diversity, and economic competitiveness. By pooling resources and knowledge, the Alliance plans to address safety concerns and provide a platform for sharing and developing solutions tailored to the needs of researchers, developers, and adopters worldwide.\n"
     ]
    }
   ],
   "source": [
    "query_engine = index.as_query_engine()\n",
    "res = query_engine.query(\"What is AI Alliance?\")\n",
    "print(res)"
   ]
  },
  {
   "cell_type": "code",
   "execution_count": 8,
   "metadata": {},
   "outputs": [
    {
     "name": "stdout",
     "output_type": "stream",
     "text": [
      "The AI Alliance has six goal-oriented thematic programs, which are referred to as Focus Areas. These Focus Areas are:\n",
      "\n",
      "1. Foundational Capabilities\n",
      "2. Safety and Security\n",
      "3. Trust and Explainability\n",
      "4. Ethics and Fairness\n",
      "5. Diversity and Inclusion\n",
      "6. Economic Competitiveness\n",
      "\n",
      "These Focus Areas guide the AI Alliance's efforts in fostering responsible innovation in AI, ensuring scientific rigor, trust, safety, security, diversity, and economic competitiveness.\n"
     ]
    }
   ],
   "source": [
    "query_engine = index.as_query_engine()\n",
    "res = query_engine.query(\"What are the main focus areas of AI Alliance?\")\n",
    "print(res)"
   ]
  },
  {
   "cell_type": "code",
   "execution_count": 9,
   "metadata": {},
   "outputs": [
    {
     "name": "stdout",
     "output_type": "stream",
     "text": [
      "Based on the provided context, the AI Alliance does not explicitly list specific projects. Instead, it outlines the governance structure, requirements for projects, and the involvement of various partner organizations. The AI Alliance aims to have Core Projects and Initiatives with published goals, at least two organizational Sponsors, a named lead/co-leads, a public description on the AIA website, and open invitations for Collaborators.\n",
      "\n",
      "Focus Areas, as mentioned in the context, have a set of Projects, Initiatives, and Working Groups within their scope. At least two co-chairs from different member organizations organize, establish OKRs, and facilitate work and decision-making for these Focus Areas.\n",
      "\n",
      "While the context does not provide a list of projects, it emphasizes the importance of grassroots collaboration, diversity of thought and action, and the involvement of a broad global AI community in the AI Alliance's work.\n"
     ]
    }
   ],
   "source": [
    "query_engine = index.as_query_engine()\n",
    "res = query_engine.query(\"What are some ai alliance projects?\")\n",
    "print(res)"
   ]
  },
  {
   "cell_type": "code",
   "execution_count": 10,
   "metadata": {},
   "outputs": [
    {
     "name": "stdout",
     "output_type": "stream",
     "text": [
      "The demo night, Open Source AI Demo Night, was held in San Francisco, California.\n"
     ]
    }
   ],
   "source": [
    "query_engine = index.as_query_engine()\n",
    "res = query_engine.query(\"Where was the demo night held?\")\n",
    "print(res)"
   ]
  },
  {
   "cell_type": "code",
   "execution_count": 11,
   "metadata": {},
   "outputs": [
    {
     "name": "stdout",
     "output_type": "stream",
     "text": [
      "The context information provided does not contain any details about the moon landing. It discusses various AI-related projects, including LLM360 and Amber, but there is no mention of a moon landing.\n"
     ]
    }
   ],
   "source": [
    "query_engine = index.as_query_engine()\n",
    "res = query_engine.query(\"When was the moon landing?\")\n",
    "print(res)"
   ]
  },
  {
   "cell_type": "code",
   "execution_count": 12,
   "metadata": {},
   "outputs": [
    {
     "name": "stdout",
     "output_type": "stream",
     "text": [
      "The AI Alliance is working on several initiatives related to material science. One of the key working groups, the Materials and Chemistry Working Group, focuses on curating datasets, tasks, and benchmarks for materials science. They aim to build out foundation models in chemistry for predicting properties, experimental outcomes, or generating new materials candidates. Additionally, this group seeks to create a framework that fosters collaboration between human experts and AI agents to address global urgent challenges in sustainability and safety of materials.\n",
      "\n",
      "In summary, the AI Alliance is actively engaged in developing AI models and tools for materials science, with a particular emphasis on creating a collaborative environment between human experts and AI agents to tackle critical challenges in sustainability and safety of materials.\n"
     ]
    }
   ],
   "source": [
    "query_engine = index.as_query_engine()\n",
    "res = query_engine.query(\"What is the AI Alliance doing in the area of material science?\")\n",
    "print(res)"
   ]
  },
  {
   "cell_type": "code",
   "execution_count": 13,
   "metadata": {},
   "outputs": [
    {
     "name": "stdout",
     "output_type": "stream",
     "text": [
      "To join the AI Alliance, you can either become an organizational member or an individual contributor.\n",
      "\n",
      "1. If you wish to join as an organization, send a message via the AI Alliance's contact form.\n",
      "2. If you want to join as an individual contributor, complete the working group application form.\n",
      "\n",
      "Once your application is reviewed and approved, you will be invited to the AI Alliance Slack and provided with additional instructions on how to join the community.\n",
      "\n",
      "Additionally, you can subscribe to the AI Alliance's community newsletter by submitting the respective form, which will keep you informed about AI Alliance initiatives and enable your involvement in AI Alliance activities. The AI Alliance will collect and process your personal information for these purposes and may share it with its member organizations for communication about AI Alliance initiatives and your involvement. You can withdraw your consent for the processing of your personal information by contacting the AI Alliance.\n"
     ]
    }
   ],
   "source": [
    "query_engine = index.as_query_engine()\n",
    "res = query_engine.query(\"How do I join the AI Alliance?\")\n",
    "print(res)"
   ]
  },
  {
   "cell_type": "code",
   "execution_count": null,
   "metadata": {},
   "outputs": [],
   "source": []
  }
 ],
 "metadata": {
  "kernelspec": {
   "display_name": "rag-website-3-docling",
   "language": "python",
   "name": "python3"
  },
  "language_info": {
   "codemirror_mode": {
    "name": "ipython",
    "version": 3
   },
   "file_extension": ".py",
   "mimetype": "text/x-python",
   "name": "python",
   "nbconvert_exporter": "python",
   "pygments_lexer": "ipython3",
   "version": "3.11.11"
  }
 },
 "nbformat": 4,
 "nbformat_minor": 4
}
