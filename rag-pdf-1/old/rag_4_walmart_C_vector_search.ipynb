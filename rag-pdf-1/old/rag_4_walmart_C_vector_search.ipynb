{
 "cells": [
  {
   "cell_type": "markdown",
   "metadata": {},
   "source": [
    "# Handy Utils to do Vector Search on Collections"
   ]
  },
  {
   "cell_type": "markdown",
   "metadata": {},
   "source": [
    "## Configuration"
   ]
  },
  {
   "cell_type": "code",
   "execution_count": 1,
   "metadata": {},
   "outputs": [],
   "source": [
    "class MyConfig:\n",
    "    pass\n",
    "MY_CONFIG = MyConfig()\n",
    "\n",
    "MY_CONFIG.EMBEDDING_MODEL = \"sentence-transformers/all-MiniLM-L6-v2\"\n",
    "MY_CONFIG.EMBEDDING_LENGTH = 384\n",
    "\n",
    "MY_CONFIG.DB_URI = './rag_4_walmart_dataprepkit.db'  # For embedded instance\n",
    "#MY_CONFIG.DB_URI = 'http://localhost:19530'  # For Docker instance\n",
    "MY_CONFIG.COLLECTION_NAME = 'dataprepkit_walmart_docs'"
   ]
  },
  {
   "cell_type": "markdown",
   "metadata": {},
   "source": [
    "## Connect to Vector Database\n",
    "\n",
    "Milvus can be embedded and easy to use.\n"
   ]
  },
  {
   "cell_type": "code",
   "execution_count": 2,
   "metadata": {},
   "outputs": [
    {
     "name": "stdout",
     "output_type": "stream",
     "text": [
      "✅ Connected to Milvus instance: ./rag_4_walmart_dataprepkit.db\n"
     ]
    }
   ],
   "source": [
    "from pymilvus import MilvusClient\n",
    "\n",
    "milvus_client = MilvusClient(MY_CONFIG.DB_URI)\n",
    "\n",
    "print (\"✅ Connected to Milvus instance:\", MY_CONFIG.DB_URI)"
   ]
  },
  {
   "cell_type": "markdown",
   "metadata": {},
   "source": [
    "## Setup Embeddings\n",
    "\n",
    "Two choices here. \n",
    "\n",
    "1. use sentence transformers directly\n",
    "2. use Milvus model wrapper"
   ]
  },
  {
   "cell_type": "code",
   "execution_count": 3,
   "metadata": {},
   "outputs": [
    {
     "name": "stderr",
     "output_type": "stream",
     "text": [
      "/home/sujee/apps/anaconda3/envs/data-prep-kit-dev-1/lib/python3.11/site-packages/sentence_transformers/cross_encoder/CrossEncoder.py:11: TqdmWarning: IProgress not found. Please update jupyter and ipywidgets. See https://ipywidgets.readthedocs.io/en/stable/user_install.html\n",
      "  from tqdm.autonotebook import tqdm, trange\n"
     ]
    }
   ],
   "source": [
    "## Option 1 - use sentence transformers directly\n",
    "\n",
    "# If connection to https://huggingface.co/ failed, uncomment the following path\n",
    "import os\n",
    "os.environ['HF_ENDPOINT'] = 'https://hf-mirror.com'\n",
    "\n",
    "from sentence_transformers import SentenceTransformer\n",
    "\n",
    "embedding_model = SentenceTransformer(MY_CONFIG.EMBEDDING_MODEL)\n",
    "\n",
    "def get_embeddings (str):\n",
    "    embeddings = embedding_model.encode(str, normalize_embeddings=True)\n",
    "    return embeddings"
   ]
  },
  {
   "cell_type": "code",
   "execution_count": 4,
   "metadata": {},
   "outputs": [],
   "source": [
    "## Option 2 - Milvus model\n",
    "from pymilvus import model\n",
    "\n",
    "# If connection to https://huggingface.co/ failed, uncomment the following path\n",
    "import os\n",
    "os.environ['HF_ENDPOINT'] = 'https://hf-mirror.com'\n",
    "\n",
    "\n",
    "# embedding_fn = model.DefaultEmbeddingFunction()\n",
    "\n",
    "## initialize the SentenceTransformerEmbeddingFunction\n",
    "embedding_fn = model.dense.SentenceTransformerEmbeddingFunction(\n",
    "    model_name = MY_CONFIG.EMBEDDING_MODEL,\n",
    "    device='cpu' # this will work on all devices (KIS)\n",
    ")"
   ]
  },
  {
   "cell_type": "code",
   "execution_count": 5,
   "metadata": {},
   "outputs": [
    {
     "name": "stdout",
     "output_type": "stream",
     "text": [
      "sentence transformer : embeddings len = 384\n",
      "sentence transformer : embeddings[:5] =  [ 0.02468892  0.10352131  0.0275264  -0.08551715 -0.01412829]\n",
      "milvus model wrapper : embeddings len = 384\n",
      "milvus model wrapper  : embeddings[:5] =  [ 0.02468898  0.10352129  0.02752643 -0.08551721 -0.01412823]\n"
     ]
    }
   ],
   "source": [
    "# Test Embeddings\n",
    "text = 'Paris 2024 Olympics'\n",
    "embeddings = get_embeddings(text)\n",
    "print ('sentence transformer : embeddings len =', len(embeddings))\n",
    "print ('sentence transformer : embeddings[:5] = ', embeddings[:5])\n",
    "\n",
    "embeddings = embedding_fn([text])\n",
    "print ('milvus model wrapper : embeddings len =', len(embeddings[0]))\n",
    "print ('milvus model wrapper  : embeddings[:5] = ', embeddings[0][:5])"
   ]
  },
  {
   "cell_type": "markdown",
   "metadata": {},
   "source": [
    "## Do A  Vector Search\n",
    "\n",
    "We will do this to verify data"
   ]
  },
  {
   "cell_type": "code",
   "execution_count": 6,
   "metadata": {},
   "outputs": [],
   "source": [
    "import random\n",
    "\n",
    "\n",
    "## helper function to perform vector search\n",
    "def  do_vector_search (query):\n",
    "    query_vectors = [get_embeddings(query)]  # Option 1 - using sentence transformers\n",
    "    # query_vectors = embedding_fn([query])  # using Milvus model \n",
    "\n",
    "    results = milvus_client.search(\n",
    "        collection_name=MY_CONFIG.COLLECTION_NAME,  # target collection\n",
    "        data=query_vectors,  # query vectors\n",
    "        limit=5,  # number of returned entities\n",
    "        output_fields=[\"filename\", \"page_number\", \"text\"],  # specifies fields to be returned\n",
    "    )\n",
    "    return results\n",
    "## ----\n",
    "\n",
    "def  print_search_results (results):\n",
    "    # pprint (results)\n",
    "    print ('num results : ', len(results[0]))\n",
    "\n",
    "    for i, r in enumerate (results[0]):\n",
    "        #pprint(r, indent=4)\n",
    "        print (f'------ result {i+1} --------')\n",
    "        print ('search score:', r['distance'])\n",
    "        print ('filename:', r['entity']['filename'])\n",
    "        print ('page number:', r['entity']['page_number'])\n",
    "        print ('text:\\n', r['entity']['text'])\n",
    "        print()"
   ]
  },
  {
   "cell_type": "code",
   "execution_count": 7,
   "metadata": {},
   "outputs": [
    {
     "name": "stdout",
     "output_type": "stream",
     "text": [
      "num results :  5\n",
      "------ result 1 --------\n",
      "search score: 0.7330881357192993\n",
      "filename: Walmart-10K-Reports-Optimized_2023.pdf\n",
      "page number: 38\n",
      "text:\n",
      " Strong, Efficient Growth\n",
      "Comparable sales in the U.S., including fuel, increased 8.2% and 7.7% in fiscal 2023 and 2022, respectively, when compared to the previous fiscal year. Walmart U.S. comparable sales increased 7.0% and 6.4% in fiscal 2023 and 2022, respectively. For\n",
      "\n",
      "------ result 2 --------\n",
      "search score: 0.7239528894424438\n",
      "filename: Walmart-10K-Reports-Optimized_2023.pdf\n",
      "page number: 82\n",
      "text:\n",
      " (A(Amounts in millions)\n",
      "Of Walmart U.S.'s total net sales, approximately $53.4 billion, $47.8 billion and $43.0 billion related to eCommerce for fiscal 2023, 2022 and 2021, respectively.\n",
      "\n",
      "------ result 3 --------\n",
      "search score: 0.7207441329956055\n",
      "filename: Walmart-10K-Reports-Optimized_2023.pdf\n",
      "page number: 8\n",
      "text:\n",
      " General\n",
      "Our operations comprise three reportable segments: Walmart U.S., Walmart International and Sam's Club. Our fiscal year ends on January 31 for our United States (\"U.S.\") and Canadian operations. We consolidate all other operations generally using a one-month lag and on a calendar year basis. Our discussion is as of and for the fiscal years ended January 31, 2023 (\"fiscal 2023\"), January 31, 2022 (\"fiscal 2022\") and January 31, 2021 (\"fiscal 2021\"). During fiscal 2023, we generated total revenues of $611.3 billion, which was comprised primarily of net sales of $605.9 billion.\n",
      "\n",
      "------ result 4 --------\n",
      "search score: 0.7021121382713318\n",
      "filename: Walmart-10K-Reports-Optimized_2023.pdf\n",
      "page number: 82\n",
      "text:\n",
      " (A(Amounts in millions)\n",
      "Of Walmart International's total net sales, approximately $20.3 billion, $18.5 billion and $16.6 billion related to eCommerce for fiscal 2023, 2022 and 2021, respectively.\n",
      "\n",
      "------ result 5 --------\n",
      "search score: 0.6882405877113342\n",
      "filename: Walmart-10K-Reports-Optimized_2023.pdf\n",
      "page number: 43\n",
      "text:\n",
      " Consolidated Results of Operations\n",
      "Net sales for the Walmart U.S. segment increased $27.3 billion or 6.9% and $23.3 billion or 6.3% for fiscal 2023 and 2022, respectively, when compared to the previous fiscal year. The increases in net sales were primarily due to increases in comparable sales of 7.0% and 6.4% for fiscal 2023 and 2022, respectively. Comparable sales in fiscal 2023 were driven by growth in average ticket, including strong food sales and higher inflation impacts in certain merchandise categories, as well as growth in transactions. Comparable sales in fiscal 2022 were driven by growth in average ticket and transactions, which included strong consumer spending from government stimulus and some higher inflation impacts in certain merchandise categories compared to recent years. Walmart U.S. eCommerce sales positively contributed approximately 0.7% to comparable sales for both fiscal 2023 and 2022, as we continue to focus on a seamless omni-channel experience for our customers.\n",
      "\n"
     ]
    }
   ],
   "source": [
    "query = \"What was Walmart's revenue in 2023?\"\n",
    "\n",
    "results = do_vector_search (query)\n",
    "print_search_results(results)"
   ]
  },
  {
   "cell_type": "code",
   "execution_count": 8,
   "metadata": {},
   "outputs": [
    {
     "name": "stdout",
     "output_type": "stream",
     "text": [
      "num results :  5\n",
      "------ result 1 --------\n",
      "search score: 0.7357840538024902\n",
      "filename: Walmart-10K-Reports-Optimized_2023.pdf\n",
      "page number: 10\n",
      "text:\n",
      " Walmart U.S. Segment\n",
      "Distribution . We continue to invest in supply chain automation and utilize a total of 163 distribution facilities which are located strategically throughout the U.S. For fiscal 2023, the majority of Walmart U.S.'s purchases of store merchandise were shipped through these facilities, while most of the remaining store merchandise we purchased was shipped directly from suppliers. General merchandise and dry grocery merchandise is transported primarily through the segment's private truck fleet; however, we contract with common carriers to transport the majority of our perishable grocery merchandise. We ship merchandise purchased by customers on our eCommerce platforms by a number of methods from multiple locations including from our 34 dedicated eCommerce fulfillment centers, as well as leveraging our ability to ship or deliver directly from more than 3,900 stores.\n",
      "\n",
      "------ result 2 --------\n",
      "search score: 0.700027346611023\n",
      "filename: Walmart-10K-Reports-Optimized_2023.pdf\n",
      "page number: 12\n",
      "text:\n",
      " Walmart International Segment\n",
      "Distribution. We utilize a total of 188 distribution facilities located in Canada, Central America, Chile, China, India, Mexico and South Africa. Through these facilities, we process and distribute both imported and domestic products to the operating units of the Walmart International segment. During fiscal 2023, the majority of Walmart International's purchases passed through these distribution facilities. Suppliers ship the remainder of Walmart International's purchases directly to our stores in the various markets in which we operate. Across the segment, we have efficient networks connecting physical stores and distribution and fulfillment centers which facilitate the movement of goods to where our customers live. We ship merchandise purchased by customers on our eCommerce platforms by a number of methods from multiple locations including from our 100 dedicated eCommerce fulfillment centers, more than 3,600 eCommerce sort centers and last-mile delivery facilities in India, as well as our physical retail stores.\n",
      "\n",
      "------ result 3 --------\n",
      "search score: 0.6671162843704224\n",
      "filename: Walmart-10K-Reports-Optimized_2023.pdf\n",
      "page number: 31\n",
      "text:\n",
      " Owned and Leased Properties\n",
      "U.S. properties, Owned = . U.S. properties, Leased(2 = . U.S. properties, Tota = . Walmart U.S. retail units, Owned = 4,057. Walmart U.S. retail units, Leased(2 = 660. Walmart U.S. retail units, Tota = 4,717. Sam's Club retail units, Owned = 513. Sam's Club retail units, Leased(2 = 87. Sam's Club retail units, Tota = 600. Total U.S. retail units, Owned = 4,570. Total U.S. retail units, Leased(2 = 747. Total U.S. retail units, Tota = 5,317. Walmart U.S. distribution facilities, Owned = 110. Walmart U.S. distribution facilities, Leased(2 = 53. Walmart U.S. distribution facilities, Tota = 163. Sam's Club distribution facilities, Owned = 12. Sam's Club distribution facilities, Leased(2 = 17. Sam's Club distribution facilities, Tota = 29. Total U.S. distribution facilities, Owned = 122. Total U.S. distribution facilities, Leased(2 = 70. Total U.S. distribution facilities, Tota = 192. Total U.S. properties, Owned = 4,692. Total U.S. properties, Leased(2 = 817. Total U.S. properties, Tota = 5,509. International propertie, Owned = . International propertie, Leased(2 = . International propertie, Tota = . Africa, Owned = 33. Africa, Leased(2 = 342. Africa, Tota = 375. Canada, Owned = 124. Canada, Leased(2 = 278. Canada, Tota = 402. Central America, Owned = 380. Central America, Leased(2 = 502. Central America, Tota = 882. Chile, Owned = 205. Chile, Leased(2 = 187. Chile, Tota = 392. China, Owned = 2. China, Leased(2 = 363. China, Tota = 365. India, Owned = 2. India, Leased(2 = 26. India, Tota = 28. Mexico, Owned = 710. Mexico, Leased(2 = 2,152. Mexico, Tota = 2,862. Total International retail units, Owned = 1,456. Total International retail units, Leased(2 = 3,850. Total International retail units, Tota = 5,306. International distribution facilities, Owned = 23. International distribution facilities, Leased(2 = 165. International distribution facilities, Tota = 188. Total International properties, Owned = 1,479. Total International properties, Leased(2 = 4,015. Total International properties, Tota = 5,494. Total properties, Owned = 6,171. Total properties, Leased(2 = 4,832. Total properties, Tota = 11,003. Total retail units, Owned = 6,026. Total retail units, Leased(2 = 4,597. Total retail units, Tota = 10,623. Total distribution facilities, Owned = 145. Total distribution facilities, Leased(2 = 235. Total distribution facilities, Tota = 380. Total properties, Owned = 6,171. Total properties, Leased(2 = 4,832. Total properties, Tota = 11,003\n",
      "\n",
      "------ result 4 --------\n",
      "search score: 0.6158568263053894\n",
      "filename: Walmart-10K-Reports-Optimized_2023.pdf\n",
      "page number: 92\n",
      "text:\n",
      " I, C. Douglas McMillon, certify that:\n",
      "1. I have reviewed this Annual Report on Form 10-K of Walmart Inc. (the \"registrant\");\n",
      "\n",
      "------ result 5 --------\n",
      "search score: 0.6104080080986023\n",
      "filename: Walmart-10K-Reports-Optimized_2023.pdf\n",
      "page number: 11\n",
      "text:\n",
      " Walmart International Segment\n",
      "Generally, retail units' selling areas range in size from 1,400 square feet to 186,000 square feet. Our wholesale stores' selling areas generally range in size from 24,000 square feet to 158,000 square feet. As of January 31, 2023, Walmart International had over 2,900 pickup and approximately 2,500 delivery locations.\n",
      "\n"
     ]
    }
   ],
   "source": [
    "query = \"How many distribution facilities does Walmart have?\"\n",
    "\n",
    "results = do_vector_search (query)\n",
    "print_search_results(results)"
   ]
  },
  {
   "cell_type": "code",
   "execution_count": 9,
   "metadata": {},
   "outputs": [],
   "source": [
    "# milvus_client.close()"
   ]
  },
  {
   "cell_type": "markdown",
   "metadata": {},
   "source": []
  }
 ],
 "metadata": {
  "kernelspec": {
   "display_name": "data-prep-kit-dev-1",
   "language": "python",
   "name": "python3"
  },
  "language_info": {
   "codemirror_mode": {
    "name": "ipython",
    "version": 3
   },
   "file_extension": ".py",
   "mimetype": "text/x-python",
   "name": "python",
   "nbconvert_exporter": "python",
   "pygments_lexer": "ipython3",
   "version": "3.11.9"
  }
 },
 "nbformat": 4,
 "nbformat_minor": 2
}
