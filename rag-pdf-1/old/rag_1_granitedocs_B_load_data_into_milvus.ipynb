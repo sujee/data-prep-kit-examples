{
 "cells": [
  {
   "cell_type": "markdown",
   "metadata": {},
   "source": [
    "# Load Processed Data into Vector Database\n",
    "\n",
    "This notebook loads output from data prep kit into Milvus\n",
    "\n",
    "**Step-4 in this workflow**\n",
    "\n",
    "![](../media/rag-overview-2.png)\n"
   ]
  },
  {
   "cell_type": "markdown",
   "metadata": {},
   "source": [
    "## Configuration"
   ]
  },
  {
   "cell_type": "code",
   "execution_count": 1,
   "metadata": {},
   "outputs": [],
   "source": [
    "class MyConfig:\n",
    "    pass\n",
    "MY_CONFIG = MyConfig()\n",
    "\n",
    "MY_CONFIG.INPUT_DATA_DIR = 'data/granite-docs/output_final/'\n",
    "# MY_CONFIG.INPUT_DATA_REMOTE = \"https://github.com/sujee/data-prep-kit-examples/blob/main/requirements.txt\"\n",
    "\n",
    "MY_CONFIG.DB_URI = './rag_demo_dataprepkit_1.db'  # For embedded instance\n",
    "#MY_CONFIG.DB_URI = 'http://localhost:19530'  # For Docker instance\n",
    "MY_CONFIG.COLLECTION_NAME = 'dataprepkit_granite_docs'"
   ]
  },
  {
   "cell_type": "markdown",
   "metadata": {},
   "source": [
    "## Step-: Load Parquet Data\n",
    "\n",
    "Load all  `.parquet` files in the given dir"
   ]
  },
  {
   "cell_type": "code",
   "execution_count": 2,
   "metadata": {},
   "outputs": [
    {
     "name": "stdout",
     "output_type": "stream",
     "text": [
      "Loading data from :  data/granite-docs/output_final/\n",
      "Number of parquet files to read :  1\n",
      "\n",
      "Read file: 'data/granite-docs/output_final/Granite_Foundation_Models.parquet'.  number of rows = 216\n",
      "\n",
      "Total number of rows = 216\n"
     ]
    }
   ],
   "source": [
    "import pandas as pd\n",
    "import glob\n",
    "\n",
    "print ('Loading data from : ', MY_CONFIG.INPUT_DATA_DIR)\n",
    "\n",
    "# Get a list of all Parquet files in the directory\n",
    "parquet_files = glob.glob(f'{MY_CONFIG.INPUT_DATA_DIR}/*.parquet')\n",
    "print (\"Number of parquet files to read : \", len(parquet_files))\n",
    "print ()\n",
    "\n",
    "# Create an empty list to store the DataFrames\n",
    "dfs = []\n",
    "\n",
    "# Loop through each Parquet file and read it into a DataFrame\n",
    "for file in parquet_files:\n",
    "    df = pd.read_parquet(file)\n",
    "    print (f\"Read file: '{file}'.  number of rows = {df.shape[0]}\")\n",
    "    dfs.append(df)\n",
    "\n",
    "# Concatenate all DataFrames into a single DataFrame\n",
    "data_df = pd.concat(dfs, ignore_index=True)\n",
    "\n",
    "print (f\"\\nTotal number of rows = {data_df.shape[0]}\")"
   ]
  },
  {
   "cell_type": "code",
   "execution_count": 3,
   "metadata": {},
   "outputs": [
    {
     "name": "stdout",
     "output_type": "stream",
     "text": [
      "embedding length:  384\n",
      "<class 'pandas.core.frame.DataFrame'>\n",
      "RangeIndex: 216 entries, 0 to 215\n",
      "Data columns (total 29 columns):\n",
      " #   Column                        Non-Null Count  Dtype  \n",
      "---  ------                        --------------  -----  \n",
      " 0   filename                      216 non-null    object \n",
      " 1   num_pages                     216 non-null    int64  \n",
      " 2   num_tables                    216 non-null    int64  \n",
      " 3   num_doc_elements              216 non-null    int64  \n",
      " 4   document_id                   216 non-null    object \n",
      " 5   ext                           216 non-null    object \n",
      " 6   hash                          216 non-null    object \n",
      " 7   size                          216 non-null    int64  \n",
      " 8   date_acquired                 216 non-null    object \n",
      " 9   pdf_convert_time              216 non-null    float64\n",
      " 10  source_filename               216 non-null    object \n",
      " 11  text                          216 non-null    object \n",
      " 12  doc_jsonpath                  216 non-null    object \n",
      " 13  page_number                   216 non-null    int64  \n",
      " 14  bbox                          216 non-null    object \n",
      " 15  int_id_column                 216 non-null    int64  \n",
      " 16  hash_column                   216 non-null    int64  \n",
      " 17  docq_total_words              216 non-null    int64  \n",
      " 18  docq_mean_word_len            216 non-null    float64\n",
      " 19  docq_symbol_to_word_ratio     216 non-null    float64\n",
      " 20  docq_sentence_count           216 non-null    int64  \n",
      " 21  docq_lorem_ipsum_ratio        216 non-null    float64\n",
      " 22  docq_curly_bracket_ratio      216 non-null    float64\n",
      " 23  docq_contain_bad_word         216 non-null    bool   \n",
      " 24  docq_bullet_point_ratio       216 non-null    float64\n",
      " 25  docq_ellipsis_line_ratio      216 non-null    float64\n",
      " 26  docq_alphabet_word_ratio      216 non-null    float64\n",
      " 27  docq_contain_common_en_words  216 non-null    bool   \n",
      " 28  vector                        216 non-null    object \n",
      "dtypes: bool(2), float64(8), int64(9), object(10)\n",
      "memory usage: 46.1+ KB\n",
      "None\n"
     ]
    },
    {
     "data": {
      "text/html": [
       "<div>\n",
       "<style scoped>\n",
       "    .dataframe tbody tr th:only-of-type {\n",
       "        vertical-align: middle;\n",
       "    }\n",
       "\n",
       "    .dataframe tbody tr th {\n",
       "        vertical-align: top;\n",
       "    }\n",
       "\n",
       "    .dataframe thead th {\n",
       "        text-align: right;\n",
       "    }\n",
       "</style>\n",
       "<table border=\"1\" class=\"dataframe\">\n",
       "  <thead>\n",
       "    <tr style=\"text-align: right;\">\n",
       "      <th></th>\n",
       "      <th>filename</th>\n",
       "      <th>num_pages</th>\n",
       "      <th>num_tables</th>\n",
       "      <th>num_doc_elements</th>\n",
       "      <th>document_id</th>\n",
       "      <th>ext</th>\n",
       "      <th>hash</th>\n",
       "      <th>size</th>\n",
       "      <th>date_acquired</th>\n",
       "      <th>pdf_convert_time</th>\n",
       "      <th>...</th>\n",
       "      <th>docq_symbol_to_word_ratio</th>\n",
       "      <th>docq_sentence_count</th>\n",
       "      <th>docq_lorem_ipsum_ratio</th>\n",
       "      <th>docq_curly_bracket_ratio</th>\n",
       "      <th>docq_contain_bad_word</th>\n",
       "      <th>docq_bullet_point_ratio</th>\n",
       "      <th>docq_ellipsis_line_ratio</th>\n",
       "      <th>docq_alphabet_word_ratio</th>\n",
       "      <th>docq_contain_common_en_words</th>\n",
       "      <th>vector</th>\n",
       "    </tr>\n",
       "  </thead>\n",
       "  <tbody>\n",
       "    <tr>\n",
       "      <th>0</th>\n",
       "      <td>Granite_Foundation_Models.pdf</td>\n",
       "      <td>20</td>\n",
       "      <td>13</td>\n",
       "      <td>445</td>\n",
       "      <td>6b7b64a5-e18c-4dff-8ade-8b5703db74e1</td>\n",
       "      <td>pdf</td>\n",
       "      <td>a30250ea1dbc6510350d81860e86748e99709566030a50...</td>\n",
       "      <td>357701</td>\n",
       "      <td>2024-08-06T21:56:44.353184</td>\n",
       "      <td>70.621034</td>\n",
       "      <td>...</td>\n",
       "      <td>0.0</td>\n",
       "      <td>2</td>\n",
       "      <td>0.0</td>\n",
       "      <td>0.0</td>\n",
       "      <td>False</td>\n",
       "      <td>0.0</td>\n",
       "      <td>0.0</td>\n",
       "      <td>1.0</td>\n",
       "      <td>True</td>\n",
       "      <td>[-0.007855933, 0.0186794, 0.04243699, -0.01503...</td>\n",
       "    </tr>\n",
       "    <tr>\n",
       "      <th>1</th>\n",
       "      <td>Granite_Foundation_Models.pdf</td>\n",
       "      <td>20</td>\n",
       "      <td>13</td>\n",
       "      <td>445</td>\n",
       "      <td>6b7b64a5-e18c-4dff-8ade-8b5703db74e1</td>\n",
       "      <td>pdf</td>\n",
       "      <td>a30250ea1dbc6510350d81860e86748e99709566030a50...</td>\n",
       "      <td>357701</td>\n",
       "      <td>2024-08-06T21:56:44.353184</td>\n",
       "      <td>70.621034</td>\n",
       "      <td>...</td>\n",
       "      <td>0.0</td>\n",
       "      <td>1</td>\n",
       "      <td>0.0</td>\n",
       "      <td>0.0</td>\n",
       "      <td>False</td>\n",
       "      <td>0.0</td>\n",
       "      <td>0.0</td>\n",
       "      <td>1.0</td>\n",
       "      <td>False</td>\n",
       "      <td>[-0.003576741, 0.009818693, 0.03441964, -0.006...</td>\n",
       "    </tr>\n",
       "    <tr>\n",
       "      <th>2</th>\n",
       "      <td>Granite_Foundation_Models.pdf</td>\n",
       "      <td>20</td>\n",
       "      <td>13</td>\n",
       "      <td>445</td>\n",
       "      <td>6b7b64a5-e18c-4dff-8ade-8b5703db74e1</td>\n",
       "      <td>pdf</td>\n",
       "      <td>a30250ea1dbc6510350d81860e86748e99709566030a50...</td>\n",
       "      <td>357701</td>\n",
       "      <td>2024-08-06T21:56:44.353184</td>\n",
       "      <td>70.621034</td>\n",
       "      <td>...</td>\n",
       "      <td>0.0</td>\n",
       "      <td>6</td>\n",
       "      <td>0.0</td>\n",
       "      <td>0.0</td>\n",
       "      <td>False</td>\n",
       "      <td>0.0</td>\n",
       "      <td>0.0</td>\n",
       "      <td>1.0</td>\n",
       "      <td>True</td>\n",
       "      <td>[-0.022207905, 0.0050711543, 0.022928601, -0.0...</td>\n",
       "    </tr>\n",
       "  </tbody>\n",
       "</table>\n",
       "<p>3 rows × 29 columns</p>\n",
       "</div>"
      ],
      "text/plain": [
       "                        filename  num_pages  num_tables  num_doc_elements  \\\n",
       "0  Granite_Foundation_Models.pdf         20          13               445   \n",
       "1  Granite_Foundation_Models.pdf         20          13               445   \n",
       "2  Granite_Foundation_Models.pdf         20          13               445   \n",
       "\n",
       "                            document_id  ext  \\\n",
       "0  6b7b64a5-e18c-4dff-8ade-8b5703db74e1  pdf   \n",
       "1  6b7b64a5-e18c-4dff-8ade-8b5703db74e1  pdf   \n",
       "2  6b7b64a5-e18c-4dff-8ade-8b5703db74e1  pdf   \n",
       "\n",
       "                                                hash    size  \\\n",
       "0  a30250ea1dbc6510350d81860e86748e99709566030a50...  357701   \n",
       "1  a30250ea1dbc6510350d81860e86748e99709566030a50...  357701   \n",
       "2  a30250ea1dbc6510350d81860e86748e99709566030a50...  357701   \n",
       "\n",
       "                date_acquired  pdf_convert_time  ...  \\\n",
       "0  2024-08-06T21:56:44.353184         70.621034  ...   \n",
       "1  2024-08-06T21:56:44.353184         70.621034  ...   \n",
       "2  2024-08-06T21:56:44.353184         70.621034  ...   \n",
       "\n",
       "  docq_symbol_to_word_ratio docq_sentence_count docq_lorem_ipsum_ratio  \\\n",
       "0                       0.0                   2                    0.0   \n",
       "1                       0.0                   1                    0.0   \n",
       "2                       0.0                   6                    0.0   \n",
       "\n",
       "   docq_curly_bracket_ratio docq_contain_bad_word  docq_bullet_point_ratio  \\\n",
       "0                       0.0                 False                      0.0   \n",
       "1                       0.0                 False                      0.0   \n",
       "2                       0.0                 False                      0.0   \n",
       "\n",
       "   docq_ellipsis_line_ratio  docq_alphabet_word_ratio  \\\n",
       "0                       0.0                       1.0   \n",
       "1                       0.0                       1.0   \n",
       "2                       0.0                       1.0   \n",
       "\n",
       "   docq_contain_common_en_words  \\\n",
       "0                          True   \n",
       "1                         False   \n",
       "2                          True   \n",
       "\n",
       "                                              vector  \n",
       "0  [-0.007855933, 0.0186794, 0.04243699, -0.01503...  \n",
       "1  [-0.003576741, 0.009818693, 0.03441964, -0.006...  \n",
       "2  [-0.022207905, 0.0050711543, 0.022928601, -0.0...  \n",
       "\n",
       "[3 rows x 29 columns]"
      ]
     },
     "execution_count": 3,
     "metadata": {},
     "output_type": "execute_result"
    }
   ],
   "source": [
    "\n",
    "## Shape the data\n",
    "\n",
    "MY_CONFIG.EMBEDDING_LENGTH =  len(data_df.iloc[0]['embeddings'])\n",
    "print ('embedding length: ', MY_CONFIG.EMBEDDING_LENGTH)\n",
    "\n",
    "# rename 'embeddings' columns as 'vector' to match default schema\n",
    "# if 'vector' not in data_df.columns and 'embeddings' in data_df.columns:\n",
    "#     data_df = data_df.rename( columns= {'embeddings' : 'vector'})\n",
    "# if 'text' not in data_df.columns and 'contents' in data_df.columns:\n",
    "#     data_df = data_df.rename( columns= {'contents' : 'text'})\n",
    "\n",
    "data_df = data_df.rename( columns= {'embeddings' : 'vector', 'contents' : 'text'})\n",
    "\n",
    "print (data_df.info())\n",
    "data_df.head(3)"
   ]
  },
  {
   "cell_type": "markdown",
   "metadata": {},
   "source": [
    "## Connect to Vector Database\n",
    "\n",
    "Milvus can be embedded and easy to use.\n"
   ]
  },
  {
   "cell_type": "code",
   "execution_count": 4,
   "metadata": {},
   "outputs": [
    {
     "name": "stdout",
     "output_type": "stream",
     "text": [
      "✅ Connected to Milvus instance: ./rag_demo_dataprepkit_1.db\n"
     ]
    }
   ],
   "source": [
    "from pymilvus import MilvusClient\n",
    "\n",
    "milvus_client = MilvusClient(MY_CONFIG.DB_URI)\n",
    "\n",
    "print (\"✅ Connected to Milvus instance:\", MY_CONFIG.DB_URI)"
   ]
  },
  {
   "cell_type": "markdown",
   "metadata": {},
   "source": [
    "# Create A Collection\n",
    "\n"
   ]
  },
  {
   "cell_type": "code",
   "execution_count": 5,
   "metadata": {},
   "outputs": [
    {
     "name": "stdout",
     "output_type": "stream",
     "text": [
      "✅ Created collection : dataprepkit_granite_docs\n"
     ]
    }
   ],
   "source": [
    "# if we already have a collection, clear it first\n",
    "if milvus_client.has_collection(collection_name=MY_CONFIG.COLLECTION_NAME):\n",
    "    milvus_client.drop_collection(collection_name=MY_CONFIG.COLLECTION_NAME)\n",
    "    print ('✅ Cleared collection :', MY_CONFIG.COLLECTION_NAME)\n",
    "\n",
    "\n",
    "milvus_client.create_collection(\n",
    "    collection_name=MY_CONFIG.COLLECTION_NAME,\n",
    "    dimension=MY_CONFIG.EMBEDDING_LENGTH,\n",
    "    metric_type=\"IP\",  # Inner product distance\n",
    "    consistency_level=\"Strong\",  # Strong consistency level\n",
    "    auto_id=True\n",
    ")\n",
    "print (\"✅ Created collection :\", MY_CONFIG.COLLECTION_NAME)\n"
   ]
  },
  {
   "cell_type": "code",
   "execution_count": 6,
   "metadata": {},
   "outputs": [
    {
     "name": "stdout",
     "output_type": "stream",
     "text": [
      "inserted # rows 216\n"
     ]
    },
    {
     "data": {
      "text/plain": [
       "{'row_count': 216}"
      ]
     },
     "execution_count": 6,
     "metadata": {},
     "output_type": "execute_result"
    }
   ],
   "source": [
    "res = milvus_client.insert(collection_name=MY_CONFIG.COLLECTION_NAME, data=data_df.to_dict('records'))\n",
    "\n",
    "print('inserted # rows', res['insert_count'])\n",
    "\n",
    "milvus_client.get_collection_stats(MY_CONFIG.COLLECTION_NAME)"
   ]
  },
  {
   "cell_type": "markdown",
   "metadata": {},
   "source": [
    "## Close DB Connection\n",
    "\n",
    "Close the connection so the lock files are relinquished and other notebooks can access the db"
   ]
  },
  {
   "cell_type": "code",
   "execution_count": 7,
   "metadata": {},
   "outputs": [],
   "source": [
    "milvus_client.close()"
   ]
  },
  {
   "cell_type": "markdown",
   "metadata": {},
   "source": [
    "## Test your data by doing a Vector Search\n",
    "\n",
    "See notebook [vector_search.ipynb](vector_search.ipynb)"
   ]
  }
 ],
 "metadata": {
  "kernelspec": {
   "display_name": "data-prep-kit-1",
   "language": "python",
   "name": "python3"
  },
  "language_info": {
   "codemirror_mode": {
    "name": "ipython",
    "version": 3
   },
   "file_extension": ".py",
   "mimetype": "text/x-python",
   "name": "python",
   "nbconvert_exporter": "python",
   "pygments_lexer": "ipython3",
   "version": "3.11.9"
  }
 },
 "nbformat": 4,
 "nbformat_minor": 2
}
