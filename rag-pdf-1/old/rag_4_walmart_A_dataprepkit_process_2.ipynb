{
 "cells": [
  {
   "cell_type": "markdown",
   "id": "841e533d-ebb3-406d-9da7-b19e2c5f5866",
   "metadata": {},
   "source": [
    "<div style=\"background-color: #04D7FD; padding: 20px; text-align: left;\">\n",
    "    <h1 style=\"color: #000000; font-size: 36px; margin: 0;\">Demo: Data Prep Kit (Walmart docs)</h1>\n",
    "    \n",
    "</div>\n"
   ]
  },
  {
   "cell_type": "markdown",
   "id": "053ecf08-5f62-4b99-9347-8a0955843d21",
   "metadata": {},
   "source": [
    "## Overview\n",
    "Welcome to the demo notebook! Inside, you will find an end-to-end sample data pipeline designed for processing language datasets, beginning with a folder of PDF documents and culminating in a working Retrieval-Augmented Generation (RAG) system. This notebook provides the following transforms for processing the data. \n",
    "\n",
    "- [pdf2parquet](#item1)\n",
    "- [Chunk documents](#item2)\n",
    "- [Exact Dedup](#item3)\n",
    "- [Doc_ID generation](#item4)\n",
    "- [Fuzzy Dedup](#item5)\n",
    "- [Language detection](#item6)\n",
    "- [Doc quality](#item7)\n",
    "- [Filtering](#item8)\n",
    "- [Text encoder](#item9)\n",
    "\n",
    "### Getting started\n",
    "\n",
    "TBA"
   ]
  },
  {
   "cell_type": "code",
   "execution_count": 1,
   "id": "f00e657c-36ab-4d77-8a02-4d374d9cedbd",
   "metadata": {},
   "outputs": [],
   "source": [
    "## RAY CONFIGURATION\n",
    "\n",
    "RAY_NUM_CPUS = 2\n",
    "RAY_MEMORY = 2  # GB"
   ]
  },
  {
   "cell_type": "markdown",
   "id": "bd5d976e-cb4c-4469-af39-4b7ea507e9d8",
   "metadata": {},
   "source": [
    "### Import Common python modules"
   ]
  },
  {
   "cell_type": "code",
   "execution_count": 2,
   "id": "66178913-42b8-426b-a2e9-9587268fd05b",
   "metadata": {},
   "outputs": [],
   "source": [
    "\n",
    "import os\n",
    "import sys\n",
    "\n",
    "from data_processing_ray.runtime.ray import RayTransformLauncher\n",
    "from data_processing.runtime.pure_python import PythonTransformLauncher\n",
    "from data_processing.utils import ParamsUtils"
   ]
  },
  {
   "cell_type": "markdown",
   "id": "72510ae6-48b0-4b88-9e13-a623281c3a63",
   "metadata": {},
   "source": [
    "### Set input/output path variables for the pipeline"
   ]
  },
  {
   "cell_type": "code",
   "execution_count": 3,
   "id": "60ac8bee-0960-4309-b225-d7a211b14262",
   "metadata": {},
   "outputs": [],
   "source": [
    "# Example\n",
    "# We can set input paths here\n",
    "pdf_input_folder = \"input_data_walmart\"\n",
    "\n",
    "if not os.path.exists(pdf_input_folder):\n",
    "    print (\"NO INPUT DATA\")\n",
    "    print (\"Please set `pdf_input_folder` variable to path containing data\")\n",
    "\n",
    "# make sure the paths are correct\n",
    "data_base_path = \"output_walmart\"\n",
    "\n",
    "parquet_data_output = os.path.join(data_base_path, \"01_parquet_input\")\n",
    "\n",
    "chunk_out =  os.path.join(data_base_path, \"02_chunk_out\")\n",
    "ededup_out =  os.path.join(data_base_path, \"03_ededup_out\")\n",
    "doc_id_out =  os.path.join(data_base_path, \"04_doc_id_out\")\n",
    "fdedup_out = os.path.join(data_base_path, \"05_fdedup_out\")\n",
    "lang_out =  os.path.join(data_base_path,\"06_lang_out\")\n",
    "dq_out = os.path.join(data_base_path,\"07_dq_out\")\n",
    "\n",
    "filter_out = os.path.join(data_base_path ,\"08_filter_out\")\n",
    "encoder_out = os.path.join(data_base_path ,\"09_encoder_out\")\n",
    "\n",
    "# Main repo root\n",
    "from utils import rootdir"
   ]
  },
  {
   "cell_type": "markdown",
   "id": "2449e5c7-078c-4ad6-a2f6-21d39d4da3fb",
   "metadata": {},
   "source": [
    "## <span style=\"color: green\"> 1. Convert data to parquet using pdf2parquet [<-](#top)<a class=\"anchor\" id=\"item1\"></a>\n",
    "_pdf_ to _parquet_ </span>\n",
    "\n",
    "This step is reading the input folder containing all PDF files and ingest them in a parquet table using the [Docling package](https://github.com/DS4SD/docling).\n",
    "The documents are converted into a JSON format which allows to easily chunk it in the later steps.\n",
    "\n"
   ]
  },
  {
   "cell_type": "markdown",
   "id": "c0c574c4-9dc4-4dab-9ad6-b5338207e67a",
   "metadata": {},
   "source": [
    "### Set Input/output Folder"
   ]
  },
  {
   "cell_type": "code",
   "execution_count": 4,
   "id": "482605b2-d814-456d-9195-49a2ec454ef0",
   "metadata": {},
   "outputs": [],
   "source": [
    "# For this stage input folder contains the zip files, each zip file contains a github repo.\n",
    "\n",
    "input_folder = pdf_input_folder\n",
    "output_folder =  parquet_data_output"
   ]
  },
  {
   "cell_type": "markdown",
   "id": "9bb15f02-ab5c-4525-a536-cfa1fd2ba70b",
   "metadata": {},
   "source": [
    "### Execute "
   ]
  },
  {
   "cell_type": "code",
   "execution_count": 5,
   "id": "b0cd8ebd-bf71-42d6-a397-8df0c7b66a26",
   "metadata": {},
   "outputs": [
    {
     "name": "stderr",
     "output_type": "stream",
     "text": [
      "01:37:50 INFO - Running locally\n",
      "01:37:50 INFO - pdf2parquet parameters are : {'artifacts_path': None, 'contents_type': <pdf2parquet_contents_types.JSON: 'application/json'>, 'do_table_structure': True, 'do_ocr': False}\n",
      "01:37:50 INFO - data factory data_ is using local data access: input_folder - input_data_walmart output_folder - output_walmart/01_parquet_input\n",
      "01:37:50 INFO - data factory data_ max_files -1, n_sample -1\n",
      "01:37:50 INFO - data factory data_ Not using data sets, checkpointing False, max files -1, random samples -1, files to use ['.pdf'], files to checkpoint ['.parquet']\n",
      "01:37:50 INFO - pipeline id pipeline_id\n",
      "01:37:50 INFO - code location {'github': 'github', 'commit_hash': '12345', 'path': 'path'}\n",
      "01:37:50 INFO - number of workers 1 worker options {'num_cpus': 4, 'memory': 4294967296, 'max_restarts': -1}\n",
      "01:37:50 INFO - actor creation delay 0\n",
      "01:37:50 INFO - job details {'job category': 'preprocessing', 'job name': 'pdf2parquet', 'job type': 'ray', 'job id': 'job_id'}\n",
      "2024-08-07 01:37:52,840\tINFO worker.py:1744 -- Started a local Ray instance. View the dashboard at \u001b[1m\u001b[32mhttp://127.0.0.1:8265 \u001b[39m\u001b[22m\n",
      "\u001b[36m(orchestrate pid=1358555)\u001b[0m 01:37:56 INFO - orchestrator started at 2024-08-07 01:37:56\n",
      "\u001b[36m(orchestrate pid=1358555)\u001b[0m 01:37:56 INFO - Number of files is 3, source profile {'max_file_size': 4.640201568603516, 'min_file_size': 1.5370569229125977, 'total_file_size': 10.817460060119629}\n",
      "\u001b[36m(orchestrate pid=1358555)\u001b[0m 01:37:56 INFO - Cluster resources: {'cpus': 16, 'gpus': 1, 'memory': 10.977294160053134, 'object_store': 5.488647079095244}\n",
      "\u001b[36m(orchestrate pid=1358555)\u001b[0m 01:37:56 INFO - Number of workers - 1 with {'num_cpus': 4, 'memory': 4294967296, 'max_restarts': -1} each\n",
      "\u001b[36m(RayTransformFileProcessor pid=1359482)\u001b[0m 01:38:00 INFO - Initializing models\n",
      "Fetching 7 files: 100%|██████████| 7/7 [00:00<00:00, 61039.77it/s]\n",
      "\u001b[36m(RayTransformFileProcessor pid=1359482)\u001b[0m /home/sujee/my-stuff/projects/ai-alliance/data-prep-kit-sujee/examples/notebooks/language/venv/lib/python3.11/site-packages/torchvision/models/_utils.py:208: UserWarning: The parameter 'pretrained' is deprecated since 0.13 and may be removed in the future, please use 'weights' instead.\n",
      "\u001b[36m(RayTransformFileProcessor pid=1359482)\u001b[0m   warnings.warn(\n",
      "\u001b[36m(RayTransformFileProcessor pid=1359482)\u001b[0m /home/sujee/my-stuff/projects/ai-alliance/data-prep-kit-sujee/examples/notebooks/language/venv/lib/python3.11/site-packages/torchvision/models/_utils.py:223: UserWarning: Arguments other than a weight enum or `None` for 'weights' are deprecated since 0.13 and may be removed in the future. The current behavior is equivalent to passing `weights=None`.\n",
      "\u001b[36m(RayTransformFileProcessor pid=1359482)\u001b[0m   warnings.warn(msg)\n",
      "\u001b[36m(RayTransformFileProcessor pid=1359482)\u001b[0m /home/sujee/my-stuff/projects/ai-alliance/data-prep-kit-sujee/examples/notebooks/language/venv/lib/python3.11/site-packages/torch/nn/modules/transformer.py:286: UserWarning: enable_nested_tensor is True, but self.use_nested_tensor is False because encoder_layer.self_attn.batch_first was not True(use batch_first for better inference performance)\n",
      "\u001b[36m(RayTransformFileProcessor pid=1359482)\u001b[0m   warnings.warn(f\"enable_nested_tensor is True, but self.use_nested_tensor is False because {why_not_sparsity_fast_path}\")\n",
      "\u001b[36m(RayTransformFileProcessor pid=1359482)\u001b[0m 2024-08-07 01:40:06.679 ( 128.869s) [        E5FC8740]    doc_normalisation.h:448   WARN| found new `other` type: checkbox-unselected\n",
      "\u001b[36m(RayTransformFileProcessor pid=1359482)\u001b[0m 2024-08-07 01:40:06.679 ( 128.869s) [        E5FC8740]    doc_normalisation.h:448   WARN| found new `other` type: checkbox-selected\n",
      "\u001b[36m(RayTransformFileProcessor pid=1359482)\u001b[0m 2024-08-07 01:40:06.679 ( 128.869s) [        E5FC8740]    doc_normalisation.h:448   WARN| found new `other` type: checkbox-unselected\n",
      "\u001b[36m(RayTransformFileProcessor pid=1359482)\u001b[0m 2024-08-07 01:40:06.679 ( 128.869s) [        E5FC8740]    doc_normalisation.h:448   WARN| found new `other` type: checkbox-unselected\n",
      "\u001b[36m(RayTransformFileProcessor pid=1359482)\u001b[0m 2024-08-07 01:40:06.679 ( 128.869s) [        E5FC8740]    doc_normalisation.h:448   WARN| found new `other` type: checkbox-selected\n",
      "\u001b[36m(orchestrate pid=1358555)\u001b[0m 01:40:10 INFO - Completed 1 files in 2.2278010964393617 min\n",
      "\u001b[36m(RayTransformFileProcessor pid=1359482)\u001b[0m 2024-08-07 01:42:00.499 ( 242.689s) [        E5FC8740]    doc_normalisation.h:448   WARN| found new `other` type: checkbox-unselected\n",
      "\u001b[36m(RayTransformFileProcessor pid=1359482)\u001b[0m 2024-08-07 01:42:02.684 ( 244.873s) [        E5FC8740]          crf_model.cpp:2096   ERR| sequence is too long: 1000 > 1011\n",
      "\u001b[36m(RayTransformFileProcessor pid=1359482)\u001b[0m 2024-08-07 01:42:03.166 ( 245.355s) [        E5FC8740]          crf_model.cpp:2096   ERR| sequence is too long: 1000 > 1037\n",
      "\u001b[36m(RayTransformFileProcessor pid=1359482)\u001b[0m 2024-08-07 01:42:03.237 ( 245.426s) [        E5FC8740]          crf_model.cpp:2096   ERR| sequence is too long: 1000 > 1176\n",
      "\u001b[36m(RayTransformFileProcessor pid=1359482)\u001b[0m 2024-08-07 01:42:03.550 ( 245.740s) [        E5FC8740]          crf_model.cpp:2096   ERR| sequence is too long: 1000 > 1321\n",
      "\u001b[36m(RayTransformFileProcessor pid=1359482)\u001b[0m 2024-08-07 01:42:03.918 ( 246.107s) [        E5FC8740]          crf_model.cpp:2096   ERR| sequence is too long: 1000 > 1103\n",
      "\u001b[36m(orchestrate pid=1358555)\u001b[0m 01:42:11 INFO - Completed 2 files in 4.246349040667216 min\n",
      "\u001b[36m(orchestrate pid=1358555)\u001b[0m 01:42:11 INFO - Completed 2 files (66.66666666666667%)  in 4.246350463231405 min. Waiting for completion\n",
      "\u001b[36m(RayTransformFileProcessor pid=1359482)\u001b[0m 2024-08-07 01:44:02.248 ( 364.438s) [        E5FC8740]    doc_normalisation.h:448   WARN| found new `other` type: checkbox-unselected\n",
      "\u001b[36m(RayTransformFileProcessor pid=1359482)\u001b[0m 2024-08-07 01:44:04.453 ( 366.643s) [        E5FC8740]          crf_model.cpp:2096   ERR| sequence is too long: 1000 > 1011\n",
      "\u001b[36m(RayTransformFileProcessor pid=1359482)\u001b[0m 2024-08-07 01:44:04.947 ( 367.137s) [        E5FC8740]          crf_model.cpp:2096   ERR| sequence is too long: 1000 > 1037\n",
      "\u001b[36m(RayTransformFileProcessor pid=1359482)\u001b[0m 2024-08-07 01:44:05.013 ( 367.203s) [        E5FC8740]          crf_model.cpp:2096   ERR| sequence is too long: 1000 > 1176\n",
      "\u001b[36m(RayTransformFileProcessor pid=1359482)\u001b[0m 2024-08-07 01:44:05.321 ( 367.510s) [        E5FC8740]          crf_model.cpp:2096   ERR| sequence is too long: 1000 > 1321\n",
      "\u001b[36m(RayTransformFileProcessor pid=1359482)\u001b[0m 2024-08-07 01:44:05.707 ( 367.896s) [        E5FC8740]          crf_model.cpp:2096   ERR| sequence is too long: 1000 > 1103\n",
      "\u001b[36m(orchestrate pid=1358555)\u001b[0m 01:44:13 INFO - Completed processing 3 files in 6.280372190475464 min\n",
      "\u001b[36m(orchestrate pid=1358555)\u001b[0m 01:44:13 INFO - done flushing in 0.0006031990051269531 sec\n",
      "01:44:23 INFO - Completed execution in 6.548800722757975 min, execution result 0\n"
     ]
    },
    {
     "data": {
      "text/plain": [
       "0"
      ]
     },
     "execution_count": 5,
     "metadata": {},
     "output_type": "execute_result"
    }
   ],
   "source": [
    "import ast\n",
    "import os\n",
    "import sys\n",
    "\n",
    "from pdf2parquet_transform import (\n",
    "    pdf2parquet_contents_type_cli_param,\n",
    "    pdf2parquet_contents_types,\n",
    ")\n",
    "from pdf2parquet_transform_python import Pdf2ParquetPythonTransformConfiguration\n",
    "from pdf2parquet_transform_ray import Pdf2ParquetRayTransformConfiguration\n",
    "\n",
    "from data_processing.utils import GB, ParamsUtils\n",
    "\n",
    "\n",
    "# create parameters\n",
    "local_conf = {\n",
    "    \"input_folder\": input_folder,\n",
    "    \"output_folder\": output_folder,\n",
    "}\n",
    "worker_options = {\"num_cpus\" : RAY_NUM_CPUS, \"memory\": RAY_MEMORY * GB}\n",
    "code_location = {\"github\": \"github\", \"commit_hash\": \"12345\", \"path\": \"path\"}\n",
    "ingest_config = {\n",
    "    pdf2parquet_contents_type_cli_param: pdf2parquet_contents_types.JSON,\n",
    "}\n",
    "\n",
    "params = {\n",
    "    # where to run\n",
    "    \"run_locally\": True,\n",
    "    # Data access. Only required parameters are specified\n",
    "    \"data_local_config\": ParamsUtils.convert_to_ast(local_conf),\n",
    "    \"data_files_to_use\": ast.literal_eval(\"['.pdf']\"),\n",
    "    # orchestrator\n",
    "    \"runtime_worker_options\": ParamsUtils.convert_to_ast(worker_options),\n",
    "    # \"runtime_num_workers\": 3,\n",
    "    \"runtime_pipeline_id\": \"pipeline_id\",\n",
    "    \"runtime_job_id\": \"job_id\",\n",
    "    \"runtime_code_location\": ParamsUtils.convert_to_ast(code_location),\n",
    "}\n",
    "\n",
    "\n",
    "sys.argv = ParamsUtils.dict_to_req(d=(params | ingest_config))\n",
    "# create launcher\n",
    "launcher = RayTransformLauncher(Pdf2ParquetRayTransformConfiguration())\n",
    "# launcher = PythonTransformLauncher(Pdf2ParquetPythonTransformConfiguration())\n",
    "# launch\n",
    "launcher.launch()"
   ]
  },
  {
   "cell_type": "markdown",
   "id": "addd5d13",
   "metadata": {},
   "source": [
    "##  <span style=\"color: green\">   2. Doc chunks [<-](#top)<a class=\"anchor\" id=\"item2\"></a> </span>\n",
    "\n",
    "Split the documents in chunks, according to their layout segmentation."
   ]
  },
  {
   "cell_type": "markdown",
   "id": "7d86f84e",
   "metadata": {},
   "source": [
    "### Set Input/output Folder"
   ]
  },
  {
   "cell_type": "code",
   "execution_count": 6,
   "id": "81843d06",
   "metadata": {},
   "outputs": [
    {
     "name": "stdout",
     "output_type": "stream",
     "text": [
      "output_walmart/01_parquet_input\n",
      "output_walmart/02_chunk_out\n"
     ]
    }
   ],
   "source": [
    "## For this stage the input is the folder containing parquet data which is output from the ingest2parquet tool\n",
    "\n",
    "input_folder = parquet_data_output\n",
    "output_folder = chunk_out\n",
    "\n",
    "print(input_folder)\n",
    "print(output_folder)"
   ]
  },
  {
   "cell_type": "markdown",
   "id": "f35af440",
   "metadata": {},
   "source": [
    "### Execute "
   ]
  },
  {
   "cell_type": "code",
   "execution_count": 7,
   "id": "d34705d9",
   "metadata": {},
   "outputs": [
    {
     "name": "stderr",
     "output_type": "stream",
     "text": [
      "01:44:26 INFO - Running locally\n",
      "01:44:26 INFO - doc_chunk parameters are : {'chunking_type': <chunking_types.DL_JSON: 'dl_json'>, 'content_column_name': 'contents', 'output_chunk_column_name': 'contents', 'output_jsonpath_column_name': 'doc_jsonpath', 'output_pageno_column_name': 'page_number', 'output_bbox_column_name': 'bbox'}\n",
      "01:44:26 INFO - data factory data_ is using local data access: input_folder - output_walmart/01_parquet_input output_folder - output_walmart/02_chunk_out\n",
      "01:44:26 INFO - data factory data_ max_files -1, n_sample -1\n",
      "01:44:26 INFO - data factory data_ Not using data sets, checkpointing False, max files -1, random samples -1, files to use ['.parquet'], files to checkpoint ['.parquet']\n",
      "01:44:26 INFO - pipeline id pipeline_id\n",
      "01:44:26 INFO - code location None\n",
      "01:44:26 INFO - number of workers 3 worker options {'num_cpus': 4, 'max_restarts': -1}\n",
      "01:44:26 INFO - actor creation delay 0\n",
      "01:44:26 INFO - job details {'job category': 'preprocessing', 'job name': 'doc_chunk', 'job type': 'ray', 'job id': 'job_id'}\n",
      "2024-08-07 01:44:28,068\tINFO worker.py:1744 -- Started a local Ray instance. View the dashboard at \u001b[1m\u001b[32mhttp://127.0.0.1:8265 \u001b[39m\u001b[22m\n",
      "\u001b[36m(orchestrate pid=1369404)\u001b[0m 01:44:30 INFO - orchestrator started at 2024-08-07 01:44:30\n",
      "\u001b[36m(orchestrate pid=1369404)\u001b[0m 01:44:30 INFO - Number of files is 3, source profile {'max_file_size': 0.2334575653076172, 'min_file_size': 0.22850418090820312, 'total_file_size': 0.6905269622802734}\n",
      "\u001b[36m(orchestrate pid=1369404)\u001b[0m 01:44:30 INFO - Cluster resources: {'cpus': 16, 'gpus': 1, 'memory': 10.729051209054887, 'object_store': 5.364525604061782}\n",
      "\u001b[36m(orchestrate pid=1369404)\u001b[0m 01:44:30 INFO - Number of workers - 3 with {'num_cpus': 4, 'max_restarts': -1} each\n",
      "\u001b[36m(orchestrate pid=1369404)\u001b[0m 01:44:30 INFO - Completed 0 files (0.0%)  in 7.0889790852864586e-06 min. Waiting for completion\n",
      "\u001b[36m(orchestrate pid=1369404)\u001b[0m 01:44:32 INFO - Completed processing 3 files in 0.03800557454427083 min\n",
      "\u001b[36m(orchestrate pid=1369404)\u001b[0m 01:44:32 INFO - done flushing in 0.0009968280792236328 sec\n",
      "01:44:42 INFO - Completed execution in 0.27294646898905434 min, execution result 0\n"
     ]
    },
    {
     "data": {
      "text/plain": [
       "0"
      ]
     },
     "execution_count": 7,
     "metadata": {},
     "output_type": "execute_result"
    }
   ],
   "source": [
    "# Import doc_json_chunk transform configuration\n",
    "from doc_chunk_transform_ray import DocChunkRayTransformConfiguration\n",
    "\n",
    "\n",
    "# Prepare the commandline params\n",
    "local_conf = {\n",
    "    \"input_folder\": input_folder,\n",
    "    \"output_folder\": output_folder,\n",
    "}\n",
    "worker_options = {\"num_cpus\" : RAY_NUM_CPUS}\n",
    "params = {\n",
    "    # where to run\n",
    "    \"run_locally\": True,\n",
    "    # Data access. Only required parameters are specified\n",
    "    \"data_local_config\": ParamsUtils.convert_to_ast(local_conf),\n",
    "    # orchestrator\n",
    "    \"runtime_worker_options\": ParamsUtils.convert_to_ast(worker_options),\n",
    "    \"runtime_num_workers\": 3,\n",
    "    # doc_chunk arguments\n",
    "    # ...\n",
    "}\n",
    "\n",
    "# Pass the commandline params\n",
    "sys.argv = ParamsUtils.dict_to_req(d=params)\n",
    "\n",
    "# create launcher\n",
    "launcher = RayTransformLauncher(DocChunkRayTransformConfiguration())\n",
    "# launch\n",
    "launcher.launch()"
   ]
  },
  {
   "cell_type": "markdown",
   "id": "4692975c-49ff-41ae-810e-0f5bc0bbdc53",
   "metadata": {},
   "source": [
    "##  <span style=\"color: green\">   3. Exact Dedup [<-](#top)<a class=\"anchor\" id=\"item3\"></a> </span>\n",
    "\n",
    "Remove documents having identical code to remove bias in the training data. On the content of each document, a SHA256 hash is computed,\n",
    "followed by de-duplication of record having identical hashes."
   ]
  },
  {
   "cell_type": "markdown",
   "id": "5acfd3a2-a236-4143-bcfc-15804f1da7fe",
   "metadata": {},
   "source": [
    "### Set Input/output Folder"
   ]
  },
  {
   "cell_type": "code",
   "execution_count": 8,
   "id": "58a0e1f6-ff53-40aa-96b1-096ade4bd1c0",
   "metadata": {},
   "outputs": [
    {
     "name": "stdout",
     "output_type": "stream",
     "text": [
      "output_walmart/02_chunk_out\n",
      "output_walmart/03_ededup_out\n"
     ]
    }
   ],
   "source": [
    "## For this stage the input is the folder containing parquet data which is output from the ingest2parquet tool\n",
    "\n",
    "input_folder = chunk_out\n",
    "output_folder = ededup_out\n",
    "\n",
    "print(input_folder)\n",
    "print(output_folder)"
   ]
  },
  {
   "cell_type": "markdown",
   "id": "3661cb37-39c7-4b09-a784-925bfa9eaf1e",
   "metadata": {},
   "source": [
    "### Execute "
   ]
  },
  {
   "cell_type": "code",
   "execution_count": 9,
   "id": "a624b2b2-faad-4325-ac7d-53a840f564ef",
   "metadata": {},
   "outputs": [
    {
     "name": "stderr",
     "output_type": "stream",
     "text": [
      "01:44:43 INFO - Running locally\n",
      "01:44:43 INFO - exact dedup params are {'doc_column': 'contents', 'hash_cpu': 0.5, 'num_hashes': 2}\n",
      "01:44:43 INFO - data factory data_ is using local data access: input_folder - output_walmart/02_chunk_out output_folder - output_walmart/03_ededup_out\n",
      "01:44:43 INFO - data factory data_ max_files -1, n_sample -1\n",
      "01:44:43 INFO - data factory data_ Not using data sets, checkpointing False, max files -1, random samples -1, files to use ['.parquet'], files to checkpoint ['.parquet']\n",
      "01:44:43 INFO - pipeline id pipeline_id\n",
      "01:44:43 INFO - code location None\n",
      "01:44:43 INFO - number of workers 3 worker options {'num_cpus': 4, 'max_restarts': -1}\n",
      "01:44:43 INFO - actor creation delay 0\n",
      "01:44:43 INFO - job details {'job category': 'preprocessing', 'job name': 'ededup', 'job type': 'ray', 'job id': 'job_id'}\n",
      "2024-08-07 01:44:45,701\tINFO worker.py:1744 -- Started a local Ray instance. View the dashboard at \u001b[1m\u001b[32mhttp://127.0.0.1:8265 \u001b[39m\u001b[22m\n",
      "\u001b[36m(orchestrate pid=1371267)\u001b[0m 01:44:46 INFO - orchestrator started at 2024-08-07 01:44:46\n",
      "\u001b[36m(orchestrate pid=1371267)\u001b[0m 01:44:46 INFO - Number of files is 3, source profile {'max_file_size': 0.13955402374267578, 'min_file_size': 0.13127708435058594, 'total_file_size': 0.4021749496459961}\n",
      "\u001b[36m(orchestrate pid=1371267)\u001b[0m 01:44:46 INFO - Cluster resources: {'cpus': 16, 'gpus': 1, 'memory': 10.631522370502353, 'object_store': 5.315761184319854}\n",
      "\u001b[36m(orchestrate pid=1371267)\u001b[0m 01:44:46 INFO - Number of workers - 3 with {'num_cpus': 4, 'max_restarts': -1} each\n",
      "\u001b[36m(orchestrate pid=1371267)\u001b[0m 01:44:46 INFO - Completed 0 files (0.0%)  in 8.209546407063801e-06 min. Waiting for completion\n",
      "\u001b[36m(orchestrate pid=1371267)\u001b[0m 01:44:47 INFO - Completed processing 3 files in 0.012535627683003743 min\n",
      "\u001b[36m(orchestrate pid=1371267)\u001b[0m 01:44:47 INFO - done flushing in 0.0014371871948242188 sec\n",
      "01:44:57 INFO - Completed execution in 0.2239457885424296 min, execution result 0\n"
     ]
    },
    {
     "data": {
      "text/plain": [
       "0"
      ]
     },
     "execution_count": 9,
     "metadata": {},
     "output_type": "execute_result"
    }
   ],
   "source": [
    "# Import ededup transform configuration\n",
    "from ededup_transform_ray import EdedupRayTransformConfiguration\n",
    "\n",
    "\n",
    "# Prepare the commandline params\n",
    "local_conf = {\n",
    "    \"input_folder\": input_folder,\n",
    "    \"output_folder\": output_folder,\n",
    "}\n",
    "worker_options = {\"num_cpus\" : RAY_NUM_CPUS}\n",
    "params = {\n",
    "    # where to run\n",
    "    \"run_locally\": True,\n",
    "    # Data access. Only required parameters are specified\n",
    "    \"data_local_config\": ParamsUtils.convert_to_ast(local_conf),\n",
    "    # orchestrator\n",
    "    \"runtime_worker_options\": ParamsUtils.convert_to_ast(worker_options),\n",
    "    \"runtime_num_workers\": 3,\n",
    "    # ededup parameters\n",
    "    \"ededup_hash_cpu\": 0.5,\n",
    "    \"ededup_num_hashes\": 2,\n",
    "    \"ededup_doc_column\": \"contents\",\n",
    "}\n",
    "\n",
    "# Pass the commandline params\n",
    "sys.argv = ParamsUtils.dict_to_req(d=params)\n",
    "\n",
    "# create launcher\n",
    "launcher = RayTransformLauncher(EdedupRayTransformConfiguration())\n",
    "# launch\n",
    "launcher.launch()"
   ]
  },
  {
   "cell_type": "markdown",
   "id": "f15f4d00-33bb-4d9a-9f34-4d7f3ee0b7bc",
   "metadata": {},
   "source": [
    "## <span style=\"color: green\">  4. DOC ID generation [<-](#top)<a class=\"anchor\" id=\"item4\"></a> </span>\n",
    "\n",
    "This transform annotates documents with document \"ids\". It supports the following transformations of the original data:\n",
    "\n",
    " - Adding document hash: this enables the addition of a document hash-based id to the data. The hash is calculated with `hashlib.sha256(doc.encode(\"utf-8\")).hexdigest()`. To enable this annotation, set hash_column to the name of the column, where you want to store it.\n",
    " - Adding integer document id: this allows the addition of an integer document id to the data that is unique across all rows in all tables provided to the transform() method. To enable this annotation, set int_id_column to the name of the column, where you want to store it. **This is a pre-requisite for fuzzy dedup** in the pipeline."
   ]
  },
  {
   "cell_type": "code",
   "execution_count": 10,
   "id": "e6f62394-fbde-495c-bbbb-83161b006bed",
   "metadata": {},
   "outputs": [
    {
     "name": "stdout",
     "output_type": "stream",
     "text": [
      "output_walmart/03_ededup_out\n",
      "output_walmart/04_doc_id_out\n"
     ]
    }
   ],
   "source": [
    "# Input for this stage is the output of exact dedeup component\n",
    "# output of this component makes it possible for fdedup component to run on data.\n",
    "\n",
    "input_folder = ededup_out\n",
    "output_folder = doc_id_out\n",
    "\n",
    "print(input_folder)\n",
    "print(output_folder)\n"
   ]
  },
  {
   "cell_type": "code",
   "execution_count": 11,
   "id": "a6daf36d-686c-4e0a-aabf-ce55f999bb2d",
   "metadata": {},
   "outputs": [
    {
     "name": "stderr",
     "output_type": "stream",
     "text": [
      "01:44:58 INFO - Running locally\n",
      "01:44:58 INFO - Doc id parameters are : {'doc_column': 'contents', 'hash_column': 'hash_column', 'int_column': 'int_id_column'}\n",
      "01:44:58 INFO - data factory data_ is using local data access: input_folder - output_walmart/03_ededup_out output_folder - output_walmart/04_doc_id_out\n",
      "01:44:58 INFO - data factory data_ max_files -1, n_sample -1\n",
      "01:44:58 INFO - data factory data_ Not using data sets, checkpointing False, max files -1, random samples -1, files to use ['.parquet'], files to checkpoint ['.parquet']\n",
      "01:44:58 INFO - pipeline id pipeline_id\n",
      "01:44:58 INFO - code location None\n",
      "01:44:58 INFO - number of workers 3 worker options {'num_cpus': 4, 'max_restarts': -1}\n",
      "01:44:58 INFO - actor creation delay 0\n",
      "01:44:58 INFO - job details {'job category': 'preprocessing', 'job name': 'doc_id', 'job type': 'ray', 'job id': 'job_id'}\n",
      "2024-08-07 01:45:00,578\tINFO worker.py:1744 -- Started a local Ray instance. View the dashboard at \u001b[1m\u001b[32mhttp://127.0.0.1:8265 \u001b[39m\u001b[22m\n",
      "\u001b[36m(orchestrate pid=1373040)\u001b[0m 01:45:01 INFO - orchestrator started at 2024-08-07 01:45:01\n",
      "\u001b[36m(orchestrate pid=1373040)\u001b[0m 01:45:01 INFO - Number of files is 3, source profile {'max_file_size': 0.13926029205322266, 'min_file_size': 0.0033016204833984375, 'total_file_size': 0.27511119842529297}\n",
      "\u001b[36m(orchestrate pid=1373040)\u001b[0m 01:45:01 INFO - Cluster resources: {'cpus': 16, 'gpus': 1, 'memory': 10.75117950513959, 'object_store': 5.375589751638472}\n",
      "\u001b[36m(orchestrate pid=1373040)\u001b[0m 01:45:01 INFO - Number of workers - 3 with {'num_cpus': 4, 'max_restarts': -1} each\n",
      "\u001b[36m(orchestrate pid=1373040)\u001b[0m 01:45:01 INFO - Completed 0 files (0.0%)  in 5.9803326924641924e-06 min. Waiting for completion\n",
      "\u001b[36m(RayTransformFileProcessor pid=1373903)\u001b[0m 01:45:02 WARNING - table is empty, skipping processing\n",
      "\u001b[36m(orchestrate pid=1373040)\u001b[0m 01:45:02 INFO - Completed processing 3 files in 0.013711456457773845 min\n",
      "\u001b[36m(orchestrate pid=1373040)\u001b[0m 01:45:02 INFO - done flushing in 0.001055002212524414 sec\n",
      "01:45:12 INFO - Completed execution in 0.22652548154195148 min, execution result 0\n"
     ]
    },
    {
     "data": {
      "text/plain": [
       "0"
      ]
     },
     "execution_count": 11,
     "metadata": {},
     "output_type": "execute_result"
    }
   ],
   "source": [
    "from doc_id_transform_ray import DocIDRayTransformConfiguration\n",
    "local_conf = {\n",
    "    \"input_folder\": input_folder,\n",
    "    \"output_folder\": output_folder,\n",
    "}\n",
    "worker_options = {\"num_cpus\" : RAY_NUM_CPUS}\n",
    "params = {\n",
    "    # where to run\n",
    "    \"run_locally\": True,\n",
    "    # Data access. Only required parameters are specified\n",
    "    \"data_local_config\": ParamsUtils.convert_to_ast(local_conf),\n",
    "    # orchestrator\n",
    "    \"runtime_worker_options\": ParamsUtils.convert_to_ast(worker_options),\n",
    "    \"runtime_num_workers\": 3,\n",
    "    # doc id configuration\n",
    "    \"doc_id_doc_column\": \"contents\",\n",
    "    \"doc_id_hash_column\": \"hash_column\",\n",
    "    \"doc_id_int_column\": \"int_id_column\",\n",
    "}\n",
    "sys.argv = ParamsUtils.dict_to_req(d=params)\n",
    "\n",
    "# launch\n",
    "\n",
    "launcher = RayTransformLauncher(DocIDRayTransformConfiguration())\n",
    "launcher.launch()"
   ]
  },
  {
   "cell_type": "markdown",
   "id": "85309751-8556-41c6-ac32-84acc941bc8d",
   "metadata": {},
   "source": [
    "## 5. <span style=\"color: green\">  Fuzzy Dedup [<-](#top)<a class=\"anchor\" id=\"item5\"></a> </span>\n",
    "\n",
    "Post exact deduplication, fuzzy deduplication is applied with\n",
    "the goal of removing code files that may have slight variations and thereby unbiasing\n",
    "the data further. Small variations are quite commonly seen in code data in the form\n",
    "of variations in the values of variables, addittion of logging statements etc. Find near-\n",
    "duplicate."
   ]
  },
  {
   "cell_type": "markdown",
   "id": "fcf574a3-b287-419c-9c86-07b828b41ca6",
   "metadata": {},
   "source": [
    "### Set Input/output Folder"
   ]
  },
  {
   "cell_type": "code",
   "execution_count": 12,
   "id": "9e431c8c-c7c7-48de-ba5f-2c4649c35399",
   "metadata": {},
   "outputs": [
    {
     "name": "stdout",
     "output_type": "stream",
     "text": [
      "output_walmart/04_doc_id_out\n",
      "output_walmart/05_fdedup_out\n"
     ]
    }
   ],
   "source": [
    "## Input to this component is the output of doc_id generator component. \n",
    "\n",
    "input_folder = doc_id_out\n",
    "output_folder = fdedup_out\n",
    "\n",
    "print(input_folder)\n",
    "print(output_folder)"
   ]
  },
  {
   "cell_type": "markdown",
   "id": "f4c82a8f-b513-4fe5-b172-d41b104b54f3",
   "metadata": {},
   "source": [
    "### Execute "
   ]
  },
  {
   "cell_type": "code",
   "execution_count": 13,
   "id": "3864ff77-e9a8-48f7-973b-c3b3aef1a94f",
   "metadata": {},
   "outputs": [
    {
     "name": "stderr",
     "output_type": "stream",
     "text": [
      "01:45:13 INFO - Running locally\n",
      "01:45:13 INFO - fuzzy dedup params are {'doc_column': 'contents', 'id_column': 'int_id_column', 'cluster_column': 'hash_column', 'bucket_cpu': 0.5, 'mhash_cpu': 0.5, 'doc_cpu': 0.5, 'num_doc_actors': 2, 'num_minhash_actors': 1, 'num_bucket_actors': 1, 'num_preprocessors': 2, 'num_permutations': 64, 'threshold': 0.8, 'shingles_size': 5, 'delimiters': ' ', 'snapshot_delay': 1, 'use_bucket_snapshot': False, 'use_doc_snapshot': False, 'random_delay_limit': 10, 'worker_options': {'num_cpus': 4}}\n",
      "01:45:13 INFO - data factory data_ is using local data access: input_folder - output_walmart/04_doc_id_out output_folder - output_walmart/05_fdedup_out\n",
      "01:45:13 INFO - data factory data_ max_files -1, n_sample -1\n",
      "01:45:13 INFO - data factory data_ Not using data sets, checkpointing False, max files -1, random samples -1, files to use ['.parquet'], files to checkpoint ['.parquet']\n",
      "01:45:13 INFO - pipeline id pipeline_id\n",
      "01:45:13 INFO - code location None\n",
      "01:45:13 INFO - number of workers 3 worker options {'num_cpus': 4, 'max_restarts': -1}\n",
      "01:45:13 INFO - actor creation delay 0\n",
      "01:45:13 INFO - job details {'job category': 'preprocessing', 'job name': 'fdedup', 'job type': 'ray', 'job id': 'job_id'}\n",
      "2024-08-07 01:45:15,516\tINFO worker.py:1744 -- Started a local Ray instance. View the dashboard at \u001b[1m\u001b[32mhttp://127.0.0.1:8265 \u001b[39m\u001b[22m\n",
      "\u001b[36m(orchestrate pid=1374818)\u001b[0m 01:45:16 INFO - orchestrator started at 2024-08-07 01:45:16\n",
      "\u001b[36m(orchestrate pid=1374818)\u001b[0m 01:45:16 INFO - Number of files is 2, source profile {'max_file_size': 0.16448974609375, 'min_file_size': 0.15704822540283203, 'total_file_size': 0.32153797149658203}\n",
      "\u001b[36m(orchestrate pid=1374818)\u001b[0m 01:45:16 INFO - Cluster resources: {'cpus': 16, 'gpus': 1, 'memory': 10.72304992750287, 'object_store': 5.361524962820113}\n",
      "\u001b[36m(orchestrate pid=1374818)\u001b[0m 01:45:16 INFO - Number of workers - 3 with {'num_cpus': 4, 'max_restarts': -1} each\n",
      "\u001b[36m(orchestrate pid=1374818)\u001b[0m 01:45:16 INFO - starting run from the beginning\n",
      "\u001b[36m(orchestrate pid=1374818)\u001b[0m 01:45:16 INFO - continuing from the very beginning\n",
      "\u001b[36m(orchestrate pid=1374818)\u001b[0m 01:45:16 INFO - Fuzzy: num buckets 5, bucket length 11\n",
      "\u001b[36m(orchestrate pid=1374818)\u001b[0m 01:45:16 INFO - created 1 bucket actors\n",
      "\u001b[36m(orchestrate pid=1374818)\u001b[0m 01:45:16 INFO - created 1 minhash actors\n",
      "\u001b[36m(orchestrate pid=1374818)\u001b[0m 01:45:16 INFO - Table preprocessing uses 2 readers\n",
      "\u001b[36m(orchestrate pid=1374818)\u001b[0m 01:45:16 INFO - created 2 table processor actors\n",
      "\u001b[36m(orchestrate pid=1374818)\u001b[0m 01:45:16 INFO - Completed 0 files (0.0%)  in 5.050500233968099e-06 min. Waiting for completion\n",
      "\u001b[36m(orchestrate pid=1374818)\u001b[0m 01:45:25 INFO - Completed processing 2 files in 0.15276912848154703 min\n",
      "\u001b[36m(orchestrate pid=1374818)\u001b[0m 01:45:25 INFO - creating minhash snapshots\n",
      "\u001b[36m(orchestrate pid=1374818)\u001b[0m 01:45:26 INFO - minhash snapshots created\n",
      "\u001b[36m(orchestrate pid=1374818)\u001b[0m 01:45:26 INFO - creating bucket snapshots\n",
      "\u001b[36m(orchestrate pid=1374818)\u001b[0m 01:45:27 INFO - bucket snapshots created\n",
      "\u001b[36m(orchestrate pid=1374818)\u001b[0m 01:45:27 INFO - created 2 document actors\n",
      "\u001b[36m(orchestrate pid=1374818)\u001b[0m 01:45:27 INFO - created 2 bucket processor actors\n",
      "\u001b[36m(orchestrate pid=1374818)\u001b[0m 01:45:27 INFO - created bucket processor invoker\n",
      "\u001b[36m(orchestrate pid=1374818)\u001b[0m 01:45:27 INFO - added invoker to bucket collectors\n",
      "\u001b[36m(BucketsHash pid=1375642)\u001b[0m 01:45:27 INFO - processing buckets 0 long, 6569 short\n",
      "\u001b[36m(BucketsHash pid=1375642)\u001b[0m 01:45:27 INFO - Done submitting long buckets\n",
      "\u001b[36m(orchestrate pid=1374818)\u001b[0m 01:45:28 INFO - Done processing buckets in 0.01257696549097697 min\n",
      "\u001b[36m(orchestrate pid=1374818)\u001b[0m 01:45:28 INFO - creating document snapshots\n",
      "\u001b[36m(BucketsHashProcessorInvoker pid=1376281)\u001b[0m 01:45:28 INFO - Waiting bucket processing completion. Submitted requests 66\n",
      "\u001b[36m(orchestrate pid=1374818)\u001b[0m 01:45:30 INFO - document snapshots created\n",
      "\u001b[36m(orchestrate pid=1374818)\u001b[0m 01:45:30 INFO - Completed 0 files (0.0%)  in 1.0987122853597006e-05 min. Waiting for completion\n",
      "\u001b[36m(orchestrate pid=1374818)\u001b[0m 01:45:40 INFO - Completed processing 2 files in 0.16406402190526326 min\n",
      "\u001b[36m(orchestrate pid=1374818)\u001b[0m 01:45:40 INFO - done flushing in 0.0013813972473144531 sec\n",
      "01:45:50 INFO - Completed execution in 0.6122241258621216 min, execution result 0\n"
     ]
    },
    {
     "data": {
      "text/plain": [
       "0"
      ]
     },
     "execution_count": 13,
     "metadata": {},
     "output_type": "execute_result"
    }
   ],
   "source": [
    "import os\n",
    "import sys\n",
    "\n",
    "from data_processing.utils import ParamsUtils\n",
    "from fdedup_transform_ray import FdedupRayTransformConfiguration\n",
    "\n",
    "# create parameters\n",
    "\n",
    "local_conf = {\n",
    "    \"input_folder\": input_folder,\n",
    "    \"output_folder\": output_folder,\n",
    "}\n",
    "worker_options = {\"num_cpus\" : RAY_NUM_CPUS}\n",
    "code_location = {\"github\": \"github\", \"commit_hash\": \"12345\", \"path\": \"path\"}\n",
    "params = {\n",
    "    # where to run\n",
    "    \"run_locally\": True,\n",
    "    # Data access. Only required parameters are specified\n",
    "    \"data_local_config\": ParamsUtils.convert_to_ast(local_conf),\n",
    "    # Orchestration parameters\n",
    "    \"runtime_worker_options\": ParamsUtils.convert_to_ast(worker_options),\n",
    "    \"runtime_num_workers\": 3,\n",
    "    # columns used\n",
    "    \"fdedup_doc_column\": \"contents\",\n",
    "    \"fdedup_id_column\": \"int_id_column\",\n",
    "    \"fdedup_cluster_column\": \"hash_column\",\n",
    "    # infrastructure\n",
    "    \"fdedup_bucket_cpu\": 0.5,\n",
    "    \"fdedup_doc_cpu\": 0.5,\n",
    "    \"fdedup_mhash_cpu\": 0.5,\n",
    "    \"fdedup_num_doc_actors\": 2,\n",
    "    \"fdedup_num_bucket_actors\": 1,\n",
    "    \"fdedup_num_minhash_actors\": 1,\n",
    "    \"fdedup_num_preprocessors\": 2,\n",
    "    # fuzzy parameters\n",
    "    \"fdedup_num_permutations\": 64,\n",
    "    \"fdedup_threshold\": 0.8,\n",
    "    \"fdedup_shingles_size\": 5,\n",
    "    \"fdedup_delimiters\": \" \"\n",
    "}\n",
    "\n",
    "# Pass commandline params\n",
    "sys.argv = ParamsUtils.dict_to_req(d=params)\n",
    "\n",
    "# launch\n",
    "\n",
    "launcher = RayTransformLauncher(FdedupRayTransformConfiguration())\n",
    "launcher.launch()"
   ]
  },
  {
   "cell_type": "markdown",
   "id": "49d1d761-62a7-4a12-ad23-b2c268ad8ed2",
   "metadata": {},
   "source": [
    "## <span style=\"color: green\">  6. Language identification [<-](#top)<a class=\"anchor\" id=\"item6\"></a> </span>\n",
    "\n",
    "This transform identifies the language of the document components."
   ]
  },
  {
   "cell_type": "markdown",
   "id": "3db05e1e-4c62-4367-93ca-b2ddff95e4b4",
   "metadata": {},
   "source": [
    "### Set Input/output Folder"
   ]
  },
  {
   "cell_type": "code",
   "execution_count": 14,
   "id": "a8ec4fb6-fa62-45d1-9aa1-596d7182b2c9",
   "metadata": {},
   "outputs": [],
   "source": [
    "\n",
    "input_folder = fdedup_out\n",
    "output_folder = lang_out \n"
   ]
  },
  {
   "cell_type": "markdown",
   "id": "c07e7e5a-064f-4dca-a017-4211f7a3e980",
   "metadata": {},
   "source": [
    "### Execute "
   ]
  },
  {
   "cell_type": "code",
   "execution_count": 15,
   "id": "48dbb2a3-a6f4-4a3d-bb2f-8491fd063611",
   "metadata": {},
   "outputs": [],
   "source": [
    "## SUJEE - commenting out for now\n",
    "\n",
    "# import os\n",
    "# import sys\n",
    "\n",
    "# from data_processing.utils import ParamsUtils\n",
    "# from lang_id_transform import (\n",
    "#     content_column_name_cli_param,\n",
    "#     model_credential_cli_param,\n",
    "#     model_kind_cli_param,\n",
    "#     model_url_cli_param,\n",
    "# )\n",
    "# from lang_models import KIND_FASTTEXT\n",
    "# from lang_id_transform_ray import LangIdentificationRayTransformConfiguration\n",
    "\n",
    "\n",
    "# local_conf = {\n",
    "#     \"input_folder\": input_folder,\n",
    "#     \"output_folder\": output_folder,\n",
    "# }\n",
    "# worker_options = {\"num_cpus\" : RAY_NUM_CPUS}\n",
    "# langid_config = {\n",
    "#     model_credential_cli_param: None, #\"PUT YOUR OWN HUGGINGFACE CREDENTIAL\",\n",
    "#     model_kind_cli_param: KIND_FASTTEXT,\n",
    "#     model_url_cli_param: \"facebook/fasttext-language-identification\",\n",
    "#     # content_column_name_cli_param: \"text\",\n",
    "# }\n",
    "# params = {\n",
    "#     # where to run\n",
    "#     \"run_locally\": True,\n",
    "#     # Data access. Only required parameters are specified\n",
    "#     \"data_local_config\": ParamsUtils.convert_to_ast(local_conf),\n",
    "#     # orchestrator\n",
    "#     \"runtime_worker_options\": ParamsUtils.convert_to_ast(worker_options),\n",
    "#     \"runtime_num_workers\": 1,\n",
    "#     # language selection specific parameters\n",
    "#     **langid_config,\n",
    "# }\n",
    "\n",
    "# sys.argv = ParamsUtils.dict_to_req(d=params)\n",
    "\n",
    "# # create launcher\n",
    "# launcher = RayTransformLauncher(LangIdentificationRayTransformConfiguration())\n",
    "# launcher.launch()\n"
   ]
  },
  {
   "cell_type": "markdown",
   "id": "0646cbb7-3046-44c0-827d-d102d3ff7cb8",
   "metadata": {},
   "source": [
    "## <span style=\"color: green\">  7. Document Quality [<-](#top)<a class=\"anchor\" id=\"item7\"></a> </span>\n",
    "\n",
    "TBA"
   ]
  },
  {
   "cell_type": "markdown",
   "id": "2e985668-848b-4633-b0d8-9fe70ada0c91",
   "metadata": {},
   "source": [
    "### Set Input/output Folder"
   ]
  },
  {
   "cell_type": "code",
   "execution_count": 16,
   "id": "9f080011-c9fe-430e-9ecc-f2220d2c8d18",
   "metadata": {},
   "outputs": [
    {
     "name": "stdout",
     "output_type": "stream",
     "text": [
      "output_walmart/05_fdedup_out\n",
      "output_walmart/07_dq_out\n"
     ]
    }
   ],
   "source": [
    "# input_folder = lang_out\n",
    "input_folder = fdedup_out  ## SUJEE\n",
    "output_folder = dq_out\n",
    "\n",
    "print(input_folder)\n",
    "print(output_folder)"
   ]
  },
  {
   "cell_type": "markdown",
   "id": "c02982c5-f398-4a1a-a9fe-42d7ae748c7c",
   "metadata": {},
   "source": [
    "### Execute "
   ]
  },
  {
   "cell_type": "code",
   "execution_count": 17,
   "id": "29319fb9-b0d8-4f86-9bc5-b92960ad8ae5",
   "metadata": {},
   "outputs": [
    {
     "name": "stderr",
     "output_type": "stream",
     "text": [
      "01:45:51 INFO - Running locally\n",
      "01:45:51 INFO - doc_quality parameters are : {'text_lang': 'en', 'doc_content_column': 'contents', 'bad_word_filepath': '/home/sujee/my-stuff/projects/ai-alliance/data-prep-kit-sujee/transforms/language/doc_quality/python/ldnoobw/en', 's3_cred': None, 'docq_data_factory': <data_processing.data_access.data_access_factory.DataAccessFactory object at 0x74248b5663d0>}\n",
      "01:45:51 INFO - data factory docq_ is using local configuration without input/output path\n",
      "01:45:51 INFO - data factory docq_ max_files -1, n_sample -1\n",
      "01:45:51 INFO - data factory docq_ Not using data sets, checkpointing False, max files -1, random samples -1, files to use ['.parquet'], files to checkpoint ['.parquet']\n",
      "01:45:51 INFO - data factory data_ is using local data access: input_folder - output_walmart/05_fdedup_out output_folder - output_walmart/07_dq_out\n",
      "01:45:51 INFO - data factory data_ max_files -1, n_sample -1\n",
      "01:45:51 INFO - data factory data_ Not using data sets, checkpointing False, max files -1, random samples -1, files to use ['.parquet'], files to checkpoint ['.parquet']\n",
      "01:45:51 INFO - pipeline id pipeline_id\n",
      "01:45:51 INFO - code location None\n",
      "01:45:51 INFO - number of workers 3 worker options {'num_cpus': 4, 'max_restarts': -1}\n",
      "01:45:51 INFO - actor creation delay 0\n",
      "01:45:51 INFO - job details {'job category': 'preprocessing', 'job name': 'docq', 'job type': 'ray', 'job id': 'job_id'}\n",
      "2024-08-07 01:45:53,603\tINFO worker.py:1744 -- Started a local Ray instance. View the dashboard at \u001b[1m\u001b[32mhttp://127.0.0.1:8265 \u001b[39m\u001b[22m\n",
      "\u001b[36m(orchestrate pid=1377578)\u001b[0m 01:45:54 INFO - orchestrator started at 2024-08-07 01:45:54\n",
      "\u001b[36m(orchestrate pid=1377578)\u001b[0m 01:45:54 INFO - Number of files is 2, source profile {'max_file_size': 0.14116477966308594, 'min_file_size': 0.13426685333251953, 'total_file_size': 0.27543163299560547}\n",
      "\u001b[36m(orchestrate pid=1377578)\u001b[0m 01:45:54 INFO - Cluster resources: {'cpus': 16, 'gpus': 1, 'memory': 10.76742324884981, 'object_store': 5.383711623959243}\n",
      "\u001b[36m(orchestrate pid=1377578)\u001b[0m 01:45:54 INFO - Number of workers - 3 with {'num_cpus': 4, 'max_restarts': -1} each\n",
      "\u001b[36m(orchestrate pid=1377578)\u001b[0m 01:45:54 INFO - Completed 0 files (0.0%)  in 5.95251719156901e-06 min. Waiting for completion\n",
      "\u001b[36m(RayTransformFileProcessor pid=1378424)\u001b[0m 01:45:55 INFO - Load badwords found locally from /home/sujee/my-stuff/projects/ai-alliance/data-prep-kit-sujee/transforms/language/doc_quality/python/ldnoobw/en\n",
      "\u001b[36m(orchestrate pid=1377578)\u001b[0m 01:45:56 INFO - Completed processing 2 files in 0.02500883340835571 min\n",
      "\u001b[36m(orchestrate pid=1377578)\u001b[0m 01:45:56 INFO - done flushing in 0.0012869834899902344 sec\n",
      "01:46:06 INFO - Completed execution in 0.23796695868174236 min, execution result 0\n",
      "\u001b[36m(RayTransformFileProcessor pid=1378422)\u001b[0m 01:45:55 INFO - Load badwords found locally from /home/sujee/my-stuff/projects/ai-alliance/data-prep-kit-sujee/transforms/language/doc_quality/python/ldnoobw/en\u001b[32m [repeated 2x across cluster] (Ray deduplicates logs by default. Set RAY_DEDUP_LOGS=0 to disable log deduplication, or see https://docs.ray.io/en/master/ray-observability/user-guides/configure-logging.html#log-deduplication for more options.)\u001b[0m\n"
     ]
    },
    {
     "data": {
      "text/plain": [
       "0"
      ]
     },
     "execution_count": 17,
     "metadata": {},
     "output_type": "execute_result"
    }
   ],
   "source": [
    "import os\n",
    "import sys\n",
    "from pathlib import Path\n",
    "\n",
    "from doc_quality_transform import (\n",
    "    text_lang_cli_param,\n",
    "    doc_content_column_cli_param,\n",
    "    bad_word_filepath_cli_param,\n",
    ")\n",
    "from doc_quality_transform_ray import DocQualityRayTransformConfiguration\n",
    "from data_processing.utils import ParamsUtils\n",
    "\n",
    "local_conf = {\n",
    "    \"input_folder\": input_folder,\n",
    "    \"output_folder\": output_folder,\n",
    "}\n",
    "\n",
    "doc_quality_basedir = os.path.join(rootdir, \"transforms\", \"language\", \"doc_quality\", \"python\")\n",
    "worker_options = {\"num_cpus\" : RAY_NUM_CPUS}\n",
    "params = {\n",
    "    # where to run\n",
    "    \"run_locally\": True,\n",
    "    # Data access. Only required parameters are specified\n",
    "    \"data_local_config\": ParamsUtils.convert_to_ast(local_conf),\n",
    "    # orchestrator\n",
    "    \"runtime_worker_options\": ParamsUtils.convert_to_ast(worker_options),\n",
    "    \"runtime_num_workers\": 3,\n",
    "    \"runtime_pipeline_id\": \"pipeline_id\",\n",
    "    \"runtime_job_id\": \"job_id\",\n",
    "    \"runtime_creation_delay\": 0,\n",
    "    # doc quality configuration\n",
    "    text_lang_cli_param: \"en\",\n",
    "    doc_content_column_cli_param: \"contents\",\n",
    "    bad_word_filepath_cli_param: os.path.join(doc_quality_basedir, \"ldnoobw\", \"en\"),\n",
    "}\n",
    "\n",
    "\n",
    "Path(output_folder).mkdir(parents=True, exist_ok=True)\n",
    "\n",
    "sys.argv = ParamsUtils.dict_to_req(d=params)\n",
    "\n",
    "# create launcher\n",
    "launcher = RayTransformLauncher(DocQualityRayTransformConfiguration())\n",
    "# launch\n",
    "launcher.launch()"
   ]
  },
  {
   "cell_type": "markdown",
   "id": "5cec9839-13b4-4d32-89c5-38f59c5a89f0",
   "metadata": {},
   "source": [
    "## 8. <span style=\"color: green\">   Filtering [<-](#top)<a class=\"anchor\" id=\"item8\"></a> </span>\n",
    "\n",
    "Filter out documents that do not meet the quality threshold for each annotation. The thresholds are computed based on a distributional\n",
    "analysis as well as manual inspection of samples maintaining the balance between data quality and data volume"
   ]
  },
  {
   "cell_type": "markdown",
   "id": "78c54d69-8aee-4f0f-b74c-35dc0609270f",
   "metadata": {},
   "source": [
    "### Set Input/output Folder"
   ]
  },
  {
   "cell_type": "code",
   "execution_count": 18,
   "id": "a7991811-b19e-43b5-89ac-b24060c0ccfa",
   "metadata": {},
   "outputs": [],
   "source": [
    "input_folder = dq_out\n",
    "output_folder = filter_out"
   ]
  },
  {
   "cell_type": "markdown",
   "id": "c460e05c-aeee-4b53-9dd5-8dfa1afc0ece",
   "metadata": {},
   "source": [
    "### Execute "
   ]
  },
  {
   "cell_type": "code",
   "execution_count": 19,
   "id": "61dea2b0-0e54-4912-8620-886e2b8420ef",
   "metadata": {},
   "outputs": [],
   "source": [
    "import os\n",
    "\n",
    "from data_processing.data_access import DataAccessLocal\n",
    "from filter_transform import (\n",
    "    filter_columns_to_drop_cli_param,\n",
    "    filter_criteria_cli_param,\n",
    "    filter_logical_operator_cli_param,\n",
    ")\n",
    "from filter_transform_ray import FilterRayTransformConfiguration\n",
    "\n",
    "\n",
    "local_conf = {\n",
    "    \"input_folder\": input_folder,\n",
    "    \"output_folder\": output_folder,\n",
    "}\n",
    "\n",
    "# TODO\n",
    "# - decide which rules to apply for filtering\n",
    "\n",
    "\n",
    "# This is just an example criteria to filter\n",
    "filter_criteria = [\n",
    "    \"total_num_lines > 10 AND total_num_lines < 90\",\n",
    "    \"lang_selected = 1\",\n",
    "]\n",
    "filter_logical_operator = \"AND\"\n",
    "filter_columns_to_drop = [\"lang_selected\", \"hash_column\"]\n",
    "\n",
    "filter_params = {\n",
    "    filter_criteria_cli_param: filter_criteria,\n",
    "    filter_columns_to_drop_cli_param: filter_columns_to_drop,\n",
    "    filter_logical_operator_cli_param: filter_logical_operator,\n",
    "}\n",
    "\n",
    "worker_options = {\"num_cpus\" : RAY_NUM_CPUS}\n",
    "launcher_params = {\n",
    "    # where to run\n",
    "    \"run_locally\": True,\n",
    "    # Data access. Only required parameters are specified\n",
    "    \"data_local_config\": ParamsUtils.convert_to_ast(local_conf),\n",
    "    # orchestrator\n",
    "    \"runtime_worker_options\": ParamsUtils.convert_to_ast(worker_options),\n",
    "    \"runtime_num_workers\": 5,\n",
    "}\n",
    "\n",
    "\n",
    "sys.argv = ParamsUtils.dict_to_req(launcher_params | filter_params)\n",
    "# Create the longer to launch with the blocklist transform.\n",
    "launcher = RayTransformLauncher(FilterRayTransformConfiguration())\n",
    "# Launch the ray actor(s) to process the input\n",
    "# launcher.launch()"
   ]
  },
  {
   "cell_type": "markdown",
   "id": "5370950a-2a3a-4143-8218-f9b4808099ba",
   "metadata": {},
   "source": [
    "## 9. <span style=\"color: green\">  Text encoding [<-](#top)<a class=\"anchor\" id=\"item9\"></a> </span>\n",
    "\n",
    "Encode text for the vector storage."
   ]
  },
  {
   "cell_type": "code",
   "execution_count": 20,
   "id": "20a153fa-fd56-401e-86be-4f7617affcc8",
   "metadata": {},
   "outputs": [],
   "source": [
    "# input_folder = filter_out\n",
    "input_folder = dq_out\n",
    "output_folder = encoder_out"
   ]
  },
  {
   "cell_type": "code",
   "execution_count": 21,
   "id": "228df6b2-bc62-494b-9697-03ece98d7853",
   "metadata": {},
   "outputs": [
    {
     "name": "stderr",
     "output_type": "stream",
     "text": [
      "01:46:07 INFO - Running locally\n",
      "01:46:07 INFO - text_encoder parameters are : {'content_column_name': 'contents', 'output_embeddings_column_name': 'embeddings', 'model_name': 'sentence-transformers/all-MiniLM-L6-v2'}\n",
      "01:46:07 INFO - data factory data_ is using local data access: input_folder - output_walmart/07_dq_out output_folder - output_walmart/09_encoder_out\n",
      "01:46:07 INFO - data factory data_ max_files -1, n_sample -1\n",
      "01:46:07 INFO - data factory data_ Not using data sets, checkpointing False, max files -1, random samples -1, files to use ['.parquet'], files to checkpoint ['.parquet']\n",
      "01:46:07 INFO - pipeline id pipeline_id\n",
      "01:46:07 INFO - code location None\n",
      "01:46:07 INFO - number of workers 2 worker options {'num_cpus': 4, 'max_restarts': -1}\n",
      "01:46:07 INFO - actor creation delay 0\n",
      "01:46:07 INFO - job details {'job category': 'preprocessing', 'job name': 'text_encoder', 'job type': 'ray', 'job id': 'job_id'}\n",
      "2024-08-07 01:46:09,540\tINFO worker.py:1744 -- Started a local Ray instance. View the dashboard at \u001b[1m\u001b[32mhttp://127.0.0.1:8265 \u001b[39m\u001b[22m\n",
      "\u001b[36m(orchestrate pid=1379301)\u001b[0m 01:46:12 INFO - orchestrator started at 2024-08-07 01:46:12\n",
      "\u001b[36m(orchestrate pid=1379301)\u001b[0m 01:46:12 INFO - Number of files is 2, source profile {'max_file_size': 0.1543569564819336, 'min_file_size': 0.1500835418701172, 'total_file_size': 0.3044404983520508}\n",
      "\u001b[36m(orchestrate pid=1379301)\u001b[0m 01:46:12 INFO - Cluster resources: {'cpus': 16, 'gpus': 1, 'memory': 10.738380432128906, 'object_store': 5.369190216064453}\n",
      "\u001b[36m(orchestrate pid=1379301)\u001b[0m 01:46:12 INFO - Number of workers - 2 with {'num_cpus': 4, 'max_restarts': -1} each\n",
      "\u001b[36m(orchestrate pid=1379301)\u001b[0m 01:46:12 INFO - Completed 0 files (0.0%)  in 8.098284403483073e-06 min. Waiting for completion\n",
      "\u001b[36m(RayTransformFileProcessor pid=1380188)\u001b[0m /home/sujee/my-stuff/projects/ai-alliance/data-prep-kit-sujee/examples/notebooks/language/venv/lib/python3.11/site-packages/transformers/tokenization_utils_base.py:1601: FutureWarning: `clean_up_tokenization_spaces` was not set. It will be set to `True` by default. This behavior will be depracted in transformers v4.45, and will be then set to `False` by default. For more details check this issue: https://github.com/huggingface/transformers/issues/31884\n",
      "\u001b[36m(RayTransformFileProcessor pid=1380188)\u001b[0m   warnings.warn(\n",
      "\u001b[36m(orchestrate pid=1379301)\u001b[0m 01:46:32 INFO - Completed processing 2 files in 0.33407296737035114 min\n",
      "\u001b[36m(orchestrate pid=1379301)\u001b[0m 01:46:32 INFO - done flushing in 0.0011186599731445312 sec\n",
      "\u001b[36m(RayTransformFileProcessor pid=1380189)\u001b[0m /home/sujee/my-stuff/projects/ai-alliance/data-prep-kit-sujee/examples/notebooks/language/venv/lib/python3.11/site-packages/transformers/tokenization_utils_base.py:1601: FutureWarning: `clean_up_tokenization_spaces` was not set. It will be set to `True` by default. This behavior will be depracted in transformers v4.45, and will be then set to `False` by default. For more details check this issue: https://github.com/huggingface/transformers/issues/31884\n",
      "\u001b[36m(RayTransformFileProcessor pid=1380189)\u001b[0m   warnings.warn(\n",
      "01:46:42 INFO - Completed execution in 0.5780003190040588 min, execution result 0\n"
     ]
    },
    {
     "data": {
      "text/plain": [
       "0"
      ]
     },
     "execution_count": 21,
     "metadata": {},
     "output_type": "execute_result"
    }
   ],
   "source": [
    "from text_encoder_transform_ray import TextEncoderRayTransformConfiguration\n",
    "\n",
    "local_conf = {\n",
    "    \"input_folder\": input_folder,\n",
    "    \"output_folder\": output_folder,\n",
    "}\n",
    "worker_options = {\"num_cpus\" : RAY_NUM_CPUS}\n",
    "params = {\n",
    "    # where to run\n",
    "    \"run_locally\": True,\n",
    "    # Data access. Only required parameters are specified\n",
    "    \"data_local_config\": ParamsUtils.convert_to_ast(local_conf),\n",
    "    # orchestrator\n",
    "    \"runtime_worker_options\": ParamsUtils.convert_to_ast(worker_options),\n",
    "    \"runtime_num_workers\": 2,\n",
    "    # text_encoder\n",
    "    \"text_encoder_model_name\": \"sentence-transformers/all-MiniLM-L6-v2\",\n",
    "}\n",
    "\n",
    "sys.argv = ParamsUtils.dict_to_req(d=params)\n",
    "# create launcher\n",
    "launcher = RayTransformLauncher(TextEncoderRayTransformConfiguration())\n",
    "# Launch the ray actor(s) to process the input\n",
    "launcher.launch()\n"
   ]
  },
  {
   "cell_type": "code",
   "execution_count": null,
   "id": "aaca103c-b5a6-48aa-adbb-2f77b4af9299",
   "metadata": {},
   "outputs": [],
   "source": []
  }
 ],
 "metadata": {
  "kernelspec": {
   "display_name": "Python 3 (ipykernel)",
   "language": "python",
   "name": "python3"
  },
  "language_info": {
   "codemirror_mode": {
    "name": "ipython",
    "version": 3
   },
   "file_extension": ".py",
   "mimetype": "text/x-python",
   "name": "python",
   "nbconvert_exporter": "python",
   "pygments_lexer": "ipython3",
   "version": "3.11.9"
  }
 },
 "nbformat": 4,
 "nbformat_minor": 5
}
