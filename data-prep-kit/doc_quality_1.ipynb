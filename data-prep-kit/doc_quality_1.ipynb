{
  "cells": [
    {
      "cell_type": "markdown",
      "metadata": {
        "id": "1P1TkZJNxcgr"
      },
      "source": [
        "# DPK Example: Detect SPAM and Low Quality Documents\n",
        "\n",
        " [![Open In Colab](https://colab.research.google.com/assets/colab-badge.svg)](https://colab.research.google.com/github/sujee/data-prep-kit-examples/blob/main/data-prep-kit/doc_quality_1.ipynb)\n",
        "\n",
        " This notebook will illustrate how we can use Data Prep Kit's  [Document Quality feature](https://github.com/data-prep-kit/data-prep-kit/tree/dev/transforms/language/doc_quality) to detect spam and low quality documents\n",
        "\n",
        " References and credits:\n",
        "\n",
        " - https://github.com/data-prep-kit/data-prep-kit/tree/dev/transforms/language/doc_quality\n",
        "\n",
        "  "
      ]
    },
    {
      "cell_type": "markdown",
      "metadata": {
        "id": "t9JSyFA9xcgu"
      },
      "source": [
        "## Step-1: Figure out Runtime Environment\n",
        "\n",
        "### 1.1 - Determine runtime\n",
        "\n",
        "Determine if we are running on Google colab or local python environment"
      ]
    },
    {
      "cell_type": "code",
      "execution_count": 20,
      "metadata": {
        "id": "2-3VsdJNxcgv"
      },
      "outputs": [
        {
          "name": "stdout",
          "output_type": "stream",
          "text": [
            "NOT in Colab\n"
          ]
        }
      ],
      "source": [
        "import os\n",
        "\n",
        "if os.getenv(\"COLAB_RELEASE_TAG\"):\n",
        "   print(\"Running in Colab\")\n",
        "   RUNNING_IN_COLAB = True\n",
        "else:\n",
        "   print(\"NOT in Colab\")\n",
        "   RUNNING_IN_COLAB = False"
      ]
    },
    {
      "cell_type": "markdown",
      "metadata": {
        "id": "wAzj7p9Gxcgx"
      },
      "source": [
        "### 1.2 - Install dependencies if running on Google Colab"
      ]
    },
    {
      "cell_type": "code",
      "execution_count": 21,
      "metadata": {
        "id": "_eGv5q6Excgz"
      },
      "outputs": [],
      "source": [
        "## Download any code files we may need\n",
        "\n",
        "if RUNNING_IN_COLAB:\n",
        "    !wget -O 'file_utils.py'   'https://raw.githubusercontent.com/sujee/data-prep-kit-examples/main/data-prep-kit/file_utils.py'"
      ]
    },
    {
      "cell_type": "code",
      "execution_count": 22,
      "metadata": {
        "id": "-1y00Npcxcgx"
      },
      "outputs": [],
      "source": [
        "# %%capture\n",
        "# %%time\n",
        "\n",
        "import os\n",
        "\n",
        "if RUNNING_IN_COLAB:\n",
        "  ## setup a sandbox env to avoid conflicts with colab libraries\n",
        "  !pip install -q condacolab\n",
        "  import condacolab\n",
        "  condacolab.install()\n",
        "\n",
        "  !conda create -n my_env python=3.11 -y\n",
        "  !conda activate my_env\n",
        "  !pip install  --default-timeout=100  \\\n",
        "        'data-prep-toolkit-transforms[pdf2parquet, doc_quality]'==1.1.0 \\\n",
        "        humanfriendly\n",
        "  ## terminate the current kernel, so we restart the runtime\n",
        "  os.kill(os.getpid(), 9)\n",
        "  ## restart the session"
      ]
    },
    {
      "cell_type": "markdown",
      "metadata": {
        "id": "qF_a2lnnxcgy"
      },
      "source": [
        "### 1.3 - Restart Runtime\n",
        "\n",
        "After installing dependencies, you may want to <font color=\"red\">restart runtime</font>, so libraries will be loaded\n",
        "\n",
        "You do this by going to **`Runtime --> Restart Session`**\n",
        "\n",
        "Then you can continue to the next step (no need to re-run the notebook)"
      ]
    },
    {
      "cell_type": "markdown",
      "metadata": {
        "id": "H4IpxhpAxcgy"
      },
      "source": [
        "## Step-2: Configuration  & Utils"
      ]
    },
    {
      "cell_type": "markdown",
      "metadata": {
        "id": "LR23Gplqxcgy"
      },
      "source": [
        "### 2.1 - Basic Config"
      ]
    },
    {
      "cell_type": "code",
      "execution_count": 23,
      "metadata": {
        "colab": {
          "base_uri": "https://localhost:8080/"
        },
        "id": "2w2ppGvvxcgz",
        "outputId": "3a252799-23ae-4bc5-9cec-c1ea7865e952"
      },
      "outputs": [
        {
          "name": "stdout",
          "output_type": "stream",
          "text": [
            "NOT in Colab\n"
          ]
        }
      ],
      "source": [
        "import os\n",
        "\n",
        "if os.getenv(\"COLAB_RELEASE_TAG\"):\n",
        "   print(\"Running in Colab\")\n",
        "   RUNNING_IN_COLAB = True\n",
        "else:\n",
        "   print(\"NOT in Colab\")\n",
        "   RUNNING_IN_COLAB = False"
      ]
    },
    {
      "cell_type": "markdown",
      "metadata": {
        "id": "4PfIa1CRxcg0"
      },
      "source": [
        "### 2.2 - Setup input/outpur directories"
      ]
    },
    {
      "cell_type": "code",
      "execution_count": 24,
      "metadata": {
        "id": "cnD-i_fAxcg0"
      },
      "outputs": [],
      "source": [
        "## setup path to utils folder\n",
        "import sys\n",
        "sys.path.append('../utils')"
      ]
    },
    {
      "cell_type": "code",
      "execution_count": 25,
      "metadata": {
        "id": "0LMI8DEHxcg0"
      },
      "outputs": [],
      "source": [
        "# If connection to https://huggingface.co/ failed, uncomment the following path\n",
        "import os\n",
        "os.environ['HF_ENDPOINT'] = 'https://hf-mirror.com'"
      ]
    },
    {
      "cell_type": "code",
      "execution_count": 26,
      "metadata": {
        "colab": {
          "base_uri": "https://localhost:8080/"
        },
        "id": "CPW05bBlxcg1",
        "outputId": "83698dfb-5eac-4547-80f7-94916fcbbe52"
      },
      "outputs": [
        {
          "name": "stdout",
          "output_type": "stream",
          "text": [
            "✅ Cleared output directory\n"
          ]
        }
      ],
      "source": [
        "import os, sys\n",
        "import shutil\n",
        "\n",
        "if RUNNING_IN_COLAB:\n",
        "    input_dir = \"input/\"\n",
        "    shutil.os.makedirs(input_dir, exist_ok=True)\n",
        "else:\n",
        "    input_dir = \"../data/doc-quality/\"\n",
        "\n",
        "output_dir = \"output\"\n",
        "output_pdf2pq_dir = os.path.join (output_dir, '01_pdf2pq_out')\n",
        "output_docquality_dir = os.path.join (output_dir, '02_docq_out')\n",
        "output_md_dir = os.path.join (output_dir, \"03_md\")\n",
        "\n",
        "\n",
        "## clear output folder\n",
        "shutil.rmtree(output_dir, ignore_errors=True)\n",
        "shutil.os.makedirs(output_dir, exist_ok=True)\n",
        "shutil.os.makedirs(output_md_dir, exist_ok=True)\n",
        "print (\"✅ Cleared output directory\")"
      ]
    },
    {
      "cell_type": "markdown",
      "metadata": {
        "id": "_YId4EeKxcg1"
      },
      "source": [
        "## Step-3: Inspect the Data\n",
        "\n",
        "Sample data files are [here](https://github.com/sujee/data-prep-kit-examples/tree/main/data/doc-quality/)"
      ]
    },
    {
      "cell_type": "markdown",
      "metadata": {
        "id": "yBoclRj-xcg1"
      },
      "source": [
        "### 3.1 -Download Data"
      ]
    },
    {
      "cell_type": "code",
      "execution_count": 27,
      "metadata": {
        "colab": {
          "base_uri": "https://localhost:8080/"
        },
        "id": "4Vqt87h8xcg2",
        "outputId": "f6283a4f-e323-4453-d25b-cac6dd5684a5"
      },
      "outputs": [
        {
          "name": "stdout",
          "output_type": "stream",
          "text": [
            "input :  ../data/doc-quality/\n"
          ]
        }
      ],
      "source": [
        "from file_utils import download_file\n",
        "\n",
        "if RUNNING_IN_COLAB:\n",
        "    download_file ('https://raw.githubusercontent.com/sujee/data-prep-kit-examples/main/data/doc-quality/earth.pdf', os.path.join(input_dir, 'earth.pdf'))\n",
        "    download_file ('https://raw.githubusercontent.com/sujee/data-prep-kit-examples/main/data/doc-quality/spam.pdf', os.path.join(input_dir, 'spam.pdf'))\n",
        "    download_file ('https://raw.githubusercontent.com/sujee/data-prep-kit-examples/main/data/doc-quality/lorem-ipsum.pdf', os.path.join(input_dir, 'lorem-ipsum.pdf'))\n",
        "else:\n",
        "    print ('input : ', input_dir)"
      ]
    },
    {
      "cell_type": "markdown",
      "metadata": {
        "id": "gHAE9V51xcg2"
      },
      "source": [
        "## Step-4: Extract Data from PDF (pdf2parquet)\n",
        "\n",
        "This step we will read PDF files and extract the text data.\n",
        "\n",
        "[Pdf2Parquet documentation](https://github.com/IBM/data-prep-kit/blob/dev/transforms/language/pdf2parquet/README.md)\n",
        "\n",
        "We use the [Docling package](https://github.com/DS4SD/docling).\n"
      ]
    },
    {
      "cell_type": "code",
      "execution_count": 28,
      "metadata": {
        "colab": {
          "base_uri": "https://localhost:8080/"
        },
        "id": "NtaYiY71xcg2",
        "outputId": "744accce-b976-46c8-dd4e-1ce1ff81069f"
      },
      "outputs": [
        {
          "name": "stdout",
          "output_type": "stream",
          "text": [
            "🏃🏼 Processing input='../data/doc-quality/' --> output='output/01_pdf2pq_out'\n",
            "\n"
          ]
        },
        {
          "name": "stderr",
          "output_type": "stream",
          "text": [
            "13:15:09 INFO - pdf2parquet parameters are : {'batch_size': -1, 'artifacts_path': None, 'contents_type': <pdf2parquet_contents_types.MARKDOWN: 'text/markdown'>, 'do_table_structure': True, 'do_ocr': True, 'ocr_engine': <pdf2parquet_ocr_engine.EASYOCR: 'easyocr'>, 'bitmap_area_threshold': 0.05, 'pdf_backend': <pdf2parquet_pdf_backend.DLPARSE_V2: 'dlparse_v2'>, 'double_precision': 8}\n",
            "13:15:09 INFO - pipeline id pipeline_id\n",
            "13:15:09 INFO - code location None\n",
            "13:15:09 INFO - data factory data_ is using local data access: input_folder - ../data/doc-quality/ output_folder - output/01_pdf2pq_out\n",
            "13:15:09 INFO - data factory data_ max_files -1, n_sample -1\n",
            "13:15:09 INFO - data factory data_ Not using data sets, checkpointing False, max files -1, random samples -1, files to use ['.pdf'], files to checkpoint ['.parquet']\n",
            "13:15:09 INFO - orchestrator pdf2parquet started at 2025-03-26 13:15:09\n",
            "13:15:09 INFO - Number of files is 3, source profile {'max_file_size': 0.055823326110839844, 'min_file_size': 0.023715972900390625, 'total_file_size': 0.10407257080078125}\n",
            "13:15:09 INFO - Initializing models\n",
            "Could not load the custom kernel for multi-scale deformable attention: /home/sujee/.cache/torch_extensions/py311_cu124/MultiScaleDeformableAttention/MultiScaleDeformableAttention.so: cannot open shared object file: No such file or directory\n",
            "Could not load the custom kernel for multi-scale deformable attention: /home/sujee/.cache/torch_extensions/py311_cu124/MultiScaleDeformableAttention/MultiScaleDeformableAttention.so: cannot open shared object file: No such file or directory\n",
            "Could not load the custom kernel for multi-scale deformable attention: /home/sujee/.cache/torch_extensions/py311_cu124/MultiScaleDeformableAttention/MultiScaleDeformableAttention.so: cannot open shared object file: No such file or directory\n",
            "Could not load the custom kernel for multi-scale deformable attention: /home/sujee/.cache/torch_extensions/py311_cu124/MultiScaleDeformableAttention/MultiScaleDeformableAttention.so: cannot open shared object file: No such file or directory\n",
            "Could not load the custom kernel for multi-scale deformable attention: /home/sujee/.cache/torch_extensions/py311_cu124/MultiScaleDeformableAttention/MultiScaleDeformableAttention.so: cannot open shared object file: No such file or directory\n",
            "Could not load the custom kernel for multi-scale deformable attention: /home/sujee/.cache/torch_extensions/py311_cu124/MultiScaleDeformableAttention/MultiScaleDeformableAttention.so: cannot open shared object file: No such file or directory\n",
            "13:15:13 INFO - Completed 1 files (33.33%) in 0.003 min\n",
            "13:15:14 INFO - Completed 2 files (66.67%) in 0.006 min\n",
            "13:15:14 INFO - Completed 3 files (100.0%) in 0.009 min\n",
            "13:15:14 INFO - Done processing 3 files, waiting for flush() completion.\n",
            "13:15:14 INFO - done flushing in 0.0 sec\n",
            "13:15:14 INFO - Completed execution in 0.075 min, execution result 0\n"
          ]
        },
        {
          "name": "stdout",
          "output_type": "stream",
          "text": [
            "✅ Operation completed successfully\n",
            "CPU times: user 3.44 s, sys: 0 ns, total: 3.44 s\n",
            "Wall time: 4.52 s\n"
          ]
        }
      ],
      "source": [
        "%%time\n",
        "\n",
        "from dpk_pdf2parquet.transform_python import Pdf2Parquet\n",
        "from dpk_pdf2parquet.transform import pdf2parquet_contents_types\n",
        "\n",
        "print (f\"🏃🏼 Processing input='{input_dir}' --> output='{output_pdf2pq_dir}'\\n\", flush=True)\n",
        "\n",
        "result = Pdf2Parquet(input_folder= input_dir,\n",
        "                    output_folder= output_pdf2pq_dir,\n",
        "                    data_files_to_use=['.pdf'],\n",
        "                    pdf2parquet_contents_type=pdf2parquet_contents_types.MARKDOWN,   # markdown\n",
        "                    ).transform()\n",
        "\n",
        "if result == 0:\n",
        "    print (f\"✅ Operation completed successfully\")\n",
        "else:\n",
        "    raise Exception (f\"❌ Operation  failed\")"
      ]
    },
    {
      "cell_type": "markdown",
      "metadata": {
        "id": "Eraaot-5xcg2"
      },
      "source": [
        "### 4.2 - Inspect Generated output\n"
      ]
    },
    {
      "cell_type": "code",
      "execution_count": 29,
      "metadata": {
        "colab": {
          "base_uri": "https://localhost:8080/",
          "height": 356
        },
        "id": "_9WmfE8Uxcg3",
        "outputId": "fe2d58e1-dc7e-4afc-eb8e-f90dba1819f4"
      },
      "outputs": [
        {
          "name": "stdout",
          "output_type": "stream",
          "text": [
            "Displaying contents of :  output/01_pdf2pq_out\n",
            "Successfully read 3 parquet files with 3 total rows\n"
          ]
        },
        {
          "data": {
            "text/html": [
              "<div>\n",
              "<style scoped>\n",
              "    .dataframe tbody tr th:only-of-type {\n",
              "        vertical-align: middle;\n",
              "    }\n",
              "\n",
              "    .dataframe tbody tr th {\n",
              "        vertical-align: top;\n",
              "    }\n",
              "\n",
              "    .dataframe thead th {\n",
              "        text-align: right;\n",
              "    }\n",
              "</style>\n",
              "<table border=\"1\" class=\"dataframe\">\n",
              "  <thead>\n",
              "    <tr style=\"text-align: right;\">\n",
              "      <th></th>\n",
              "      <th>filename</th>\n",
              "      <th>contents</th>\n",
              "      <th>num_pages</th>\n",
              "      <th>num_tables</th>\n",
              "      <th>num_doc_elements</th>\n",
              "      <th>document_id</th>\n",
              "      <th>document_hash</th>\n",
              "      <th>ext</th>\n",
              "      <th>hash</th>\n",
              "      <th>size</th>\n",
              "      <th>date_acquired</th>\n",
              "      <th>pdf_convert_time</th>\n",
              "      <th>source_filename</th>\n",
              "    </tr>\n",
              "  </thead>\n",
              "  <tbody>\n",
              "    <tr>\n",
              "      <th>0</th>\n",
              "      <td>lorem-ipsum.pdf</td>\n",
              "      <td>Lorem ipsum\\n\\nLorem ipsum\\n\\nLorem ipsum</td>\n",
              "      <td>1</td>\n",
              "      <td>0</td>\n",
              "      <td>4</td>\n",
              "      <td>4272a5ab-2bb1-4285-822e-4af57ef3c23b</td>\n",
              "      <td>50660627009040522</td>\n",
              "      <td>pdf</td>\n",
              "      <td>b3c09cf4b822dda90dbfee0c4b358dec8ecfec78df91c9...</td>\n",
              "      <td>37</td>\n",
              "      <td>2025-03-26T13:15:14.025864</td>\n",
              "      <td>0.157193</td>\n",
              "      <td>lorem-ipsum.pdf</td>\n",
              "    </tr>\n",
              "    <tr>\n",
              "      <th>1</th>\n",
              "      <td>spam.pdf</td>\n",
              "      <td>Free xxx</td>\n",
              "      <td>1</td>\n",
              "      <td>0</td>\n",
              "      <td>2</td>\n",
              "      <td>c5710d45-e4cb-45b7-b847-293ad3707d4c</td>\n",
              "      <td>5577338085393325113</td>\n",
              "      <td>pdf</td>\n",
              "      <td>543ffc97aef373ee009a5f908e0358ef80d329ca7ba964...</td>\n",
              "      <td>8</td>\n",
              "      <td>2025-03-26T13:15:14.188099</td>\n",
              "      <td>0.160242</td>\n",
              "      <td>spam.pdf</td>\n",
              "    </tr>\n",
              "    <tr>\n",
              "      <th>2</th>\n",
              "      <td>earth.pdf</td>\n",
              "      <td>## Earth\\n\\n## Solar System\\n\\nOur solar syste...</td>\n",
              "      <td>1</td>\n",
              "      <td>0</td>\n",
              "      <td>11</td>\n",
              "      <td>99cf439b-7ecb-4127-bdcc-1b231c23d600</td>\n",
              "      <td>17915699055171962696</td>\n",
              "      <td>pdf</td>\n",
              "      <td>3766e7a7dfb15354f2a8c77e43db4cfa40d4627f921126...</td>\n",
              "      <td>611</td>\n",
              "      <td>2025-03-26T13:15:13.864851</td>\n",
              "      <td>0.198670</td>\n",
              "      <td>earth.pdf</td>\n",
              "    </tr>\n",
              "  </tbody>\n",
              "</table>\n",
              "</div>"
            ],
            "text/plain": [
              "          filename                                           contents  \\\n",
              "0  lorem-ipsum.pdf          Lorem ipsum\\n\\nLorem ipsum\\n\\nLorem ipsum   \n",
              "1         spam.pdf                                           Free xxx   \n",
              "2        earth.pdf  ## Earth\\n\\n## Solar System\\n\\nOur solar syste...   \n",
              "\n",
              "   num_pages  num_tables  num_doc_elements  \\\n",
              "0          1           0                 4   \n",
              "1          1           0                 2   \n",
              "2          1           0                11   \n",
              "\n",
              "                            document_id         document_hash  ext  \\\n",
              "0  4272a5ab-2bb1-4285-822e-4af57ef3c23b     50660627009040522  pdf   \n",
              "1  c5710d45-e4cb-45b7-b847-293ad3707d4c   5577338085393325113  pdf   \n",
              "2  99cf439b-7ecb-4127-bdcc-1b231c23d600  17915699055171962696  pdf   \n",
              "\n",
              "                                                hash  size  \\\n",
              "0  b3c09cf4b822dda90dbfee0c4b358dec8ecfec78df91c9...    37   \n",
              "1  543ffc97aef373ee009a5f908e0358ef80d329ca7ba964...     8   \n",
              "2  3766e7a7dfb15354f2a8c77e43db4cfa40d4627f921126...   611   \n",
              "\n",
              "                date_acquired  pdf_convert_time  source_filename  \n",
              "0  2025-03-26T13:15:14.025864          0.157193  lorem-ipsum.pdf  \n",
              "1  2025-03-26T13:15:14.188099          0.160242         spam.pdf  \n",
              "2  2025-03-26T13:15:13.864851          0.198670        earth.pdf  "
            ]
          },
          "execution_count": 29,
          "metadata": {},
          "output_type": "execute_result"
        }
      ],
      "source": [
        "from file_utils import read_parquet_files_as_df\n",
        "\n",
        "print (\"Displaying contents of : \", output_pdf2pq_dir)\n",
        "output_df = read_parquet_files_as_df(output_pdf2pq_dir)\n",
        "output_df\n"
      ]
    },
    {
      "cell_type": "code",
      "execution_count": 30,
      "metadata": {
        "colab": {
          "base_uri": "https://localhost:8080/"
        },
        "id": "4LmsMfRFxcg3",
        "outputId": "b553319a-ed21-4928-ef8d-e615966924b7"
      },
      "outputs": [
        {
          "name": "stdout",
          "output_type": "stream",
          "text": [
            "Free xxx\n"
          ]
        }
      ],
      "source": [
        "print (output_df[output_df['filename'] == 'spam.pdf'].iloc[0,]['contents'])"
      ]
    },
    {
      "cell_type": "code",
      "execution_count": 31,
      "metadata": {
        "colab": {
          "base_uri": "https://localhost:8080/"
        },
        "id": "7NCMolCDOVBf",
        "outputId": "f39071d5-de69-40ac-b43c-50d622f29cf1"
      },
      "outputs": [
        {
          "name": "stdout",
          "output_type": "stream",
          "text": [
            "Lorem ipsum\n",
            "\n",
            "Lorem ipsum\n",
            "\n",
            "Lorem ipsum\n"
          ]
        }
      ],
      "source": [
        "print (output_df[output_df['filename'] == 'lorem-ipsum.pdf'].iloc[0,]['contents'])"
      ]
    },
    {
      "cell_type": "code",
      "execution_count": 32,
      "metadata": {
        "colab": {
          "base_uri": "https://localhost:8080/"
        },
        "id": "PcxyrjrhTTB6",
        "outputId": "966036b8-74ff-46b3-c39a-30a0fb9686ca"
      },
      "outputs": [
        {
          "name": "stdout",
          "output_type": "stream",
          "text": [
            "## Earth\n",
            "\n",
            "## Solar System\n",
            "\n",
            "Our solar system is a vast and fascinating expanse, comprising eight planets, five dwarf planets, numerous moons, asteroids, comets, and other celestial bodies. At its center lies the star we call the Sun.\n",
            "\n",
            "For more details about our Solar system see Chapter 1.\n",
            "\n",
            "## Earth\n",
            "\n",
            "Earth is the third planet from the Sun. It's our home planet. Earth is the only place we know of with life.\n",
            "\n",
            "Basic facts about Earth:\n",
            "\n",
            "- · Distance from the Sun: Average of 149.6 million kilometers (93 million miles)\n",
            "- • Moons: One moon, called Luna or simply 'the Moon'.\n",
            "- • Rotation Period: 24 hours (one day)\n"
          ]
        }
      ],
      "source": [
        "print (output_df[output_df['filename'] == 'earth.pdf'].iloc[0,]['contents'])"
      ]
    },
    {
      "cell_type": "markdown",
      "metadata": {
        "id": "1MOLQtmABx2d"
      },
      "source": [
        "## Step-5: Document Quality\n",
        "\n",
        "This handy plugin will score documents across many metrics.\n",
        "\n",
        "Here we will look for 'bad words' metric.\n",
        "\n",
        "[Document quality documentation](https://github.com/IBM/data-prep-kit/tree/dev/transforms/language/doc_quality)\n",
        "\n",
        "By default it uses [bad words collection](https://github.com/IBM/data-prep-kit/tree/dev/transforms/language/doc_quality/dpk_doc_quality/ldnoobw).  You can supply a custom file by passing an argument `bad_word_filepath=/path/to/badwords_file`"
      ]
    },
    {
      "cell_type": "markdown",
      "metadata": {
        "id": "lmgT_PTcBx2d"
      },
      "source": [
        "### 5.1 - Execute"
      ]
    },
    {
      "cell_type": "code",
      "execution_count": 33,
      "metadata": {
        "colab": {
          "base_uri": "https://localhost:8080/"
        },
        "id": "lOsuBMmBBx2e",
        "outputId": "19e0b957-2714-4fec-9b24-60e21c1a7eb5"
      },
      "outputs": [
        {
          "name": "stdout",
          "output_type": "stream",
          "text": [
            "🏃🏼 STAGE-5: Processing input='output/01_pdf2pq_out' --> output='output/02_docq_out'\n",
            "\n"
          ]
        },
        {
          "name": "stderr",
          "output_type": "stream",
          "text": [
            "13:15:14 INFO - doc_quality parameters are : {'text_lang': 'en', 'doc_content_column': 'contents', 'bad_word_filepath': '/home/sujee/apps/anaconda3/envs/dpk-3-pdf-processing-r1.1.0-py3.11/lib/python3.11/site-packages/dpk_doc_quality/ldnoobw/en', 's3_cred': None, 'docq_data_factory': <data_processing.data_access.data_access_factory.DataAccessFactory object at 0x74e4a5c9a590>}\n",
            "13:15:14 INFO - data factory docq_ is using local configuration without input/output path\n",
            "13:15:14 INFO - data factory docq_ max_files -1, n_sample -1\n",
            "13:15:14 INFO - data factory docq_ Not using data sets, checkpointing False, max files -1, random samples -1, files to use ['.parquet'], files to checkpoint ['.parquet']\n",
            "13:15:14 INFO - pipeline id pipeline_id\n",
            "13:15:14 INFO - code location None\n",
            "13:15:14 INFO - data factory data_ is using local data access: input_folder - output/01_pdf2pq_out output_folder - output/02_docq_out\n",
            "13:15:14 INFO - data factory data_ max_files -1, n_sample -1\n",
            "13:15:14 INFO - data factory data_ Not using data sets, checkpointing False, max files -1, random samples -1, files to use ['.parquet'], files to checkpoint ['.parquet']\n",
            "13:15:14 INFO - orchestrator docq started at 2025-03-26 13:15:14\n",
            "13:15:14 INFO - Number of files is 3, source profile {'max_file_size': 0.009415626525878906, 'min_file_size': 0.005534172058105469, 'total_file_size': 0.020740509033203125}\n",
            "13:15:14 INFO - Load badwords found locally from /home/sujee/apps/anaconda3/envs/dpk-3-pdf-processing-r1.1.0-py3.11/lib/python3.11/site-packages/dpk_doc_quality/ldnoobw/en\n",
            "13:15:14 INFO - Completed 1 files (33.33%) in 0.0 min\n",
            "13:15:14 INFO - Completed 2 files (66.67%) in 0.0 min\n",
            "13:15:14 INFO - Completed 3 files (100.0%) in 0.0 min\n",
            "13:15:14 INFO - Done processing 3 files, waiting for flush() completion.\n",
            "13:15:14 INFO - done flushing in 0.0 sec\n",
            "13:15:14 INFO - Completed execution in 0.0 min, execution result 0\n"
          ]
        },
        {
          "name": "stdout",
          "output_type": "stream",
          "text": [
            "✅ Stage:5 completed successfully\n",
            "CPU times: user 27.9 ms, sys: 0 ns, total: 27.9 ms\n",
            "Wall time: 23.3 ms\n"
          ]
        }
      ],
      "source": [
        "%%time\n",
        "\n",
        "from dpk_doc_quality.transform_python import DocQuality\n",
        "\n",
        "STAGE = 5\n",
        "print (f\"🏃🏼 STAGE-{STAGE}: Processing input='{output_pdf2pq_dir}' --> output='{output_docquality_dir}'\\n\", flush=True)\n",
        "\n",
        "result = DocQuality(input_folder=output_pdf2pq_dir,\n",
        "                    output_folder= output_docquality_dir,\n",
        "                    docq_text_lang = \"en\",\n",
        "                    docq_doc_content_column =\"contents\",\n",
        "                    ).transform()\n",
        "\n",
        "if result == 0:\n",
        "    print (f\"✅ Stage:{STAGE} completed successfully\")\n",
        "else:\n",
        "    raise Exception (f\"❌ Stage:{STAGE}  failed (result={result})\")"
      ]
    },
    {
      "cell_type": "markdown",
      "metadata": {
        "id": "5x3hhR5GBx2e"
      },
      "source": [
        "### 5.2 - Inspect the Output\n",
        "\n",
        "We will see several new columns starting with the name **docq_**.\n",
        "\n",
        "Look at the column **docq_contain_bad_word**; this will flag documents with 'bad words'.\n",
        "\n",
        "Also inspect the column **docq_lorem_ipsum_ratio**; this will flag documents with 'lorem ipsum' text\n",
        "\n",
        "For more information see : [Doc Quality documentation](https://github.com/IBM/data-prep-kit/tree/dev/transforms/language/doc_quality)"
      ]
    },
    {
      "cell_type": "code",
      "execution_count": 34,
      "metadata": {
        "colab": {
          "base_uri": "https://localhost:8080/",
          "height": 385
        },
        "id": "oyJd-IPRBx2e",
        "outputId": "dc599848-aa7e-4e55-85ff-8ab57cd5a9df"
      },
      "outputs": [
        {
          "name": "stdout",
          "output_type": "stream",
          "text": [
            "Successfully read 3 parquet files with 3 total rows\n",
            "Displaying contents of :  output/02_docq_out\n"
          ]
        },
        {
          "data": {
            "text/html": [
              "<div>\n",
              "<style scoped>\n",
              "    .dataframe tbody tr th:only-of-type {\n",
              "        vertical-align: middle;\n",
              "    }\n",
              "\n",
              "    .dataframe tbody tr th {\n",
              "        vertical-align: top;\n",
              "    }\n",
              "\n",
              "    .dataframe thead th {\n",
              "        text-align: right;\n",
              "    }\n",
              "</style>\n",
              "<table border=\"1\" class=\"dataframe\">\n",
              "  <thead>\n",
              "    <tr style=\"text-align: right;\">\n",
              "      <th></th>\n",
              "      <th>filename</th>\n",
              "      <th>contents</th>\n",
              "      <th>num_pages</th>\n",
              "      <th>num_tables</th>\n",
              "      <th>num_doc_elements</th>\n",
              "      <th>document_id</th>\n",
              "      <th>document_hash</th>\n",
              "      <th>ext</th>\n",
              "      <th>hash</th>\n",
              "      <th>size</th>\n",
              "      <th>...</th>\n",
              "      <th>docq_mean_word_len</th>\n",
              "      <th>docq_symbol_to_word_ratio</th>\n",
              "      <th>docq_sentence_count</th>\n",
              "      <th>docq_lorem_ipsum_ratio</th>\n",
              "      <th>docq_curly_bracket_ratio</th>\n",
              "      <th>docq_contain_bad_word</th>\n",
              "      <th>docq_bullet_point_ratio</th>\n",
              "      <th>docq_ellipsis_line_ratio</th>\n",
              "      <th>docq_alphabet_word_ratio</th>\n",
              "      <th>docq_contain_common_en_words</th>\n",
              "    </tr>\n",
              "  </thead>\n",
              "  <tbody>\n",
              "    <tr>\n",
              "      <th>0</th>\n",
              "      <td>lorem-ipsum.pdf</td>\n",
              "      <td>Lorem ipsum\\n\\nLorem ipsum\\n\\nLorem ipsum</td>\n",
              "      <td>1</td>\n",
              "      <td>0</td>\n",
              "      <td>4</td>\n",
              "      <td>4272a5ab-2bb1-4285-822e-4af57ef3c23b</td>\n",
              "      <td>50660627009040522</td>\n",
              "      <td>pdf</td>\n",
              "      <td>b3c09cf4b822dda90dbfee0c4b358dec8ecfec78df91c9...</td>\n",
              "      <td>37</td>\n",
              "      <td>...</td>\n",
              "      <td>5.000000</td>\n",
              "      <td>0.000000</td>\n",
              "      <td>1</td>\n",
              "      <td>0.085714</td>\n",
              "      <td>0.0</td>\n",
              "      <td>False</td>\n",
              "      <td>0.000000</td>\n",
              "      <td>0.0</td>\n",
              "      <td>1.000000</td>\n",
              "      <td>False</td>\n",
              "    </tr>\n",
              "    <tr>\n",
              "      <th>1</th>\n",
              "      <td>spam.pdf</td>\n",
              "      <td>Free xxx</td>\n",
              "      <td>1</td>\n",
              "      <td>0</td>\n",
              "      <td>2</td>\n",
              "      <td>c5710d45-e4cb-45b7-b847-293ad3707d4c</td>\n",
              "      <td>5577338085393325113</td>\n",
              "      <td>pdf</td>\n",
              "      <td>543ffc97aef373ee009a5f908e0358ef80d329ca7ba964...</td>\n",
              "      <td>8</td>\n",
              "      <td>...</td>\n",
              "      <td>3.500000</td>\n",
              "      <td>0.000000</td>\n",
              "      <td>1</td>\n",
              "      <td>0.000000</td>\n",
              "      <td>0.0</td>\n",
              "      <td>True</td>\n",
              "      <td>0.000000</td>\n",
              "      <td>0.0</td>\n",
              "      <td>1.000000</td>\n",
              "      <td>False</td>\n",
              "    </tr>\n",
              "    <tr>\n",
              "      <th>2</th>\n",
              "      <td>earth.pdf</td>\n",
              "      <td>## Earth\\n\\n## Solar System\\n\\nOur solar syste...</td>\n",
              "      <td>1</td>\n",
              "      <td>0</td>\n",
              "      <td>11</td>\n",
              "      <td>99cf439b-7ecb-4127-bdcc-1b231c23d600</td>\n",
              "      <td>17915699055171962696</td>\n",
              "      <td>pdf</td>\n",
              "      <td>3766e7a7dfb15354f2a8c77e43db4cfa40d4627f921126...</td>\n",
              "      <td>611</td>\n",
              "      <td>...</td>\n",
              "      <td>4.550459</td>\n",
              "      <td>0.027523</td>\n",
              "      <td>9</td>\n",
              "      <td>0.000000</td>\n",
              "      <td>0.0</td>\n",
              "      <td>False</td>\n",
              "      <td>0.176471</td>\n",
              "      <td>0.0</td>\n",
              "      <td>0.880734</td>\n",
              "      <td>True</td>\n",
              "    </tr>\n",
              "  </tbody>\n",
              "</table>\n",
              "<p>3 rows × 24 columns</p>\n",
              "</div>"
            ],
            "text/plain": [
              "          filename                                           contents  \\\n",
              "0  lorem-ipsum.pdf          Lorem ipsum\\n\\nLorem ipsum\\n\\nLorem ipsum   \n",
              "1         spam.pdf                                           Free xxx   \n",
              "2        earth.pdf  ## Earth\\n\\n## Solar System\\n\\nOur solar syste...   \n",
              "\n",
              "   num_pages  num_tables  num_doc_elements  \\\n",
              "0          1           0                 4   \n",
              "1          1           0                 2   \n",
              "2          1           0                11   \n",
              "\n",
              "                            document_id         document_hash  ext  \\\n",
              "0  4272a5ab-2bb1-4285-822e-4af57ef3c23b     50660627009040522  pdf   \n",
              "1  c5710d45-e4cb-45b7-b847-293ad3707d4c   5577338085393325113  pdf   \n",
              "2  99cf439b-7ecb-4127-bdcc-1b231c23d600  17915699055171962696  pdf   \n",
              "\n",
              "                                                hash  size  ...  \\\n",
              "0  b3c09cf4b822dda90dbfee0c4b358dec8ecfec78df91c9...    37  ...   \n",
              "1  543ffc97aef373ee009a5f908e0358ef80d329ca7ba964...     8  ...   \n",
              "2  3766e7a7dfb15354f2a8c77e43db4cfa40d4627f921126...   611  ...   \n",
              "\n",
              "  docq_mean_word_len  docq_symbol_to_word_ratio docq_sentence_count  \\\n",
              "0           5.000000                   0.000000                   1   \n",
              "1           3.500000                   0.000000                   1   \n",
              "2           4.550459                   0.027523                   9   \n",
              "\n",
              "   docq_lorem_ipsum_ratio  docq_curly_bracket_ratio  docq_contain_bad_word  \\\n",
              "0                0.085714                       0.0                  False   \n",
              "1                0.000000                       0.0                   True   \n",
              "2                0.000000                       0.0                  False   \n",
              "\n",
              "   docq_bullet_point_ratio  docq_ellipsis_line_ratio  \\\n",
              "0                 0.000000                       0.0   \n",
              "1                 0.000000                       0.0   \n",
              "2                 0.176471                       0.0   \n",
              "\n",
              "   docq_alphabet_word_ratio  docq_contain_common_en_words  \n",
              "0                  1.000000                         False  \n",
              "1                  1.000000                         False  \n",
              "2                  0.880734                          True  \n",
              "\n",
              "[3 rows x 24 columns]"
            ]
          },
          "execution_count": 34,
          "metadata": {},
          "output_type": "execute_result"
        }
      ],
      "source": [
        "from file_utils import read_parquet_files_as_df\n",
        "output_df = read_parquet_files_as_df(output_docquality_dir)\n",
        "print (\"Displaying contents of : \", output_docquality_dir)\n",
        "output_df.head()"
      ]
    },
    {
      "cell_type": "markdown",
      "metadata": {
        "id": "dhlY-MxRBx2f"
      },
      "source": [
        "## Step-6 - Filtering 'quality' documents\n",
        "\n",
        "So from the output above we see **spam.pdf** is flagged for containing bad words (**docq_contain_bad_word=True**).\n",
        "\n",
        "Also **lorem.pdf** is flagged for place holder content **lorem ipsum**  (**docq_lorem_ipsum_ratio > 0**)\n",
        "\n",
        "We are going to filter them both out"
      ]
    },
    {
      "cell_type": "code",
      "execution_count": 35,
      "metadata": {
        "colab": {
          "base_uri": "https://localhost:8080/",
          "height": 217
        },
        "id": "EDEz-sEdBx2f",
        "outputId": "35eecf0c-2411-45b4-cb92-4f43e74592bc"
      },
      "outputs": [
        {
          "name": "stdout",
          "output_type": "stream",
          "text": [
            "Successfully read 3 parquet files with 3 total rows\n"
          ]
        },
        {
          "data": {
            "text/html": [
              "<div>\n",
              "<style scoped>\n",
              "    .dataframe tbody tr th:only-of-type {\n",
              "        vertical-align: middle;\n",
              "    }\n",
              "\n",
              "    .dataframe tbody tr th {\n",
              "        vertical-align: top;\n",
              "    }\n",
              "\n",
              "    .dataframe thead th {\n",
              "        text-align: right;\n",
              "    }\n",
              "</style>\n",
              "<table border=\"1\" class=\"dataframe\">\n",
              "  <thead>\n",
              "    <tr style=\"text-align: right;\">\n",
              "      <th></th>\n",
              "      <th>filename</th>\n",
              "      <th>contents</th>\n",
              "      <th>num_pages</th>\n",
              "      <th>num_tables</th>\n",
              "      <th>num_doc_elements</th>\n",
              "      <th>document_id</th>\n",
              "      <th>document_hash</th>\n",
              "      <th>ext</th>\n",
              "      <th>hash</th>\n",
              "      <th>size</th>\n",
              "      <th>...</th>\n",
              "      <th>docq_mean_word_len</th>\n",
              "      <th>docq_symbol_to_word_ratio</th>\n",
              "      <th>docq_sentence_count</th>\n",
              "      <th>docq_lorem_ipsum_ratio</th>\n",
              "      <th>docq_curly_bracket_ratio</th>\n",
              "      <th>docq_contain_bad_word</th>\n",
              "      <th>docq_bullet_point_ratio</th>\n",
              "      <th>docq_ellipsis_line_ratio</th>\n",
              "      <th>docq_alphabet_word_ratio</th>\n",
              "      <th>docq_contain_common_en_words</th>\n",
              "    </tr>\n",
              "  </thead>\n",
              "  <tbody>\n",
              "    <tr>\n",
              "      <th>2</th>\n",
              "      <td>earth.pdf</td>\n",
              "      <td>## Earth\\n\\n## Solar System\\n\\nOur solar syste...</td>\n",
              "      <td>1</td>\n",
              "      <td>0</td>\n",
              "      <td>11</td>\n",
              "      <td>99cf439b-7ecb-4127-bdcc-1b231c23d600</td>\n",
              "      <td>17915699055171962696</td>\n",
              "      <td>pdf</td>\n",
              "      <td>3766e7a7dfb15354f2a8c77e43db4cfa40d4627f921126...</td>\n",
              "      <td>611</td>\n",
              "      <td>...</td>\n",
              "      <td>4.550459</td>\n",
              "      <td>0.027523</td>\n",
              "      <td>9</td>\n",
              "      <td>0.0</td>\n",
              "      <td>0.0</td>\n",
              "      <td>False</td>\n",
              "      <td>0.176471</td>\n",
              "      <td>0.0</td>\n",
              "      <td>0.880734</td>\n",
              "      <td>True</td>\n",
              "    </tr>\n",
              "  </tbody>\n",
              "</table>\n",
              "<p>1 rows × 24 columns</p>\n",
              "</div>"
            ],
            "text/plain": [
              "    filename                                           contents  num_pages  \\\n",
              "2  earth.pdf  ## Earth\\n\\n## Solar System\\n\\nOur solar syste...          1   \n",
              "\n",
              "   num_tables  num_doc_elements                           document_id  \\\n",
              "2           0                11  99cf439b-7ecb-4127-bdcc-1b231c23d600   \n",
              "\n",
              "          document_hash  ext  \\\n",
              "2  17915699055171962696  pdf   \n",
              "\n",
              "                                                hash  size  ...  \\\n",
              "2  3766e7a7dfb15354f2a8c77e43db4cfa40d4627f921126...   611  ...   \n",
              "\n",
              "  docq_mean_word_len  docq_symbol_to_word_ratio docq_sentence_count  \\\n",
              "2           4.550459                   0.027523                   9   \n",
              "\n",
              "   docq_lorem_ipsum_ratio  docq_curly_bracket_ratio  docq_contain_bad_word  \\\n",
              "2                     0.0                       0.0                  False   \n",
              "\n",
              "   docq_bullet_point_ratio  docq_ellipsis_line_ratio  \\\n",
              "2                 0.176471                       0.0   \n",
              "\n",
              "   docq_alphabet_word_ratio  docq_contain_common_en_words  \n",
              "2                  0.880734                          True  \n",
              "\n",
              "[1 rows x 24 columns]"
            ]
          },
          "execution_count": 35,
          "metadata": {},
          "output_type": "execute_result"
        }
      ],
      "source": [
        "all_docs_df = read_parquet_files_as_df(output_docquality_dir)\n",
        "\n",
        "# remove documents with badwords\n",
        "clean_docs_df = all_docs_df[all_docs_df['docq_contain_bad_word'] == False]\n",
        "\n",
        "# also filter out 'lorem ipsum' text\n",
        "clean_docs_df = clean_docs_df[clean_docs_df['docq_lorem_ipsum_ratio'] == 0]\n",
        "\n",
        "clean_docs_df.head(10)"
      ]
    },
    {
      "cell_type": "markdown",
      "metadata": {
        "id": "vqRhROr-xcg4"
      },
      "source": [
        "## Step-7: Save as MD"
      ]
    },
    {
      "cell_type": "code",
      "execution_count": 36,
      "metadata": {
        "colab": {
          "base_uri": "https://localhost:8080/"
        },
        "id": "Ls262snN4gFe",
        "outputId": "dfecb539-8dad-45a3-e1a9-ebf72f72731b"
      },
      "outputs": [
        {
          "name": "stdout",
          "output_type": "stream",
          "text": [
            "✅ Saved CLEAN markdown output to 'output/03_md'\n"
          ]
        }
      ],
      "source": [
        "for index, row in clean_docs_df.iterrows():\n",
        "    output_file_name = os.path.join (output_md_dir, row['filename'] + '.md')\n",
        "    with open(output_file_name, 'w') as output_file:\n",
        "        output_file.write(row['contents'])\n",
        "\n",
        "print (f\"✅ Saved CLEAN markdown output to '{output_md_dir}'\")"
      ]
    }
  ],
  "metadata": {
    "colab": {
      "provenance": []
    },
    "kernelspec": {
      "display_name": "dpk-3-pdf-processing-r1.1.0-py3.11",
      "language": "python",
      "name": "python3"
    },
    "language_info": {
      "codemirror_mode": {
        "name": "ipython",
        "version": 3
      },
      "file_extension": ".py",
      "mimetype": "text/x-python",
      "name": "python",
      "nbconvert_exporter": "python",
      "pygments_lexer": "ipython3",
      "version": "3.11.11"
    }
  },
  "nbformat": 4,
  "nbformat_minor": 0
}
