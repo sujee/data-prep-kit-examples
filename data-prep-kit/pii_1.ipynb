{
  "cells": [
    {
      "cell_type": "markdown",
      "metadata": {
        "id": "1P1TkZJNxcgr"
      },
      "source": [
        "# DPK Example: Remove Personally Identifiable Information (PII)\n",
        "\n",
        " [![Open In Colab](https://colab.research.google.com/assets/colab-badge.svg)](https://colab.research.google.com/github/sujee/data-prep-kit-examples/blob/main/data-prep-kit/pii_1.ipynb)\n",
        "\n",
        " This notebook will illustrate how we can use Data Prep Kit's  [PII Redactor transform](https://github.com/data-prep-kit/data-prep-kit/tree/dev/transforms/language/pii_redactor) to remove peronally identifiable information (PII) from documents.\n",
        "\n",
        " References and credits\n",
        "\n",
        " - https://github.com/data-prep-kit/data-prep-kit/tree/dev/transforms/language/pii_redactor\n",
        " - https://github.com/data-prep-kit/data-prep-kit/blob/dev/examples/notebooks/PII/Run_your_first_PII_redactor_transform.ipynb\n",
        "  "
      ]
    },
    {
      "cell_type": "markdown",
      "metadata": {
        "id": "t9JSyFA9xcgu"
      },
      "source": [
        "## Step-1: Figure out Runtime Environment\n",
        "\n",
        "### 1.1 - Determine runtime\n",
        "\n",
        "Determine if we are running on Google colab or local python environment"
      ]
    },
    {
      "cell_type": "code",
      "execution_count": 1,
      "metadata": {
        "colab": {
          "base_uri": "https://localhost:8080/"
        },
        "id": "2-3VsdJNxcgv",
        "outputId": "d159f0bf-e56c-497a-a500-8ed65952cea0"
      },
      "outputs": [
        {
          "name": "stdout",
          "output_type": "stream",
          "text": [
            "NOT in Colab\n"
          ]
        }
      ],
      "source": [
        "import os\n",
        "\n",
        "if os.getenv(\"COLAB_RELEASE_TAG\"):\n",
        "   print(\"Running in Colab\")\n",
        "   RUNNING_IN_COLAB = True\n",
        "else:\n",
        "   print(\"NOT in Colab\")\n",
        "   RUNNING_IN_COLAB = False"
      ]
    },
    {
      "cell_type": "markdown",
      "metadata": {
        "id": "wAzj7p9Gxcgx"
      },
      "source": [
        "### 1.2 - Install dependencies if running on Google Colab"
      ]
    },
    {
      "cell_type": "code",
      "execution_count": 2,
      "metadata": {
        "colab": {
          "base_uri": "https://localhost:8080/"
        },
        "id": "_eGv5q6Excgz",
        "outputId": "9d9dca64-aa0b-4fc5-d141-afdf85eb09df"
      },
      "outputs": [],
      "source": [
        "## Download any code files we may need\n",
        "\n",
        "if RUNNING_IN_COLAB:\n",
        "    !wget -O 'file_utils.py'   'https://raw.githubusercontent.com/sujee/data-prep-kit-examples/main/data-prep-kit/file_utils.py'"
      ]
    },
    {
      "cell_type": "code",
      "execution_count": 3,
      "metadata": {
        "id": "-1y00Npcxcgx"
      },
      "outputs": [],
      "source": [
        "%%capture\n",
        "# %%time\n",
        "\n",
        "import os\n",
        "\n",
        "if RUNNING_IN_COLAB:\n",
        "  # setup a sandbox env to avoid conflicts with colab libraries\n",
        "  !pip install -q condacolab\n",
        "  import condacolab\n",
        "  condacolab.install()\n",
        "\n",
        "  !conda create -n my_env python=3.11 -y\n",
        "  !conda activate my_env\n",
        "  !pip install  --default-timeout=100  \\\n",
        "        data-prep-toolkit-transforms[all]==1.1.0 \\\n",
        "        humanfriendly\n",
        "  # terminate the current kernel, so we restart the runtime\n",
        "  os.kill(os.getpid(), 9)\n",
        "  ## restart the session"
      ]
    },
    {
      "cell_type": "markdown",
      "metadata": {
        "id": "qF_a2lnnxcgy"
      },
      "source": [
        "### 1.3 - Restart Runtime\n",
        "\n",
        "After installing dependencies, you may want to <font color=\"red\">restart runtime</font>, so libraries will be loaded\n",
        "\n",
        "You do this by going to **`Runtime --> Restart Session`**\n",
        "\n",
        "Then you can continue to the next step (no need to re-run the notebook)"
      ]
    },
    {
      "cell_type": "markdown",
      "metadata": {
        "id": "H4IpxhpAxcgy"
      },
      "source": [
        "## Step-2: Configuration  & Utils"
      ]
    },
    {
      "cell_type": "markdown",
      "metadata": {
        "id": "LR23Gplqxcgy"
      },
      "source": [
        "### 2.1 - Basic Config"
      ]
    },
    {
      "cell_type": "code",
      "execution_count": 4,
      "metadata": {
        "colab": {
          "base_uri": "https://localhost:8080/"
        },
        "id": "2w2ppGvvxcgz",
        "outputId": "0c5d2c07-5a05-43a4-f483-cb19bb697ed1"
      },
      "outputs": [
        {
          "name": "stdout",
          "output_type": "stream",
          "text": [
            "NOT in Colab\n"
          ]
        }
      ],
      "source": [
        "import os\n",
        "\n",
        "if os.getenv(\"COLAB_RELEASE_TAG\"):\n",
        "   print(\"Running in Colab\")\n",
        "   RUNNING_IN_COLAB = True\n",
        "else:\n",
        "   print(\"NOT in Colab\")\n",
        "   RUNNING_IN_COLAB = False"
      ]
    },
    {
      "cell_type": "markdown",
      "metadata": {
        "id": "4PfIa1CRxcg0"
      },
      "source": [
        "### 2.2 - Setup input/outpur directories"
      ]
    },
    {
      "cell_type": "code",
      "execution_count": 5,
      "metadata": {
        "id": "cnD-i_fAxcg0"
      },
      "outputs": [],
      "source": [
        "## setup path to utils folder\n",
        "import sys\n",
        "sys.path.append('../utils')"
      ]
    },
    {
      "cell_type": "code",
      "execution_count": 6,
      "metadata": {
        "id": "0LMI8DEHxcg0"
      },
      "outputs": [],
      "source": [
        "# If connection to https://huggingface.co/ failed, uncomment the following path\n",
        "import os\n",
        "os.environ['HF_ENDPOINT'] = 'https://hf-mirror.com'"
      ]
    },
    {
      "cell_type": "code",
      "execution_count": 7,
      "metadata": {
        "colab": {
          "base_uri": "https://localhost:8080/"
        },
        "id": "CPW05bBlxcg1",
        "outputId": "50d637a1-7bc0-479e-dcfe-b273357c7e88"
      },
      "outputs": [
        {
          "name": "stdout",
          "output_type": "stream",
          "text": [
            "✅ Cleared output directory\n"
          ]
        }
      ],
      "source": [
        "import os, sys\n",
        "import shutil\n",
        "\n",
        "if RUNNING_IN_COLAB:\n",
        "    input_dir = \"input/\"\n",
        "    shutil.os.makedirs(input_dir, exist_ok=True)\n",
        "else:\n",
        "    input_dir = \"../data/pii/\"\n",
        "\n",
        "output_dir = \"output\"\n",
        "output_pdf2pq_dir = os.path.join (output_dir, '01_pdf2pq_out')\n",
        "output_pii_dir = os.path.join (output_dir, '02_pii_out')\n",
        "output_md_dir = os.path.join (output_dir, \"03_md\")\n",
        "\n",
        "\n",
        "## clear output folder\n",
        "shutil.rmtree(output_dir, ignore_errors=True)\n",
        "shutil.os.makedirs(output_dir, exist_ok=True)\n",
        "shutil.os.makedirs(output_md_dir, exist_ok=True)\n",
        "print (\"✅ Cleared output directory\")"
      ]
    },
    {
      "cell_type": "markdown",
      "metadata": {
        "id": "_YId4EeKxcg1"
      },
      "source": [
        "## Step-3: Inspect the Data\n",
        "\n",
        "We will use invoice PDF.  The files are [here](https://github.com/sujee/data-prep-kit-examples/tree/main/data/invoices)\n",
        "\n",
        "- [invoice-3.pdf](https://raw.githubusercontent.com/sujee/data-prep-kit-examples/main/data/invoices/invoice-3.pdf)"
      ]
    },
    {
      "cell_type": "markdown",
      "metadata": {
        "id": "yBoclRj-xcg1"
      },
      "source": [
        "### 3.1 -Download Data"
      ]
    },
    {
      "cell_type": "code",
      "execution_count": 8,
      "metadata": {
        "colab": {
          "base_uri": "https://localhost:8080/"
        },
        "id": "4Vqt87h8xcg2",
        "outputId": "e27d63ce-b14a-44e5-e18f-81c2ff9ac59d"
      },
      "outputs": [
        {
          "name": "stdout",
          "output_type": "stream",
          "text": [
            "input :  ../data/pii/\n"
          ]
        }
      ],
      "source": [
        "from file_utils import download_file\n",
        "\n",
        "if RUNNING_IN_COLAB:\n",
        "    download_file ('https://raw.githubusercontent.com/sujee/data-prep-kit-examples/main/data/pii/invoice-3.pdf', os.path.join(input_dir, 'invoice-3.pdf'))\n",
        "else:\n",
        "    print ('input : ', input_dir)"
      ]
    },
    {
      "cell_type": "markdown",
      "metadata": {
        "id": "gHAE9V51xcg2"
      },
      "source": [
        "## Step-4: Extract Data from PDF (pdf2parquet)\n",
        "\n",
        "This step we will read PDF files and extract the text data.\n",
        "\n",
        "[Pdf2Parquet documentation](https://github.com/IBM/data-prep-kit/blob/dev/transforms/language/pdf2parquet/README.md)\n",
        "\n",
        "We use the [Docling package](https://github.com/DS4SD/docling).\n"
      ]
    },
    {
      "cell_type": "code",
      "execution_count": 9,
      "metadata": {
        "colab": {
          "base_uri": "https://localhost:8080/"
        },
        "id": "NtaYiY71xcg2",
        "outputId": "5ba2e543-3069-43cf-9a22-f16b181affd6"
      },
      "outputs": [
        {
          "name": "stdout",
          "output_type": "stream",
          "text": [
            "🏃🏼 Processing input='../data/pii/' --> output='output/01_pdf2pq_out'\n",
            "\n"
          ]
        },
        {
          "name": "stderr",
          "output_type": "stream",
          "text": [
            "22:32:07 INFO - pdf2parquet parameters are : {'batch_size': -1, 'artifacts_path': None, 'contents_type': <pdf2parquet_contents_types.MARKDOWN: 'text/markdown'>, 'do_table_structure': True, 'do_ocr': True, 'ocr_engine': <pdf2parquet_ocr_engine.EASYOCR: 'easyocr'>, 'bitmap_area_threshold': 0.05, 'pdf_backend': <pdf2parquet_pdf_backend.DLPARSE_V2: 'dlparse_v2'>, 'double_precision': 8}\n",
            "22:32:07 INFO - pipeline id pipeline_id\n",
            "22:32:07 INFO - code location None\n",
            "22:32:07 INFO - data factory data_ is using local data access: input_folder - ../data/pii/ output_folder - output/01_pdf2pq_out\n",
            "22:32:07 INFO - data factory data_ max_files -1, n_sample -1\n",
            "22:32:07 INFO - data factory data_ Not using data sets, checkpointing False, max files -1, random samples -1, files to use ['.pdf'], files to checkpoint ['.parquet']\n",
            "22:32:07 INFO - orchestrator pdf2parquet started at 2025-03-25 22:32:07\n",
            "22:32:07 INFO - Number of files is 1, source profile {'max_file_size': 0.03161430358886719, 'min_file_size': 0.03161430358886719, 'total_file_size': 0.03161430358886719}\n",
            "22:32:07 INFO - Initializing models\n",
            "Could not load the custom kernel for multi-scale deformable attention: Error building extension 'MultiScaleDeformableAttention': [1/3] /usr/bin/nvcc --generate-dependencies-with-compile --dependency-output ms_deform_attn_cuda.cuda.o.d -ccbin /home/sujee/apps/anaconda3/bin/x86_64-conda-linux-gnu-cc -DTORCH_EXTENSION_NAME=MultiScaleDeformableAttention -DTORCH_API_INCLUDE_EXTENSION_H -DPYBIND11_COMPILER_TYPE=\\\"_gcc\\\" -DPYBIND11_STDLIB=\\\"_libstdcpp\\\" -DPYBIND11_BUILD_ABI=\\\"_cxxabi1011\\\" -I/home/sujee/apps/anaconda3/envs/dpk-3-pdf-processing-r1.1.0-py3.11/lib/python3.11/site-packages/transformers/kernels/deformable_detr -isystem /home/sujee/apps/anaconda3/envs/dpk-3-pdf-processing-r1.1.0-py3.11/lib/python3.11/site-packages/torch/include -isystem /home/sujee/apps/anaconda3/envs/dpk-3-pdf-processing-r1.1.0-py3.11/lib/python3.11/site-packages/torch/include/torch/csrc/api/include -isystem /home/sujee/apps/anaconda3/envs/dpk-3-pdf-processing-r1.1.0-py3.11/lib/python3.11/site-packages/torch/include/TH -isystem /home/sujee/apps/anaconda3/envs/dpk-3-pdf-processing-r1.1.0-py3.11/lib/python3.11/site-packages/torch/include/THC -isystem /home/sujee/apps/anaconda3/envs/dpk-3-pdf-processing-r1.1.0-py3.11/include/python3.11 -D_GLIBCXX_USE_CXX11_ABI=0 -D__CUDA_NO_HALF_OPERATORS__ -D__CUDA_NO_HALF_CONVERSIONS__ -D__CUDA_NO_BFLOAT16_CONVERSIONS__ -D__CUDA_NO_HALF2_OPERATORS__ --expt-relaxed-constexpr -gencode=arch=compute_86,code=compute_86 -gencode=arch=compute_86,code=sm_86 --compiler-options '-fPIC' -DCUDA_HAS_FP16=1 -D__CUDA_NO_HALF_OPERATORS__ -D__CUDA_NO_HALF_CONVERSIONS__ -D__CUDA_NO_HALF2_OPERATORS__ -std=c++17 -c /home/sujee/apps/anaconda3/envs/dpk-3-pdf-processing-r1.1.0-py3.11/lib/python3.11/site-packages/transformers/kernels/deformable_detr/cuda/ms_deform_attn_cuda.cu -o ms_deform_attn_cuda.cuda.o \n",
            "\u001b[31mFAILED: \u001b[0mms_deform_attn_cuda.cuda.o \n",
            "/usr/bin/nvcc --generate-dependencies-with-compile --dependency-output ms_deform_attn_cuda.cuda.o.d -ccbin /home/sujee/apps/anaconda3/bin/x86_64-conda-linux-gnu-cc -DTORCH_EXTENSION_NAME=MultiScaleDeformableAttention -DTORCH_API_INCLUDE_EXTENSION_H -DPYBIND11_COMPILER_TYPE=\\\"_gcc\\\" -DPYBIND11_STDLIB=\\\"_libstdcpp\\\" -DPYBIND11_BUILD_ABI=\\\"_cxxabi1011\\\" -I/home/sujee/apps/anaconda3/envs/dpk-3-pdf-processing-r1.1.0-py3.11/lib/python3.11/site-packages/transformers/kernels/deformable_detr -isystem /home/sujee/apps/anaconda3/envs/dpk-3-pdf-processing-r1.1.0-py3.11/lib/python3.11/site-packages/torch/include -isystem /home/sujee/apps/anaconda3/envs/dpk-3-pdf-processing-r1.1.0-py3.11/lib/python3.11/site-packages/torch/include/torch/csrc/api/include -isystem /home/sujee/apps/anaconda3/envs/dpk-3-pdf-processing-r1.1.0-py3.11/lib/python3.11/site-packages/torch/include/TH -isystem /home/sujee/apps/anaconda3/envs/dpk-3-pdf-processing-r1.1.0-py3.11/lib/python3.11/site-packages/torch/include/THC -isystem /home/sujee/apps/anaconda3/envs/dpk-3-pdf-processing-r1.1.0-py3.11/include/python3.11 -D_GLIBCXX_USE_CXX11_ABI=0 -D__CUDA_NO_HALF_OPERATORS__ -D__CUDA_NO_HALF_CONVERSIONS__ -D__CUDA_NO_BFLOAT16_CONVERSIONS__ -D__CUDA_NO_HALF2_OPERATORS__ --expt-relaxed-constexpr -gencode=arch=compute_86,code=compute_86 -gencode=arch=compute_86,code=sm_86 --compiler-options '-fPIC' -DCUDA_HAS_FP16=1 -D__CUDA_NO_HALF_OPERATORS__ -D__CUDA_NO_HALF_CONVERSIONS__ -D__CUDA_NO_HALF2_OPERATORS__ -std=c++17 -c /home/sujee/apps/anaconda3/envs/dpk-3-pdf-processing-r1.1.0-py3.11/lib/python3.11/site-packages/transformers/kernels/deformable_detr/cuda/ms_deform_attn_cuda.cu -o ms_deform_attn_cuda.cuda.o \n",
            "/bin/sh: 1: /usr/bin/nvcc: not found\n",
            "[2/3] /home/sujee/apps/anaconda3/bin/x86_64-conda-linux-gnu-c++ -MMD -MF ms_deform_attn_cpu.o.d -DTORCH_EXTENSION_NAME=MultiScaleDeformableAttention -DTORCH_API_INCLUDE_EXTENSION_H -DPYBIND11_COMPILER_TYPE=\\\"_gcc\\\" -DPYBIND11_STDLIB=\\\"_libstdcpp\\\" -DPYBIND11_BUILD_ABI=\\\"_cxxabi1011\\\" -I/home/sujee/apps/anaconda3/envs/dpk-3-pdf-processing-r1.1.0-py3.11/lib/python3.11/site-packages/transformers/kernels/deformable_detr -isystem /home/sujee/apps/anaconda3/envs/dpk-3-pdf-processing-r1.1.0-py3.11/lib/python3.11/site-packages/torch/include -isystem /home/sujee/apps/anaconda3/envs/dpk-3-pdf-processing-r1.1.0-py3.11/lib/python3.11/site-packages/torch/include/torch/csrc/api/include -isystem /home/sujee/apps/anaconda3/envs/dpk-3-pdf-processing-r1.1.0-py3.11/lib/python3.11/site-packages/torch/include/TH -isystem /home/sujee/apps/anaconda3/envs/dpk-3-pdf-processing-r1.1.0-py3.11/lib/python3.11/site-packages/torch/include/THC -isystem /home/sujee/apps/anaconda3/envs/dpk-3-pdf-processing-r1.1.0-py3.11/include/python3.11 -D_GLIBCXX_USE_CXX11_ABI=0 -fPIC -std=c++17 -DWITH_CUDA=1 -c /home/sujee/apps/anaconda3/envs/dpk-3-pdf-processing-r1.1.0-py3.11/lib/python3.11/site-packages/transformers/kernels/deformable_detr/cpu/ms_deform_attn_cpu.cpp -o ms_deform_attn_cpu.o \n",
            "\u001b[31mFAILED: \u001b[0mms_deform_attn_cpu.o \n",
            "/home/sujee/apps/anaconda3/bin/x86_64-conda-linux-gnu-c++ -MMD -MF ms_deform_attn_cpu.o.d -DTORCH_EXTENSION_NAME=MultiScaleDeformableAttention -DTORCH_API_INCLUDE_EXTENSION_H -DPYBIND11_COMPILER_TYPE=\\\"_gcc\\\" -DPYBIND11_STDLIB=\\\"_libstdcpp\\\" -DPYBIND11_BUILD_ABI=\\\"_cxxabi1011\\\" -I/home/sujee/apps/anaconda3/envs/dpk-3-pdf-processing-r1.1.0-py3.11/lib/python3.11/site-packages/transformers/kernels/deformable_detr -isystem /home/sujee/apps/anaconda3/envs/dpk-3-pdf-processing-r1.1.0-py3.11/lib/python3.11/site-packages/torch/include -isystem /home/sujee/apps/anaconda3/envs/dpk-3-pdf-processing-r1.1.0-py3.11/lib/python3.11/site-packages/torch/include/torch/csrc/api/include -isystem /home/sujee/apps/anaconda3/envs/dpk-3-pdf-processing-r1.1.0-py3.11/lib/python3.11/site-packages/torch/include/TH -isystem /home/sujee/apps/anaconda3/envs/dpk-3-pdf-processing-r1.1.0-py3.11/lib/python3.11/site-packages/torch/include/THC -isystem /home/sujee/apps/anaconda3/envs/dpk-3-pdf-processing-r1.1.0-py3.11/include/python3.11 -D_GLIBCXX_USE_CXX11_ABI=0 -fPIC -std=c++17 -DWITH_CUDA=1 -c /home/sujee/apps/anaconda3/envs/dpk-3-pdf-processing-r1.1.0-py3.11/lib/python3.11/site-packages/transformers/kernels/deformable_detr/cpu/ms_deform_attn_cpu.cpp -o ms_deform_attn_cpu.o \n",
            "In file included from /home/sujee/apps/anaconda3/envs/dpk-3-pdf-processing-r1.1.0-py3.11/lib/python3.11/site-packages/torch/include/ATen/cuda/CUDAContext.h:3,\n",
            "                 from /home/sujee/apps/anaconda3/envs/dpk-3-pdf-processing-r1.1.0-py3.11/lib/python3.11/site-packages/transformers/kernels/deformable_detr/cpu/ms_deform_attn_cpu.cpp:14:\n",
            "/home/sujee/apps/anaconda3/envs/dpk-3-pdf-processing-r1.1.0-py3.11/lib/python3.11/site-packages/torch/include/ATen/cuda/CUDAContextLight.h:6:10: fatal error: cuda_runtime_api.h: No such file or directory\n",
            "    6 | #include <cuda_runtime_api.h>\n",
            "      |          ^~~~~~~~~~~~~~~~~~~~\n",
            "compilation terminated.\n",
            "ninja: build stopped: subcommand failed.\n",
            "\n",
            "Could not load the custom kernel for multi-scale deformable attention: /home/sujee/.cache/torch_extensions/py311_cu124/MultiScaleDeformableAttention/MultiScaleDeformableAttention.so: cannot open shared object file: No such file or directory\n",
            "Could not load the custom kernel for multi-scale deformable attention: /home/sujee/.cache/torch_extensions/py311_cu124/MultiScaleDeformableAttention/MultiScaleDeformableAttention.so: cannot open shared object file: No such file or directory\n",
            "Could not load the custom kernel for multi-scale deformable attention: /home/sujee/.cache/torch_extensions/py311_cu124/MultiScaleDeformableAttention/MultiScaleDeformableAttention.so: cannot open shared object file: No such file or directory\n",
            "Could not load the custom kernel for multi-scale deformable attention: /home/sujee/.cache/torch_extensions/py311_cu124/MultiScaleDeformableAttention/MultiScaleDeformableAttention.so: cannot open shared object file: No such file or directory\n",
            "Could not load the custom kernel for multi-scale deformable attention: /home/sujee/.cache/torch_extensions/py311_cu124/MultiScaleDeformableAttention/MultiScaleDeformableAttention.so: cannot open shared object file: No such file or directory\n",
            "22:32:13 INFO - Completed 1 files (100.0%) in 0.018 min\n",
            "22:32:13 INFO - Done processing 1 files, waiting for flush() completion.\n",
            "22:32:13 INFO - done flushing in 0.0 sec\n",
            "22:32:13 INFO - Completed execution in 0.104 min, execution result 0\n"
          ]
        },
        {
          "name": "stdout",
          "output_type": "stream",
          "text": [
            "✅ Operation completed successfully\n",
            "CPU times: user 7.73 s, sys: 1.41 s, total: 9.15 s\n",
            "Wall time: 10.9 s\n"
          ]
        }
      ],
      "source": [
        "%%time\n",
        "\n",
        "from dpk_pdf2parquet.transform_python import Pdf2Parquet\n",
        "from dpk_pdf2parquet.transform import pdf2parquet_contents_types\n",
        "\n",
        "print (f\"🏃🏼 Processing input='{input_dir}' --> output='{output_pdf2pq_dir}'\\n\", flush=True)\n",
        "\n",
        "result = Pdf2Parquet(input_folder= input_dir,\n",
        "                    output_folder= output_pdf2pq_dir,\n",
        "                    data_files_to_use=['.pdf'],\n",
        "                    pdf2parquet_contents_type=pdf2parquet_contents_types.MARKDOWN,   # markdown\n",
        "                    ).transform()\n",
        "\n",
        "if result == 0:\n",
        "    print (f\"✅ Operation completed successfully\")\n",
        "else:\n",
        "    raise Exception (f\"❌ Operation  failed\")"
      ]
    },
    {
      "cell_type": "markdown",
      "metadata": {
        "id": "Eraaot-5xcg2"
      },
      "source": [
        "### 4.2 - Inspect Generated output\n"
      ]
    },
    {
      "cell_type": "code",
      "execution_count": 10,
      "metadata": {
        "colab": {
          "base_uri": "https://localhost:8080/",
          "height": 189
        },
        "id": "_9WmfE8Uxcg3",
        "outputId": "444889ce-006f-4428-d518-e64c31b837db"
      },
      "outputs": [
        {
          "name": "stdout",
          "output_type": "stream",
          "text": [
            "Displaying contents of :  output/01_pdf2pq_out\n",
            "Successfully read 1 parquet files with 1 total rows\n"
          ]
        },
        {
          "data": {
            "text/html": [
              "<div>\n",
              "<style scoped>\n",
              "    .dataframe tbody tr th:only-of-type {\n",
              "        vertical-align: middle;\n",
              "    }\n",
              "\n",
              "    .dataframe tbody tr th {\n",
              "        vertical-align: top;\n",
              "    }\n",
              "\n",
              "    .dataframe thead th {\n",
              "        text-align: right;\n",
              "    }\n",
              "</style>\n",
              "<table border=\"1\" class=\"dataframe\">\n",
              "  <thead>\n",
              "    <tr style=\"text-align: right;\">\n",
              "      <th></th>\n",
              "      <th>filename</th>\n",
              "      <th>contents</th>\n",
              "      <th>num_pages</th>\n",
              "      <th>num_tables</th>\n",
              "      <th>num_doc_elements</th>\n",
              "      <th>document_id</th>\n",
              "      <th>document_hash</th>\n",
              "      <th>ext</th>\n",
              "      <th>hash</th>\n",
              "      <th>size</th>\n",
              "      <th>date_acquired</th>\n",
              "      <th>pdf_convert_time</th>\n",
              "      <th>source_filename</th>\n",
              "    </tr>\n",
              "  </thead>\n",
              "  <tbody>\n",
              "    <tr>\n",
              "      <th>0</th>\n",
              "      <td>invoice-3.pdf</td>\n",
              "      <td>## INVOICE\\n\\nApple Inc.\\n\\nInvoice Details:\\n...</td>\n",
              "      <td>2</td>\n",
              "      <td>1</td>\n",
              "      <td>26</td>\n",
              "      <td>9ca5e70e-7494-49e5-ba5a-1c90597cffd5</td>\n",
              "      <td>4603599332662865930</td>\n",
              "      <td>pdf</td>\n",
              "      <td>c826f7ef2880228f98fec86be400d018710d335706bef2...</td>\n",
              "      <td>1063</td>\n",
              "      <td>2025-03-25T22:32:13.489930</td>\n",
              "      <td>1.078686</td>\n",
              "      <td>invoice-3.pdf</td>\n",
              "    </tr>\n",
              "  </tbody>\n",
              "</table>\n",
              "</div>"
            ],
            "text/plain": [
              "        filename                                           contents  \\\n",
              "0  invoice-3.pdf  ## INVOICE\\n\\nApple Inc.\\n\\nInvoice Details:\\n...   \n",
              "\n",
              "   num_pages  num_tables  num_doc_elements  \\\n",
              "0          2           1                26   \n",
              "\n",
              "                            document_id        document_hash  ext  \\\n",
              "0  9ca5e70e-7494-49e5-ba5a-1c90597cffd5  4603599332662865930  pdf   \n",
              "\n",
              "                                                hash  size  \\\n",
              "0  c826f7ef2880228f98fec86be400d018710d335706bef2...  1063   \n",
              "\n",
              "                date_acquired  pdf_convert_time source_filename  \n",
              "0  2025-03-25T22:32:13.489930          1.078686   invoice-3.pdf  "
            ]
          },
          "execution_count": 10,
          "metadata": {},
          "output_type": "execute_result"
        }
      ],
      "source": [
        "from file_utils import read_parquet_files_as_df\n",
        "\n",
        "print (\"Displaying contents of : \", output_pdf2pq_dir)\n",
        "output_df = read_parquet_files_as_df(output_pdf2pq_dir)\n",
        "output_df\n"
      ]
    },
    {
      "cell_type": "code",
      "execution_count": 11,
      "metadata": {
        "colab": {
          "base_uri": "https://localhost:8080/"
        },
        "id": "4LmsMfRFxcg3",
        "outputId": "473ad80f-457c-440a-aa8b-18b72360ade8"
      },
      "outputs": [
        {
          "name": "stdout",
          "output_type": "stream",
          "text": [
            "## INVOICE\n",
            "\n",
            "Apple Inc.\n",
            "\n",
            "Invoice Details:\n",
            "\n",
            "Invoice Number: INV-2024-001\n",
            "\n",
            "Invoice Date: November 15, 2024\n",
            "\n",
            "Due Date: November 30, 2024\n",
            "\n",
            "Billing Information:\n",
            "\n",
            "Customer Name: John Doe\n",
            "\n",
            "Address: 123 Elm Street, Apt 45, Springfield, IL 62704\n",
            "\n",
            "Email: john.doe@example.com\n",
            "\n",
            "Phone: +1-312-555-7890\n",
            "\n",
            "Shipping Information:\n",
            "\n",
            "Recipient Name: John Doe\n",
            "\n",
            "Address: 123 Elm Street, Apt 45, Springfield, IL 62704\n",
            "\n",
            "## Item Details:\n",
            "\n",
            "| Description               | Quantity   | Unit Price   | Total                               |\n",
            "|---------------------------|------------|--------------|-------------------------------------|\n",
            "| MacBook Air (13-inch, M2) | 1          | $999.00      | $999.00                             |\n",
            "| 1                         |            | $199.00      | AppleCare+ for MacBook Air  $199.00 |\n",
            "\n",
            "Payment Method: Credit Card (Visa)\n",
            "\n",
            "Transaction ID: 9876543210ABCDE\n",
            "\n",
            "Notes:\n",
            "\n",
            "Thank you for your purchase!\n",
            "\n",
            "For assistance, please contact our support team at support@apple.com or 1-800-MY-APPLE.\n",
            "\n",
            "Subtotal:\n",
            "\n",
            "$1,198.00\n",
            "\n",
            "Tax (8%):\n",
            "\n",
            "$95.84\n",
            "\n",
            "Total Amount Due:\n",
            "\n",
            "$1,293.84\n"
          ]
        }
      ],
      "source": [
        "print (output_df[output_df['filename'] == 'invoice-3.pdf'].iloc[0,]['contents'])"
      ]
    },
    {
      "cell_type": "markdown",
      "metadata": {
        "id": "UyrWPiZ7xcg3"
      },
      "source": [
        "## Step-5: PII Redactor\n",
        "\n",
        "[PII Documentation](https://github.com/data-prep-kit/data-prep-kit/blob/dev/transforms/language/pii_redactor/)\n",
        "\n",
        "Entities are detected using [Spacy](https://spacy.io/)\n",
        "\n",
        "**Configure the transform parameters.**\n",
        "\n",
        "`--pii_redactor_entities PII_ENTITIES` : list of PII entities to be captured for example: [\"PERSON\", \"EMAIL\"]\n",
        "\n",
        "Supported entities:\n",
        "\n",
        "- PERSON: Names of individuals\n",
        "- EMAIL_ADDRESS: Email addresses\n",
        "- ORGANIZATION: Names of organizations\n",
        "- DATE_TIME: Dates and times\n",
        "- PHONE_NUMBER: Phone number\n",
        "- CREDIT_CARD: Credit card numbers\n",
        "- More [entities](https://microsoft.github.io/presidio/supported_entities/)\n",
        "\n",
        "`--pii_redactor_operator REDACTOR_OPERATOR` : Two redaction techniques are supported - replace(default), redact\n",
        "\n",
        "`--pii_redactor_transformed_contents PII_TRANSFORMED_CONTENT_COLUMN_NAME`: Mention the column name in which transformed contents will be added. This is required argument.\n",
        "\n",
        "`--pii_redactor_score_threshold SCORE_THRESHOLD`: The score_threshold is a parameter that sets the minimum confidence score required for an entity to be considered a match. Provide a value above 0.6"
      ]
    },
    {
      "cell_type": "code",
      "execution_count": 12,
      "metadata": {
        "colab": {
          "base_uri": "https://localhost:8080/"
        },
        "id": "Fnae1e30xcg3",
        "outputId": "f62399e2-94e4-4a3d-a883-177c18ac2a06"
      },
      "outputs": [
        {
          "name": "stderr",
          "output_type": "stream",
          "text": [
            "22:32:14 INFO - pipeline id pipeline_id\n",
            "22:32:14 INFO - code location None\n",
            "22:32:14 INFO - data factory data_ is using local data access: input_folder - output/01_pdf2pq_out output_folder - output/02_pii_out\n",
            "22:32:14 INFO - data factory data_ max_files -1, n_sample -1\n",
            "22:32:14 INFO - data factory data_ Not using data sets, checkpointing False, max files -1, random samples -1, files to use ['.parquet'], files to checkpoint ['.parquet']\n",
            "22:32:14 INFO - orchestrator pii_redactor started at 2025-03-25 22:32:14\n",
            "22:32:14 INFO - Number of files is 1, source profile {'max_file_size': 0.012164115905761719, 'min_file_size': 0.012164115905761719, 'total_file_size': 0.012164115905761719}\n",
            "22:32:14 INFO - Loading model from flair/ner-english-large\n"
          ]
        },
        {
          "name": "stdout",
          "output_type": "stream",
          "text": [
            "2025-03-25 22:32:24,688 SequenceTagger predicts: Dictionary with 20 tags: <unk>, O, S-ORG, S-MISC, B-PER, E-PER, S-LOC, B-ORG, E-ORG, I-PER, S-PER, B-MISC, I-MISC, E-MISC, I-ORG, B-LOC, E-LOC, I-LOC, <START>, <STOP>\n"
          ]
        },
        {
          "name": "stderr",
          "output_type": "stream",
          "text": [
            "22:32:25 INFO - Completed 1 files (100.0%) in 0.002 min\n",
            "22:32:25 INFO - Done processing 1 files, waiting for flush() completion.\n",
            "22:32:25 INFO - done flushing in 0.0 sec\n",
            "22:32:25 INFO - Completed execution in 0.19 min, execution result 0\n"
          ]
        },
        {
          "name": "stdout",
          "output_type": "stream",
          "text": [
            "✅ Operation completed successfully\n"
          ]
        }
      ],
      "source": [
        "from dpk_pii_redactor.transform_python import PIIRedactor\n",
        "\n",
        "result = PIIRedactor(input_folder=output_pdf2pq_dir,\n",
        "            output_folder= output_pii_dir,\n",
        "            pii_redactor_entities = [\"PERSON\", \"EMAIL_ADDRESS\", \"PHONE_NUMBER\", \"LOCATION\" ],\n",
        "            pii_redactor_operator = \"replace\",\n",
        "            pii_redactor_transformed_contents = \"redacted_contents\").transform()\n",
        "\n",
        "if result == 0:\n",
        "    print (f\"✅ Operation completed successfully\")\n",
        "else:\n",
        "    raise Exception (f\"❌ Operation  failed\")"
      ]
    },
    {
      "cell_type": "markdown",
      "metadata": {
        "id": "xJ0jpaFOxcg4"
      },
      "source": [
        "### 5.2 - Inspect Generated output\n",
        "\n",
        "Let's see the output"
      ]
    },
    {
      "cell_type": "code",
      "execution_count": 13,
      "metadata": {
        "colab": {
          "base_uri": "https://localhost:8080/",
          "height": 206
        },
        "id": "cTQymlusxcg4",
        "outputId": "9c0fdc5f-d49c-4755-b3ad-5fdf68cd19af"
      },
      "outputs": [
        {
          "name": "stdout",
          "output_type": "stream",
          "text": [
            "Displaying contents of :  output/02_pii_out\n",
            "Successfully read 1 parquet files with 1 total rows\n"
          ]
        },
        {
          "data": {
            "text/html": [
              "<div>\n",
              "<style scoped>\n",
              "    .dataframe tbody tr th:only-of-type {\n",
              "        vertical-align: middle;\n",
              "    }\n",
              "\n",
              "    .dataframe tbody tr th {\n",
              "        vertical-align: top;\n",
              "    }\n",
              "\n",
              "    .dataframe thead th {\n",
              "        text-align: right;\n",
              "    }\n",
              "</style>\n",
              "<table border=\"1\" class=\"dataframe\">\n",
              "  <thead>\n",
              "    <tr style=\"text-align: right;\">\n",
              "      <th></th>\n",
              "      <th>detected_pii</th>\n",
              "      <th>redacted_contents</th>\n",
              "      <th>filename</th>\n",
              "      <th>contents</th>\n",
              "      <th>num_pages</th>\n",
              "      <th>num_tables</th>\n",
              "      <th>num_doc_elements</th>\n",
              "      <th>document_id</th>\n",
              "      <th>document_hash</th>\n",
              "      <th>ext</th>\n",
              "      <th>hash</th>\n",
              "      <th>size</th>\n",
              "      <th>date_acquired</th>\n",
              "      <th>pdf_convert_time</th>\n",
              "      <th>source_filename</th>\n",
              "    </tr>\n",
              "  </thead>\n",
              "  <tbody>\n",
              "    <tr>\n",
              "      <th>0</th>\n",
              "      <td>[PERSON, LOCATION, LOCATION, LOCATION, EMAIL_A...</td>\n",
              "      <td>## INVOICE\\n\\nApple Inc.\\n\\nInvoice Details:\\n...</td>\n",
              "      <td>invoice-3.pdf</td>\n",
              "      <td>## INVOICE\\n\\nApple Inc.\\n\\nInvoice Details:\\n...</td>\n",
              "      <td>2</td>\n",
              "      <td>1</td>\n",
              "      <td>26</td>\n",
              "      <td>9ca5e70e-7494-49e5-ba5a-1c90597cffd5</td>\n",
              "      <td>4603599332662865930</td>\n",
              "      <td>pdf</td>\n",
              "      <td>c826f7ef2880228f98fec86be400d018710d335706bef2...</td>\n",
              "      <td>1063</td>\n",
              "      <td>2025-03-25T22:32:13.489930</td>\n",
              "      <td>1.078686</td>\n",
              "      <td>invoice-3.pdf</td>\n",
              "    </tr>\n",
              "  </tbody>\n",
              "</table>\n",
              "</div>"
            ],
            "text/plain": [
              "                                        detected_pii  \\\n",
              "0  [PERSON, LOCATION, LOCATION, LOCATION, EMAIL_A...   \n",
              "\n",
              "                                   redacted_contents       filename  \\\n",
              "0  ## INVOICE\\n\\nApple Inc.\\n\\nInvoice Details:\\n...  invoice-3.pdf   \n",
              "\n",
              "                                            contents  num_pages  num_tables  \\\n",
              "0  ## INVOICE\\n\\nApple Inc.\\n\\nInvoice Details:\\n...          2           1   \n",
              "\n",
              "   num_doc_elements                           document_id  \\\n",
              "0                26  9ca5e70e-7494-49e5-ba5a-1c90597cffd5   \n",
              "\n",
              "         document_hash  ext  \\\n",
              "0  4603599332662865930  pdf   \n",
              "\n",
              "                                                hash  size  \\\n",
              "0  c826f7ef2880228f98fec86be400d018710d335706bef2...  1063   \n",
              "\n",
              "                date_acquired  pdf_convert_time source_filename  \n",
              "0  2025-03-25T22:32:13.489930          1.078686   invoice-3.pdf  "
            ]
          },
          "execution_count": 13,
          "metadata": {},
          "output_type": "execute_result"
        }
      ],
      "source": [
        "from file_utils import read_parquet_files_as_df\n",
        "\n",
        "print (\"Displaying contents of : \", output_pii_dir)\n",
        "output_df = read_parquet_files_as_df(output_pii_dir)\n",
        "output_df\n"
      ]
    },
    {
      "cell_type": "code",
      "execution_count": 14,
      "metadata": {
        "colab": {
          "base_uri": "https://localhost:8080/"
        },
        "id": "f2VzmOzGxcg4",
        "outputId": "8c1e1a07-d773-40d4-ca35-5112137bc53d"
      },
      "outputs": [
        {
          "name": "stdout",
          "output_type": "stream",
          "text": [
            "## INVOICE\n",
            "\n",
            "Apple Inc.\n",
            "\n",
            "Invoice Details:\n",
            "\n",
            "Invoice Number: INV-2024-001\n",
            "\n",
            "Invoice Date: November 15, 2024\n",
            "\n",
            "Due Date: November 30, 2024\n",
            "\n",
            "Billing Information:\n",
            "\n",
            "Customer Name: <PERSON>\n",
            "\n",
            "Address: 123 <LOCATION>, Apt 45, <LOCATION>, <LOCATION> 62704\n",
            "\n",
            "Email: <EMAIL_ADDRESS>\n",
            "\n",
            "Phone: <PHONE_NUMBER>\n",
            "\n",
            "Shipping Information:\n",
            "\n",
            "Recipient Name: <PERSON>\n",
            "\n",
            "Address: 123 <LOCATION>, Apt 45, <LOCATION>, <LOCATION> 62704\n",
            "\n",
            "## Item Details:\n",
            "\n",
            "| Description               | Quantity   | Unit Price   | Total                               |\n",
            "|---------------------------|------------|--------------|-------------------------------------|\n",
            "| MacBook Air (13-inch, M2) | 1          | $999.00      | $999.00                             |\n",
            "| 1                         |            | $199.00      | AppleCare+ for MacBook Air  $199.00 |\n",
            "\n",
            "Payment Method: Credit Card (Visa)\n",
            "\n",
            "Transaction ID: 9876543210ABCDE\n",
            "\n",
            "Notes:\n",
            "\n",
            "Thank you for your purchase!\n",
            "\n",
            "For assistance, please contact our support team at <EMAIL_ADDRESS> or 1-800-MY-APPLE.\n",
            "\n",
            "Subtotal:\n",
            "\n",
            "$1,198.00\n",
            "\n",
            "Tax (8%):\n",
            "\n",
            "$95.84\n",
            "\n",
            "Total Amount Due:\n",
            "\n",
            "$1,293.84\n"
          ]
        }
      ],
      "source": [
        "print (output_df[output_df['filename'] == 'invoice-3.pdf'].iloc[0,]['redacted_contents'])"
      ]
    },
    {
      "cell_type": "markdown",
      "metadata": {
        "id": "vqRhROr-xcg4"
      },
      "source": [
        "## Step-6: Save as MD"
      ]
    },
    {
      "cell_type": "code",
      "execution_count": 15,
      "metadata": {
        "colab": {
          "base_uri": "https://localhost:8080/"
        },
        "id": "Ls262snN4gFe",
        "outputId": "30bc53ca-d3c1-466d-9748-76bdb4969a35"
      },
      "outputs": [
        {
          "name": "stdout",
          "output_type": "stream",
          "text": [
            "Successfully read 1 parquet files with 1 total rows\n",
            "✅ Saved CLEAN markdown output to 'output/03_md'\n"
          ]
        }
      ],
      "source": [
        "## save markdown text\n",
        "from file_utils import read_parquet_files_as_df\n",
        "\n",
        "df = read_parquet_files_as_df(output_pii_dir)\n",
        "\n",
        "for index, row in df.iterrows():\n",
        "    output_file_name = os.path.join (output_md_dir, row['filename'] + '.txt')\n",
        "    with open(output_file_name, 'w') as output_file:\n",
        "        output_file.write(row['redacted_contents'])\n",
        "\n",
        "print (f\"✅ Saved CLEAN markdown output to '{output_md_dir}'\")"
      ]
    }
  ],
  "metadata": {
    "colab": {
      "provenance": []
    },
    "kernelspec": {
      "display_name": "dpk-3-pdf-processing-r1.1.0-py3.11",
      "language": "python",
      "name": "python3"
    },
    "language_info": {
      "codemirror_mode": {
        "name": "ipython",
        "version": 3
      },
      "file_extension": ".py",
      "mimetype": "text/x-python",
      "name": "python",
      "nbconvert_exporter": "python",
      "pygments_lexer": "ipython3",
      "version": "3.11.11"
    }
  },
  "nbformat": 4,
  "nbformat_minor": 0
}
