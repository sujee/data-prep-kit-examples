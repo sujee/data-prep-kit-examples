{
 "cells": [
  {
   "cell_type": "markdown",
   "metadata": {},
   "source": [
    "# Data Prep Kit Intro - Quick start\n",
    "\n",
    "Let's get started with DPK - and read some PDF files"
   ]
  },
  {
   "cell_type": "markdown",
   "metadata": {},
   "source": [
    "## Step-1: Figure out Runtime Environment\n",
    "\n",
    "### 1.1 - Determine runtime\n",
    "\n",
    "Determine if we are running on Google colab or local python environment"
   ]
  },
  {
   "cell_type": "code",
   "execution_count": 1,
   "metadata": {},
   "outputs": [
    {
     "name": "stdout",
     "output_type": "stream",
     "text": [
      "NOT in Colab\n"
     ]
    }
   ],
   "source": [
    "import os\n",
    "\n",
    "if os.getenv(\"COLAB_RELEASE_TAG\"):\n",
    "   print(\"Running in Colab\")\n",
    "   RUNNING_IN_COLAB = True\n",
    "else:\n",
    "   print(\"NOT in Colab\")\n",
    "   RUNNING_IN_COLAB = False"
   ]
  },
  {
   "cell_type": "markdown",
   "metadata": {},
   "source": [
    "### 1.2 - Install dependencies if running on Google Colab"
   ]
  },
  {
   "cell_type": "code",
   "execution_count": 2,
   "metadata": {},
   "outputs": [],
   "source": [
    "%%capture\n",
    "\n",
    "if RUNNING_IN_COLAB:\n",
    "    ! pip install  --default-timeout=100  \\\n",
    "        data-prep-toolkit-transforms[pdf2parquet]==1.0.0\n"
   ]
  },
  {
   "cell_type": "markdown",
   "metadata": {},
   "source": [
    "## Step-2: Settings / Config"
   ]
  },
  {
   "cell_type": "code",
   "execution_count": 3,
   "metadata": {},
   "outputs": [],
   "source": [
    "# If connection to https://huggingface.co/ failed, uncomment the following path\n",
    "import os\n",
    "os.environ['HF_ENDPOINT'] = 'https://hf-mirror.com'"
   ]
  },
  {
   "cell_type": "code",
   "execution_count": 4,
   "metadata": {},
   "outputs": [],
   "source": [
    "## Setup input / output dir\n",
    "import shutil\n",
    "\n",
    "shutil.os.makedirs('input', exist_ok=True)\n",
    "\n",
    "shutil.rmtree('output', ignore_errors=True)\n",
    "shutil.os.makedirs('output', exist_ok=True)\n",
    "shutil.os.makedirs('output/md', exist_ok=True)\n",
    "shutil.os.makedirs('output/pq', exist_ok=True)"
   ]
  },
  {
   "cell_type": "code",
   "execution_count": 5,
   "metadata": {},
   "outputs": [],
   "source": [
    "import pandas as pd\n",
    "import glob\n",
    "\n",
    "## Reads parquet files in a folder into a pandas dataframe\n",
    "def read_parquet_files_as_df (parquet_dir):\n",
    "    parquet_files = glob.glob(f'{parquet_dir}/*.parquet')\n",
    "    # read each parquet file into a DataFrame and store in a list\n",
    "    dfs = [pd.read_parquet (f) for f in parquet_files]\n",
    "    dfs = [df for df in dfs if not df.empty]  # filter out empty dataframes\n",
    "    # Concatenate all DataFrames into a single DataFrame\n",
    "    if len(dfs) > 0:\n",
    "        data_df = pd.concat(dfs, ignore_index=True)\n",
    "        return data_df\n",
    "    else:\n",
    "        return pd.DataFrame() # return empty df\n",
    "# ------------"
   ]
  },
  {
   "cell_type": "markdown",
   "metadata": {},
   "source": [
    "## Step-3: Checkout Data files\n",
    "\n",
    "We will use simple PDFs.  The files are [here](https://github.com/sujee/data-prep-kit-examples/tree/main/data)\n",
    "\n",
    "\n",
    "\n"
   ]
  },
  {
   "cell_type": "code",
   "execution_count": 6,
   "metadata": {},
   "outputs": [],
   "source": [
    "if RUNNING_IN_COLAB:\n",
    "    input_dir = 'input'\n",
    "    !wget -O  'input/earth.pdf' 'https://raw.githubusercontent.com/sujee/data-prep-kit-examples/main/data/solar-system/earth.pdf'\n",
    "    !wget -O  'input/mars.pdf' 'https://raw.githubusercontent.com/sujee/data-prep-kit-examples/main/data/solar-system/mars.pdf'\n",
    "    !wget -O  'input/solar-system-overview.pdf' 'https://raw.githubusercontent.com/sujee/data-prep-kit-examples/main/data/solar-system/solar-system-overview.pdf'\n",
    "else:\n",
    "    input_dir = '../data/solar-system/'\n",
    "    "
   ]
  },
  {
   "cell_type": "markdown",
   "metadata": {},
   "source": [
    "## Step-4: Extract Text from PDF\n",
    "\n",
    "This step we will read PDF files and extract the text data.\n",
    "\n",
    "[Pdf2Parquet documentation](https://github.com/IBM/data-prep-kit/blob/dev/transforms/language/pdf2parquet/README.md)\n",
    "\n",
    "We use the [Docling package](https://github.com/DS4SD/docling)."
   ]
  },
  {
   "cell_type": "markdown",
   "metadata": {},
   "source": [
    "### 4.1 - Execute"
   ]
  },
  {
   "cell_type": "code",
   "execution_count": 7,
   "metadata": {},
   "outputs": [
    {
     "name": "stderr",
     "output_type": "stream",
     "text": [
      "23:20:45 INFO - pdf2parquet parameters are : {'batch_size': -1, 'artifacts_path': None, 'contents_type': <pdf2parquet_contents_types.MARKDOWN: 'text/markdown'>, 'do_table_structure': True, 'do_ocr': True, 'ocr_engine': <pdf2parquet_ocr_engine.EASYOCR: 'easyocr'>, 'bitmap_area_threshold': 0.05, 'pdf_backend': <pdf2parquet_pdf_backend.DLPARSE_V2: 'dlparse_v2'>, 'double_precision': 8}\n",
      "23:20:45 INFO - pipeline id pipeline_id\n",
      "23:20:45 INFO - code location None\n",
      "23:20:45 INFO - data factory data_ is using local data access: input_folder - ../data/solar-system/ output_folder - output/pq\n",
      "23:20:45 INFO - data factory data_ max_files -1, n_sample -1\n",
      "23:20:45 INFO - data factory data_ Not using data sets, checkpointing False, max files -1, random samples -1, files to use ['.pdf'], files to checkpoint ['.parquet']\n",
      "23:20:45 INFO - orchestrator pdf2parquet started at 2025-01-29 23:20:45\n",
      "23:20:45 INFO - Number of files is 4, source profile {'max_file_size': 0.05775737762451172, 'min_file_size': 0.0551910400390625, 'total_file_size': 0.2245950698852539}\n",
      "23:20:45 INFO - Initializing models\n"
     ]
    },
    {
     "data": {
      "application/vnd.jupyter.widget-view+json": {
       "model_id": "dc898a6c46a84fac8f4bbf5531d9c472",
       "version_major": 2,
       "version_minor": 0
      },
      "text/plain": [
       "Fetching 9 files:   0%|          | 0/9 [00:00<?, ?it/s]"
      ]
     },
     "metadata": {},
     "output_type": "display_data"
    },
    {
     "name": "stderr",
     "output_type": "stream",
     "text": [
      "23:20:49 INFO - Completed 1 files (25.0%) in 0.017 min\n",
      "23:20:50 INFO - Completed 2 files (50.0%) in 0.031 min\n",
      "23:20:51 INFO - Completed 3 files (75.0%) in 0.042 min\n",
      "23:20:53 INFO - Completed 4 files (100.0%) in 0.077 min\n",
      "23:20:53 INFO - Done processing 4 files, waiting for flush() completion.\n",
      "23:20:53 INFO - done flushing in 0.0 sec\n",
      "23:20:53 INFO - Completed execution in 0.139 min, execution result 0\n"
     ]
    },
    {
     "name": "stdout",
     "output_type": "stream",
     "text": [
      "✅ Success!\n",
      "CPU times: user 19.3 s, sys: 2.01 s, total: 21.3 s\n",
      "Wall time: 11.4 s\n"
     ]
    }
   ],
   "source": [
    "%%time\n",
    "\n",
    "from dpk_pdf2parquet.transform_python import Pdf2Parquet\n",
    "from dpk_pdf2parquet.transform import pdf2parquet_contents_types\n",
    "\n",
    "result = Pdf2Parquet(input_folder= input_dir,\n",
    "                    output_folder= \"output/pq\",\n",
    "                    data_files_to_use=['.pdf'],\n",
    "                    pdf2parquet_contents_type=pdf2parquet_contents_types.MARKDOWN,   # markdown\n",
    "                    ).transform()\n",
    "\n",
    "if result == 0:\n",
    "    print (f\"✅ Success!\")\n",
    "else:\n",
    "    raise Exception (f\"❌ Failed\")"
   ]
  },
  {
   "cell_type": "markdown",
   "metadata": {},
   "source": [
    "### 4.2 - Inspect Generated output\n",
    "\n",
    "Here we should see one entry per input file processed."
   ]
  },
  {
   "cell_type": "code",
   "execution_count": 8,
   "metadata": {},
   "outputs": [
    {
     "data": {
      "text/html": [
       "<div>\n",
       "<style scoped>\n",
       "    .dataframe tbody tr th:only-of-type {\n",
       "        vertical-align: middle;\n",
       "    }\n",
       "\n",
       "    .dataframe tbody tr th {\n",
       "        vertical-align: top;\n",
       "    }\n",
       "\n",
       "    .dataframe thead th {\n",
       "        text-align: right;\n",
       "    }\n",
       "</style>\n",
       "<table border=\"1\" class=\"dataframe\">\n",
       "  <thead>\n",
       "    <tr style=\"text-align: right;\">\n",
       "      <th></th>\n",
       "      <th>filename</th>\n",
       "      <th>contents</th>\n",
       "      <th>num_pages</th>\n",
       "      <th>num_tables</th>\n",
       "      <th>num_doc_elements</th>\n",
       "      <th>document_id</th>\n",
       "      <th>document_hash</th>\n",
       "      <th>ext</th>\n",
       "      <th>hash</th>\n",
       "      <th>size</th>\n",
       "      <th>date_acquired</th>\n",
       "      <th>pdf_convert_time</th>\n",
       "      <th>source_filename</th>\n",
       "    </tr>\n",
       "  </thead>\n",
       "  <tbody>\n",
       "    <tr>\n",
       "      <th>0</th>\n",
       "      <td>solar-system-overview.pdf</td>\n",
       "      <td>## Solar System\\n\\n| Planet   | Distance from ...</td>\n",
       "      <td>2</td>\n",
       "      <td>3</td>\n",
       "      <td>4</td>\n",
       "      <td>23cf296c-8b64-4b1c-b809-c1754d27efb9</td>\n",
       "      <td>13478721415333026623</td>\n",
       "      <td>pdf</td>\n",
       "      <td>3fa3a3d372ee03f02b37267a012560052323655cd60451...</td>\n",
       "      <td>3111</td>\n",
       "      <td>2025-01-29T23:20:53.487661</td>\n",
       "      <td>2.131391</td>\n",
       "      <td>solar-system-overview.pdf</td>\n",
       "    </tr>\n",
       "    <tr>\n",
       "      <th>1</th>\n",
       "      <td>mars.pdf</td>\n",
       "      <td>## Mars\\n\\n## Solar System\\n\\nOur solar system...</td>\n",
       "      <td>1</td>\n",
       "      <td>0</td>\n",
       "      <td>11</td>\n",
       "      <td>f27e5a0b-fe21-4f8d-85f6-02d722bcf702</td>\n",
       "      <td>10359780639229817778</td>\n",
       "      <td>pdf</td>\n",
       "      <td>a3a4bb3b8f4f441d6d669e09f0cd07a9420d06850cf63e...</td>\n",
       "      <td>717</td>\n",
       "      <td>2025-01-29T23:20:51.352227</td>\n",
       "      <td>0.642222</td>\n",
       "      <td>mars.pdf</td>\n",
       "    </tr>\n",
       "    <tr>\n",
       "      <th>2</th>\n",
       "      <td>earth-copy.pdf</td>\n",
       "      <td>## Earth\\n\\n## Solar System\\n\\nOur solar syste...</td>\n",
       "      <td>1</td>\n",
       "      <td>0</td>\n",
       "      <td>11</td>\n",
       "      <td>cf774291-d5a4-4471-a8a7-23172fffdcc6</td>\n",
       "      <td>17915699055171962696</td>\n",
       "      <td>pdf</td>\n",
       "      <td>6140cf695f269a3ddca6568536076756105ad3186086b2...</td>\n",
       "      <td>610</td>\n",
       "      <td>2025-01-29T23:20:49.851863</td>\n",
       "      <td>1.000100</td>\n",
       "      <td>earth-copy.pdf</td>\n",
       "    </tr>\n",
       "    <tr>\n",
       "      <th>3</th>\n",
       "      <td>earth.pdf</td>\n",
       "      <td>## Earth\\n\\n## Solar System\\n\\nOur solar syste...</td>\n",
       "      <td>1</td>\n",
       "      <td>0</td>\n",
       "      <td>11</td>\n",
       "      <td>f5b79114-56cf-48a1-804e-e10fb3a3eec8</td>\n",
       "      <td>17915699055171962696</td>\n",
       "      <td>pdf</td>\n",
       "      <td>6140cf695f269a3ddca6568536076756105ad3186086b2...</td>\n",
       "      <td>610</td>\n",
       "      <td>2025-01-29T23:20:50.708209</td>\n",
       "      <td>0.853240</td>\n",
       "      <td>earth.pdf</td>\n",
       "    </tr>\n",
       "  </tbody>\n",
       "</table>\n",
       "</div>"
      ],
      "text/plain": [
       "                    filename  \\\n",
       "0  solar-system-overview.pdf   \n",
       "1                   mars.pdf   \n",
       "2             earth-copy.pdf   \n",
       "3                  earth.pdf   \n",
       "\n",
       "                                            contents  num_pages  num_tables  \\\n",
       "0  ## Solar System\\n\\n| Planet   | Distance from ...          2           3   \n",
       "1  ## Mars\\n\\n## Solar System\\n\\nOur solar system...          1           0   \n",
       "2  ## Earth\\n\\n## Solar System\\n\\nOur solar syste...          1           0   \n",
       "3  ## Earth\\n\\n## Solar System\\n\\nOur solar syste...          1           0   \n",
       "\n",
       "   num_doc_elements                           document_id  \\\n",
       "0                 4  23cf296c-8b64-4b1c-b809-c1754d27efb9   \n",
       "1                11  f27e5a0b-fe21-4f8d-85f6-02d722bcf702   \n",
       "2                11  cf774291-d5a4-4471-a8a7-23172fffdcc6   \n",
       "3                11  f5b79114-56cf-48a1-804e-e10fb3a3eec8   \n",
       "\n",
       "          document_hash  ext  \\\n",
       "0  13478721415333026623  pdf   \n",
       "1  10359780639229817778  pdf   \n",
       "2  17915699055171962696  pdf   \n",
       "3  17915699055171962696  pdf   \n",
       "\n",
       "                                                hash  size  \\\n",
       "0  3fa3a3d372ee03f02b37267a012560052323655cd60451...  3111   \n",
       "1  a3a4bb3b8f4f441d6d669e09f0cd07a9420d06850cf63e...   717   \n",
       "2  6140cf695f269a3ddca6568536076756105ad3186086b2...   610   \n",
       "3  6140cf695f269a3ddca6568536076756105ad3186086b2...   610   \n",
       "\n",
       "                date_acquired  pdf_convert_time            source_filename  \n",
       "0  2025-01-29T23:20:53.487661          2.131391  solar-system-overview.pdf  \n",
       "1  2025-01-29T23:20:51.352227          0.642222                   mars.pdf  \n",
       "2  2025-01-29T23:20:49.851863          1.000100             earth-copy.pdf  \n",
       "3  2025-01-29T23:20:50.708209          0.853240                  earth.pdf  "
      ]
     },
     "execution_count": 8,
     "metadata": {},
     "output_type": "execute_result"
    }
   ],
   "source": [
    "output_df = read_parquet_files_as_df(\"output/pq\")\n",
    "output_df.head(10)\n",
    "\n",
    "## To display certain columns\n",
    "#parquet_df[['column1', 'column2', 'column3']].head(5)"
   ]
  },
  {
   "cell_type": "markdown",
   "metadata": {},
   "source": [
    "## Step-5: Save Content in Markdown"
   ]
  },
  {
   "cell_type": "code",
   "execution_count": 9,
   "metadata": {},
   "outputs": [
    {
     "name": "stdout",
     "output_type": "stream",
     "text": [
      "✅ Saved CLEAN markdown output to 'output/md'\n"
     ]
    }
   ],
   "source": [
    "for index, row in output_df.iterrows():\n",
    "    output_file_name = os.path.join (\"output\", \"md\", row['filename'] + '.md')\n",
    "    with open(output_file_name, 'w') as output_file:\n",
    "        output_file.write(row['contents'])\n",
    "\n",
    "print (f\"✅ Saved CLEAN markdown output to 'output/md'\")"
   ]
  }
 ],
 "metadata": {
  "kernelspec": {
   "display_name": "docling-dpk-intro-1",
   "language": "python",
   "name": "python3"
  },
  "language_info": {
   "codemirror_mode": {
    "name": "ipython",
    "version": 3
   },
   "file_extension": ".py",
   "mimetype": "text/x-python",
   "name": "python",
   "nbconvert_exporter": "python",
   "pygments_lexer": "ipython3",
   "version": "3.11.11"
  }
 },
 "nbformat": 4,
 "nbformat_minor": 2
}
